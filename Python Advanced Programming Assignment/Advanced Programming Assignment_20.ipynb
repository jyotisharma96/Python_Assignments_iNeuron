{
 "cells": [
  {
   "cell_type": "markdown",
   "id": "02ed8e1d",
   "metadata": {},
   "source": [
    "1.Create a function based on the input and output. Look at the examples,\n",
    "there is a pattern.\n",
    "\n",
    "Examples:\n",
    "    \n",
    "secret(&quot;p.one.two.three&quot;) ➞ &quot;&lt;p class=&#39;one two three&#39;&gt;&lt;/p&gt;&quot;\n",
    "\n",
    "secret(&quot;p.one&quot;) ➞ &quot;&lt;p class=&#39;one&#39;&gt;&lt;/p&gt;&quot;\n",
    "\n",
    "secret(&quot;p.four.five&quot;) ➞ &quot;&lt;p class=&#39;four five&#39;&gt;&lt;/p&gt;&quot;"
   ]
  },
  {
   "cell_type": "code",
   "execution_count": 1,
   "id": "a5810ae8",
   "metadata": {},
   "outputs": [
    {
     "name": "stdout",
     "output_type": "stream",
     "text": [
      "<p class='one two three'></p>\n",
      "<p class='one'></p>\n",
      "<p class='four five'></p>\n"
     ]
    }
   ],
   "source": [
    "def secret(input_string):\n",
    "    segments = input_string.split('.')\n",
    "    class_values = ' '.join(segments[1:])\n",
    "    output = f\"<p class='{class_values}'></p>\"\n",
    "    return output\n",
    "\n",
    "print(secret(\"p.one.two.three\"))\n",
    "print(secret(\"p.one\"))\n",
    "print(secret(\"p.four.five\"))"
   ]
  },
  {
   "cell_type": "markdown",
   "id": "7ce38ea3",
   "metadata": {},
   "source": [
    "2.Create a function which counts how many lone 1s appear in a given\n",
    "number. Lone means the number doesn&#39;t appear twice or more in a row.\n",
    "\n",
    "Examples:\n",
    "    \n",
    "count_lone_ones(101) ➞ 2\n",
    "\n",
    "count_lone_ones(1191) ➞ 1\n",
    "\n",
    "count_lone_ones(1111) ➞ 0\n",
    "\n",
    "count_lone_ones(462) ➞ 0"
   ]
  },
  {
   "cell_type": "code",
   "execution_count": 2,
   "id": "4b8f354e",
   "metadata": {},
   "outputs": [
    {
     "name": "stdout",
     "output_type": "stream",
     "text": [
      "2\n",
      "1\n",
      "0\n",
      "0\n"
     ]
    }
   ],
   "source": [
    "def count_lone_ones(number):\n",
    "    number_str = str(number)\n",
    "    count = 0\n",
    "    length = len(number_str)\n",
    "\n",
    "    for i in range(length):\n",
    "        if number_str[i] == '1':\n",
    "            if (i == 0 or number_str[i-1] != '1') and (i == length-1 or number_str[i+1] != '1'):\n",
    "                count += 1\n",
    "\n",
    "    return count\n",
    "\n",
    "print(count_lone_ones(101))\n",
    "print(count_lone_ones(1191))\n",
    "print(count_lone_ones(1111))\n",
    "print(count_lone_ones(462)) "
   ]
  },
  {
   "cell_type": "markdown",
   "id": "a55572ca",
   "metadata": {},
   "source": [
    "3.Write a method that accepts two integer parameters rows and cols. The\n",
    "output is a 2d array of numbers displayed in column-major order, meaning the\n",
    "numbers shown increase sequentially down each column and wrap to the top\n",
    "of the next column to the right once the bottom of the current column is\n",
    "reached.\n",
    "\n",
    "Examples:\n",
    "    \n",
    "printGrid(3, 6) ➞ [\n",
    "\n",
    "[1, 4, 7, 10, 13, 16],\n",
    "\n",
    "[2, 5, 8, 11, 14, 17],\n",
    "\n",
    "[3, 6, 9, 12, 15, 18]\n",
    "]\n",
    "\n",
    "printGrid(5, 3) ➞ [\n",
    "\n",
    "[1, 6, 11],\n",
    "\n",
    "[2, 7, 12],\n",
    "\n",
    "[3, 8, 13],\n",
    "\n",
    "[4, 9, 14],\n",
    "\n",
    "[5, 10, 15]\n",
    "]\n",
    "\n",
    "printGrid(4, 1) ➞ [\n",
    "\n",
    "[1],\n",
    "\n",
    "[2],\n",
    "\n",
    "[3],\n",
    "\n",
    "[4]\n",
    "]"
   ]
  },
  {
   "cell_type": "code",
   "execution_count": 3,
   "id": "67521df6",
   "metadata": {},
   "outputs": [
    {
     "name": "stdout",
     "output_type": "stream",
     "text": [
      "[[1, 4, 7, 10, 13, 16], [2, 5, 8, 11, 14, 17], [3, 6, 9, 12, 15, 18]]\n",
      "[[1, 6, 11], [2, 7, 12], [3, 8, 13], [4, 9, 14], [5, 10, 15]]\n",
      "[[1], [2], [3], [4]]\n"
     ]
    }
   ],
   "source": [
    "def printGrid(rows, cols):\n",
    "    grid = [[0] * cols for _ in range(rows)]\n",
    "    count = 1\n",
    "\n",
    "    for col in range(cols):\n",
    "        for row in range(rows):\n",
    "            grid[row][col] = count\n",
    "            count += 1\n",
    "\n",
    "    return grid\n",
    "\n",
    "print(printGrid(3, 6))\n",
    "print(printGrid(5, 3))\n",
    "print(printGrid(4, 1))"
   ]
  },
  {
   "cell_type": "markdown",
   "id": "8723bad1",
   "metadata": {},
   "source": [
    "4.Given a list of integers, return the smallest positive integer not present in\n",
    "the list.\n",
    "\n",
    "Here is a representative example. Consider the list:\n",
    "[-2, 6, 4, 5, 7, -1, 7, 1, 3, 6, 6, -2, 9, 10, 2, 2]\n",
    "\n",
    "After reordering, the list becomes:\n",
    "[-2, -2, -1, 1, 2, 2, 3, 4, 5, 6, 6, 6, 7, 7, 9, 10]\n",
    "\n",
    "from which we see that the smallest missing positive integer is 8.\n",
    "\n",
    "Examples:\n",
    "\n",
    "min_miss_pos([-2, 6, 4, 5, 7, -1, 1, 3, 6, -2, 9, 10, 2, 2]) ➞ 8\n",
    "\n",
    "#After sorting, list becomes [-2, -2, -1, 1, 2, 2, 3, 4, 5, 6, 6, 7, 9, 10]\n",
    "\n",
    "#So the smallest missing positive integer is 8\n",
    "\n",
    "min_miss_pos([5, 9, -2, 0, 1, 3, 9, 3, 8, 9]) ➞ 2\n",
    "\n",
    "#After sorting, list becomes [-2, 0, 1, 3, 3, 5, 8, 9, 9, 9]\n",
    "\n",
    "#So the smallest missing positive integer is 2\n",
    "\n",
    "min_miss_pos([0, 4, 4, -1, 9, 4, 5, 2, 10, 7, 6, 3, 10, 9]) ➞ 1\n",
    "\n",
    "#After sorting, list becomes [-1, 0, 2, 3, 4, 4, 4, 5, 6, 7, 9, 9, 10, 10]\n",
    "\n",
    "#So the smallest missing positive integer is 1"
   ]
  },
  {
   "cell_type": "code",
   "execution_count": 9,
   "id": "eb20b3d6",
   "metadata": {},
   "outputs": [
    {
     "name": "stdout",
     "output_type": "stream",
     "text": [
      "8\n",
      "2\n",
      "1\n"
     ]
    }
   ],
   "source": [
    "def min_miss_pos(nums):\n",
    "    nums.sort()\n",
    "    smallest_pos = 1\n",
    "\n",
    "    for num in nums:\n",
    "        if num == smallest_pos:\n",
    "            smallest_pos += 1\n",
    "        elif num > smallest_pos:\n",
    "            return smallest_pos\n",
    "\n",
    "    return smallest_pos\n",
    "\n",
    "print(min_miss_pos([-2, 6, 4, 5, 7, -1, 1, 3, 6, -2, 9, 10, 2, 2]))\n",
    "print(min_miss_pos([5, 9, -2, 0, 1, 3, 9, 3, 8, 9]))\n",
    "print(min_miss_pos([0, 4, 4, -1, 9, 4, 5, 2, 10, 7, 6, 3, 10, 9]))\n"
   ]
  },
  {
   "cell_type": "markdown",
   "id": "59e3d954",
   "metadata": {},
   "source": [
    "5.Google is launching a network of autonomous pizza delivery drones and\n",
    "wants you to create a flexible rewards system (Pizza Points™) that can be\n",
    "tweaked in the future. The rules are simple: if a customer has made at least N\n",
    "orders of at least Y price, they get a FREE pizza!\n",
    "\n",
    "Create a function that takes a dictionary of customers, a minimum number of\n",
    "orders and a minimum order price. Return a list of customers that are eligible\n",
    "for a free pizza.\n",
    "\n",
    "Examples:\n",
    "\n",
    "customers = {\n",
    "&quot;Batman&quot;: [22, 30, 11, 17, 15, 52, 27, 12],\n",
    "&quot;Spider-Man&quot;: [5, 17, 30, 33, 40, 22, 26, 10, 11, 45]\n",
    "}\n",
    "\n",
    "pizza_points(customers, 5, 20) ➞ [&quot;Spider-Man&quot;]\n",
    "\n",
    "pizza_points(customers, 3, 10) ➞ [&quot;Batman&quot;, &quot;Spider-Man&quot;]\n",
    "\n",
    "pizza_points(customers, 5, 100) ➞ []"
   ]
  },
  {
   "cell_type": "code",
   "execution_count": 10,
   "id": "105ef73b",
   "metadata": {},
   "outputs": [
    {
     "name": "stdout",
     "output_type": "stream",
     "text": [
      "['Spider-Man']\n",
      "['Batman', 'Spider-Man']\n",
      "[]\n"
     ]
    }
   ],
   "source": [
    "def pizza_points(customers, min_order, min_order_price):\n",
    "    l = []\n",
    "    for key,value in customers.items():\n",
    "        count = 0        \n",
    "        for i in value:\n",
    "            if i >= min_order_price:\n",
    "                count += 1\n",
    "\n",
    "        if count >= min_order:\n",
    "            l.append(key)\n",
    "    return l\n",
    "\n",
    "customers = { \"Batman\": [22, 30, 11, 17, 15, 52, 27, 12], \"Spider-Man\": [5, 17, 30, 33, 40, 22, 26, 10, 11, 45] }\n",
    "\n",
    "print(pizza_points(customers,5,20))\n",
    "print(pizza_points(customers,3,10))\n",
    "print(pizza_points(customers,5,100))"
   ]
  },
  {
   "cell_type": "code",
   "execution_count": null,
   "id": "5d5cc82c",
   "metadata": {},
   "outputs": [],
   "source": []
  },
  {
   "cell_type": "code",
   "execution_count": null,
   "id": "9112483e",
   "metadata": {},
   "outputs": [],
   "source": []
  },
  {
   "cell_type": "code",
   "execution_count": null,
   "id": "637147d6",
   "metadata": {},
   "outputs": [],
   "source": []
  },
  {
   "cell_type": "code",
   "execution_count": null,
   "id": "a6040f10",
   "metadata": {},
   "outputs": [],
   "source": []
  }
 ],
 "metadata": {
  "kernelspec": {
   "display_name": "Python 3 (ipykernel)",
   "language": "python",
   "name": "python3"
  },
  "language_info": {
   "codemirror_mode": {
    "name": "ipython",
    "version": 3
   },
   "file_extension": ".py",
   "mimetype": "text/x-python",
   "name": "python",
   "nbconvert_exporter": "python",
   "pygments_lexer": "ipython3",
   "version": "3.9.12"
  }
 },
 "nbformat": 4,
 "nbformat_minor": 5
}
