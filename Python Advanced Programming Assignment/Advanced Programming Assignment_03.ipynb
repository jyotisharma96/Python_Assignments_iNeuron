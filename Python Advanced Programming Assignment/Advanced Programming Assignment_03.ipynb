{
 "cells": [
  {
   "cell_type": "markdown",
   "id": "a1c004dd",
   "metadata": {},
   "source": [
    "1.Create a function to perform basic arithmetic operations that includes\n",
    "addition, subtraction, multiplication and division on a string number (e.g. &quot;12 +\n",
    "24&quot; or &quot;23 - 21&quot; or &quot;12 // 12&quot; or &quot;12 * 21&quot;).\n",
    "\n",
    "Here, we have 1 followed by a space, operator followed by another space\n",
    "and 2. For the challenge, we are going to have only two numbers between 1\n",
    "valid operator. The return value should be a number.\n",
    "\n",
    "eval() is not allowed. In case of division, whenever the second number equals\n",
    "&quot;0&quot; return -1.\n",
    "\n",
    "For example:\n",
    "\n",
    "&quot;15 // 0&quot; ➞ -1\n",
    "\n",
    "Examples\n",
    "\n",
    "arithmetic_operation(&quot;12 + 12&quot;) ➞ 24 // 12 + 12 = 24\n",
    "\n",
    "arithmetic_operation(&quot;12 - 12&quot;) ➞ 24 // 12 - 12 = 0\n",
    "\n",
    "arithmetic_operation(&quot;12 * 12&quot;) ➞ 144 // 12 * 12 = 144\n",
    "\n",
    "arithmetic_operation(&quot;12 // 0&quot;) ➞ -1 // 12 / 0 = -1"
   ]
  },
  {
   "cell_type": "code",
   "execution_count": 3,
   "id": "9c8be999",
   "metadata": {},
   "outputs": [
    {
     "name": "stdout",
     "output_type": "stream",
     "text": [
      "24\n",
      "0\n",
      "144\n",
      "1.0\n",
      "-1\n"
     ]
    }
   ],
   "source": [
    "def arithmetic_operation(s):\n",
    "    lst = s.split()\n",
    "    lst_1 = list(map(int,lst[0:3:2]))\n",
    "    if lst[1] == '+':\n",
    "        return lst_1[0] + lst_1[1]\n",
    "    elif lst[1] == '-':\n",
    "        return lst_1[0] - lst_1[1]\n",
    "    elif lst[1] == '*':\n",
    "        return lst_1[0] * lst_1[1]\n",
    "    else:\n",
    "        if lst_1[1] == 0:\n",
    "            return -1\n",
    "        else:\n",
    "            return lst_1[0] / lst_1[1]\n",
    "\n",
    "print(arithmetic_operation(\"12 + 12\"))\n",
    "print(arithmetic_operation(\"12 - 12\"))\n",
    "print(arithmetic_operation(\"12 * 12\"))\n",
    "print(arithmetic_operation(\"12 / 12\"))\n",
    "print(arithmetic_operation(\"12 / 0\"))"
   ]
  },
  {
   "cell_type": "markdown",
   "id": "b466c345",
   "metadata": {},
   "source": [
    "2.Write a function that takes the coordinates of three points in the form of a\n",
    "2d array and returns the perimeter of the triangle. The given points are the\n",
    "vertices of a triangle on a two-dimensional plane.\n",
    "\n",
    "Examples\n",
    "\n",
    "perimeter( [ [15, 7], [5, 22], [11, 1] ] ) ➞ 47.08\n",
    "\n",
    "perimeter( [ [0, 0], [0, 1], [1, 0] ] ) ➞ 3.42\n",
    "\n",
    "perimeter( [ [-10, -10], [10, 10 ], [-10, 10] ] ) ➞ 68.28"
   ]
  },
  {
   "cell_type": "code",
   "execution_count": 7,
   "id": "49d44ed2",
   "metadata": {},
   "outputs": [
    {
     "name": "stdout",
     "output_type": "stream",
     "text": [
      "47.07918859608948\n"
     ]
    }
   ],
   "source": [
    "import math\n",
    "\n",
    "def calculate_triangle_perimeter(points):\n",
    "    if len(points) !=3:\n",
    "        return -1     # Invalid input format\n",
    "    \n",
    "    # Calculate the distance between each pair of points\n",
    "    distances = []\n",
    "    for i in range(3):\n",
    "        x1, y1 = points[i]\n",
    "        x2, y2 = points[(i + 1) % 3]\n",
    "        distance = math.sqrt((x2-x1)**2 + (y2-y1)**2)\n",
    "        distances.append(distance)\n",
    "    \n",
    "    perimeter = sum(distances)\n",
    "    return perimeter\n",
    "\n",
    "triangle_points = [[15, 7], [5, 22], [11, 1]]\n",
    "perimeter = calculate_triangle_perimeter(triangle_points)\n",
    "print(perimeter)"
   ]
  },
  {
   "cell_type": "markdown",
   "id": "7fec5a89",
   "metadata": {},
   "source": [
    "3.A city skyline can be represented as a 2-D list with 1s representing\n",
    "buildings. In the example below, the height of the tallest building is 4 (second-\n",
    "most right column).\n",
    "\n",
    "[[0, 0, 0, 0, 0, 0],\n",
    "\n",
    "[0, 0, 0, 0, 1, 0],\n",
    "\n",
    "[0, 0, 1, 0, 1, 0],\n",
    "\n",
    "[0, 1, 1, 1, 1, 0],\n",
    "\n",
    "[1, 1, 1, 1, 1, 1]]\n",
    "\n",
    "Create a function that takes a skyline (2-D list of 0&#39;s and 1&#39;s) and returns the\n",
    "height of the tallest skyscraper.\n",
    "\n",
    "Examples:\n",
    "\n",
    "tallest_skyscraper([\n",
    "[0, 0, 0, 0],\n",
    "[0, 1, 0, 0],\n",
    "[0, 1, 1, 0],\n",
    "[1, 1, 1, 1]\n",
    "]) ➞ 3\n",
    "\n",
    "tallest_skyscraper([\n",
    "[0, 1, 0, 0],\n",
    "[0, 1, 0, 0],\n",
    "[0, 1, 1, 0],\n",
    "[1, 1, 1, 1]\n",
    "]) ➞ 4\n",
    "\n",
    "tallest_skyscraper([\n",
    "[0, 0, 0, 0],\n",
    "[0, 0, 0, 0],\n",
    "[1, 1, 1, 0],\n",
    "[1, 1, 1, 1]\n",
    "]) ➞ 2"
   ]
  },
  {
   "cell_type": "code",
   "execution_count": 8,
   "id": "78e29dd2",
   "metadata": {},
   "outputs": [
    {
     "name": "stdout",
     "output_type": "stream",
     "text": [
      "3\n",
      "4\n"
     ]
    }
   ],
   "source": [
    "import numpy as np\n",
    "\n",
    "def tallest_skyscraper(l):\n",
    "    arr = np.array(l)\n",
    "    height = []\n",
    "    for i in range(len(arr)):\n",
    "        height.append((arr[:,i] == 1).sum())\n",
    "    \n",
    "    return max(height)\n",
    "\n",
    "print(tallest_skyscraper([ [0, 0, 0, 0], [0, 1, 0, 0], [0, 1, 1, 0], [1, 1, 1, 1] ]))\n",
    "print(tallest_skyscraper([ [0, 1, 0, 0], [0, 1, 0, 0], [0, 1, 1, 0], [1, 1, 1, 1] ]))"
   ]
  },
  {
   "cell_type": "markdown",
   "id": "14a92771",
   "metadata": {},
   "source": [
    "4.A financial institution provides professional services to banks and claims\n",
    "charges from the customers based on the number of man-days provided.\n",
    "Internally, it has set a scheme to motivate and reward staff to meet and\n",
    "exceed targeted billable utilization and revenues by paying a bonus for each\n",
    "day claimed from customers in excess of a threshold target.\n",
    "\n",
    "This quarterly scheme is calculated with a threshold target of 32 days per\n",
    "quarter, and the incentive payment for each billable day in excess of such\n",
    "threshold target is shown as follows:\n",
    "\n",
    "Days Bonus\n",
    "0 to 32 days Zero\n",
    "\n",
    "33 to 40 days SGD $325 per billable day\n",
    "\n",
    "41 to 48 days SGD $550 per billable day\n",
    "\n",
    "Greater than 48 days SGD $600 per billable day\n",
    "\n",
    "Please note that incentive payment is calculated progressively. As an\n",
    "example, if an employee reached total billable days of 45 in a quarter, his/her\n",
    "incentive payment is computed as follows:\n",
    "\n",
    "32*0 + 8*325 + 5*550 = 5350\n",
    "\n",
    "Write a function to read the billable days of an employee and return the bonus\n",
    "he/she has obtained in that quarter.\n",
    "\n",
    "Examples\n",
    "\n",
    "bonus(15) ➞ 0\n",
    "\n",
    "bonus(37) ➞ 1625\n",
    "\n",
    "bonus(50) ➞ 8200"
   ]
  },
  {
   "cell_type": "code",
   "execution_count": 9,
   "id": "671a3430",
   "metadata": {},
   "outputs": [
    {
     "name": "stdout",
     "output_type": "stream",
     "text": [
      "0\n",
      "650\n",
      "8200\n"
     ]
    }
   ],
   "source": [
    "def bonus(days):\n",
    "    if days < 32:\n",
    "        return 0\n",
    "    \n",
    "    elif days > 32 and days < 41:\n",
    "        return (days-32) * 325\n",
    "    \n",
    "    elif days > 40 and days < 49:\n",
    "        return 8 * 325 + (days-40) * 550\n",
    "    \n",
    "    else:\n",
    "        return 8 * 325 + 8 * 550 + (days - 48) * 600\n",
    "    \n",
    "print(bonus(15))\n",
    "print(bonus(34))\n",
    "print(bonus(50))"
   ]
  },
  {
   "cell_type": "markdown",
   "id": "546d8674",
   "metadata": {},
   "source": [
    "5.A number is said to be Disarium if the sum of its digits raised to their\n",
    "respective positions is the number itself.\n",
    "\n",
    "Create a function that determines whether a number is a Disarium or not.\n",
    "\n",
    "Examples\n",
    "\n",
    "is_disarium(75) ➞ False\n",
    "### 7^1 + 5^2 = 7 + 25 = 32\n",
    "\n",
    "is_disarium(135) ➞ True\n",
    "### 1^1 + 3^2 + 5^3 = 1 + 9 + 125 = 135\n",
    "\n",
    "is_disarium(544) ➞ False\n",
    "\n",
    "is_disarium(518) ➞ True\n",
    "\n",
    "is_disarium(466) ➞ False\n",
    "\n",
    "is_disarium(8) ➞ True"
   ]
  },
  {
   "cell_type": "code",
   "execution_count": 12,
   "id": "d30d0447",
   "metadata": {},
   "outputs": [
    {
     "name": "stdout",
     "output_type": "stream",
     "text": [
      "Enter a number: 11\n"
     ]
    },
    {
     "data": {
      "text/plain": [
       "False"
      ]
     },
     "execution_count": 12,
     "metadata": {},
     "output_type": "execute_result"
    }
   ],
   "source": [
    "def is_disarium(number):\n",
    "    digits = list(str(number))\n",
    "    digit_sum = sum(int(digit) ** (index + 1) for index, digit in enumerate(digits))\n",
    "    return digit_sum == number\n",
    "\n",
    "num = int(input(\"Enter a number: \"))\n",
    "is_disarium(num)\n"
   ]
  },
  {
   "cell_type": "code",
   "execution_count": null,
   "id": "de057b85",
   "metadata": {},
   "outputs": [],
   "source": []
  }
 ],
 "metadata": {
  "kernelspec": {
   "display_name": "Python 3 (ipykernel)",
   "language": "python",
   "name": "python3"
  },
  "language_info": {
   "codemirror_mode": {
    "name": "ipython",
    "version": 3
   },
   "file_extension": ".py",
   "mimetype": "text/x-python",
   "name": "python",
   "nbconvert_exporter": "python",
   "pygments_lexer": "ipython3",
   "version": "3.9.12"
  }
 },
 "nbformat": 4,
 "nbformat_minor": 5
}
