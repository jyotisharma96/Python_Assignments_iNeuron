{
 "cells": [
  {
   "cell_type": "markdown",
   "id": "59cdac84",
   "metadata": {},
   "source": [
    "1.Given a sentence, return the number of words which have the same first\n",
    "and last letter.\n",
    "\n",
    "Examples:\n",
    "    \n",
    "count_same_ends(&quot;Pop! goes the balloon&quot;) ➞ 1\n",
    "\n",
    "count_same_ends(&quot;And the crowd goes wild!&quot;) ➞ 0\n",
    "\n",
    "count_same_ends(&quot;No I am not in a gang.&quot;) ➞ 1"
   ]
  },
  {
   "cell_type": "code",
   "execution_count": 4,
   "id": "68871d18",
   "metadata": {},
   "outputs": [
    {
     "name": "stdout",
     "output_type": "stream",
     "text": [
      "1\n",
      "0\n",
      "1\n"
     ]
    }
   ],
   "source": [
    "def count_same_ends(s):\n",
    "    special_chars = '!@#$%^&*.'\n",
    "    cleaned_string = ''\n",
    "    res = 0\n",
    "    for i in s:\n",
    "        if i not in special_chars:\n",
    "            cleaned_string += i\n",
    "    for i in cleaned_string.split(\" \"):\n",
    "        if i[0].lower() == i[-1].lower():\n",
    "            if len(i) != 1:\n",
    "                res +=1\n",
    "    return res\n",
    "            \n",
    "print(count_same_ends(\"Pop! goes the balloon\"))\n",
    "print(count_same_ends(\"And the crowd goes wild!\"))\n",
    "print(count_same_ends(\"No I am not in a gang.\"))\n"
   ]
  },
  {
   "cell_type": "markdown",
   "id": "d8971223",
   "metadata": {},
   "source": [
    "2.The Atbash cipher is an encryption method in which each letter of a word is\n",
    "replaced with its &quot;mirror&quot; letter in the alphabet: A &lt;=&gt; Z; B &lt;=&gt; Y; C &lt;=&gt; X;\n",
    "etc.\n",
    "\n",
    "Create a function that takes a string and applies the Atbash cipher to it.\n",
    "\n",
    "Examples:\n",
    "\n",
    "atbash(&quot;apple&quot;) ➞ &quot;zkkov&quot;\n",
    "\n",
    "atbash(&quot;Hello world!&quot;) ➞ &quot;Svool dliow!&quot;\n",
    "\n",
    "atbash(&quot;Christmas is the 25th of December&quot;) ➞ &quot;Xsirhgnzh rh gsv 25gs lu\n",
    "Wvxvnyvi&quot;"
   ]
  },
  {
   "cell_type": "code",
   "execution_count": 5,
   "id": "edee7dc3",
   "metadata": {},
   "outputs": [
    {
     "name": "stdout",
     "output_type": "stream",
     "text": [
      "zkkov\n",
      "Svool dliow!\n",
      "Xsirhgnzh rh gsv 25gs lu Wvxvnyvi\n"
     ]
    }
   ],
   "source": [
    "def atbash(string):\n",
    "    result = \"\"\n",
    "\n",
    "    for char in string:\n",
    "        if char.isalpha():\n",
    "            if char.isupper():\n",
    "                mirror_char = chr(ord('Z') - (ord(char) - ord('A')))\n",
    "            else:\n",
    "                mirror_char = chr(ord('z') - (ord(char) - ord('a')))\n",
    "        else:\n",
    "            mirror_char = char\n",
    "\n",
    "        result += mirror_char\n",
    "\n",
    "    return result\n",
    "\n",
    "print(atbash(\"apple\"))\n",
    "print(atbash(\"Hello world!\"))\n",
    "print(atbash(\"Christmas is the 25th of December\"))\n"
   ]
  },
  {
   "cell_type": "markdown",
   "id": "6eb7dbd2",
   "metadata": {},
   "source": [
    "3.Create a class Employee that will take a full name as argument, as well as\n",
    "a set of none, one or more keywords. Each instance should have a name and\n",
    "a lastname attributes plus one more attribute for each of the keywords, if any.\n",
    "\n",
    "Examples:\n",
    "\n",
    "john = Employee(&quot;John Doe&quot;)\n",
    "\n",
    "mary = Employee(&quot;Mary Major&quot;, salary=120000)\n",
    "\n",
    "richard = Employee(&quot;Richard Roe&quot;, salary=110000, height=178)\n",
    "\n",
    "giancarlo = Employee(&quot;Giancarlo Rossi&quot;, salary=115000, height=182,\n",
    "\n",
    "nationality=&quot;Italian&quot;)\n",
    "\n",
    "john.name ➞ &quot;John&quot;\n",
    "\n",
    "mary.lastname ➞ &quot;Major&quot;\n",
    "\n",
    "richard.height ➞ 178\n",
    "\n",
    "giancarlo.nationality ➞ &quot;Italian&quot;"
   ]
  },
  {
   "cell_type": "code",
   "execution_count": 6,
   "id": "79adb537",
   "metadata": {},
   "outputs": [
    {
     "name": "stdout",
     "output_type": "stream",
     "text": [
      "John\n",
      "Major\n",
      "178\n",
      "Italian\n"
     ]
    }
   ],
   "source": [
    "class Employee:\n",
    "    def __init__(self, full_name, **kwargs):\n",
    "        name_parts = full_name.split()\n",
    "        self.name = name_parts[0]\n",
    "        self.lastname = name_parts[-1]\n",
    "\n",
    "        for key, value in kwargs.items():\n",
    "            setattr(self, key, value)\n",
    "\n",
    "john = Employee(\"John Doe\")\n",
    "mary = Employee(\"Mary Major\", salary=120000)\n",
    "richard = Employee(\"Richard Roe\", salary=110000, height=178)\n",
    "giancarlo = Employee(\"Giancarlo Rossi\", salary=115000, height=182, nationality=\"Italian\")\n",
    "\n",
    "print(john.name)\n",
    "print(mary.lastname)\n",
    "print(richard.height)\n",
    "print(giancarlo.nationality)\n"
   ]
  },
  {
   "cell_type": "markdown",
   "id": "48a92926",
   "metadata": {},
   "source": [
    "4.Create a function that determines whether each seat can &quot;see&quot; the front-\n",
    "stage. A number can &quot;see&quot; the front-stage if it is strictly greater than the\n",
    "number before it.\n",
    "\n",
    "Everyone can see the front-stage in the example below:\n",
    "\n",
    "##### FRONT STAGE\n",
    "\n",
    "[[1, 2, 3, 2, 1, 1],\n",
    "[2, 4, 4, 3, 2, 2],\n",
    "[5, 5, 5, 5, 4, 4],\n",
    "[6, 6, 7, 6, 5, 5]]\n",
    "\n",
    "#Starting from the left, the 6 &gt; 5 &gt; 2 &gt; 1, so all numbers can see.\n",
    "\n",
    "#6 &gt; 5 &gt; 4 &gt; 2 - so all numbers can see, etc.\n",
    "\n",
    "Not everyone can see the front-stage in the example below:\n",
    "\n",
    "#FRONT STAGE\n",
    "\n",
    "[[1, 2, 3, 2, 1, 1],\n",
    "\n",
    "[2, 4, 4, 3, 2, 2],\n",
    "\n",
    "[5, 5, 5, 10, 4, 4],\n",
    "\n",
    "[6, 6, 7, 6, 5, 5]]\n",
    "\n",
    "#The 10 is directly in front of the 6 and blocking its view.\n",
    "\n",
    "The function should return True if every number can see the front-stage, and\n",
    "False if even a single number cannot.\n",
    "\n",
    "Examples:\n",
    "    \n",
    "can_see_stage([\n",
    "\n",
    "[1, 2, 3],\n",
    "\n",
    "[4, 5, 6],\n",
    "\n",
    "[7, 8, 9]\n",
    "\n",
    "]) ➞ True\n",
    "\n",
    "can_see_stage([\n",
    "\n",
    "[0, 0, 0],\n",
    "\n",
    "[1, 1, 1],\n",
    "\n",
    "[2, 2, 2]\n",
    "\n",
    "]) ➞ True\n",
    "\n",
    "can_see_stage([\n",
    "\n",
    "[2, 0, 0],\n",
    "\n",
    "[1, 1, 1],\n",
    "\n",
    "[2, 2, 2]\n",
    "\n",
    "]) ➞ False\n",
    "\n",
    "can_see_stage([\n",
    "\n",
    "[1, 0, 0],\n",
    "\n",
    "[1, 1, 1],\n",
    "\n",
    "[2, 2, 2]\n",
    "\n",
    "]) ➞ False\n",
    "\n",
    "#Number must be strictly smaller than\n",
    "\n",
    "#the number directly behind it."
   ]
  },
  {
   "cell_type": "code",
   "execution_count": 8,
   "id": "0a4ef284",
   "metadata": {},
   "outputs": [
    {
     "name": "stdout",
     "output_type": "stream",
     "text": [
      "True\n",
      "True\n",
      "False\n",
      "False\n"
     ]
    }
   ],
   "source": [
    "def can_see_stage(lst):\n",
    "    transposed_list = []\n",
    "    for i in range(len(lst)):\n",
    "        temp_list = []\n",
    "        for item in range(len(lst[i])):\n",
    "            temp_list.append(lst[item][i])\n",
    "        transposed_list.append(temp_list)\n",
    "    res = True\n",
    "    for i in transposed_list:\n",
    "        if i != sorted(i) or len(i) != len(set(i)):\n",
    "            res = False\n",
    "            break\n",
    "    return res\n",
    "\n",
    "print(can_see_stage([[1, 2, 3],[4, 5, 6],[7, 8, 9]]))\n",
    "print(can_see_stage([[0, 0, 0],[1, 1, 1],[2, 2, 2]]))\n",
    "print(can_see_stage([[2, 0, 0],[1, 1, 1],[2, 2, 2]]))\n",
    "print(can_see_stage([[1, 0, 0],[1, 1, 1],[2, 2, 2]]))"
   ]
  },
  {
   "cell_type": "markdown",
   "id": "15cf2e7c",
   "metadata": {},
   "source": [
    "5.Create a Pizza class with the attributes order_number and ingredients\n",
    "(which is given as a list). Only the ingredients will be given as input.\n",
    "You should also make it so that its possible to choose a ready made pizza\n",
    "flavour rather than typing out the ingredients manually! As well as creating\n",
    "this Pizza class, hard-code the following pizza flavours.\n",
    "\n",
    "Name Ingredients\n",
    "\n",
    "hawaiian ham, pineapple\n",
    "\n",
    "meat_festival beef, meatball, bacon\n",
    "\n",
    "garden_feast spinach, olives, mushroom\n",
    "\n",
    "Examples:\n",
    "\n",
    "p1 = Pizza([&quot;bacon&quot;, &quot;parmesan&quot;, &quot;ham&quot;]) # order 1\n",
    "\n",
    "p2 = Pizza.garden_feast() # order 2\n",
    "\n",
    "p1.ingredients ➞ [&quot;bacon&quot;, &quot;parmesan&quot;, &quot;ham&quot;]\n",
    "\n",
    "p2.ingredients ➞ [&quot;spinach&quot;, &quot;olives&quot;, &quot;mushroom&quot;]\n",
    "\n",
    "p1.order_number ➞ 1\n",
    "\n",
    "p2.order_number ➞ 2"
   ]
  },
  {
   "cell_type": "code",
   "execution_count": 9,
   "id": "b44a98b8",
   "metadata": {},
   "outputs": [],
   "source": [
    "order_number = 0\n",
    "class Pizza:\n",
    "    def __init__(self, *ingrd):\n",
    "        global order_number\n",
    "        order_number += 1\n",
    "        self.order_number = order_number\n",
    "        self.ingredients = ingrd[0]\n",
    "        \n",
    "    @classmethod\n",
    "    def garden_feast(self):\n",
    "        global order_number\n",
    "        order_number += 1\n",
    "        self.order_number = order_number\n",
    "        self.ingredients = [\"spinach\", \"olives\", \"mushroom\"]\n",
    "        return self\n",
    "        \n",
    "    @classmethod\n",
    "    def meat_festival(self):\n",
    "        global order_number\n",
    "        order_number += 1\n",
    "        self.order_number = order_number\n",
    "        self.ingredients = ['beef', 'meatball', 'bacon']\n",
    "        return self\n",
    "    \n",
    "    @classmethod    \n",
    "    def hawaiian(self):\n",
    "        global order_number\n",
    "        order_number += 1\n",
    "        self.order_number = order_number\n",
    "        self.ingredients = ['ham', 'pineapple']\n",
    "        return self\n",
    "\n",
    "p1 = Pizza([\"bacon\", \"parmesan\", \"ham\"])    # order 1\n",
    "p2 = Pizza.garden_feast() "
   ]
  },
  {
   "cell_type": "code",
   "execution_count": 10,
   "id": "545bd7da",
   "metadata": {},
   "outputs": [
    {
     "data": {
      "text/plain": [
       "['bacon', 'parmesan', 'ham']"
      ]
     },
     "execution_count": 10,
     "metadata": {},
     "output_type": "execute_result"
    }
   ],
   "source": [
    "p1.ingredients"
   ]
  },
  {
   "cell_type": "code",
   "execution_count": 11,
   "id": "f35c3e59",
   "metadata": {},
   "outputs": [
    {
     "data": {
      "text/plain": [
       "['spinach', 'olives', 'mushroom']"
      ]
     },
     "execution_count": 11,
     "metadata": {},
     "output_type": "execute_result"
    }
   ],
   "source": [
    "p2.ingredients"
   ]
  },
  {
   "cell_type": "code",
   "execution_count": 12,
   "id": "bec4be47",
   "metadata": {},
   "outputs": [
    {
     "data": {
      "text/plain": [
       "1"
      ]
     },
     "execution_count": 12,
     "metadata": {},
     "output_type": "execute_result"
    }
   ],
   "source": [
    "p1.order_number"
   ]
  },
  {
   "cell_type": "code",
   "execution_count": 13,
   "id": "484f8d7a",
   "metadata": {},
   "outputs": [
    {
     "data": {
      "text/plain": [
       "2"
      ]
     },
     "execution_count": 13,
     "metadata": {},
     "output_type": "execute_result"
    }
   ],
   "source": [
    "p2.order_number"
   ]
  },
  {
   "cell_type": "code",
   "execution_count": null,
   "id": "c873fcfe",
   "metadata": {},
   "outputs": [],
   "source": []
  },
  {
   "cell_type": "code",
   "execution_count": null,
   "id": "c32abb91",
   "metadata": {},
   "outputs": [],
   "source": []
  }
 ],
 "metadata": {
  "kernelspec": {
   "display_name": "Python 3 (ipykernel)",
   "language": "python",
   "name": "python3"
  },
  "language_info": {
   "codemirror_mode": {
    "name": "ipython",
    "version": 3
   },
   "file_extension": ".py",
   "mimetype": "text/x-python",
   "name": "python",
   "nbconvert_exporter": "python",
   "pygments_lexer": "ipython3",
   "version": "3.9.12"
  }
 },
 "nbformat": 4,
 "nbformat_minor": 5
}
