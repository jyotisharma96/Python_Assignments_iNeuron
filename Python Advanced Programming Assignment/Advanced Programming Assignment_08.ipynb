{
 "cells": [
  {
   "cell_type": "markdown",
   "id": "5050dc0a",
   "metadata": {},
   "source": [
    "1.Given a sentence as txt, return True if any two adjacent words have this\n",
    "property: One word ends with a vowel, while the word immediately after\n",
    "begins with a vowel (a e i o u).\n",
    "\n",
    "Examples:\n",
    "    \n",
    "vowel_links(&quot;a very large appliance&quot;) ➞ True\n",
    "\n",
    "vowel_links(&quot;go to edabit&quot;) ➞ True\n",
    "\n",
    "vowel_links(&quot;an open fire&quot;) ➞ False\n",
    "\n",
    "vowel_links(&quot;a sudden applause&quot;) ➞ False"
   ]
  },
  {
   "cell_type": "code",
   "execution_count": 1,
   "id": "31e573d8",
   "metadata": {},
   "outputs": [
    {
     "name": "stdout",
     "output_type": "stream",
     "text": [
      "True\n",
      "True\n",
      "False\n",
      "False\n"
     ]
    }
   ],
   "source": [
    "def vowel_links(txt):\n",
    "    vowels = {'a','e', 'i', 'o', 'u'}\n",
    "    words = txt.split()\n",
    "    \n",
    "    for i in range(len(words) - 1):\n",
    "        word_1 = words[i]\n",
    "        word_2 = words[i + 1]\n",
    "        \n",
    "        if word_1[-1].lower() in vowels and word_2[0].lower() in vowels:\n",
    "            return True\n",
    "        \n",
    "    return False\n",
    "\n",
    "print(vowel_links(\"a very large appliance\"))\n",
    "print(vowel_links(\"go to edabit\"))\n",
    "print(vowel_links(\"an open fire\"))\n",
    "print(vowel_links(\"a sudden applause\"))"
   ]
  },
  {
   "cell_type": "markdown",
   "id": "e40816de",
   "metadata": {},
   "source": [
    "2.You are given three inputs: a string, one letter, and a second letter.\n",
    "\n",
    "Write a function that returns True if every instance of the first letter occurs\n",
    "before every instance of the second letter.\n",
    "\n",
    "Examples:\n",
    "    \n",
    "first_before_second(&quot;a rabbit jumps joyfully&quot;, &quot;a&quot;, &quot;j&quot;) ➞ True\n",
    "Every instance of &quot;a&quot; occurs before every instance of &quot;j&quot;.\n",
    "\n",
    "first_before_second(&quot;knaves knew about waterfalls&quot;, &quot;k&quot;, &quot;w&quot;) ➞ True\n",
    "\n",
    "first_before_second(&quot;happy birthday&quot;, &quot;a&quot;, &quot;y&quot;) ➞ False\n",
    "The &quot;a&quot; in &quot;birthday&quot; occurs after the &quot;y&quot; in &quot;happy&quot;.\n",
    "\n",
    "first_before_second(&quot;precarious kangaroos&quot;, &quot;k&quot;, &quot;a&quot;) ➞ False"
   ]
  },
  {
   "cell_type": "code",
   "execution_count": 2,
   "id": "5012182e",
   "metadata": {},
   "outputs": [
    {
     "name": "stdout",
     "output_type": "stream",
     "text": [
      "True\n",
      "True\n",
      "False\n",
      "False\n"
     ]
    }
   ],
   "source": [
    "def first_before_second(s,first_letter,second_letter):\n",
    "    if s.rfind(first_letter) < s.find(second_letter):\n",
    "        return True\n",
    "    else:\n",
    "        return False\n",
    "    \n",
    "print(first_before_second(\"a rabbit jumps joyfully\",\"a\",\"j\"))\n",
    "print(first_before_second(\"knaves knew about waterfalls\", \"k\", \"w\"))\n",
    "print(first_before_second(\"happy birthday\", \"a\", \"y\"))\n",
    "print(first_before_second(\"precarious kangaroos\", \"k\", \"a\"))"
   ]
  },
  {
   "cell_type": "markdown",
   "id": "9ab58b1b",
   "metadata": {},
   "source": [
    "3.Create a function that returns the characters from a list or string r on odd or\n",
    "even positions, depending on the specifier s. The specifier will be &quot;odd&quot; for\n",
    "items on odd positions (1, 3, 5, ...) and &quot;even&quot; for items on even positions (2,\n",
    "4, 6, ...).\n",
    "\n",
    "Examples:\n",
    "    \n",
    "char_at_pos([2, 4, 6, 8, 10], &quot;even&quot;) ➞ [4, 8]\n",
    "\n",
    "4 &amp; 8 occupy the 2nd &amp; 4th positions\n",
    "\n",
    "char_at_pos(&quot;EDABIT&quot;, &quot;odd&quot;) ➞ &quot;EAI&quot;\n",
    "\n",
    "&quot;E&quot;, &quot;A&quot; and &quot;I&quot; occupy the 1st, 3rd and 5th positions\n",
    "\n",
    "char_at_pos([&quot;A&quot;, &quot;R&quot;, &quot;B&quot;, &quot;I&quot;, &quot;T&quot;, &quot;R&quot;, &quot;A&quot;, &quot;R&quot;, &quot;I&quot;, &quot;L&quot;, &quot;Y&quot;], &quot;odd&quot;) ➞ [&quot;A&quot;,\n",
    "&quot;B&quot;, &quot;T&quot;, &quot;A&quot;, &quot;I&quot;, &quot;Y&quot;]"
   ]
  },
  {
   "cell_type": "code",
   "execution_count": 3,
   "id": "5bcc7146",
   "metadata": {},
   "outputs": [
    {
     "name": "stdout",
     "output_type": "stream",
     "text": [
      "[4, 8]\n",
      "['E', 'A', 'I']\n",
      "['A', 'B', 'T', 'A', 'I', 'Y']\n"
     ]
    }
   ],
   "source": [
    "def char_at_pos(n,mode):\n",
    "    res = []\n",
    "    for i in range(len(n)):\n",
    "        if mode == 'even' and (i+1) % 2 == 0:\n",
    "            res.append(n[i])\n",
    "        elif mode == 'odd' and (i+1) % 2 != 0:\n",
    "            res.append(n[i])\n",
    "    return res\n",
    "\n",
    "print(char_at_pos([2, 4, 6, 8, 10], \"even\"))   \n",
    "print(char_at_pos(\"EDABIT\", \"odd\"))\n",
    "print(char_at_pos([\"A\", \"R\", \"B\", \"I\", \"T\", \"R\", \"A\", \"R\", \"I\", \"L\", \"Y\"], \"odd\"))"
   ]
  },
  {
   "cell_type": "markdown",
   "id": "d93ff0d8",
   "metadata": {},
   "source": [
    "4.Write a function that returns the greatest common divisor of all list\n",
    "elements. If the greatest common divisor is 1, return 1.\n",
    "\n",
    "Examples:\n",
    "\n",
    "GCD([10, 20, 40]) ➞ 10\n",
    "\n",
    "GCD([1, 2, 3, 100]) ➞ 1\n",
    "\n",
    "GCD([1024, 192, 2048, 512]) ➞ 64"
   ]
  },
  {
   "cell_type": "code",
   "execution_count": 5,
   "id": "dda370a8",
   "metadata": {},
   "outputs": [
    {
     "name": "stdout",
     "output_type": "stream",
     "text": [
      "10\n",
      "1\n",
      "64\n"
     ]
    }
   ],
   "source": [
    "def GCD(n):\n",
    "    small = min(n)\n",
    "    gcd = -1\n",
    "    for i in range(1, small+1):\n",
    "        res = []\n",
    "        for j in n:\n",
    "            res.append(j%i)\n",
    "        if len(set(res)) == 1 and list(set(res))[0] == 0:\n",
    "            gcd = i\n",
    "    return gcd\n",
    "\n",
    "print(GCD([10, 20, 40]))\n",
    "print(GCD([1, 2, 3, 100]))\n",
    "print(GCD([1024, 192, 2048, 512]))"
   ]
  },
  {
   "cell_type": "markdown",
   "id": "31ff4964",
   "metadata": {},
   "source": [
    "5.A number/string is a palindrome if the digits/characters are the same when\n",
    "read both forward and backward. Examples include &quot;racecar&quot; and 12321.\n",
    "Given a positive number n, check if n or the binary representation of n is\n",
    "palindromic. Return the following:\n",
    "    \n",
    "- &quot;Decimal only.&quot; if only n is a palindrome.\n",
    "- &quot;Binary only.&quot; if only the binary representation of n is a palindrome.\n",
    "- &quot;Decimal and binary.&quot; if both are palindromes.\n",
    "- &quot;Neither!&quot; if neither are palindromes.\n",
    "\n",
    "Examples:\n",
    "    \n",
    "palindrome_type(1306031) ➞ &quot;Decimal only.&quot;\n",
    "\n",
    "decimal = 1306031\n",
    "\n",
    "binary = &quot;100111110110110101111&quot;\n",
    "\n",
    "palindrome_type(427787) ➞ &quot;Binary only.&quot;\n",
    "decimal = 427787\n",
    "binary = &quot;1101000011100001011&quot;\n",
    "\n",
    "palindrome_type(313) ➞ &quot;Decimal and binary.&quot;\n",
    "\n",
    "decimal = 313\n",
    "\n",
    "binary = 100111001\n",
    "\n",
    "palindrome_type(934) ➞ &quot;Neither!&quot;\n",
    "decimal = 934\n",
    "binary = &quot;1110100110&quot;"
   ]
  },
  {
   "cell_type": "code",
   "execution_count": 6,
   "id": "52568ec3",
   "metadata": {},
   "outputs": [
    {
     "ename": "NameError",
     "evalue": "name 'type1' is not defined",
     "output_type": "error",
     "traceback": [
      "\u001b[1;31m---------------------------------------------------------------------------\u001b[0m",
      "\u001b[1;31mNameError\u001b[0m                                 Traceback (most recent call last)",
      "Cell \u001b[1;32mIn [6], line 15\u001b[0m\n\u001b[0;32m     12\u001b[0m     \u001b[38;5;28;01melse\u001b[39;00m:\n\u001b[0;32m     13\u001b[0m         \u001b[38;5;28;01mreturn\u001b[39;00m type1\n\u001b[1;32m---> 15\u001b[0m \u001b[38;5;28mprint\u001b[39m(\u001b[43mpalindrome_type\u001b[49m\u001b[43m(\u001b[49m\u001b[38;5;241;43m1306031\u001b[39;49m\u001b[43m)\u001b[49m)\n\u001b[0;32m     16\u001b[0m \u001b[38;5;28mprint\u001b[39m(palindrome_type(\u001b[38;5;241m427787\u001b[39m))\n\u001b[0;32m     17\u001b[0m \u001b[38;5;28mprint\u001b[39m(palindrome_type(\u001b[38;5;241m313\u001b[39m))\n",
      "Cell \u001b[1;32mIn [6], line 8\u001b[0m, in \u001b[0;36mpalindrome_type\u001b[1;34m(n)\u001b[0m\n\u001b[0;32m      5\u001b[0m \u001b[38;5;28;01mif\u001b[39;00m \u001b[38;5;28mstr\u001b[39m(n) \u001b[38;5;241m==\u001b[39m \u001b[38;5;28mstr\u001b[39m(n)[::\u001b[38;5;241m-\u001b[39m\u001b[38;5;241m1\u001b[39m]:\n\u001b[0;32m      6\u001b[0m     type_1 \u001b[38;5;241m+\u001b[39m\u001b[38;5;241m=\u001b[39m \u001b[38;5;124m\"\u001b[39m\u001b[38;5;124mDecimal only\u001b[39m\u001b[38;5;124m\"\u001b[39m\n\u001b[1;32m----> 8\u001b[0m \u001b[38;5;28;01mif\u001b[39;00m \u001b[43mtype1\u001b[49m \u001b[38;5;241m==\u001b[39m \u001b[38;5;124m\"\u001b[39m\u001b[38;5;124mBinary onlyDecimal only\u001b[39m\u001b[38;5;124m\"\u001b[39m:\n\u001b[0;32m      9\u001b[0m     \u001b[38;5;28;01mreturn\u001b[39;00m  \u001b[38;5;124m\"\u001b[39m\u001b[38;5;124mDecimal and binary.\u001b[39m\u001b[38;5;124m\"\u001b[39m\n\u001b[0;32m     10\u001b[0m \u001b[38;5;28;01melif\u001b[39;00m type1 \u001b[38;5;241m==\u001b[39m \u001b[38;5;124m'\u001b[39m\u001b[38;5;124m'\u001b[39m:\n",
      "\u001b[1;31mNameError\u001b[0m: name 'type1' is not defined"
     ]
    }
   ],
   "source": [
    "def palindrome_type(n):\n",
    "    type_1 = ''\n",
    "    if bin(n).lstrip('0b') == bin(n).lstrip('0b')[::-1]:\n",
    "        type_1 += \"Binary only\"\n",
    "    if str(n) == str(n)[::-1]:\n",
    "        type_1 += \"Decimal only\"\n",
    "    \n",
    "    if type1 == \"Binary onlyDecimal only\":\n",
    "        return  \"Decimal and binary.\"\n",
    "    elif type1 == '':\n",
    "        return \"Neither!\"\n",
    "    else:\n",
    "        return type1\n",
    "    \n",
    "print(palindrome_type(1306031))\n",
    "print(palindrome_type(427787))\n",
    "print(palindrome_type(313))\n",
    "print(palindrome_type(934))"
   ]
  },
  {
   "cell_type": "code",
   "execution_count": null,
   "id": "4bae5982",
   "metadata": {},
   "outputs": [],
   "source": []
  },
  {
   "cell_type": "code",
   "execution_count": null,
   "id": "ddd683a3",
   "metadata": {},
   "outputs": [],
   "source": []
  }
 ],
 "metadata": {
  "kernelspec": {
   "display_name": "Python 3 (ipykernel)",
   "language": "python",
   "name": "python3"
  },
  "language_info": {
   "codemirror_mode": {
    "name": "ipython",
    "version": 3
   },
   "file_extension": ".py",
   "mimetype": "text/x-python",
   "name": "python",
   "nbconvert_exporter": "python",
   "pygments_lexer": "ipython3",
   "version": "3.9.12"
  }
 },
 "nbformat": 4,
 "nbformat_minor": 5
}
