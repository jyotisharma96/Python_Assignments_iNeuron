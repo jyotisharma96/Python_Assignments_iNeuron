{
 "cells": [
  {
   "cell_type": "markdown",
   "id": "b6c6fcf3",
   "metadata": {},
   "source": [
    "1.Write a function that takes a positive integer num and calculates how many\n",
    "dots exist in a pentagonal shape around the center dot on the Nth iteration.\n",
    "\n",
    "In the image below you can see the first iteration is only a single dot. On the\n",
    "second, there are 6 dots. On the third, there are 16 dots, and on the fourth\n",
    "there are 31 dots.\n",
    "\n",
    "Return the number of dots that exist in the whole pentagon on the Nth\n",
    "iteration.\n",
    "\n",
    "Examples\n",
    "\n",
    "pentagonal(1) ➞ 1\n",
    "\n",
    "pentagonal(2) ➞ 6\n",
    "\n",
    "pentagonal(3) ➞ 16\n",
    "\n",
    "pentagonal(8) ➞ 141"
   ]
  },
  {
   "cell_type": "code",
   "execution_count": 1,
   "id": "103cb68c",
   "metadata": {},
   "outputs": [
    {
     "name": "stdout",
     "output_type": "stream",
     "text": [
      "Enter the number of dots: 8\n",
      "On the 8th iteration, there are 141 dots.\n"
     ]
    }
   ],
   "source": [
    "def calculate_pentagonal_dots(num):\n",
    "    if num == 1:\n",
    "        return 1\n",
    "    else:\n",
    "        return calculate_pentagonal_dots(num-1) + (5 * (num - 1))\n",
    "\n",
    "n=int(input(\"Enter the number of dots: \"))\n",
    "dots = calculate_pentagonal_dots(n)\n",
    "print(f\"On the {n}th iteration, there are {dots} dots.\")"
   ]
  },
  {
   "cell_type": "markdown",
   "id": "845c07f6",
   "metadata": {},
   "source": [
    "2.Make a function that encrypts a given input with these steps:\n",
    "\n",
    "Input: &quot;apple&quot;\n",
    "\n",
    "Step 1: Reverse the input: &quot;elppa&quot;\n",
    "\n",
    "Step 2: Replace all vowels using the following chart:\n",
    "\n",
    "a =&gt; 0\n",
    "e =&gt; 1\n",
    "i =&gt; 2\n",
    "o =&gt; 2\n",
    "u =&gt; 3\n",
    "\n",
    "&quot;1lpp0&quot;\n",
    "\n",
    "Step 3: Add &quot;aca&quot; to the end of the word: &quot;1lpp0aca&quot;\n",
    "\n",
    "Output: &quot;1lpp0aca&quot;\n",
    "\n",
    "Examples\n",
    "\n",
    "encrypt(&quot;banana&quot;) ➞ &quot;0n0n0baca&quot;\n",
    "\n",
    "encrypt(&quot;karaca&quot;) ➞ &quot;0c0r0kaca&quot;\n",
    "\n",
    "encrypt(&quot;burak&quot;) ➞ &quot;k0r3baca&quot;\n",
    "\n",
    "encrypt(&quot;alpaca&quot;) ➞ &quot;0c0pl0aca&quot;"
   ]
  },
  {
   "cell_type": "code",
   "execution_count": 4,
   "id": "2d2cad4a",
   "metadata": {},
   "outputs": [
    {
     "name": "stdout",
     "output_type": "stream",
     "text": [
      "Enter the input string: apple\n",
      "Encrypted input: 1lpp0aca\n"
     ]
    }
   ],
   "source": [
    "def encrypt_input(input_string):\n",
    "    # Step 1: Reverse the input\n",
    "    reversed_string = input_string[::-1]\n",
    "\n",
    "    # Step 2: Replace vowels\n",
    "    vowel_mapping = {'a': '0', 'e': '1', 'i': '2', 'o': '2', 'u': '3'}\n",
    "    replaced_string = ''.join(vowel_mapping.get(char, char) for char in reversed_string)\n",
    "\n",
    "    # Step 3: Add \"aca\" to the end of the word\n",
    "    encrypted_string = replaced_string + 'aca'\n",
    "\n",
    "    return encrypted_string\n",
    "\n",
    "# Example usage\n",
    "input_str = input(\"Enter the input string: \")\n",
    "encrypted_str = encrypt_input(input_str)\n",
    "print(f\"Encrypted input: {encrypted_str}\")"
   ]
  },
  {
   "cell_type": "markdown",
   "id": "004b4c08",
   "metadata": {},
   "source": [
    "3.Given the month and year as numbers, return whether that month contains\n",
    "a Friday 13th.(i.e You can check Python&#39;s datetime module).\n",
    "\n",
    "Examples\n",
    "\n",
    "has_friday_13(3, 2020) ➞ True\n",
    "\n",
    "has_friday_13(10, 2017) ➞ True\n",
    "\n",
    "has_friday_13(1, 1985) ➞ False"
   ]
  },
  {
   "cell_type": "code",
   "execution_count": 7,
   "id": "257d113c",
   "metadata": {},
   "outputs": [
    {
     "name": "stdout",
     "output_type": "stream",
     "text": [
      "friday_13(3, 2020): True\n",
      "friday_13(10, 2017): True\n",
      "friday_13(1, 1985): False\n"
     ]
    }
   ],
   "source": [
    "import datetime\n",
    "def friday_13(month,year):\n",
    "    res = False\n",
    "    if datetime.datetime(year,month,13).strftime('%A') == 'Friday':\n",
    "        res = True\n",
    "    print(f'friday_13{month,year}: {res}')\n",
    "    \n",
    "friday_13(3, 2020)\n",
    "friday_13(10,2017)\n",
    "friday_13(1, 1985)"
   ]
  },
  {
   "cell_type": "markdown",
   "id": "c926e108",
   "metadata": {},
   "source": [
    "4.Write a regular expression that will help us count how many bad cookies\n",
    "are produced every day. You must use RegEx negative lookbehind.\n",
    "\n",
    "Example:\n",
    "\n",
    "lst = [&quot;bad cookie&quot;, &quot;good cookie&quot;, &quot;bad cookie&quot;, &quot;good cookie&quot;, &quot;good cookie&quot;]\n",
    "\n",
    "pattern = &quot;yourregularexpressionhere&quot;\n",
    "\n",
    "len(re.findall(pattern, &quot;, &quot;.join(lst))) ➞ 2"
   ]
  },
  {
   "cell_type": "code",
   "execution_count": 8,
   "id": "558785e2",
   "metadata": {},
   "outputs": [
    {
     "name": "stdout",
     "output_type": "stream",
     "text": [
      "No of Bad cookies produced per day : 2\n"
     ]
    }
   ],
   "source": [
    "import re\n",
    "\n",
    "lst = [\"bad cookie\", \"good cookie\", \"bad cookie\", \"good cookie\", \"good cookie\"]\n",
    "\n",
    "pattern = r'(?<!good)\\scookie'# Regex Negative lookbehind expression\n",
    "\n",
    "data = re.findall(pattern,' '.join(lst))\n",
    "\n",
    "print(f'No of Bad cookies produced per day : {len(data)}')\n"
   ]
  },
  {
   "cell_type": "markdown",
   "id": "4e6822b0",
   "metadata": {},
   "source": [
    "5.Given a list of words in the singular form, return a set of those words in the\n",
    "plural form if they appear more than once in the list.\n",
    "\n",
    "Examples:\n",
    "\n",
    "pluralize([&quot;cow&quot;, &quot;pig&quot;, &quot;cow&quot;, &quot;cow&quot;]) ➞ { &quot;cows&quot;, &quot;pig&quot; }\n",
    "\n",
    "pluralize([&quot;table&quot;, &quot;table&quot;, &quot;table&quot;]) ➞ { &quot;tables&quot; }\n",
    "\n",
    "pluralize([&quot;chair&quot;, &quot;pencil&quot;, &quot;arm&quot;]) ➞ { &quot;chair&quot;, &quot;pencil&quot;, &quot;arm&quot; }"
   ]
  },
  {
   "cell_type": "code",
   "execution_count": 9,
   "id": "c8b4d24e",
   "metadata": {},
   "outputs": [
    {
     "name": "stdout",
     "output_type": "stream",
     "text": [
      "pluralize['cow', 'pig', 'cow', 'cow']) : {'cows', 'pig'}\n",
      "pluralize['table', 'table', 'table']) : {'table', 'tables'}\n",
      "pluralize['chair', 'pencil', 'arm']) : {'chair'}\n"
     ]
    }
   ],
   "source": [
    "def pluralize(lst):\n",
    "    res = set()\n",
    "    for i in set(lst):\n",
    "        if lst.count(i) > 1:\n",
    "            res.add(i+'s')\n",
    "    else:\n",
    "        res.add(i)\n",
    "    print(f'pluralize{lst}) : {res}')\n",
    "    \n",
    "pluralize([\"cow\", \"pig\", \"cow\", \"cow\"])\n",
    "pluralize([\"table\", \"table\", \"table\"])\n",
    "pluralize([\"chair\", \"pencil\", \"arm\"]) "
   ]
  },
  {
   "cell_type": "code",
   "execution_count": null,
   "id": "3ec01342",
   "metadata": {},
   "outputs": [],
   "source": []
  }
 ],
 "metadata": {
  "kernelspec": {
   "display_name": "Python 3 (ipykernel)",
   "language": "python",
   "name": "python3"
  },
  "language_info": {
   "codemirror_mode": {
    "name": "ipython",
    "version": 3
   },
   "file_extension": ".py",
   "mimetype": "text/x-python",
   "name": "python",
   "nbconvert_exporter": "python",
   "pygments_lexer": "ipython3",
   "version": "3.9.12"
  }
 },
 "nbformat": 4,
 "nbformat_minor": 5
}
