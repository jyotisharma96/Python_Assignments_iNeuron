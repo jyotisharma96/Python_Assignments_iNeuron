{
 "cells": [
  {
   "cell_type": "markdown",
   "id": "3f2d7707",
   "metadata": {},
   "source": [
    "1.Write four functions that directly mutate a list:\n",
    "1. repeat(lst, n): Repeat lst n times.\n",
    "2. add(lst, x): Adds x to the end of the lst.\n",
    "3. remove(lst, m, n): Removes all elements between indices m and n\n",
    "inclusive in lst.\n",
    "4. concat(lst, x): concatenates lst with x (another list).\n",
    "\n",
    "Examples:\n",
    "\n",
    "lst = [1, 2, 3, 4]\n",
    "\n",
    "repeat(lst, 3) ➞ [1, 2, 3, 4, 1, 2, 3, 4, 1, 2, 3, 4]\n",
    "\n",
    "add(lst, 1) ➞ [1, 2, 3, 4, 1, 2, 3, 4, 1, 2, 3, 4, 1]\n",
    "\n",
    "remove(lst, 1, 12) ➞ [1]\n",
    "\n",
    "concat(lst, [3, 4]) ➞ [1, 3, 4]"
   ]
  },
  {
   "cell_type": "code",
   "execution_count": 1,
   "id": "7bbfb798",
   "metadata": {},
   "outputs": [
    {
     "name": "stdout",
     "output_type": "stream",
     "text": [
      "[1, 2, 3, 4, 1, 2, 3, 4, 1, 2, 3, 4]\n",
      "[1, 2, 3, 4, 1]\n",
      "[1]\n",
      "[1, 2, 3, 4, 3, 4]\n"
     ]
    }
   ],
   "source": [
    "def repeat(lst,n):\n",
    "    lst *= n\n",
    "    return lst\n",
    "\n",
    "def add(lst,x):\n",
    "    lst.append(x)\n",
    "    return lst\n",
    "\n",
    "def remove(lst,m,n):\n",
    "    del lst[m:(n+1)]\n",
    "    return lst\n",
    "\n",
    "def concat(lst,x):\n",
    "    lst.extend(x)\n",
    "    return lst\n",
    "\n",
    "lst = [1, 2, 3, 4]\n",
    "print(repeat(lst, 3))\n",
    "\n",
    "lst = [1, 2, 3, 4]\n",
    "print(add(lst, 1))\n",
    "\n",
    "lst = [1, 2, 3, 4]\n",
    "print(remove(lst, 1, 12))\n",
    "\n",
    "lst = [1, 2, 3, 4]\n",
    "print(concat(lst, [3, 4]))\n"
   ]
  },
  {
   "cell_type": "markdown",
   "id": "321322b0",
   "metadata": {},
   "source": [
    "2.The classic game of Mastermind is played on a tray on which the\n",
    "Mastermind conceals a code and the Guesser has 10 tries to guess it. The\n",
    "code is a sequence of 4 (or 6, sometimes more) pegs of different colors. Each\n",
    "guess is a corresponding sequence of 4 (or more) pegs of different colors. A\n",
    "guess is &quot;correct&quot; when the color of every peg in the guess exactly matches\n",
    "the corresponding peg in the Mastermind&#39;s code.\n",
    "\n",
    "After each guess by the Guesser, the Mastermind will give a score comprising\n",
    "black &amp; white pegs, not arranged in any order:\n",
    "\n",
    "- Black peg == guess peg matches the color of a code peg in the same\n",
    "position.\n",
    "\n",
    "- White peg == guess peg matches the color of a code peg in another\n",
    "position.\n",
    "\n",
    "Create a function that takes two strings, code and guess as arguments, and\n",
    "returns the score in a dictionary.\n",
    "\n",
    "- The code and guess are strings of numeric digits\n",
    "\n",
    "- The color of the pegs are represented by numeric digits\n",
    "\n",
    "- no &quot;peg&quot; may be double-scored\n",
    "\n",
    "Examples:\n",
    "\n",
    "guess_score(&quot;1423&quot;, &quot;5678&quot;) ➞ {&quot;black&quot;: 0, &quot;white&quot;: 0}\n",
    "\n",
    "guess_score(&quot;1423&quot;, &quot;2222&quot;) ➞ {&quot;black&quot;: 1, &quot;white&quot;: 0}\n",
    "\n",
    "guess_score(&quot;1423&quot;, &quot;1234&quot;) ➞ {&quot;black&quot;: 1, &quot;white&quot;: 3}\n",
    "\n",
    "guess_score(&quot;1423&quot;, &quot;2211&quot;) ➞ {&quot;black&quot;: 0, &quot;white&quot;: 2}"
   ]
  },
  {
   "cell_type": "code",
   "execution_count": 2,
   "id": "b17c54bd",
   "metadata": {},
   "outputs": [
    {
     "name": "stdout",
     "output_type": "stream",
     "text": [
      "{'black': 0, 'white': 0}\n",
      "{'black': 1, 'white': 0}\n",
      "{'black': 1, 'white': 3}\n",
      "{'black': 0, 'white': 2}\n"
     ]
    }
   ],
   "source": [
    "def guess_score(code, guess):\n",
    "    score = {'black': 0, 'white': 0}\n",
    "    code_freq = {}\n",
    "    guess_freq = {}\n",
    "\n",
    "    # Count the frequency of each digit in the code and guess\n",
    "    for i in range(len(code)):\n",
    "        code_digit = code[i]\n",
    "        guess_digit = guess[i]\n",
    "\n",
    "        if code_digit == guess_digit:\n",
    "            score['black'] += 1\n",
    "        else:\n",
    "            code_freq[code_digit] = code_freq.get(code_digit, 0) + 1\n",
    "            guess_freq[guess_digit] = guess_freq.get(guess_digit, 0) + 1\n",
    "\n",
    "    # Calculate the white pegs\n",
    "    for digit, freq in guess_freq.items():\n",
    "        if digit in code_freq:\n",
    "            score['white'] += min(freq, code_freq[digit])\n",
    "\n",
    "    return score\n",
    "\n",
    "print(guess_score('1423', '5678'))\n",
    "print(guess_score('1423', '2222')) \n",
    "print(guess_score('1423', '1234')) \n",
    "print(guess_score('1423', '2211')) \n"
   ]
  },
  {
   "cell_type": "markdown",
   "id": "26894eff",
   "metadata": {},
   "source": [
    "3.Create a function that takes a list lst and a number N and returns a list of\n",
    "two integers from lst whose product equals N.\n",
    "\n",
    "Examples:\n",
    "\n",
    "two_product([1, 2, -1, 4, 5], 20) ➞ [4, 5]\n",
    "\n",
    "two_product([1, 2, 3, 4, 5], 10) ➞ [2, 5]\n",
    "\n",
    "two_product([100, 12, 4, 1, 2], 15) ➞ None"
   ]
  },
  {
   "cell_type": "code",
   "execution_count": 3,
   "id": "bcd9592e",
   "metadata": {},
   "outputs": [
    {
     "name": "stdout",
     "output_type": "stream",
     "text": [
      "[5, 4]\n",
      "[5, 2]\n",
      "None\n"
     ]
    }
   ],
   "source": [
    "def two_product(lst, N):\n",
    "    seen = set()\n",
    "\n",
    "    for num in lst:\n",
    "        if num != 0 and N % num == 0:\n",
    "            complement = N // num\n",
    "            if complement in seen:\n",
    "                return [num, complement]\n",
    "            seen.add(num)\n",
    "\n",
    "    return None\n",
    "\n",
    "print(two_product([1, 2, -1, 4, 5], 20))\n",
    "print(two_product([1, 2, 3, 4, 5], 10)) \n",
    "print(two_product([100, 12, 4, 1, 2], 15))\n"
   ]
  },
  {
   "cell_type": "markdown",
   "id": "95f7d4ef",
   "metadata": {},
   "source": [
    "4.In this challenge, sort a list containing a series of dates given as strings.\n",
    "Each date is given in the format DD-MM-YYYY_HH:MM:\n",
    "&quot;12-02-2012_13:44&quot;\n",
    "\n",
    "The priority of criteria used for sorting will be:\n",
    "\n",
    "- Year\n",
    "\n",
    "- Month\n",
    "\n",
    "- Day\n",
    "\n",
    "- Hours\n",
    "\n",
    "- Minutes\n",
    "\n",
    "Given a list lst and a string mode, implement a function that returns:\n",
    "\n",
    "- if mode is equal to &quot;ASC&quot;, the list lst sorted in ascending order.\n",
    "\n",
    "- if mode is equal to &quot;DSC&quot;, the list lst sorted in descending order.\n",
    "\n",
    "Examples:\n",
    "    \n",
    "sort_dates([&quot;10-02-2018_12:30&quot;, &quot;10-02-2016_12:30&quot;, &quot;10-02-2018_12:15&quot;],\n",
    "&quot;ASC&quot;) ➞ [&quot;10-02-2016_12:30&quot;, &quot;10-02-2018_12:15&quot;, &quot;10-02-2018_12:30&quot;]\n",
    "\n",
    "sort_dates([&quot;10-02-2018_12:30&quot;, &quot;10-02-2016_12:30&quot;, &quot;10-02-2018_12:15&quot;],\n",
    "&quot;DSC&quot;) ➞ [&quot;10-02-2018_12:30&quot;, &quot;10-02-2018_12:15&quot;, &quot;10-02-2016_12:30&quot;]\n",
    "\n",
    "sort_dates([&quot;09-02-2000_10:03&quot;, &quot;10-02-2000_18:29&quot;, &quot;01-01-1999_00:55&quot;],\n",
    "&quot;ASC&quot;) ➞ [&quot;01-01-1999_00:55&quot;, &quot;09-02-2000_10:03&quot;, &quot;10-02-2000_18:29&quot;]"
   ]
  },
  {
   "cell_type": "code",
   "execution_count": 5,
   "id": "97e8c40e",
   "metadata": {},
   "outputs": [
    {
     "name": "stdout",
     "output_type": "stream",
     "text": [
      "Sorting in Ascending order\n",
      "['10-02-2016_12:30', '10-02-2018_12:15', '10-02-2018_12:30']\n",
      "Sorting in Descending order\n",
      "['10-02-2018_12:30', '10-02-2018_12:15', '10-02-2016_12:30']\n",
      "Sorting in Ascending order\n",
      "['01-01-1999_00:55', '09-02-2000_10:03', '10-02-2000_18:29']\n"
     ]
    }
   ],
   "source": [
    "import datetime\n",
    "def sort_dates(d, sort):\n",
    "    if sort == 'ASC':\n",
    "        print(\"Sorting in Ascending order\")\n",
    "        return sorted(d, key=lambda x: datetime.datetime.strptime(x, '%d-%m-%Y_%H:%M'), reverse = False)\n",
    "    elif sort == 'DSC':\n",
    "        print(\"Sorting in Descending order\")\n",
    "        return sorted(d, key=lambda x: datetime.datetime.strptime(x, '%d-%m-%Y_%H:%M'), reverse = True)\n",
    "    else:\n",
    "        print(\"Provide right sorting order\")\n",
    "\n",
    "print(sort_dates([\"10-02-2018_12:30\", \"10-02-2016_12:30\", \"10-02-2018_12:15\"], \"ASC\"))\n",
    "print(sort_dates([\"10-02-2018_12:30\", \"10-02-2016_12:30\", \"10-02-2018_12:15\"], \"DSC\"))\n",
    "print(sort_dates([\"09-02-2000_10:03\", \"10-02-2000_18:29\", \"01-01-1999_00:55\"], \"ASC\"))\n"
   ]
  },
  {
   "cell_type": "markdown",
   "id": "52d1ce2d",
   "metadata": {},
   "source": [
    "5.Write a function that selects all words that have all the same vowels (in any\n",
    "order and/or number) as the first word, including the first word.\n",
    "\n",
    "Examples:\n",
    "\n",
    "same_vowel_group([&quot;toe&quot;, &quot;ocelot&quot;, &quot;maniac&quot;]) ➞ [&quot;toe&quot;, &quot;ocelot&quot;]\n",
    "\n",
    "same_vowel_group([&quot;many&quot;, &quot;carriage&quot;, &quot;emit&quot;, &quot;apricot&quot;, &quot;animal&quot;]) ➞\n",
    "[&quot;many&quot;]\n",
    "\n",
    "same_vowel_group([&quot;hoops&quot;, &quot;chuff&quot;, &quot;bot&quot;, &quot;bottom&quot;]) ➞ [&quot;hoops&quot;, &quot;bot&quot;,\n",
    "&quot;bottom&quot;]\n"
   ]
  },
  {
   "cell_type": "code",
   "execution_count": 6,
   "id": "7caeecb8",
   "metadata": {},
   "outputs": [
    {
     "name": "stdout",
     "output_type": "stream",
     "text": [
      "['toe', 'ocelot']\n",
      "['many']\n",
      "['hoops', 'bot', 'bottom']\n"
     ]
    }
   ],
   "source": [
    "def same_vowel_group(words):\n",
    "    def has_same_vowels(word1, word2):\n",
    "        vowels = set('aeiou')\n",
    "        vowels1 = set(char for char in word1 if char in vowels)\n",
    "        vowels2 = set(char for char in word2 if char in vowels)\n",
    "        return vowels1 == vowels2\n",
    "\n",
    "    if not words:\n",
    "        return []\n",
    "\n",
    "    first_word = words[0]\n",
    "    result = [first_word]\n",
    "\n",
    "    for word in words[1:]:\n",
    "        if has_same_vowels(first_word, word):\n",
    "            result.append(word)\n",
    "\n",
    "    return result\n",
    "\n",
    "print(same_vowel_group([\"toe\", \"ocelot\", \"maniac\"]))  \n",
    "print(same_vowel_group([\"many\", \"carriage\", \"emit\", \"apricot\", \"animal\"]))\n",
    "print(same_vowel_group([\"hoops\", \"chuff\", \"bot\", \"bottom\"]))\n"
   ]
  },
  {
   "cell_type": "markdown",
   "id": "324e2bcc",
   "metadata": {},
   "source": [
    "6.Create a function that takes a list of more than three numbers and returns\n",
    "the Least Common Multiple (LCM).\n",
    "\n",
    "Examples:\n",
    "\n",
    "lcm_of_list([1, 2, 3, 4, 5, 6, 7, 8, 9, 10]) ➞ 2520\n",
    "\n",
    "lcm_of_list([13, 6, 17, 18, 19, 20, 37]) ➞ 27965340\n",
    "\n",
    "lcm_of_list([44, 64, 12, 17, 65]) ➞ 2333760"
   ]
  },
  {
   "cell_type": "code",
   "execution_count": 7,
   "id": "f12b4df5",
   "metadata": {},
   "outputs": [
    {
     "name": "stdout",
     "output_type": "stream",
     "text": [
      "2520\n",
      "27965340\n",
      "2333760\n"
     ]
    }
   ],
   "source": [
    "import math\n",
    "\n",
    "def lcm_of_list(numbers):\n",
    "    lcm = numbers[0]\n",
    "    for i in range(1, len(numbers)):\n",
    "        lcm = (lcm * numbers[i]) // math.gcd(lcm, numbers[i])\n",
    "    return lcm\n",
    "\n",
    "print(lcm_of_list([1, 2, 3, 4, 5, 6, 7, 8, 9, 10]))\n",
    "print(lcm_of_list([13, 6, 17, 18, 19, 20, 37]))\n",
    "print(lcm_of_list([44, 64, 12, 17, 65]))\n"
   ]
  },
  {
   "cell_type": "code",
   "execution_count": null,
   "id": "18421de8",
   "metadata": {},
   "outputs": [],
   "source": []
  },
  {
   "cell_type": "code",
   "execution_count": null,
   "id": "539f8243",
   "metadata": {},
   "outputs": [],
   "source": []
  },
  {
   "cell_type": "code",
   "execution_count": null,
   "id": "a6417a79",
   "metadata": {},
   "outputs": [],
   "source": []
  }
 ],
 "metadata": {
  "kernelspec": {
   "display_name": "Python 3 (ipykernel)",
   "language": "python",
   "name": "python3"
  },
  "language_info": {
   "codemirror_mode": {
    "name": "ipython",
    "version": 3
   },
   "file_extension": ".py",
   "mimetype": "text/x-python",
   "name": "python",
   "nbconvert_exporter": "python",
   "pygments_lexer": "ipython3",
   "version": "3.9.12"
  }
 },
 "nbformat": 4,
 "nbformat_minor": 5
}
