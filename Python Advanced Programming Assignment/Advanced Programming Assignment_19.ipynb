{
 "cells": [
  {
   "cell_type": "markdown",
   "id": "34783fed",
   "metadata": {},
   "source": [
    "1.Create a checker board generator, which takes as inputs n and 2 elements\n",
    "to generate an n x n checkerboard with those two elements as alternating\n",
    "squares.\n",
    "\n",
    "Examples:\n",
    "\n",
    "checker_board(2, 7, 6) ➞ [\n",
    "[7, 6],\n",
    "[6, 7]\n",
    "]\n",
    "\n",
    "checker_board(3, &quot;A&quot;, &quot;B&quot;) ➞ [\n",
    "[&quot;A&quot;, &quot;B&quot;, &quot;A&quot;],\n",
    "[&quot;B&quot;, &quot;A&quot;, &quot;B&quot;],\n",
    "[&quot;A&quot;, &quot;B&quot;, &quot;A&quot;]\n",
    "]\n",
    "\n",
    "checker_board(4, &quot;c&quot;, &quot;d&quot;) ➞ [\n",
    "[&quot;c&quot;, &quot;d&quot;, &quot;c&quot;, &quot;d&quot;],\n",
    "[&quot;d&quot;, &quot;c&quot;, &quot;d&quot;, &quot;c&quot;],\n",
    "[&quot;c&quot;, &quot;d&quot;, &quot;c&quot;, &quot;d&quot;],\n",
    "[&quot;d&quot;, &quot;c&quot;, &quot;d&quot;, &quot;c&quot;]\n",
    "]\n",
    "\n",
    "checker_board(4, &quot;c&quot;, &quot;c&quot;) ➞ &quot;invalid&quot;"
   ]
  },
  {
   "cell_type": "code",
   "execution_count": 1,
   "id": "4f75617f",
   "metadata": {},
   "outputs": [
    {
     "name": "stdout",
     "output_type": "stream",
     "text": [
      "[[7, 6], [6, 7]]\n",
      "[['A', 'B', 'A'], ['B', 'A', 'B'], ['A', 'B', 'A']]\n",
      "[['c', 'd', 'c', 'd'], ['d', 'c', 'd', 'c'], ['c', 'd', 'c', 'd'], ['d', 'c', 'd', 'c']]\n",
      "invalid\n"
     ]
    }
   ],
   "source": [
    "def checker_board(n, element1, element2):\n",
    "    if element1 == element2:\n",
    "        return \"invalid\"\n",
    "\n",
    "    board = []\n",
    "    for row in range(n):\n",
    "        board_row = []\n",
    "        for col in range(n):\n",
    "            if (row + col) % 2 == 0:\n",
    "                board_row.append(element1)\n",
    "            else:\n",
    "                board_row.append(element2)\n",
    "        board.append(board_row)\n",
    "\n",
    "    return board\n",
    "\n",
    "print(checker_board(2,7,6))\n",
    "print(checker_board(3, \"A\", \"B\"))\n",
    "print(checker_board(4, \"c\", \"d\"))\n",
    "print(checker_board(4, \"c\", \"c\"))"
   ]
  },
  {
   "cell_type": "markdown",
   "id": "3856d050",
   "metadata": {},
   "source": [
    "2.A string is an almost-palindrome if, by changing only one character, you\n",
    "can make it a palindrome. Create a function that returns True if a string is an\n",
    "almost-palindrome and False otherwise.\n",
    "\n",
    "Examples:\n",
    "    \n",
    "almost_palindrome(&quot;abcdcbg&quot;) ➞ True\n",
    "\n",
    "#Transformed to &quot;abcdcba&quot; by changing &quot;g&quot; to &quot;a&quot;.\n",
    "\n",
    "almost_palindrome(&quot;abccia&quot;) ➞ True\n",
    "#Transformed to &quot;abccba&quot; by changing &quot;i&quot; to &quot;b&quot;.\n",
    "\n",
    "almost_palindrome(&quot;abcdaaa&quot;) ➞ False\n",
    "\n",
    "#Can&#39;t be transformed to a palindrome in exactly 1 turn.\n",
    "\n",
    "almost_palindrome(&quot;1234312&quot;) ➞ False"
   ]
  },
  {
   "cell_type": "code",
   "execution_count": 2,
   "id": "affcf11c",
   "metadata": {},
   "outputs": [
    {
     "name": "stdout",
     "output_type": "stream",
     "text": [
      "True\n",
      "True\n",
      "False\n",
      "False\n"
     ]
    }
   ],
   "source": [
    "def almost_palindrome(string):\n",
    "    length = len(string)\n",
    "    differences = 0\n",
    "\n",
    "    for i in range(length // 2):\n",
    "        if string[i] != string[length - i - 1]:\n",
    "            differences += 1\n",
    "\n",
    "    return differences == 1\n",
    "\n",
    "print(almost_palindrome(\"abcdcbg\"))  # True\n",
    "print(almost_palindrome(\"abccia\"))  # True\n",
    "print(almost_palindrome(\"abcdaaa\"))  # False\n",
    "print(almost_palindrome(\"1234312\"))  # False"
   ]
  },
  {
   "cell_type": "markdown",
   "id": "99f0c660",
   "metadata": {},
   "source": [
    "3.Create a function that finds how many prime numbers there are, up to the\n",
    "given integer.\n",
    "\n",
    "Examples:\n",
    "    \n",
    "prime_numbers(10) ➞ 4\n",
    "\n",
    "#2, 3, 5 and 7\n",
    "\n",
    "prime_numbers(20) ➞ 8\n",
    "\n",
    "#2, 3, 5, 7, 11, 13, 17 and 19\n",
    "\n",
    "prime_numbers(30) ➞ 10\n",
    "\n",
    "#2, 3, 5, 7, 11, 13, 17, 19, 23 and 29"
   ]
  },
  {
   "cell_type": "code",
   "execution_count": 3,
   "id": "221623f8",
   "metadata": {},
   "outputs": [
    {
     "name": "stdout",
     "output_type": "stream",
     "text": [
      "4\n",
      "8\n",
      "10\n"
     ]
    }
   ],
   "source": [
    "def is_prime(number):\n",
    "    if number < 2:\n",
    "        return False\n",
    "    for i in range(2, int(number ** 0.5) + 1):\n",
    "        if number % i == 0:\n",
    "            return False\n",
    "    return True\n",
    "\n",
    "def prime_numbers(n):\n",
    "    count = 0\n",
    "    for num in range(2, n + 1):\n",
    "        if is_prime(num):\n",
    "            count += 1\n",
    "    return count\n",
    "\n",
    "print(prime_numbers(10))\n",
    "print(prime_numbers(20))\n",
    "print(prime_numbers(30))"
   ]
  },
  {
   "cell_type": "markdown",
   "id": "6fade59c",
   "metadata": {},
   "source": [
    "4.If today was Monday, in two days, it would be Wednesday.\n",
    "Create a function that takes in a list of days as input and the number of days\n",
    "to increment by. Return a list of days after n number of days has passed.\n",
    "\n",
    "Examples:\n",
    "    \n",
    "after_n_days([&quot;Thursday&quot;, &quot;Monday&quot;], 4) ➞ [&quot;Monday&quot;, &quot;Friday&quot;]\n",
    "\n",
    "after_n_days([&quot;Sunday&quot;, &quot;Sunday&quot;, &quot;Sunday&quot;], 1) ➞ [&quot;Monday&quot;, &quot;Monday&quot;,\n",
    "&quot;Monday&quot;]\n",
    "\n",
    "after_n_days([&quot;Monday&quot;, &quot;Tuesday&quot;, &quot;Friday&quot;], 1) ➞ [&quot;Tuesday&quot;, &quot;Wednesday&quot;,\n",
    "&quot;Saturday&quot;]"
   ]
  },
  {
   "cell_type": "code",
   "execution_count": 4,
   "id": "44c600bd",
   "metadata": {},
   "outputs": [
    {
     "name": "stdout",
     "output_type": "stream",
     "text": [
      "['Monday', 'Friday']\n",
      "['Monday', 'Monday', 'Monday']\n",
      "['Tuesday', 'Wednesday', 'Saturday']\n"
     ]
    }
   ],
   "source": [
    "def after_n_days(l,n):\n",
    "    days_of_the_week = [\"Monday\", \"Tuesday\",\"Wednesday\",\"Thursday\", \"Friday\", \"Saturday\",\"Sunday\"]\n",
    "    \n",
    "    for i in range(len(l)):\n",
    "        if days_of_the_week.index(l[i]) + n < len(days_of_the_week):\n",
    "            l[i] = days_of_the_week[days_of_the_week.index(l[i])+n]\n",
    "        else:\n",
    "            l[i] = days_of_the_week[days_of_the_week.index(l[i])+n-len(days_of_the_week)]\n",
    "            \n",
    "    return l\n",
    "\n",
    "print(after_n_days([\"Thursday\", \"Monday\"], 4))\n",
    "print(after_n_days([\"Sunday\", \"Sunday\", \"Sunday\"], 1))\n",
    "print(after_n_days([\"Monday\", \"Tuesday\", \"Friday\"], 1) )"
   ]
  },
  {
   "cell_type": "markdown",
   "id": "c7779be8",
   "metadata": {},
   "source": [
    "5.You are in the process of creating a chat application and want to add an\n",
    "anonymous name feature. This anonymous name feature will create an alias\n",
    "that consists of two capitalized words beginning with the same letter as the\n",
    "users first name.\n",
    "\n",
    "Create a function that determines if the list of users is mapped to a list of\n",
    "anonymous names correctly.\n",
    "\n",
    "Examples:\n",
    "    \n",
    "is_correct_aliases([&quot;Adrian M.&quot;, &quot;Harriet S.&quot;, &quot;Mandy T.&quot;], [&quot;Amazing\n",
    "Artichoke&quot;, &quot;Hopeful Hedgehog&quot;, &quot;Marvelous Mouse&quot;]) ➞ True\n",
    "\n",
    "is_correct_aliases([&quot;Rachel F.&quot;, &quot;Pam G.&quot;, &quot;Fred Z.&quot;, &quot;Nancy K.&quot;],\n",
    "[&quot;Reassuring Rat&quot;, &quot;Peaceful Panda&quot;, &quot;Fantastic Frog&quot;, &quot;Notable Nickel&quot;]) ➞\n",
    "True\n",
    "\n",
    "is_correct_aliases([&quot;Beth T.&quot;], [&quot;Brandishing Mimosa&quot;]) ➞ False\n",
    "\n",
    "#Both words in &quot;Brandishing Mimosa&quot; should begin with a &quot;B&quot; - &quot;Brandishing\n",
    "\n",
    "Beaver&quot; would do the trick."
   ]
  },
  {
   "cell_type": "code",
   "execution_count": null,
   "id": "6e4c6161",
   "metadata": {},
   "outputs": [],
   "source": [
    "def is_correct_aliases(names, aliases):\n",
    "    for i in range(len(names)):\n",
    "        first_name = names[i].split()[0]\n",
    "        anonymous_name_parts = aliases[i].split()\n",
    "        if len(anonymous_name_parts) != 2:\n",
    "            return False\n",
    "        if anonymous_name_parts[0][0].upper() != first_name[0].upper() or anonymous_name_parts[1][0].upper() != first_name[0].upper():\n",
    "            return False\n",
    "    return True\n",
    "\n"
   ]
  },
  {
   "cell_type": "code",
   "execution_count": null,
   "id": "98a28ed9",
   "metadata": {},
   "outputs": [],
   "source": []
  },
  {
   "cell_type": "code",
   "execution_count": null,
   "id": "b2224b3d",
   "metadata": {},
   "outputs": [],
   "source": []
  }
 ],
 "metadata": {
  "kernelspec": {
   "display_name": "Python 3 (ipykernel)",
   "language": "python",
   "name": "python3"
  },
  "language_info": {
   "codemirror_mode": {
    "name": "ipython",
    "version": 3
   },
   "file_extension": ".py",
   "mimetype": "text/x-python",
   "name": "python",
   "nbconvert_exporter": "python",
   "pygments_lexer": "ipython3",
   "version": "3.9.12"
  }
 },
 "nbformat": 4,
 "nbformat_minor": 5
}
