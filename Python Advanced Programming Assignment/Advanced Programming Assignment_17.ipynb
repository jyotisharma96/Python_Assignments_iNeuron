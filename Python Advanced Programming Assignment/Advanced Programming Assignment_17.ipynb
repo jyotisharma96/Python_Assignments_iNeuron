{
 "cells": [
  {
   "cell_type": "markdown",
   "id": "e3d42ead",
   "metadata": {},
   "source": [
    "1.Create a function that transposes a 2D matrix.\n",
    "\n",
    "Examples:\n",
    "    \n",
    "transpose_matrix([\n",
    "[1, 1, 1],\n",
    "\n",
    "[2, 2, 2],\n",
    "\n",
    "[3, 3, 3]\n",
    "\n",
    "]) ➞ [\n",
    "\n",
    "[1, 2, 3],\n",
    "\n",
    "[1, 2, 3],\n",
    "\n",
    "[1, 2, 3]\n",
    "\n",
    "]\n",
    "\n",
    "transpose_matrix([\n",
    "\n",
    "[5, 5],\n",
    "\n",
    "[6, 7],\n",
    "\n",
    "[9, 1]\n",
    "\n",
    "]) ➞ [\n",
    "\n",
    "[5, 6, 9],\n",
    "\n",
    "[5, 7, 1]\n",
    "]"
   ]
  },
  {
   "cell_type": "code",
   "execution_count": 2,
   "id": "fd08a106",
   "metadata": {},
   "outputs": [
    {
     "name": "stdout",
     "output_type": "stream",
     "text": [
      "[[1, 2, 3], [1, 2, 3], [1, 2, 3]]\n",
      "[[5, 6, 9], [5, 7, 1]]\n"
     ]
    }
   ],
   "source": [
    "def transpose_matrix(matrix):\n",
    "    num_rows = len(matrix)\n",
    "    num_cols = len(matrix[0]) if matrix else 0\n",
    "    \n",
    "    transposed_matrix = []\n",
    "    \n",
    "    for j in range(num_cols):\n",
    "        transposed_row = []\n",
    "        for i in range(num_rows):\n",
    "            transposed_row.append(matrix[i][j])\n",
    "        transposed_matrix.append(transposed_row)\n",
    "    \n",
    "    return transposed_matrix\n",
    "\n",
    "print(transpose_matrix([ [1, 1, 1], [2, 2, 2], [3, 3, 3]]))\n",
    "print(transpose_matrix([ [5, 5], [6, 7], [9, 1] ]))"
   ]
  },
  {
   "cell_type": "markdown",
   "id": "e26a4d91",
   "metadata": {},
   "source": [
    "2.Create a function that determines whether a string is a valid hex code.\n",
    "A hex code must begin with a pound key # and is exactly 6 characters in\n",
    "length. \n",
    "\n",
    "Each character must be a digit from 0-9 or an alphabetic character\n",
    "from A-F. All alphabetic characters may be uppercase or lowercase.\n",
    "\n",
    "Examples:\n",
    "\n",
    "is_valid_hex_code(&quot;#CD5C5C&quot;) ➞ True\n",
    "\n",
    "is_valid_hex_code(&quot;#EAECEE&quot;) ➞ True\n",
    "\n",
    "is_valid_hex_code(&quot;#eaecee&quot;) ➞ True\n",
    "\n",
    "is_valid_hex_code(&quot;#CD5C58C&quot;) ➞ False\n",
    "\n",
    "#Length exceeds 6\n",
    "\n",
    "is_valid_hex_code(&quot;#CD5C5Z&quot;) ➞ False\n",
    "\n",
    "#Not all alphabetic characters in A-F\n",
    "\n",
    "is_valid_hex_code(&quot;#CD5C&amp;C&quot;) ➞ False\n",
    "\n",
    "#Contains unacceptable character\n",
    "\n",
    "is_valid_hex_code(&quot;CD5C5C&quot;) ➞ False\n",
    "#Missing #"
   ]
  },
  {
   "cell_type": "code",
   "execution_count": 3,
   "id": "40caee2e",
   "metadata": {},
   "outputs": [
    {
     "name": "stdout",
     "output_type": "stream",
     "text": [
      "True\n",
      "True\n",
      "True\n",
      "False\n",
      "False\n",
      "False\n",
      "False\n"
     ]
    }
   ],
   "source": [
    "def is_valid_hex_code(s):\n",
    "    res = True\n",
    "    for i in s:\n",
    "        if i.lower() not in '#abcdef0123456789' or len(s) !=7:\n",
    "            res = False\n",
    "    return res\n",
    "\n",
    "print(is_valid_hex_code(\"#CD5C5C\"))\n",
    "print(is_valid_hex_code(\"#EAECEE\"))\n",
    "print(is_valid_hex_code(\"#eaecee\"))                \n",
    "print(is_valid_hex_code(\"#CD5C58C\"))\n",
    "print(is_valid_hex_code(\"#CD5C5Z\"))\n",
    "print(is_valid_hex_code(\"#CD5C&C\"))\n",
    "print(is_valid_hex_code(\"CD5C5C\"))"
   ]
  },
  {
   "cell_type": "markdown",
   "id": "d17b26ac",
   "metadata": {},
   "source": [
    "3.Given a list of math equations (given as strings), return the percentage of\n",
    "correct answers as a string. Round to the nearest whole number.\n",
    "\n",
    "Examples:\n",
    "\n",
    "mark_maths([&quot;2+2=4&quot;, &quot;3+2=5&quot;, &quot;10-3=3&quot;, &quot;5+5=10&quot;]) ➞ &quot;75%&quot;\n",
    "\n",
    "mark_maths([&quot;1-2=-2&quot;]), &quot;0%&quot;\n",
    "\n",
    "mark_maths([&quot;2+3=5&quot;, &quot;4+4=9&quot;, &quot;3-1=2&quot;]) ➞ &quot;67%&quot;"
   ]
  },
  {
   "cell_type": "code",
   "execution_count": 4,
   "id": "98258075",
   "metadata": {},
   "outputs": [
    {
     "name": "stdout",
     "output_type": "stream",
     "text": [
      "75%\n",
      "0%\n",
      "67%\n"
     ]
    }
   ],
   "source": [
    "def mark_maths(l):\n",
    "    count = 0\n",
    "    for item in l:\n",
    "        item1 = item.split('=')\n",
    "        if eval(item1[0]) == int(item1[1]):\n",
    "            count += 1\n",
    "\n",
    "    return str(round((count/len(l)) * 100)) +'%'     \n",
    "\n",
    "print(mark_maths([\"2+2=4\", \"3+2=5\", \"10-3=3\", \"5+5=10\"])) \n",
    "print(mark_maths([\"1-2=-2\"]))\n",
    "print(mark_maths([\"2+3=5\", \"4+4=9\", \"3-1=2\"]))"
   ]
  },
  {
   "cell_type": "markdown",
   "id": "130f3625",
   "metadata": {},
   "source": [
    "4.There are two players, Alice and Bob, each with a 3-by-3 grid. A referee\n",
    "tells Alice to fill out one particular row in the grid (say the second row) by\n",
    "putting either a 1 or a 0 in each box, such that the sum of the numbers in that\n",
    "row is odd. The referee tells Bob to fill out one column in the grid (say the first\n",
    "column) by putting either a 1 or a 0 in each box, such that the sum of the\n",
    "numbers in that column is even.\n",
    "\n",
    "Alice and Bob win the game if Alice’s numbers give an odd sum, Bob’s give\n",
    "an even sum, and (most important) they’ve each written down the same\n",
    "number in the one square where their row and column intersect.\n",
    "\n",
    "Examples:\n",
    "    \n",
    "magic_square_game([2, &quot;100&quot;], [1, &quot;101&quot;]) ➞ False\n",
    "\n",
    "magic_square_game([2, &quot;001&quot;], [1, &quot;101&quot;]) ➞ True\n",
    "\n",
    "magic_square_game([3, &quot;111&quot;], [2, &quot;011&quot;]) ➞ True\n",
    "\n",
    "magic_square_game([1, &quot;010&quot;], [3, &quot;101&quot;]) ➞ False\n",
    "\n",
    "#Two lists, Alice [row, &quot;her choice&quot;], Bob [column, &quot;his choice&quot;]"
   ]
  },
  {
   "cell_type": "code",
   "execution_count": 5,
   "id": "0d061560",
   "metadata": {},
   "outputs": [
    {
     "name": "stdout",
     "output_type": "stream",
     "text": [
      "False\n",
      "True\n",
      "True\n",
      "False\n"
     ]
    }
   ],
   "source": [
    "def magic_square_game(alice, bob):\n",
    "    alice_row, alice_choices = alice[0], alice[1]\n",
    "    bob_column, bob_choices = bob[0], bob[1]\n",
    "\n",
    "    alice_sum = alice_choices.count('1')\n",
    "    bob_sum = bob_choices.count('1')\n",
    "\n",
    "    if alice_sum % 2 != 0 and bob_sum % 2 == 0:\n",
    "        if alice_choices[bob_column-1] == bob_choices[alice_row-1]:\n",
    "            return True\n",
    "\n",
    "    return False\n",
    "\n",
    "print(magic_square_game([2, \"100\"], [1, \"101\"]))\n",
    "print(magic_square_game([2, \"001\"], [1, \"101\"]))\n",
    "print(magic_square_game([3, \"111\"], [2, \"011\"]) )\n",
    "print(magic_square_game([1, \"010\"], [3, \"101\"]))"
   ]
  },
  {
   "cell_type": "markdown",
   "id": "dd82a1c2",
   "metadata": {},
   "source": [
    "5.From point A, an object is moving towards point B at constant velocity va\n",
    "(in km/hr). From point B, another object is moving towards point A at constant\n",
    "velocity vb (in km/hr). Knowing this and the distance between point A and B\n",
    "(in km), write a function that returns how much time passes until both objects\n",
    "meet.\n",
    "\n",
    "Format the output like this:\n",
    "\n",
    "&quot;2h 23min 34s&quot;\n",
    "\n",
    "Examples:\n",
    "    \n",
    "lets_meet(100, 10, 30) ➞ &quot;2h 30min 0s&quot;\n",
    "\n",
    "lets_meet(280, 70, 80) ➞ &quot;1h 52min 0s&quot;\n",
    "\n",
    "lets_meet(90, 75, 65) ➞ &quot;0h 38min 34s&quot;"
   ]
  },
  {
   "cell_type": "code",
   "execution_count": null,
   "id": "b2d58fd9",
   "metadata": {},
   "outputs": [],
   "source": [
    "def lets_meet(distance, va, vb):\n",
    "    relative_velocity = va + vb\n",
    "\n",
    "    # Calculate the time in hours, minutes, and seconds\n",
    "    time_in_hours = distance / relative_velocity\n",
    "    time_in_minutes = (time_in_hours % 1) * 60\n",
    "    time_in_seconds = (time_in_minutes % 1) * 60\n",
    "\n",
    "    # Format the time as \"hh:mm:ss\"\n",
    "    formatted_time = \"{:.0f}h {:.0f}min {:.0f}s\".format(time_in_hours, time_in_minutes, time_in_seconds)\n",
    "\n",
    "    return formatted_time\n",
    "\n"
   ]
  },
  {
   "cell_type": "code",
   "execution_count": null,
   "id": "a858a06b",
   "metadata": {},
   "outputs": [],
   "source": []
  },
  {
   "cell_type": "code",
   "execution_count": null,
   "id": "de445a2c",
   "metadata": {},
   "outputs": [],
   "source": []
  },
  {
   "cell_type": "code",
   "execution_count": null,
   "id": "2961a4a0",
   "metadata": {},
   "outputs": [],
   "source": []
  },
  {
   "cell_type": "code",
   "execution_count": null,
   "id": "fc635616",
   "metadata": {},
   "outputs": [],
   "source": []
  }
 ],
 "metadata": {
  "kernelspec": {
   "display_name": "Python 3 (ipykernel)",
   "language": "python",
   "name": "python3"
  },
  "language_info": {
   "codemirror_mode": {
    "name": "ipython",
    "version": 3
   },
   "file_extension": ".py",
   "mimetype": "text/x-python",
   "name": "python",
   "nbconvert_exporter": "python",
   "pygments_lexer": "ipython3",
   "version": "3.9.12"
  }
 },
 "nbformat": 4,
 "nbformat_minor": 5
}
