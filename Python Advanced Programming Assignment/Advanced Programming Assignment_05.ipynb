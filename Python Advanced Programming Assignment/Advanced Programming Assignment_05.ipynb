{
 "cells": [
  {
   "cell_type": "markdown",
   "id": "4a86a520",
   "metadata": {},
   "source": [
    "1.Create a function that takes a number n (integer greater than zero) as an\n",
    "argument, and returns 2 if n is odd and 8 if n is even.\n",
    "\n",
    "You can only use the following arithmetic operators: addition of numbers +,\n",
    "subtraction of numbers -, multiplication of number *, division of number /, and\n",
    "exponentiation **.\n",
    "\n",
    "You are not allowed to use any other methods in this challenge (i.e. no if\n",
    "statements, comparison operators, etc).\n",
    "\n",
    "Examples:\n",
    "    \n",
    "f(1) ➞ 2\n",
    "\n",
    "f(2) ➞ 8\n",
    "\n",
    "f(3) ➞ 2"
   ]
  },
  {
   "cell_type": "code",
   "execution_count": 2,
   "id": "5c6976e1",
   "metadata": {},
   "outputs": [
    {
     "name": "stdout",
     "output_type": "stream",
     "text": [
      "2\n",
      "8\n",
      "2\n"
     ]
    }
   ],
   "source": [
    "def f(n):\n",
    "    return 8 - (n % 2) * 6\n",
    "\n",
    "print(f(1))\n",
    "print(f(2))\n",
    "print(f(3))"
   ]
  },
  {
   "cell_type": "markdown",
   "id": "b7204628",
   "metadata": {},
   "source": [
    "2.Create a function that returns the majority vote in a list. A majority vote is\n",
    "an element that occurs &gt; N/2 times in a list (where N is the length of the list).\n",
    "\n",
    "Examples:\n",
    "    \n",
    "majority_vote([&quot;A&quot;, &quot;A&quot;, &quot;B&quot;]) ➞ &quot;A&quot;\n",
    "\n",
    "majority_vote([&quot;A&quot;, &quot;A&quot;, &quot;A&quot;, &quot;B&quot;, &quot;C&quot;, &quot;A&quot;]) ➞ &quot;A&quot;\n",
    "\n",
    "majority_vote([&quot;A&quot;, &quot;B&quot;, &quot;B&quot;, &quot;A&quot;, &quot;C&quot;, &quot;C&quot;]) ➞ None"
   ]
  },
  {
   "cell_type": "code",
   "execution_count": 3,
   "id": "f3289954",
   "metadata": {},
   "outputs": [
    {
     "name": "stdout",
     "output_type": "stream",
     "text": [
      "A\n",
      "A\n",
      "None\n"
     ]
    }
   ],
   "source": [
    "def majority_vote(lst):\n",
    "    counts = {}\n",
    "    for item in lst:\n",
    "        counts[item] = counts.get(item, 0) + 1\n",
    "        if counts[item] > len(lst) / 2:\n",
    "            return item\n",
    "    return None\n",
    "\n",
    "print(majority_vote([\"A\", \"A\", \"B\"]))\n",
    "print(majority_vote([\"A\", \"A\", \"A\", \"B\", \"C\", \"A\"]))\n",
    "print(majority_vote([\"A\", \"B\", \"B\", \"A\", \"C\", \"C\"]))"
   ]
  },
  {
   "cell_type": "markdown",
   "id": "72e8415f",
   "metadata": {},
   "source": [
    "3.Create a function that takes a string txt and censors any word from a given\n",
    "list lst. The text removed must be replaced by the given character char.\n",
    "\n",
    "Examples:\n",
    "    \n",
    "censor_string(&quot;Today is a Wednesday!&quot;, [&quot;Today&quot;, &quot;a&quot;], &quot;-&quot;) ➞ &quot;----- is -\n",
    "Wednesday!&quot;\n",
    "\n",
    "censor_string(&quot;The cow jumped over the moon.&quot;, [&quot;cow&quot;, &quot;over&quot;], &quot;*&quot;), &quot;The ***\n",
    "jumped **** the moon.&quot;)\n",
    "\n",
    "censor_string(&quot;Why did the chicken cross the road?&quot;, [&quot;Did&quot;, &quot;chicken&quot;,\n",
    "&quot;road&quot;], &quot;*&quot;) ➞ &quot;Why *** the ******* cross the ****?&quot;"
   ]
  },
  {
   "cell_type": "code",
   "execution_count": 8,
   "id": "c4953ebf",
   "metadata": {},
   "outputs": [
    {
     "name": "stdout",
     "output_type": "stream",
     "text": [
      "Today is - Wednesday!\n",
      "The ___ jumped ____ the moon.\n",
      "Why did the _______ cross the road?\n"
     ]
    }
   ],
   "source": [
    "def censor_words(txt, lst, char):\n",
    "    words = txt.split()\n",
    "    censored_words = []\n",
    "    for word in words:\n",
    "        if word.lower() in lst:\n",
    "            censored_words.append(char * len(word))\n",
    "        else:\n",
    "            censored_words.append(word)\n",
    "    return ' '.join(censored_words)\n",
    "\n",
    "print(censor_words(\"Today is a Wednesday!\", [\"Today\", \"a\"], \"-\"))\n",
    "print(censor_words(\"The cow jumped over the moon.\", [\"cow\", \"over\"], \"_\"))\n",
    "print(censor_words(\"Why did the chicken cross the road?\", [\"Did\", \"chicken\", \"road\"], \"_\"))"
   ]
  },
  {
   "cell_type": "markdown",
   "id": "11845523",
   "metadata": {},
   "source": [
    "4.In mathematics a Polydivisible Number (or magic number) is a number in a\n",
    "given number base with digits abcde... that has the following properties:\n",
    "\n",
    "- Its first digit a is not 0.\n",
    "\n",
    "- The number formed by its first two digits ab is a multiple of 2.\n",
    "\n",
    "- The number formed by its first three digits abc is a multiple of 3.\n",
    "\n",
    "- The number formed by its first four digits abcd is a multiple of 4.\n",
    "\n",
    "Create a function which takes an integer n and returns True if the given\n",
    "number is a Polydivisible Number and False otherwise.\n",
    "\n",
    "Examples:\n",
    "    \n",
    "is_polydivisible(1232) ➞ True\n",
    "#### 1 / 1 = 1\n",
    "#### 12 / 2 = 6\n",
    "#### 123 / 3 = 41\n",
    "#### 1232 / 4 = 308\n",
    "\n",
    "\n",
    "is_polydivisible(123220 ) ➞ False\n",
    "#### 1 / 1 = 1\n",
    "#### 12 / 2 = 6\n",
    "#### 123 / 3 = 41\n",
    "#### 1232 / 4 = 308\n",
    "#### 12322 / 5 = 2464.4 # Not a Whole Number\n",
    "#### 123220 /6 = 220536.333... # Not a Whole Number"
   ]
  },
  {
   "cell_type": "code",
   "execution_count": 13,
   "id": "94376cb0",
   "metadata": {},
   "outputs": [
    {
     "name": "stdout",
     "output_type": "stream",
     "text": [
      "True\n",
      "False\n",
      "False\n"
     ]
    }
   ],
   "source": [
    "def is_polydivisible(n):\n",
    "    digits = str(n)\n",
    "    for i in range(1, len(digits) + 1):\n",
    "        if int(digits[:i]) % i != 0:\n",
    "            return False\n",
    "    return True\n",
    "\n",
    "print(is_polydivisible(1232))  \n",
    "print(is_polydivisible(1234))  \n",
    "print(is_polydivisible(130))"
   ]
  },
  {
   "cell_type": "markdown",
   "id": "115531de",
   "metadata": {},
   "source": [
    "5.Create a function that takes a list of numbers and returns the sum of all\n",
    "prime numbers in the list.\n",
    "\n",
    "Examples:\n",
    "    \n",
    "sum_primes([1, 2, 3, 4, 5, 6, 7, 8, 9, 10]) ➞ 17\n",
    "\n",
    "sum_primes([2, 3, 4, 11, 20, 50, 71]) ➞ 87\n",
    "\n",
    "sum_primes([]) ➞ None"
   ]
  },
  {
   "cell_type": "code",
   "execution_count": 14,
   "id": "bec6b29b",
   "metadata": {},
   "outputs": [
    {
     "name": "stdout",
     "output_type": "stream",
     "text": [
      "17\n"
     ]
    }
   ],
   "source": [
    "def is_prime(n):\n",
    "    if n < 2:\n",
    "        return False\n",
    "    for i in range(2, int(n ** 0.5) + 1):\n",
    "        if n % i == 0:\n",
    "            return False\n",
    "    return True\n",
    "\n",
    "def sum_prime_numbers(numbers):\n",
    "    prime_sum = 0\n",
    "    for num in numbers:\n",
    "        if is_prime(num):\n",
    "            prime_sum += num\n",
    "    return prime_sum\n",
    "\n",
    "numbers = [2, 3, 4, 5, 6, 7, 8, 9, 10]\n",
    "print(sum_prime_numbers(numbers))\n"
   ]
  },
  {
   "cell_type": "code",
   "execution_count": null,
   "id": "96acd555",
   "metadata": {},
   "outputs": [],
   "source": []
  },
  {
   "cell_type": "code",
   "execution_count": null,
   "id": "61943082",
   "metadata": {},
   "outputs": [],
   "source": []
  }
 ],
 "metadata": {
  "kernelspec": {
   "display_name": "Python 3 (ipykernel)",
   "language": "python",
   "name": "python3"
  },
  "language_info": {
   "codemirror_mode": {
    "name": "ipython",
    "version": 3
   },
   "file_extension": ".py",
   "mimetype": "text/x-python",
   "name": "python",
   "nbconvert_exporter": "python",
   "pygments_lexer": "ipython3",
   "version": "3.9.12"
  }
 },
 "nbformat": 4,
 "nbformat_minor": 5
}
