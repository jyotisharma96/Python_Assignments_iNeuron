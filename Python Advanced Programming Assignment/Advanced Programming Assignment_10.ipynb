{
 "cells": [
  {
   "cell_type": "markdown",
   "id": "afd66f6c",
   "metadata": {},
   "source": [
    "1.Create a function that takes the width, height and character and returns a\n",
    "picture frame as a 2D list.\n",
    "\n",
    "Examples:\n",
    "    \n",
    "get_frame(4, 5, &quot;#&quot;) ➞ [\n",
    "[&quot;####&quot;],\n",
    "[&quot;# #&quot;],\n",
    "[&quot;# #&quot;],\n",
    "[&quot;# #&quot;],\n",
    "[&quot;####&quot;]\n",
    "]\n",
    "\n",
    "Frame is 4 characters wide and 5 characters tall.\n",
    "\n",
    "\n",
    "get_frame(10, 3, &quot;*&quot;) ➞ [\n",
    "[&quot;**********&quot;],\n",
    "[&quot;* *&quot;],\n",
    "[&quot;**********&quot;]\n",
    "]\n",
    "Frame is 10 characters and wide and 3 characters tall.\n",
    "\n",
    "get_frame(2, 5, &quot;0&quot;) ➞ &quot;invalid&quot;\n",
    "\n",
    "Frame&#39;s width is not more than 2."
   ]
  },
  {
   "cell_type": "code",
   "execution_count": 2,
   "id": "61db0323",
   "metadata": {},
   "outputs": [
    {
     "name": "stdout",
     "output_type": "stream",
     "text": [
      "[['####'], ['##'], ['##'], ['##'], ['####']]\n",
      "[['**********'], ['**'], ['**********']]\n",
      "invalid\n"
     ]
    }
   ],
   "source": [
    "def get_frame(width, height, character):\n",
    "    if width <= 2:\n",
    "        return \"invalid\"\n",
    "    \n",
    "    frame = []\n",
    "    for i in range(height):\n",
    "        if i == 0 or i == height - 1:\n",
    "            frame.append([character * width])\n",
    "        else:\n",
    "            frame.append([character + '' * (width-2) + character])\n",
    "    \n",
    "    return frame\n",
    "\n",
    "print(get_frame(4,5,'#')) \n",
    "print(get_frame(10,3,'*'))\n",
    "print(get_frame(2,5,'0'))"
   ]
  },
  {
   "cell_type": "markdown",
   "id": "3b733901",
   "metadata": {},
   "source": [
    "2.Write three functions:\n",
    "\n",
    "1. boolean_and\n",
    "\n",
    "2. boolean_or\n",
    "\n",
    "3. boolean_xor\n",
    "\n",
    "These functions should evaluate a list of True and False values, starting from\n",
    "the leftmost element and evaluating pairwise.\n",
    "\n",
    "Examples:\n",
    "    \n",
    "boolean_and([True, True, False, True]) ➞ False\n",
    "\n",
    "[True, True, False, True] =&gt; [True, False, True] =&gt; [False, True] =&gt; False\n",
    "\n",
    "boolean_or([True, True, False, False]) ➞ True\n",
    "\n",
    "[True, True, False, True] =&gt; [True, False, False] =&gt; [True, False] =&gt; True\n",
    "\n",
    "boolean_xor([True, True, False, False]) ➞ False\n",
    "\n",
    "[True, True, False, False] =&gt; [False, False, False] =&gt; [False, False] =&gt;\n",
    "False"
   ]
  },
  {
   "cell_type": "code",
   "execution_count": 3,
   "id": "7883bb7e",
   "metadata": {},
   "outputs": [
    {
     "name": "stdout",
     "output_type": "stream",
     "text": [
      "False\n",
      "True\n",
      "False\n"
     ]
    }
   ],
   "source": [
    "def boolean_and(lst):\n",
    "    result = True\n",
    "    for item in lst:\n",
    "        result = result and item\n",
    "    return result\n",
    "\n",
    "def boolean_or(lst):\n",
    "    result = False\n",
    "    for item in lst:\n",
    "        result = result or item\n",
    "    return result\n",
    "\n",
    "def boolean_xor(lst):\n",
    "    result = False\n",
    "    for item in lst:\n",
    "        result = result != item\n",
    "    return result\n",
    "\n",
    "print(boolean_and([True, True, False, True]))\n",
    "print(boolean_or([True, True, False, False]))\n",
    "print(boolean_xor([True, True, False, False]))\n"
   ]
  },
  {
   "cell_type": "markdown",
   "id": "c171b507",
   "metadata": {},
   "source": [
    "3.Create a function that creates a box based on dimension n.\n",
    "\n",
    "Examples:\n",
    "    \n",
    "make_box(5) ➞ [\n",
    "&quot;#####&quot;,\n",
    "&quot;# #&quot;,\n",
    "&quot;# #&quot;,\n",
    "&quot;# #&quot;,\n",
    "&quot;#####&quot;\n",
    "]\n",
    "\n",
    "make_box(3) ➞ [\n",
    "&quot;###&quot;,\n",
    "&quot;# #&quot;,\n",
    "&quot;###&quot;\n",
    "]\n",
    "\n",
    "make_box(2) ➞ [\n",
    "&quot;##&quot;,\n",
    "&quot;##&quot;\n",
    "]\n",
    "\n",
    "make_box(1) ➞ [\n",
    "&quot;#&quot;\n",
    "]"
   ]
  },
  {
   "cell_type": "code",
   "execution_count": 9,
   "id": "c865a3a8",
   "metadata": {},
   "outputs": [
    {
     "name": "stdout",
     "output_type": "stream",
     "text": [
      "['#####', '#   #', '#   #', '#   #', '#####']\n",
      "['###', '# #', '###']\n",
      "['##', '##']\n",
      "['#']\n"
     ]
    }
   ],
   "source": [
    "def make_box(n):\n",
    "    box = []\n",
    "    if n >= 1:\n",
    "        box.append(\"#\" * n)\n",
    "        for _ in range(n-2):\n",
    "            box.append(\"#\" + \" \" * (n-2) + '#')\n",
    "        if n >=2:\n",
    "            box.append(\"#\" * n)\n",
    "    return box\n",
    "\n",
    "print(make_box(5))\n",
    "print(make_box(3))\n",
    "print(make_box(2))\n",
    "print(make_box(1))"
   ]
  },
  {
   "cell_type": "markdown",
   "id": "067bd7bb",
   "metadata": {},
   "source": [
    "4.Given a common phrase, return False if any individual word in the phrase\n",
    "contains duplicate letters. Return True otherwise.\n",
    "\n",
    "Examples:\n",
    "    \n",
    "no_duplicate_letters(&quot;Fortune favours the bold.&quot;) ➞ True\n",
    "\n",
    "no_duplicate_letters(&quot;You can lead a horse to water, but you can&#39;t make him\n",
    "drink.&quot;) ➞ True\n",
    "\n",
    "no_duplicate_letters(&quot;Look before you leap.&quot;) ➞ False\n",
    "#### Duplicate letters in &quot;Look&quot; and &quot;before&quot;.\n",
    "\n",
    "no_duplicate_letters(&quot;An apple a day keeps the doctor away.&quot;) ➞ False\n",
    "#### Duplicate letters in &quot;apple&quot;, &quot;keeps&quot;, &quot;doctor&quot;, and &quot;away&quot;."
   ]
  },
  {
   "cell_type": "code",
   "execution_count": 10,
   "id": "018a5be8",
   "metadata": {},
   "outputs": [
    {
     "name": "stdout",
     "output_type": "stream",
     "text": [
      "True\n",
      "True\n",
      "False\n",
      "False\n"
     ]
    }
   ],
   "source": [
    "def no_duplicate_letters(s):\n",
    "    words = s.split()\n",
    "    for word in words:\n",
    "        for letter in word:\n",
    "            if word.count(letter) > 1:\n",
    "                return False\n",
    "    \n",
    "    return True\n",
    "\n",
    "print(no_duplicate_letters(\"Fortune favours the bold.\"))\n",
    "print(no_duplicate_letters(\"You can lead a horse to water, but you can't make him drink.\"))\n",
    "print(no_duplicate_letters(\"Look before you leap.\"))\n",
    "print(no_duplicate_letters(\"An apple a day keeps the doctor away.\"))"
   ]
  },
  {
   "cell_type": "markdown",
   "id": "548fb5aa",
   "metadata": {},
   "source": [
    "5.Write a regular expression that will match the states that voted yes to\n",
    "President Trump&#39;s impeachment. You must use RegEx positive lookahead.\n",
    "\n",
    "Example:\n",
    "    \n",
    "txt = &quot;Texas = no, California = yes, Florida = yes, Michigan = no&quot;\n",
    "\n",
    "pattern = &quot;yourregularexpressionhere&quot;\n",
    "\n",
    "re.findall(pattern, txt) ➞ [&quot;California&quot;, &quot;Florida&quot;]"
   ]
  },
  {
   "cell_type": "code",
   "execution_count": 13,
   "id": "c82f74c4",
   "metadata": {},
   "outputs": [
    {
     "name": "stdout",
     "output_type": "stream",
     "text": [
      "['California', 'Florida']\n"
     ]
    }
   ],
   "source": [
    "\n",
    "import re\n",
    "txt = \"Texas = no, California = yes, Florida = yes, Michigan = no\" \n",
    "pattern = r'[a-zA-Z]+(?= = yes)'\n",
    "match = re.findall(pattern, txt)\n",
    "print(match)\n"
   ]
  },
  {
   "cell_type": "code",
   "execution_count": null,
   "id": "a4475252",
   "metadata": {},
   "outputs": [],
   "source": []
  },
  {
   "cell_type": "code",
   "execution_count": null,
   "id": "4bbeb34f",
   "metadata": {},
   "outputs": [],
   "source": []
  }
 ],
 "metadata": {
  "kernelspec": {
   "display_name": "Python 3 (ipykernel)",
   "language": "python",
   "name": "python3"
  },
  "language_info": {
   "codemirror_mode": {
    "name": "ipython",
    "version": 3
   },
   "file_extension": ".py",
   "mimetype": "text/x-python",
   "name": "python",
   "nbconvert_exporter": "python",
   "pygments_lexer": "ipython3",
   "version": "3.9.12"
  }
 },
 "nbformat": 4,
 "nbformat_minor": 5
}
