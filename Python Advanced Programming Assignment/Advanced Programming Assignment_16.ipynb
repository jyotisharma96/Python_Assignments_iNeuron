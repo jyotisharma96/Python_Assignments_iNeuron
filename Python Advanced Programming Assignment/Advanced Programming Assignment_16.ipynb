{
 "cells": [
  {
   "cell_type": "markdown",
   "id": "8b3458f3",
   "metadata": {},
   "source": [
    "1.Rondo Form is a type of musical structure, in which there is a recurring\n",
    "theme/refrain, notated as A. Here are the rules for valid rondo forms:\n",
    "\n",
    "- Rondo forms always start and end with an A section.\n",
    "\n",
    "- In between the A sections, there should be contrasting sections notated as\n",
    "B, then C, then D, etc... No letter should be skipped.\n",
    "\n",
    "- There shouldn&#39;t be any repeats in the sequence (such as ABBACCA).\n",
    "Create a function which validates whether a given string is a valid Rondo\n",
    "Form.\n",
    "\n",
    "Examples:\n",
    "    \n",
    "valid_rondo(&quot;ABACADAEAFAGAHAIAJA&quot;) ➞ True\n",
    "\n",
    "valid_rondo(&quot;ABA&quot;) ➞ True\n",
    "\n",
    "valid_rondo(&quot;ABBACCA&quot;) ➞ False\n",
    "\n",
    "valid_rondo(&quot;ACAC&quot;) ➞ False\n",
    "\n",
    "valid_rondo(&quot;A&quot;) ➞ False"
   ]
  },
  {
   "cell_type": "code",
   "execution_count": 6,
   "id": "5f277827",
   "metadata": {},
   "outputs": [
    {
     "name": "stdout",
     "output_type": "stream",
     "text": [
      "True\n",
      "True\n",
      "False\n",
      "False\n",
      "False\n"
     ]
    }
   ],
   "source": [
    "def valid_rondo(s):\n",
    "    if s[0] == s[-1] == 'A' and len(s) > 1:\n",
    "        for i in range(1,len(s)-1):\n",
    "            if s[i] != 'A' and s.count(s[i]) > 1:\n",
    "                return False\n",
    "        return True\n",
    "    \n",
    "    else:\n",
    "        return False\n",
    "\n",
    "print(valid_rondo(\"ABACADAEAFAGAHAIAJA\"))\n",
    "print(valid_rondo(\"ABA\"))\n",
    "print(valid_rondo(\"ABBACCA\"))\n",
    "print(valid_rondo(\"ACAC\"))\n",
    "print(valid_rondo(\"A\"))   "
   ]
  },
  {
   "cell_type": "markdown",
   "id": "d8d82ef3",
   "metadata": {},
   "source": [
    "2.Create a function that returns the whole of the first sentence which\n",
    "contains a specific word. Include the full stop at the end of the sentence.\n",
    "\n",
    "Examples:\n",
    "    \n",
    "txt = &quot;I have a cat. I have a mat. Things are going swell.&quot;\n",
    "\n",
    "sentence_searcher(txt, &quot;have&quot;) ➞ &quot;I have a cat.&quot;\n",
    "\n",
    "sentence_searcher(txt, &quot;MAT&quot;) ➞ &quot;I have a mat.&quot;\n",
    "\n",
    "sentence_searcher(txt, &quot;things&quot;) ➞ &quot;Things are going swell.&quot;\n",
    "\n",
    "sentence_searcher(txt, &quot;flat&quot;) ➞ &quot;&quot;"
   ]
  },
  {
   "cell_type": "code",
   "execution_count": 14,
   "id": "6c9843c0",
   "metadata": {},
   "outputs": [
    {
     "name": "stdout",
     "output_type": "stream",
     "text": [
      "I have a cat\n",
      "I have a mat\n",
      "Things are going swell.\n",
      "\"\"\n"
     ]
    }
   ],
   "source": [
    "def sentence_searcher(in_string, search_text):\n",
    "    output = '\"\"'\n",
    "    for ele in in_string.split(\". \"):\n",
    "        if len(ele.lower().replace(search_text.lower(),'')) != len(ele):\n",
    "            output = ele\n",
    "            break\n",
    "    return output\n",
    "\n",
    "txt = \"I have a cat. I have a mat. Things are going swell.\"\n",
    "\n",
    "print(sentence_searcher(txt, \"have\"))\n",
    "print(sentence_searcher(txt, \"MAT\"))\n",
    "print(sentence_searcher(txt, \"things\"))\n",
    "print(sentence_searcher(txt, \"flat\"))"
   ]
  },
  {
   "cell_type": "markdown",
   "id": "0be90f06",
   "metadata": {},
   "source": [
    "3.Given a number, find the &quot;round &quot;of each digit of the number. An integer is\n",
    "called &quot;round&quot; if all its digits except the leftmost (most significant) are equal to\n",
    "zero.\n",
    "\n",
    "- Round numbers: 4000, 1, 9, 800, 90\n",
    "\n",
    "- Not round numbers: 110, 707, 222, 1001\n",
    "\n",
    "Create a function that takes a number and returns the &quot;round&quot; of each digit\n",
    "(except if the digit is zero) as a string. Check out the following examples for\n",
    "more clarification.\n",
    "\n",
    "Examples:\n",
    "    \n",
    "sum_round(101) ➞ &quot;1 100&quot;\n",
    "\n",
    "sum_round(1234) ➞ &quot;4 30 200 1000&quot;\n",
    "\n",
    "sum_round(54210) ➞ &quot;10 200 4000 50000&quot;"
   ]
  },
  {
   "cell_type": "code",
   "execution_count": 18,
   "id": "155d54c1",
   "metadata": {},
   "outputs": [
    {
     "name": "stdout",
     "output_type": "stream",
     "text": [
      "1 100\n",
      "4 30 200 1000\n",
      "10 200 4000 50000\n",
      "10 2000 40000 500000\n"
     ]
    }
   ],
   "source": [
    "def sum_round(num):\n",
    "    num_str = str(num)  # Convert the number to a string\n",
    "    round_nums = []\n",
    "\n",
    "    for i, digit in enumerate(num_str[::-1]):  # Iterate over the digits in reverse order\n",
    "        if digit != '0':\n",
    "            round_num = digit + '0' * i  # Create the \"round\" number by appending zeros based on the position\n",
    "            round_nums.append(round_num)\n",
    "\n",
    "    return ' '.join(round_nums)\n",
    "\n",
    "print(sum_round(101))\n",
    "print(sum_round(1234)) \n",
    "print(sum_round(54210))\n",
    "print(sum_round(542010))"
   ]
  },
  {
   "cell_type": "markdown",
   "id": "b25952e5",
   "metadata": {},
   "source": [
    "4.Your task, is to create N x N multiplication table, of size n provided in\n",
    "parameter.\n",
    "\n",
    "For example, when n is 5, the multiplication table is:\n",
    "\n",
    "- 1, 2, 3, 4, 5\n",
    "\n",
    "- 2, 4, 6, 8, 10\n",
    "\n",
    "- 3, 6, 9, 12, 15\n",
    "\n",
    "- 4, 8, 12, 16, 20\n",
    "\n",
    "- 5, 10, 15, 20, 25\n",
    "\n",
    "This example will result in:\n",
    "[[1, 2, 3, 4, 5], [2, 4, 6, 8, 10], [3, 6, 9, 12, 15], [4, 8, 12, 16, 20], [5, 10, 15, 20,\n",
    "25]]\n",
    "\n",
    "Examples:\n",
    "    \n",
    "multiplication_table(1) ➞ [[1]]\n",
    "\n",
    "multiplication_table(3) ➞ [[1, 2, 3], [2, 4, 6], [3, 6, 9]]"
   ]
  },
  {
   "cell_type": "code",
   "execution_count": 19,
   "id": "a8fd22b8",
   "metadata": {},
   "outputs": [
    {
     "name": "stdout",
     "output_type": "stream",
     "text": [
      "[[1]]\n",
      "[[1, 2, 3], [2, 4, 6], [3, 6, 9]]\n"
     ]
    }
   ],
   "source": [
    "def multiplication_table(n):\n",
    "    table = []\n",
    "    \n",
    "    for i in range(1,n+1):\n",
    "        row = [i * j for j in range(1, n + 1)]\n",
    "        table.append(row)\n",
    "    \n",
    "    return table\n",
    "\n",
    "print(multiplication_table(1))\n",
    "print(multiplication_table(3))"
   ]
  },
  {
   "cell_type": "markdown",
   "id": "96318f26",
   "metadata": {},
   "source": [
    "5.Create a function that returns True if two lines rhyme and False otherwise.\n",
    "For the purposes of this exercise, two lines rhyme if the last word from each\n",
    "sentence contains the same vowels.\n",
    "\n",
    "Examples:\n",
    "    \n",
    "does_rhyme(&quot;Sam I am!&quot;, &quot;Green eggs and ham.&quot;) ➞ True\n",
    "\n",
    "does_rhyme(&quot;Sam I am!&quot;, &quot;Green eggs and HAM.&quot;) ➞ True\n",
    "\n",
    "#Capitalization and punctuation should not matter.\n",
    "\n",
    "\n",
    "does_rhyme(&quot;You are off to the races&quot;, &quot;a splendid day.&quot;) ➞ False\n",
    "\n",
    "does_rhyme(&quot;and frequently do?&quot;, &quot;you gotta move.&quot;) ➞ False"
   ]
  },
  {
   "cell_type": "code",
   "execution_count": 21,
   "id": "419afc95",
   "metadata": {},
   "outputs": [
    {
     "name": "stdout",
     "output_type": "stream",
     "text": [
      "True\n",
      "True\n",
      "False\n",
      "False\n"
     ]
    }
   ],
   "source": [
    "def does_rhyme(s,s1):\n",
    "    for letter in s.split()[-1]:\n",
    "        for letter1 in s1.split()[-1]:\n",
    "            if letter.lower() in \"aieou\" and letter1.lower() in \"aeiou\":\n",
    "                if letter.lower() != letter1.lower():\n",
    "                    return False\n",
    "    return True            \n",
    "            \n",
    "print(does_rhyme(\"Sam I am!\", \"Green eggs and ham.\"))\n",
    "print(does_rhyme(\"Sam I am!\", \"Green eggs and HAM.\") )\n",
    "print(does_rhyme(\"You are off to the races\", \"a splendid day.\"))\n",
    "print(does_rhyme(\"and frequently do?\", \"you gotta move.\"))"
   ]
  },
  {
   "cell_type": "code",
   "execution_count": null,
   "id": "7cb9f1e7",
   "metadata": {},
   "outputs": [],
   "source": []
  },
  {
   "cell_type": "code",
   "execution_count": null,
   "id": "d22e415a",
   "metadata": {},
   "outputs": [],
   "source": []
  },
  {
   "cell_type": "code",
   "execution_count": null,
   "id": "8980fe22",
   "metadata": {},
   "outputs": [],
   "source": []
  },
  {
   "cell_type": "code",
   "execution_count": null,
   "id": "af798027",
   "metadata": {},
   "outputs": [],
   "source": []
  }
 ],
 "metadata": {
  "kernelspec": {
   "display_name": "Python 3 (ipykernel)",
   "language": "python",
   "name": "python3"
  },
  "language_info": {
   "codemirror_mode": {
    "name": "ipython",
    "version": 3
   },
   "file_extension": ".py",
   "mimetype": "text/x-python",
   "name": "python",
   "nbconvert_exporter": "python",
   "pygments_lexer": "ipython3",
   "version": "3.9.12"
  }
 },
 "nbformat": 4,
 "nbformat_minor": 5
}
