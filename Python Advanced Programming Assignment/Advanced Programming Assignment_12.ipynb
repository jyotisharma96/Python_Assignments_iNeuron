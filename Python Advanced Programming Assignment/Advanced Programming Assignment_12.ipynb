{
 "cells": [
  {
   "cell_type": "markdown",
   "id": "2713a838",
   "metadata": {},
   "source": [
    "1.For this challenge, forget how to add two numbers together. The best\n",
    "explanation on what to do for this function is this meme:\n",
    "\n",
    "Examples:\n",
    "    \n",
    "meme_sum(26, 39) ➞ 515\n",
    "##### 2+3 = 5, 6+9 = 15\n",
    "##### 26 + 39 = 515\n",
    "\n",
    "meme_sum(122, 81) ➞ 1103\n",
    "##### 1+0 = 1, 2+8 = 10, 2+1 = 3\n",
    "##### 122 + 81 = 1103\n",
    "\n",
    "meme_sum(1222, 30277) ➞ 31499"
   ]
  },
  {
   "cell_type": "code",
   "execution_count": 1,
   "id": "0c1fb12a",
   "metadata": {},
   "outputs": [
    {
     "name": "stdout",
     "output_type": "stream",
     "text": [
      "515\n",
      "1103\n",
      "31499\n",
      "213\n"
     ]
    }
   ],
   "source": [
    "def meme_sum(a,b):\n",
    "    a = str(a)\n",
    "    b = str(b)\n",
    "    sum_1 = ''\n",
    "    \n",
    "    while True:\n",
    "        if len(a) < len(b):\n",
    "            a = '0'+a\n",
    "        elif len(b) < len(a):\n",
    "            b = '0'+b\n",
    "        else:\n",
    "            break\n",
    "    \n",
    "    for i in range(len(a)):\n",
    "        sum_1 += str(int(a[i]) + int(b[i]))\n",
    "    \n",
    "    return sum_1\n",
    "\n",
    "print(meme_sum(26, 39))\n",
    "print(meme_sum(122,81))\n",
    "print(meme_sum(1222, 30277))\n",
    "print(meme_sum(10,203))"
   ]
  },
  {
   "cell_type": "markdown",
   "id": "33d8a731",
   "metadata": {},
   "source": [
    "2.Given an integer, create a function that returns the next prime. If the\n",
    "number is prime, return the number itself.\n",
    "\n",
    "Examples:\n",
    "\n",
    "next_prime(12) ➞ 13\n",
    "\n",
    "next_prime(24) ➞ 29\n",
    "\n",
    "next_prime(11) ➞ 11, 11 is a prime, so we return the number itself."
   ]
  },
  {
   "cell_type": "code",
   "execution_count": 8,
   "id": "00eb8bba",
   "metadata": {},
   "outputs": [
    {
     "name": "stdout",
     "output_type": "stream",
     "text": [
      "13\n",
      "29\n",
      "11\n",
      "83\n"
     ]
    }
   ],
   "source": [
    "def next_prime(n):\n",
    "    n_clone = n\n",
    "    while True:\n",
    "        if (n-1)%6 == 0 or (n+1)%6 ==0 :\n",
    "            temp = n\n",
    "            for i in range(3,n+1):\n",
    "                if n%i == 0 and i != n:\n",
    "                    n = n+1\n",
    "                    break\n",
    "            if temp == n:\n",
    "                break\n",
    "        else:\n",
    "            n += 1\n",
    "    \n",
    "    return n\n",
    "    \n",
    "print(next_prime(12))\n",
    "print(next_prime(24))\n",
    "print(next_prime(11))\n",
    "print(next_prime(83))"
   ]
  },
  {
   "cell_type": "markdown",
   "id": "353550c4",
   "metadata": {},
   "source": [
    "3.If a person traveled up a hill for 18mins at 20mph and then traveled back\n",
    "down the same path at 60mph then their average speed traveled was 30mph.\n",
    "Write a function that returns the average speed traveled given an uphill time,\n",
    "uphill rate and a downhill rate. Uphill time is given in minutes. Return the rate\n",
    "as an integer (mph). No rounding is necessary.\n",
    "\n",
    "Examples:\n",
    "    \n",
    "ave_spd(18, 20, 60) ➞ 30\n",
    "\n",
    "ave_spd(30, 10, 30) ➞ 15\n",
    "\n",
    "ave_spd(30, 8, 24) ➞ 12"
   ]
  },
  {
   "cell_type": "code",
   "execution_count": 9,
   "id": "cc629d51",
   "metadata": {},
   "outputs": [
    {
     "name": "stdout",
     "output_type": "stream",
     "text": [
      "30\n",
      "15\n",
      "12\n"
     ]
    }
   ],
   "source": [
    "def average_speed(uphill_time, uphill_rate, downhill_rate):\n",
    "    average_speed = (2 * uphill_rate * downhill_rate) / (uphill_rate + downhill_rate)\n",
    "    return int(average_speed)\n",
    "\n",
    "print(average_speed(18, 20, 60))\n",
    "print(average_speed(30, 10, 30))\n",
    "print(average_speed(30, 8, 24))"
   ]
  },
  {
   "cell_type": "markdown",
   "id": "1f5bec5d",
   "metadata": {},
   "source": [
    "4.The Kempner Function, applied to a composite number, permits to find the\n",
    "smallest integer greater than zero whose factorial is exactly divided by the\n",
    "number.\n",
    "\n",
    "kempner(6) ➞ 3\n",
    "\n",
    "1! = 1 % 6 &gt; 0\n",
    "\n",
    "2! = 2 % 6 &gt; 0\n",
    "\n",
    "3! = 6 % 6 === 0\n",
    "\n",
    "kempner(10) ➞ 5\n",
    "\n",
    "1! = 1 % 10 &gt; 0\n",
    "\n",
    "2! = 2 % 10 &gt; 0\n",
    "\n",
    "3! = 6 % 10 &gt; 0\n",
    "\n",
    "4! = 24 % 10 &gt; 0\n",
    "\n",
    "5! = 120 % 10 === 0\n",
    "\n",
    "A Kempner Function applied to a prime will always return the prime itself.\n",
    "\n",
    "kempner(2) ➞ 2\n",
    "\n",
    "kempner(5) ➞ 5\n",
    "\n",
    "Given an integer n, implement a Kempner Function.\n",
    "\n",
    "Examples:\n",
    "    \n",
    "kempner(6) ➞ 3\n",
    "\n",
    "kempner(10) ➞ 5\n",
    "\n",
    "kempner(2) ➞ 2"
   ]
  },
  {
   "cell_type": "code",
   "execution_count": 10,
   "id": "3911ce0f",
   "metadata": {},
   "outputs": [
    {
     "name": "stdout",
     "output_type": "stream",
     "text": [
      "3\n",
      "5\n",
      "2\n"
     ]
    }
   ],
   "source": [
    "def kempner(n):\n",
    "    def factorial(n):\n",
    "        if n == 1:\n",
    "            return 1\n",
    "        else:\n",
    "            return n * factorial(n-1)\n",
    "    for i in range(1,n+1):\n",
    "        if factorial(i)%n == 0:\n",
    "            res = i\n",
    "            break\n",
    "    return res\n",
    "            \n",
    "print(kempner(6))\n",
    "print(kempner(10))\n",
    "print(kempner(2))"
   ]
  },
  {
   "cell_type": "markdown",
   "id": "b682b3b2",
   "metadata": {},
   "source": [
    "5.You work in a factory, and your job is to take items from a conveyor belt\n",
    "and pack them into boxes. Each box can hold a maximum of 10 kgs. Given a\n",
    "list containing the weight (in kg) of each item, how many boxes would you\n",
    "need to pack all of the items?\n",
    "\n",
    "Example:\n",
    "    \n",
    "boxes([2, 1, 2, 5, 4, 3, 6, 1, 1, 9, 3, 2]) ➞ 5\n",
    "\n",
    "##### Box 1 = [2, 1, 2, 5] (10kg)\n",
    "##### Box 2 = [4, 3] (7kg)\n",
    "##### Box 3 = [6, 1, 1] (8kg)\n",
    "##### Box 4 = [9] (9kg)\n",
    "##### Box 5 = [3, 2] (5kg)"
   ]
  },
  {
   "cell_type": "code",
   "execution_count": 12,
   "id": "cda80871",
   "metadata": {},
   "outputs": [
    {
     "name": "stdout",
     "output_type": "stream",
     "text": [
      "5\n",
      "7\n"
     ]
    }
   ],
   "source": [
    "def boxes(weights):\n",
    "    box_count = 0\n",
    "    current_weight = 0\n",
    "    \n",
    "    for weight in weights:\n",
    "        if current_weight + weight > 10:\n",
    "            box_count += 1\n",
    "            current_weight = 0\n",
    "        current_weight += weight\n",
    "        \n",
    "    if current_weight > 0:\n",
    "        box_count += 1\n",
    "    \n",
    "    return box_count\n",
    "\n",
    "print(boxes([2, 1, 2, 5, 4, 3, 6, 1, 1, 9, 3, 2]))\n",
    "print(boxes([5,1,3,6,8,2,3,1,4,2,5,6,10]))"
   ]
  },
  {
   "cell_type": "code",
   "execution_count": null,
   "id": "53fd8a31",
   "metadata": {},
   "outputs": [],
   "source": []
  }
 ],
 "metadata": {
  "kernelspec": {
   "display_name": "Python 3 (ipykernel)",
   "language": "python",
   "name": "python3"
  },
  "language_info": {
   "codemirror_mode": {
    "name": "ipython",
    "version": 3
   },
   "file_extension": ".py",
   "mimetype": "text/x-python",
   "name": "python",
   "nbconvert_exporter": "python",
   "pygments_lexer": "ipython3",
   "version": "3.9.12"
  }
 },
 "nbformat": 4,
 "nbformat_minor": 5
}
