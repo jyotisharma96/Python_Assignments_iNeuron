{
 "cells": [
  {
   "cell_type": "markdown",
   "id": "21045999",
   "metadata": {},
   "source": [
    "1.A robot has been given a list of movement instructions. Each instruction is\n",
    "either left, right, up or down, followed by a distance to move. The robot starts\n",
    "at [0, 0]. \n",
    "You want to calculate where the robot will end up and return its final\n",
    "position as a list.\n",
    "\n",
    "To illustrate, if the robot is given the following instructions:\n",
    "\n",
    "[&quot;right 10&quot;, &quot;up 50&quot;, &quot;left 30&quot;, &quot;down 10&quot;]\n",
    "\n",
    "It will end up 20 left and 40 up from where it started, so we return [-20, 40].\n",
    "\n",
    "Examples:\n",
    "    \n",
    "track_robot([&quot;right 10&quot;, &quot;up 50&quot;, &quot;left 30&quot;, &quot;down 10&quot;]) ➞ [-20, 40]\n",
    "\n",
    "track_robot([]) ➞ [0, 0]\n",
    "\n",
    "// If there are no instructions, the robot doesn&#39;t move.\n",
    "\n",
    "track_robot([&quot;right 100&quot;, &quot;right 100&quot;, &quot;up 500&quot;, &quot;up 10000&quot;]) ➞ [200, 10500]"
   ]
  },
  {
   "cell_type": "code",
   "execution_count": 1,
   "id": "dfa9c0b5",
   "metadata": {},
   "outputs": [
    {
     "name": "stdout",
     "output_type": "stream",
     "text": [
      "[-20, 40]\n",
      "[0, 0]\n",
      "[200, 10500]\n"
     ]
    }
   ],
   "source": [
    "def track_robot(instructions):\n",
    "    displacements = {\n",
    "        \"right\": [1, 0],\n",
    "        \"left\": [-1, 0],\n",
    "        \"up\": [0, 1],\n",
    "        \"down\": [0, -1]\n",
    "    }\n",
    "\n",
    "    x = 0\n",
    "    y = 0\n",
    "\n",
    "    for instruction in instructions:\n",
    "        direction, distance = instruction.split()\n",
    "        distance = int(distance)\n",
    "\n",
    "        dx, dy = displacements[direction]\n",
    "        x += dx * distance\n",
    "        y += dy * distance\n",
    "\n",
    "    return [x, y]\n",
    "\n",
    "print(track_robot([\"right 10\", \"up 50\", \"left 30\", \"down 10\"]))\n",
    "print(track_robot([]))\n",
    "print(track_robot([\"right 100\", \"right 100\", \"up 500\", \"up 10000\"]) )"
   ]
  },
  {
   "cell_type": "markdown",
   "id": "0086f112",
   "metadata": {},
   "source": [
    "2.Write a function that will return the longest word in a sentence. In cases\n",
    "where more than one word is found, return the first one.\n",
    "\n",
    "Examples:\n",
    "    \n",
    "find_longest(&quot;A thing of beauty is a joy forever.&quot;) ➞ &quot;forever&quot;\n",
    "\n",
    "find_longest(&quot;Forgetfulness is by all means powerless!&quot;) ➞ &quot;forgetfulness&quot;\n",
    "\n",
    "find_longest(&quot;\\&quot;Strengths\\&quot; is the longest and most commonly used word that\n",
    "contains only a single vowel.&quot;) ➞ &quot;strengths&quot;"
   ]
  },
  {
   "cell_type": "code",
   "execution_count": 2,
   "id": "85ac69af",
   "metadata": {},
   "outputs": [
    {
     "name": "stdout",
     "output_type": "stream",
     "text": [
      "forever\n",
      "Forgetfulness\n",
      "\"Strengths\"\n"
     ]
    }
   ],
   "source": [
    "def find_longest(s):\n",
    "    longest = 0\n",
    "    for word in s.split():\n",
    "        if len(word) > longest:\n",
    "            longest = len(word)\n",
    "            longest_word = word   \n",
    "    return longest_word.strip('.')\n",
    "\n",
    "print(find_longest(\"A thing of beauty is a joy forever.\"))\n",
    "print(find_longest(\"Forgetfulness is by all means powerless!\")   )\n",
    "print(find_longest('\"Strengths\" is the longest and most commonly used word that contains only a single vowel.') )"
   ]
  },
  {
   "cell_type": "markdown",
   "id": "bbb2ee92",
   "metadata": {},
   "source": [
    "3.Create a function to check if a candidate is qualified in an imaginary coding\n",
    "interview of an imaginary tech startup.\n",
    "\n",
    "The criteria for a candidate to be qualified in the coding interview is:\n",
    "\n",
    "1. The candidate should have complete all the questions.\n",
    "\n",
    "2. The maximum time given to complete the interview is 120 minutes.\n",
    "\n",
    "3. The maximum time given for very easy questions is 5 minutes each.\n",
    "\n",
    "4. The maximum time given for easy questions is 10 minutes each.\n",
    "\n",
    "5. The maximum time given for medium questions is 15 minutes each.\n",
    "\n",
    "6. The maximum time given for hard questions is 20 minutes each.\n",
    "\n",
    "If all the above conditions are satisfied, return &quot;qualified&quot;, else return\n",
    "&quot;disqualified&quot;.\n",
    "\n",
    "You will be given a list of time taken by a candidate to solve a particular\n",
    "question and the total time taken by the candidate to complete the interview.\n",
    "\n",
    "Given a list , in a true condition will always be in the format [very easy, very\n",
    "easy, easy, easy, medium, medium, hard, hard].\n",
    "\n",
    "The maximum time to complete the interview includes a buffer time of 20\n",
    "minutes.\n",
    "\n",
    "Examples:\n",
    "\n",
    "interview([5, 5, 10, 10, 15, 15, 20, 20], 120) ➞ &quot;qualified&quot;\n",
    "\n",
    "interview([2, 3, 8, 6, 5, 12, 10, 18], 64) ➞ &quot;qualified&quot;\n",
    "\n",
    "interview([5, 5, 10, 10, 25, 15, 20, 20], 120) ➞ &quot;disqualified&quot;\n",
    "\n",
    "#Exceeded the time limit for a medium question.\n",
    "\n",
    "interview([5, 5, 10, 10, 15, 15, 20], 120) ➞ &quot;disqualified&quot;\n",
    "\n",
    "#Did not complete all the questions.\n",
    "\n",
    "interview([5, 5, 10, 10, 15, 15, 20, 20], 130) ➞ &quot;disqualified&quot;\n",
    "\n",
    "#Solved all the questions in their respected time limits but exceeded the total\n",
    "\n",
    "time limit of the interview."
   ]
  },
  {
   "cell_type": "code",
   "execution_count": 3,
   "id": "7a91f3b9",
   "metadata": {},
   "outputs": [
    {
     "name": "stdout",
     "output_type": "stream",
     "text": [
      "qualified\n",
      "qualified\n",
      "disqualified\n",
      "disqualified\n",
      "disqualified\n"
     ]
    }
   ],
   "source": [
    "def interview(l,total_time):\n",
    "    if total_time <= 120 and len(l) == 8:\n",
    "        for i in l[0:2]:\n",
    "            if i > 5:\n",
    "                return \"disqualified\"\n",
    "        for i in l[2:4]:\n",
    "            if i > 10:\n",
    "                return \"disqualified\"\n",
    "        for i in l[4:6]:\n",
    "            if i > 15:\n",
    "                return \"disqualified\"\n",
    "        for i in l[6:8]:\n",
    "            if i > 20:\n",
    "                return \"disqualified\"\n",
    "    else:\n",
    "        return \"disqualified\"\n",
    "    \n",
    "    return 'qualified'\n",
    "\n",
    "print(interview([5, 5, 10, 10, 15, 15, 20, 20], 120) )\n",
    "print(interview([2, 3, 8, 6, 5, 12, 10, 18], 64) )\n",
    "print(interview([5, 5, 10, 10, 25, 15, 20, 20], 120) )\n",
    "print(interview([5, 5, 10, 10, 15, 15, 20], 120))\n",
    "print(interview([5, 5, 10, 10, 15, 15, 20, 20], 130) )"
   ]
  },
  {
   "cell_type": "markdown",
   "id": "cf3f7268",
   "metadata": {},
   "source": [
    "4.Write a function that divides a list into chunks of size n, where n is the\n",
    "length of each chunk.\n",
    "\n",
    "Examples:\n",
    "\n",
    "chunkify([2, 3, 4, 5], 2) ➞ [[2, 3], [4, 5]]\n",
    "\n",
    "chunkify([2, 3, 4, 5, 6], 2) ➞ [[2, 3], [4, 5], [6]]\n",
    "\n",
    "chunkify([2, 3, 4, 5, 6, 7], 3) ➞ [[2, 3, 4], [5, 6, 7]]\n",
    "\n",
    "chunkify([2, 3, 4, 5, 6, 7], 1) ➞ [[2], [3], [4], [5], [6], [7]]\n",
    "\n",
    "chunkify([2, 3, 4, 5, 6, 7], 7) ➞ [[2, 3, 4, 5, 6, 7]]"
   ]
  },
  {
   "cell_type": "code",
   "execution_count": 4,
   "id": "27a4db11",
   "metadata": {},
   "outputs": [
    {
     "name": "stdout",
     "output_type": "stream",
     "text": [
      "[[2, 3], [4, 5]]\n",
      "[[2, 3], [4, 5], [6]]\n",
      "[[2, 3, 4], [5, 6, 7]]\n",
      "[[2], [3], [4], [5], [6], [7]]\n",
      "[[2, 3, 4, 5, 6, 7]]\n"
     ]
    }
   ],
   "source": [
    "def chunkify(lst,ch_size):\n",
    "    res = []\n",
    "    for i in range(0,len(lst),ch_size):\n",
    "        res.append(lst[i:i+ch_size])\n",
    "    return res\n",
    "\n",
    "print(chunkify([2, 3, 4, 5], 2))\n",
    "print(chunkify([2, 3, 4, 5, 6], 2))\n",
    "print(chunkify([2, 3, 4, 5, 6, 7], 3))\n",
    "print(chunkify([2, 3, 4, 5, 6, 7], 1))\n",
    "print(chunkify([2, 3, 4, 5, 6, 7], 7))"
   ]
  },
  {
   "cell_type": "markdown",
   "id": "31d1c4b6",
   "metadata": {},
   "source": [
    "5.You are given a list of strings consisting of grocery items, with prices in\n",
    "parentheses. Return a list of prices in float format.\n",
    "\n",
    "Examples:\n",
    "    \n",
    "get_prices([&quot;salad ($4.99)&quot;]) ➞ [4.99]\n",
    "\n",
    "get_prices([\n",
    "&quot;artichokes ($1.99)&quot;,\n",
    "&quot;rotiserrie chicken ($5.99)&quot;,\n",
    "&quot;gum ($0.75)&quot;\n",
    "])\n",
    "\n",
    "➞ [1.99, 5.99, 0.75]\n",
    "\n",
    "get_prices([\n",
    "&quot;ice cream ($5.99)&quot;,\n",
    "&quot;banana ($0.20)&quot;,\n",
    "&quot;sandwich ($8.50)&quot;,\n",
    "&quot;soup ($1.99)&quot;\n",
    "])\n",
    "\n",
    "➞ [5.99, 0.2, 8.50, 1.99]"
   ]
  },
  {
   "cell_type": "code",
   "execution_count": 5,
   "id": "fcdde595",
   "metadata": {},
   "outputs": [
    {
     "name": "stdout",
     "output_type": "stream",
     "text": [
      "[4.99]\n",
      "[1.99, 5.99, 0.75]\n",
      "[5.99, 0.2, 8.5, 1.99]\n"
     ]
    }
   ],
   "source": [
    "def get_prices(lst):\n",
    "    res = []\n",
    "    for i in lst:\n",
    "        res.append(float((i.split('$')[-1]).split(')')[0]))\n",
    "    return res\n",
    "\n",
    "print(get_prices([\"salad ($4.99)\"]))\n",
    "print(get_prices([\"artichokes ($1.99)\",\"rotiserrie chicken ($5.99)\",\"gum ($0.75)\"]))\n",
    "print(get_prices([\"ice cream ($5.99)\",\"banana ($0.20)\",\"sandwich ($8.50)\",\"soup ($1.99)\"]))"
   ]
  },
  {
   "cell_type": "code",
   "execution_count": null,
   "id": "ca75490c",
   "metadata": {},
   "outputs": [],
   "source": []
  },
  {
   "cell_type": "code",
   "execution_count": null,
   "id": "c42ff68e",
   "metadata": {},
   "outputs": [],
   "source": []
  },
  {
   "cell_type": "code",
   "execution_count": null,
   "id": "d7749aa9",
   "metadata": {},
   "outputs": [],
   "source": []
  }
 ],
 "metadata": {
  "kernelspec": {
   "display_name": "Python 3 (ipykernel)",
   "language": "python",
   "name": "python3"
  },
  "language_info": {
   "codemirror_mode": {
    "name": "ipython",
    "version": 3
   },
   "file_extension": ".py",
   "mimetype": "text/x-python",
   "name": "python",
   "nbconvert_exporter": "python",
   "pygments_lexer": "ipython3",
   "version": "3.9.12"
  }
 },
 "nbformat": 4,
 "nbformat_minor": 5
}
