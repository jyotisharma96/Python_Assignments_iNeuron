{
 "cells": [
  {
   "cell_type": "markdown",
   "id": "baeb8006",
   "metadata": {},
   "source": [
    "1.In what modes should the PdfFileReader() and PdfFileWriter() File objects will be opened?"
   ]
  },
  {
   "cell_type": "markdown",
   "id": "66499a63",
   "metadata": {},
   "source": [
    "Answer - For PdfFileReader() file objects will be opened in rb in which it read in binary mode whereas PdfFileWriter() file objects will be opened in wb it write in binary mode."
   ]
  },
  {
   "cell_type": "code",
   "execution_count": null,
   "id": "df388be4",
   "metadata": {},
   "outputs": [],
   "source": [
    "pdf_file = open('example.pdf', 'rb')\n",
    "pdf_reader = PdfFileReader(pdf_file)\n"
   ]
  },
  {
   "cell_type": "code",
   "execution_count": null,
   "id": "d580536a",
   "metadata": {},
   "outputs": [],
   "source": [
    "output_pdf_file = open('output.pdf', 'wb')\n",
    "pdf_writer = PdfFileWriter()\n",
    "pdf_writer.write(output_pdf_file)\n"
   ]
  },
  {
   "cell_type": "markdown",
   "id": "5eae4f80",
   "metadata": {},
   "source": [
    "2.From a PdfFileReader object, how do you get a Page object for page 5?"
   ]
  },
  {
   "cell_type": "markdown",
   "id": "fb262470",
   "metadata": {},
   "source": [
    "To get a Page object for page 5 from a PdfFileReader object, you can use the getPage() method and pass the page number as an argument (indexing starts from 0). "
   ]
  },
  {
   "cell_type": "code",
   "execution_count": 4,
   "id": "923ca711",
   "metadata": {},
   "outputs": [
    {
     "name": "stdout",
     "output_type": "stream",
     "text": [
      "Collecting PyPDF2\n",
      "  Downloading pypdf2-3.0.1-py3-none-any.whl (232 kB)\n",
      "     -------------------------------------- 232.6/232.6 kB 2.9 MB/s eta 0:00:00\n",
      "Requirement already satisfied: typing_extensions>=3.10.0.0 in c:\\users\\user\\anaconda3\\lib\\site-packages (from PyPDF2) (4.1.1)\n",
      "Installing collected packages: PyPDF2\n",
      "Successfully installed PyPDF2-3.0.1\n"
     ]
    }
   ],
   "source": [
    "!pip install PyPDF2"
   ]
  },
  {
   "cell_type": "code",
   "execution_count": null,
   "id": "55d84cff",
   "metadata": {},
   "outputs": [],
   "source": [
    "from PyPDF2 import PdfFileReader\n",
    "\n",
    "# Open the PDF file in read-binary mode\n",
    "pdf_file = open('example.pdf', 'rb')\n",
    "\n",
    "# Create a PdfFileReader object\n",
    "pdf_reader = PdfFileReader(pdf_file)\n",
    "\n",
    "# Get the Page object for page 5\n",
    "page_number = 4  # Page 5 (indexing starts from 0)\n",
    "page = pdf_reader.getPage(page_number)\n",
    "\n",
    "# You can now work with the Page object\n",
    "# For example, you can extract text from the page using the extractText() method\n",
    "text = page.extractText()\n",
    "\n",
    "# Remember to close the PDF file after you are done\n",
    "pdf_file.close()"
   ]
  },
  {
   "cell_type": "markdown",
   "id": "08eb69ac",
   "metadata": {},
   "source": [
    "3.What PdfFileReader variable stores the number of pages in the PDF document?"
   ]
  },
  {
   "cell_type": "markdown",
   "id": "2df1fd34",
   "metadata": {},
   "source": [
    "Answer- The PdfFileReader variable that stores the number of pages in the PDF document is called numPages. It is an attribute of the PdfFileReader object and provides the total count of pages in the PDF file."
   ]
  },
  {
   "cell_type": "code",
   "execution_count": null,
   "id": "0d575754",
   "metadata": {},
   "outputs": [],
   "source": [
    "#Example Code:\n",
    "from PyPDF2 import PdfFileReader\n",
    "pdf_reader = PdfFileReader(file_path)\n",
    "print(pdf_reader.getNumPages()) # Prints the no of pages in a input document"
   ]
  },
  {
   "cell_type": "markdown",
   "id": "980f8c46",
   "metadata": {},
   "source": [
    "4.If a PdfFileReader object’s PDF is encrypted with the password swordfish, what must you do\n",
    "before you can obtain Page objects from it?"
   ]
  },
  {
   "cell_type": "markdown",
   "id": "c42afa72",
   "metadata": {},
   "source": [
    "Answer- If a PdfFileReader object's PDF is encrypted with the password \"swordfish\", you must provide the correct password before you can obtain Page objects from it. To do this, you need to use the decrypt() method of the PdfFileReader object."
   ]
  },
  {
   "cell_type": "code",
   "execution_count": null,
   "id": "afbbd330",
   "metadata": {},
   "outputs": [],
   "source": [
    "from PyPDF2 import PdfFileReader\n",
    "\n",
    "pdf_file = open('encrypted.pdf', 'rb')\n",
    "pdf_reader = PdfFileReader(pdf_file)\n",
    "\n",
    "if pdf_reader.isEncrypted:\n",
    "    pdf_reader.decrypt('swordfish')\n",
    "\n",
    "page = pdf_reader.getPage(0)\n",
    "pdf_file.close()\n"
   ]
  },
  {
   "cell_type": "markdown",
   "id": "5eafbf6d",
   "metadata": {},
   "source": [
    "5.What methods do you use to rotate a page?"
   ]
  },
  {
   "cell_type": "markdown",
   "id": "2bb8467a",
   "metadata": {},
   "source": [
    "Answer- To rotate a page in PyPDF2, you can use the rotateClockwise() and rotateCounterClockwise() methods provided by the Page object. These methods allow you to rotate the page clockwise or counterclockwise by 90 degrees."
   ]
  },
  {
   "cell_type": "markdown",
   "id": "5b68b48a",
   "metadata": {},
   "source": [
    "6.What is the difference between a Run object and a Paragraph object?"
   ]
  },
  {
   "cell_type": "markdown",
   "id": "194aca34",
   "metadata": {},
   "source": [
    "Answer- In the context of the python-docx library, which is used to manipulate Microsoft Word documents, there is a distinction between a Run object and a Paragraph object.\n",
    "\n",
    "Paragraph object: A Paragraph object represents a paragraph in a Word document. It contains a sequence of Run objects and is responsible for managing the formatting and layout of the text within the paragraph. A Paragraph object can contain multiple Run objects or other elements like tables, images, etc. It represents a block of text with common formatting attributes such as alignment, indentation, spacing, and style.\n",
    "\n",
    "Run object: A Run object represents a contiguous run of text within a paragraph. It is a fragment of text with a consistent set of character formatting attributes. For example, if a paragraph contains text with different formatting within it (e.g., bold, italic, different font, etc.), each fragment of text with the same formatting will be represented by a separate Run object within the Paragraph object. Run objects allow you to apply specific formatting, such as font size, font style, bold, italic, underline, etc., to individual segments of text within a paragraph.\n",
    "\n",
    "\n",
    "\n",
    "\n",
    "\n",
    "\n"
   ]
  },
  {
   "cell_type": "markdown",
   "id": "7bd34181",
   "metadata": {},
   "source": [
    "7.How do you obtain a list of Paragraph objects for a Document object that’s stored in a variable\n",
    "named doc?"
   ]
  },
  {
   "cell_type": "markdown",
   "id": "e37be643",
   "metadata": {},
   "source": [
    "Answer- To obtain a list of Paragraph objects from a Document object in the python-docx library, you can access the paragraphs attribute of the Document object. "
   ]
  },
  {
   "cell_type": "code",
   "execution_count": null,
   "id": "6feb2290",
   "metadata": {},
   "outputs": [],
   "source": [
    "from docx import Document\n",
    "\n",
    "paragraphs = doc.paragraphs\n",
    "\n",
    "for paragraph in paragraphs:\n",
    "    text = paragraph.text"
   ]
  },
  {
   "cell_type": "markdown",
   "id": "f2b6034e",
   "metadata": {},
   "source": [
    "8.What type of object has bold, underline, italic, strike, and outline variables?"
   ]
  },
  {
   "cell_type": "markdown",
   "id": "5792350d",
   "metadata": {},
   "source": [
    "Answer- Run object has bold, underline, italic, strike, and outline variables. The text in a Word document is more than just a string. It has font, size, color, and other styling information associated with it.\n",
    "\n",
    "A style in Word is a collection of these attributes. A Run object is a contiguous run of text with the same style. A new Run object is needed whenever the text style changes."
   ]
  },
  {
   "cell_type": "markdown",
   "id": "aef28ac9",
   "metadata": {},
   "source": [
    "9.What is the difference between False, True, and None for the bold variable?"
   ]
  },
  {
   "cell_type": "markdown",
   "id": "624eafa6",
   "metadata": {},
   "source": [
    "Answer-  In the context of the Font object in the python-docx library, the bold variable can take three different values: False, True, and None. Here's the difference between these values:\n",
    "\n",
    "False: When bold is set to False, it means that the text is not formatted as bold. This value is used to explicitly indicate that the text should not be displayed in bold font style.\n",
    "\n",
    "True: When bold is set to True, it means that the text is formatted as bold. This value is used to explicitly indicate that the text should be displayed in bold font style.\n",
    "\n",
    "None: When bold is set to None, it means that the text inherits the bold formatting from its containing style. "
   ]
  },
  {
   "cell_type": "code",
   "execution_count": null,
   "id": "af94721a",
   "metadata": {},
   "outputs": [],
   "source": [
    "bold = True  # Style Set to Bold\n",
    "bold = False # Style Not Set to Bold\n",
    "bold = None # Style is Not Applicable"
   ]
  },
  {
   "cell_type": "markdown",
   "id": "6c8de0c9",
   "metadata": {},
   "source": [
    "10.How do you create a Document object for a new Word document?"
   ]
  },
  {
   "cell_type": "markdown",
   "id": "f3b6703f",
   "metadata": {},
   "source": [
    "Answer - To create a Document object for a new Word document using the python-docx library, you can simply call the Document() constructor without any arguments. This will create a new, empty Word document."
   ]
  },
  {
   "cell_type": "markdown",
   "id": "e0dc8e29",
   "metadata": {},
   "source": [
    "from docx import Document\n",
    "\n",
    "doc = Document()\n",
    "doc.save(\"new_document.docx\")\n"
   ]
  },
  {
   "cell_type": "markdown",
   "id": "be471fa5",
   "metadata": {},
   "source": [
    "11.How do you add a paragraph with the text &#39;Hello, there!&#39; to a Document object stored in a\n",
    "variable named doc?"
   ]
  },
  {
   "cell_type": "markdown",
   "id": "e7cdf09e",
   "metadata": {},
   "source": [
    "Answer- To add a paragraph with the text \"Hello, there!\" to a Document object stored in a variable named doc using the python-docx library, you can use the add_paragraph() method of the Document object."
   ]
  },
  {
   "cell_type": "code",
   "execution_count": null,
   "id": "c453034a",
   "metadata": {},
   "outputs": [],
   "source": [
    "from docx import Document\n",
    "\n",
    "paragraph = doc.add_paragraph('Hello, there!')\n",
    "\n",
    "doc.save('output.docx')\n"
   ]
  },
  {
   "cell_type": "markdown",
   "id": "5a8a3320",
   "metadata": {},
   "source": [
    "12.What integers represent the levels of headings available in Word documents?"
   ]
  },
  {
   "cell_type": "markdown",
   "id": "2720111b",
   "metadata": {},
   "source": [
    "Answer- The levels for a heading in a word document can be specified by using the level attribute inside the add_heading method. There are a total of 5 levels statring for 0 t0 4. where level 0 makes a headline with the horizontal line below the text, whereas the heading level 1 is the main heading. Similarly, the other headings are sub-heading with their's font-sizes in decreasing order."
   ]
  },
  {
   "cell_type": "code",
   "execution_count": null,
   "id": "1e0114e2",
   "metadata": {},
   "outputs": [],
   "source": []
  },
  {
   "cell_type": "code",
   "execution_count": null,
   "id": "59a74786",
   "metadata": {},
   "outputs": [],
   "source": []
  }
 ],
 "metadata": {
  "kernelspec": {
   "display_name": "Python 3 (ipykernel)",
   "language": "python",
   "name": "python3"
  },
  "language_info": {
   "codemirror_mode": {
    "name": "ipython",
    "version": 3
   },
   "file_extension": ".py",
   "mimetype": "text/x-python",
   "name": "python",
   "nbconvert_exporter": "python",
   "pygments_lexer": "ipython3",
   "version": "3.9.12"
  }
 },
 "nbformat": 4,
 "nbformat_minor": 5
}
