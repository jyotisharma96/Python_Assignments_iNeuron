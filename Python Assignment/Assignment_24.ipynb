{
 "cells": [
  {
   "cell_type": "markdown",
   "id": "6105ad0a",
   "metadata": {},
   "source": [
    "1.What is the relationship between def statements and lambda expressions ?"
   ]
  },
  {
   "cell_type": "markdown",
   "id": "29188e4d",
   "metadata": {},
   "source": [
    "Answer- Keyword def that marks the start of the function header. A function name to uniquely identify the function. \n",
    "Function naming follows the same rules of writing identifiers in Python.\n",
    "\n",
    "lambdas are one-line methods without a name. They work practically the same as any other method in Python, Lambdas differ from normal Python methods because they can have only one expression and can't contain any statements and their return type is a function object."
   ]
  },
  {
   "cell_type": "markdown",
   "id": "eac14f11",
   "metadata": {},
   "source": [
    "2.What is the benefit of lambda?"
   ]
  },
  {
   "cell_type": "markdown",
   "id": "0920ef59",
   "metadata": {},
   "source": [
    "Answer- \n",
    "\n",
    "1. Concise and Readable Code: Lambda expressions allow you to write small, inline functions in a concise manner. They are especially useful when you need a simple function without the need to define a separate named function. This can lead to more readable and compact code, particularly when working with functions like map(), filter(), and reduce().\n",
    "\n",
    "\n",
    "2. Functional Programming: Lambda expressions are commonly used in functional programming paradigms. They support functional programming concepts such as higher-order functions, where functions can be treated as first-class objects and passed as arguments or returned as results. This enables you to write more expressive and powerful code that focuses on data transformations and computations.\n",
    "\n",
    "\n",
    "3. Eliminates the Need for Named Functions: In situations where a function is only required for a specific task and doesn't need to be reused elsewhere, lambda expressions can be used to avoid defining a separate named function. This can save you from cluttering your codebase with numerous small functions that serve a single purpose.\n",
    "\n",
    "\n",
    "4. Improved Performance: In certain scenarios, using lambda expressions can improve performance. Since lambda functions are typically inline and do not require the overhead of creating and calling a separate function, they can provide a slight performance boost in certain situations.\n",
    "\n",
    "\n",
    "5. Enhances Code Flexibility: Lambda expressions allow you to create functions on the fly without the need for prior function definitions. They can be used directly in places where functions are expected, such as within higher-order functions, closures, or as arguments for sorting and comparison operations. This enhances the flexibility and expressiveness of your code."
   ]
  },
  {
   "cell_type": "markdown",
   "id": "d1f4777c",
   "metadata": {},
   "source": [
    "3.Compare and contrast map, filter, and reduce."
   ]
  },
  {
   "cell_type": "markdown",
   "id": "23d066da",
   "metadata": {},
   "source": [
    "Answer - Map applies as a transformation to an element. The map() function iterates through all items in the given iterable and executes the function we \n",
    "passed as an argument on each of them.\n",
    "Syntax : map(function, iterable(s))\n",
    "\n",
    "\n",
    "filter accumulates only elements matching a condition. filter() forms a new list that contains only elements that satisfy a certain condition, i.e. the function we \n",
    "passed returns True\n",
    "Syntax : filter(function, iterable(s))\n",
    "\n",
    "\n",
    "reduce accumulates all elements to a single value, by using immutable values. reduce() works by calling the function we passed for the first two items in the sequence. The result returned by \n",
    "the function is used in another call to function alongside with the next (third in this case), element\n",
    "Syntax : reduce(function, sequence[, initial])"
   ]
  },
  {
   "cell_type": "code",
   "execution_count": 2,
   "id": "6d5ecc85",
   "metadata": {},
   "outputs": [
    {
     "name": "stdout",
     "output_type": "stream",
     "text": [
      "Map -> [2, 4, 6, 8]\n",
      "Filter -> [1, 3]\n",
      "Reduce -> 21\n"
     ]
    }
   ],
   "source": [
    "from functools import reduce\n",
    "# map function\n",
    "print('Map ->',list(map(lambda x:x+x, [1,2,3,4])))\n",
    "# fitler function\n",
    "print('Filter ->',list(filter(lambda x:x%2 !=0, [1,2,3,4])))\n",
    "# reduce function\n",
    "print('Reduce ->',reduce(lambda x,y:x+y, [1,2,3,4,5,6]))"
   ]
  },
  {
   "cell_type": "markdown",
   "id": "af00a055",
   "metadata": {},
   "source": [
    "4.What are function annotations, and how are they used?"
   ]
  },
  {
   "cell_type": "markdown",
   "id": "86acea70",
   "metadata": {},
   "source": [
    "Answer- Function annotations in Python are a way to add metadata or type hints to function parameters and return values. They provide additional information about the types and purposes of the function's inputs and outputs. Function annotations are optional and do not affect the actual behavior or execution of the function.\n",
    "\n",
    "Function annotations are specified using a colon (:) after the parameter name or return type, followed by the annotation expression. The annotation expression can be any valid Python expression, including types, strings, or objects."
   ]
  },
  {
   "cell_type": "code",
   "execution_count": 4,
   "id": "e089e012",
   "metadata": {},
   "outputs": [
    {
     "name": "stdout",
     "output_type": "stream",
     "text": [
      "{'n': 'float', 'b': 'int', 'return': 'result'}\n"
     ]
    }
   ],
   "source": [
    "def fib(n:'float', b:'int')-> 'result': \n",
    "    pass\n",
    "print(fib.__annotations__)"
   ]
  },
  {
   "cell_type": "markdown",
   "id": "31f4836f",
   "metadata": {},
   "source": [
    "5.What are recursive functions, and how are they used?"
   ]
  },
  {
   "cell_type": "markdown",
   "id": "9ca27e22",
   "metadata": {},
   "source": [
    "Answer- Recursive functions are functions that call themselves within their own definition. They are a powerful programming technique used to solve problems that can be broken down into smaller, repetitive subproblems. Recursive functions follow the concept of recursion, where a function solves a problem by reducing it to smaller instances of the same problem."
   ]
  },
  {
   "cell_type": "code",
   "execution_count": 5,
   "id": "b72ed6b6",
   "metadata": {},
   "outputs": [],
   "source": [
    "def factorial(n):\n",
    "    if n == 0:\n",
    "        return 1\n",
    "    else:\n",
    "        return n * factorial(n - 1)\n"
   ]
  },
  {
   "cell_type": "markdown",
   "id": "a67270a5",
   "metadata": {},
   "source": [
    "6.What are some general design guidelines for coding functions?"
   ]
  },
  {
   "cell_type": "markdown",
   "id": "0034cd8e",
   "metadata": {},
   "source": [
    "Answer- Some of the general design guidelines for coding functions are:\n",
    "\n",
    "1. Always use a docstring to explain the functionality of the function\n",
    "2. avoid using or limited use of global variables\n",
    "3. Proper Identation to increase the code readability\n",
    "4. Try to follow a naming convention for function names (pascalCase or camelCase) and stick with the same convention throughout the application.\n",
    "5. Avoid using digits while choosing a variable name\n",
    "6. Try to use a name for the function which conveys the purpose of the function\n",
    "7. Local variables should be named using camelCase format (ex: localVariable) whereas Global variables names should be using PascalCase (ex:GlobalVariable).\n",
    "8. Constant should be represented in allcaps (ex:CONSTANT)."
   ]
  },
  {
   "cell_type": "markdown",
   "id": "26c9d4d1",
   "metadata": {},
   "source": [
    "7.Name three or more ways that functions can communicate results to a caller."
   ]
  },
  {
   "cell_type": "markdown",
   "id": "28ea829a",
   "metadata": {},
   "source": [
    "Answer- Some of the ways in which a function can communicate with the calling function is:\n",
    "\n",
    "1. print\n",
    "\n",
    "2. return\n",
    "\n",
    "3. yield."
   ]
  },
  {
   "cell_type": "code",
   "execution_count": null,
   "id": "da574723",
   "metadata": {},
   "outputs": [],
   "source": []
  },
  {
   "cell_type": "code",
   "execution_count": null,
   "id": "81ac6fe4",
   "metadata": {},
   "outputs": [],
   "source": []
  },
  {
   "cell_type": "code",
   "execution_count": null,
   "id": "3647dd3b",
   "metadata": {},
   "outputs": [],
   "source": []
  }
 ],
 "metadata": {
  "kernelspec": {
   "display_name": "Python 3 (ipykernel)",
   "language": "python",
   "name": "python3"
  },
  "language_info": {
   "codemirror_mode": {
    "name": "ipython",
    "version": 3
   },
   "file_extension": ".py",
   "mimetype": "text/x-python",
   "name": "python",
   "nbconvert_exporter": "python",
   "pygments_lexer": "ipython3",
   "version": "3.9.12"
  }
 },
 "nbformat": 4,
 "nbformat_minor": 5
}
