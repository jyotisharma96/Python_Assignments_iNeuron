{
 "cells": [
  {
   "cell_type": "markdown",
   "id": "a2503048",
   "metadata": {},
   "source": [
    "1.What is the name of the feature responsible for generating Regex objects?"
   ]
  },
  {
   "cell_type": "markdown",
   "id": "93ddee01",
   "metadata": {},
   "source": [
    "Answer- re.compile() is the feature responsible for generation of Regex objects."
   ]
  },
  {
   "cell_type": "code",
   "execution_count": 1,
   "id": "2f6efc9c",
   "metadata": {},
   "outputs": [
    {
     "name": "stdout",
     "output_type": "stream",
     "text": [
      "re.compile('some_random_pattern')\n"
     ]
    }
   ],
   "source": [
    "import re\n",
    "x = re.compile(\"some_random_pattern\")\n",
    "type(x)\n",
    "print(x)"
   ]
  },
  {
   "cell_type": "markdown",
   "id": "6f518146",
   "metadata": {},
   "source": [
    "2.Why do raw strings often appear in Regex objects?"
   ]
  },
  {
   "cell_type": "markdown",
   "id": "eaf333e5",
   "metadata": {},
   "source": [
    "Answer- Raw strings, denoted by adding an 'r' prefix before the string literal, are commonly used in regular expressions (regex) objects for several reasons:\n",
    "\n",
    "Avoiding the need for excessive escaping: Regular expressions often contain a significant number of backslashes () to represent metacharacters or special sequences. In regular Python strings, a backslash is used as an escape character, which can lead to excessive escaping and make the regex pattern difficult to read and maintain. By using a raw string, backslashes are treated as literal characters, reducing the need for additional escaping.\n",
    "\n",
    "Preserving the readability of regex patterns: Regular expressions can contain numerous special characters, such as backslashes, metacharacters (e.g., *, +, ?, (), [], etc.), and escape sequences. These characters are significant in defining the pattern's structure and meaning. Using a raw string helps maintain the visual representation of the pattern and makes it easier to understand and modify.\n",
    "\n",
    "Preventing unintended escape sequence interpretation: Regular expressions often utilize escape sequences for specific patterns or character classes. However, Python itself interprets escape sequences within normal strings, potentially leading to unintended consequences. By using a raw string, the backslashes within the regex pattern are treated as literal characters, ensuring the desired interpretation by the regex engine."
   ]
  },
  {
   "cell_type": "markdown",
   "id": "8cae5313",
   "metadata": {},
   "source": [
    "3.What is the return value of the search() method?"
   ]
  },
  {
   "cell_type": "markdown",
   "id": "2a4c327d",
   "metadata": {},
   "source": [
    "Answer- The search() method of a regular expression (regex) object in Python returns a match object if it finds a match for the pattern within the specified text, or None if no match is found.\n",
    "\n",
    "The match object contains information about the match, including the matched string, the location of the match within the text, and other useful details."
   ]
  },
  {
   "cell_type": "code",
   "execution_count": 2,
   "id": "88c7c479",
   "metadata": {},
   "outputs": [
    {
     "name": "stdout",
     "output_type": "stream",
     "text": [
      "Output: <re.Match object; span=(0, 1), match='I'>\n",
      "Output: None\n"
     ]
    }
   ],
   "source": [
    "import re\n",
    "match = re.search('i','Ineuron Full Stack Data Science Program', flags=re.IGNORECASE)\n",
    "print('Output:',match)\n",
    "match = re.search('X','Ineuron Full Stack Data Science Program', flags=re.IGNORECASE)\n",
    "print('Output:',match)"
   ]
  },
  {
   "cell_type": "markdown",
   "id": "87395c28",
   "metadata": {},
   "source": [
    "4.From a Match item, how do you get the actual strings that match the pattern?"
   ]
  },
  {
   "cell_type": "markdown",
   "id": "ddd33737",
   "metadata": {},
   "source": [
    "Answer- To get the actual strings that match the pattern from a Match object in Python, you can use the group() method. The group() method returns the substring that was matched by the regular expression.\n",
    "\n",
    "By default, group() returns the entire match. However, you can also pass an argument to group() to specify a particular capturing group within the pattern. Capturing groups are defined by enclosing a part of the pattern in parentheses."
   ]
  },
  {
   "cell_type": "code",
   "execution_count": 3,
   "id": "3588f7ae",
   "metadata": {},
   "outputs": [
    {
     "name": "stdout",
     "output_type": "stream",
     "text": [
      "Output: Ineuron\n"
     ]
    }
   ],
   "source": [
    "import re\n",
    "match = re.search('ineuron','Ineuron Full Stack Data Science Program', flags=re.IGNORECASE)\n",
    "print('Output:',match.group())"
   ]
  },
  {
   "cell_type": "markdown",
   "id": "bffba05a",
   "metadata": {},
   "source": [
    "5.In the regex which created from the r&#39;(\\d\\d\\d)-(\\d\\d\\d-\\d\\d\\d\\d)&#39;, what does group zero cover?\n",
    "Group 2? Group 1?"
   ]
  },
  {
   "cell_type": "markdown",
   "id": "d8d7193f",
   "metadata": {},
   "source": [
    "Answer- In the given regular expression r'(\\d\\d\\d)-(\\d\\d\\d-\\d\\d\\d\\d)', the groups are defined by the parentheses enclosing certain parts of the pattern. The numbering of groups starts from 1, not 0.\n",
    "\n",
    "Here's the breakdown of the groups in the provided regular expression:\n",
    "\n",
    "Group 0: This represents the entire match of the regular expression pattern. In this case, it covers the full matched string.\n",
    "\n",
    "Group 1: This corresponds to the first capturing group (\\d\\d\\d), which matches three consecutive digits. It captures the first three digits of the string.\n",
    "\n",
    "Group 2: This corresponds to the second capturing group (\\d\\d\\d-\\d\\d\\d\\d), which matches a pattern consisting of three digits followed by a hyphen and four digits. It captures the remaining part of the string after the first capturing group.\n"
   ]
  },
  {
   "cell_type": "code",
   "execution_count": 4,
   "id": "015a861e",
   "metadata": {},
   "outputs": [
    {
     "name": "stdout",
     "output_type": "stream",
     "text": [
      "Full match: 123-456-7890\n",
      "Group 1: 123\n",
      "Group 2: 456-7890\n"
     ]
    }
   ],
   "source": [
    "import re\n",
    "\n",
    "pattern = r'(\\d\\d\\d)-(\\d\\d\\d-\\d\\d\\d\\d)'\n",
    "text = '123-456-7890'\n",
    "\n",
    "match = re.search(pattern, text)\n",
    "\n",
    "if match:\n",
    "    print(\"Full match:\", match.group(0))\n",
    "    print(\"Group 1:\", match.group(1))\n",
    "    print(\"Group 2:\", match.group(2))\n",
    "else:\n",
    "    print(\"No match found.\")\n"
   ]
  },
  {
   "cell_type": "markdown",
   "id": "b35239ad",
   "metadata": {},
   "source": [
    "6.In standard expression syntax, parentheses and intervals have distinct meanings. How can you tell\n",
    "a regex that you want it to fit real parentheses and periods?"
   ]
  },
  {
   "cell_type": "markdown",
   "id": "7a7ccc48",
   "metadata": {},
   "source": [
    "Answer- The \\. \\( and \\) escape characters in the raw string passed to re.compile() will match actual parenthesis characters."
   ]
  },
  {
   "cell_type": "code",
   "execution_count": 5,
   "id": "d09f505e",
   "metadata": {},
   "outputs": [
    {
     "name": "stdout",
     "output_type": "stream",
     "text": [
      "(415) 555-4242\n"
     ]
    }
   ],
   "source": [
    "# Example Program\n",
    "import re\n",
    "phoneNumRegex = re.compile(r'(\\(\\d\\d\\d\\)) (\\d\\d\\d-\\d\\d\\d\\d)')\n",
    "mo = phoneNumRegex.search('My phone number is (415) 555-4242.')\n",
    "print(mo.group())"
   ]
  },
  {
   "cell_type": "markdown",
   "id": "fc7770b6",
   "metadata": {},
   "source": [
    "7.The findall() method returns a string list or a list of string tuples. What causes it to return one of\n",
    "the two options?"
   ]
  },
  {
   "cell_type": "markdown",
   "id": "f9bc8ede",
   "metadata": {},
   "source": [
    "Answer- If the regex has no groups, a list of strings is returned. If the regex has groups, a list of tuples of strings is returned."
   ]
  },
  {
   "cell_type": "markdown",
   "id": "3054c489",
   "metadata": {},
   "source": [
    "8.In standard expressions, what does the | character mean?"
   ]
  },
  {
   "cell_type": "markdown",
   "id": "bb4fafe7",
   "metadata": {},
   "source": [
    "Answer- The | character signifies matching “either, or” between two groups."
   ]
  },
  {
   "cell_type": "markdown",
   "id": "e76f0ad2",
   "metadata": {},
   "source": [
    "9.In regular expressions, what does the ? character stand for?"
   ]
  },
  {
   "cell_type": "markdown",
   "id": "e048a46b",
   "metadata": {},
   "source": [
    "Answer- The ? character can either mean “match zero or one of the preceding group” or be used to signify nongreedy matching."
   ]
  },
  {
   "cell_type": "markdown",
   "id": "a3c2c43c",
   "metadata": {},
   "source": [
    "10.In regular expressions, what is the difference between the + and * characters?"
   ]
  },
  {
   "cell_type": "markdown",
   "id": "a5d3be60",
   "metadata": {},
   "source": [
    "Answer- In regular expressions, the + and * characters are quantifiers that specify the number of occurrences of the preceding element in the pattern.\n",
    "\n",
    "\"+\" Quantifier: The + quantifier indicates that the preceding element must occur one or more times.\n",
    "\n",
    "Example:\n",
    "\n",
    "Pattern: a+ matches one or more occurrences of the letter \"a\".\n",
    "Matches: \"a\", \"aa\", \"aaa\", etc.\n",
    "Explanation: The + quantifier ensures that the preceding element (in this case, \"a\") occurs at least once. It matches consecutive occurrences of the element until there are no more or until another character is encountered.\n",
    "\n",
    "\"*\" Quantifier: The * quantifier indicates that the preceding element can occur zero or more times.\n",
    "\n",
    "Example:\n",
    "\n",
    "Pattern: a* matches zero or more occurrences of the letter \"a\".\n",
    "Matches: \"\", \"a\", \"aa\", \"aaa\", etc.\n",
    "Explanation: The * quantifier allows the preceding element (in this case, \"a\") to occur zero or more times. It matches any number of consecutive occurrences, including no occurrences at all."
   ]
  },
  {
   "cell_type": "code",
   "execution_count": 6,
   "id": "fdfba73e",
   "metadata": {},
   "outputs": [
    {
     "name": "stdout",
     "output_type": "stream",
     "text": [
      "Matches with '+' quantifier: ['aaaa']\n",
      "Matches with '*' quantifier: ['aaaa', '']\n"
     ]
    }
   ],
   "source": [
    "import re\n",
    "\n",
    "pattern1 = r'a+'\n",
    "pattern2 = r'a*'\n",
    "text = 'aaaa'\n",
    "\n",
    "matches1 = re.findall(pattern1, text)\n",
    "matches2 = re.findall(pattern2, text)\n",
    "\n",
    "print(\"Matches with '+' quantifier:\", matches1)\n",
    "print(\"Matches with '*' quantifier:\", matches2)"
   ]
  },
  {
   "cell_type": "markdown",
   "id": "9ccd91f9",
   "metadata": {},
   "source": [
    "11.What is the difference between {4} and {4,5} in regular expression?"
   ]
  },
  {
   "cell_type": "markdown",
   "id": "d9ec5192",
   "metadata": {},
   "source": [
    "Answer- The {4} matches exactly four instances of the preceding group. The {4,5} matches between four and five instances."
   ]
  },
  {
   "cell_type": "markdown",
   "id": "741addc5",
   "metadata": {},
   "source": [
    "12.What do you mean by the \\d, \\w, and \\s shorthand character classes signify in regular\n",
    "expressions?"
   ]
  },
  {
   "cell_type": "markdown",
   "id": "8fe43772",
   "metadata": {},
   "source": [
    "Answer- The \\d, \\w, and \\s shorthand character classes match a single digit, word, or space character, respectively."
   ]
  },
  {
   "cell_type": "markdown",
   "id": "524cc623",
   "metadata": {},
   "source": [
    "13.What do means by \\D, \\W, and \\S shorthand character classes signify in regular expressions?"
   ]
  },
  {
   "cell_type": "markdown",
   "id": "3049ec41",
   "metadata": {},
   "source": [
    "Answer- The \\D, \\W, and \\S shorthand character classes match a single character that is not a digit, word, or space character, respectively."
   ]
  },
  {
   "cell_type": "markdown",
   "id": "bedfe951",
   "metadata": {},
   "source": [
    "14.What is the difference between .*? and .*?"
   ]
  },
  {
   "cell_type": "markdown",
   "id": "a69e8967",
   "metadata": {},
   "source": [
    "Answer- The .* performs a greedy match, and the .*? performs a nongreedy match."
   ]
  },
  {
   "cell_type": "markdown",
   "id": "55200c17",
   "metadata": {},
   "source": [
    "15.What is the syntax for matching both numbers and lowercase letters with a character class?"
   ]
  },
  {
   "cell_type": "markdown",
   "id": "3c9db4b3",
   "metadata": {},
   "source": [
    "Answer- The regular expression \"[ A-Za-z] \" or \"[0-9a-z]\" which is the syntax for matching both numbers and lowercase letters with a character class."
   ]
  },
  {
   "cell_type": "markdown",
   "id": "cdc1a3cd",
   "metadata": {},
   "source": [
    "16.What is the procedure for making a normal expression in regax case insensitive?"
   ]
  },
  {
   "cell_type": "markdown",
   "id": "123a7611",
   "metadata": {},
   "source": [
    "Answer- We can pass re.IGNORECASE as a flag to make a noraml expression case insensitive."
   ]
  },
  {
   "cell_type": "markdown",
   "id": "d25a21dc",
   "metadata": {},
   "source": [
    "17.What does the . character normally match? What does it match if re.DOTALL is passed as 2nd\n",
    "argument in re.compile()?"
   ]
  },
  {
   "cell_type": "markdown",
   "id": "dbaaf18c",
   "metadata": {},
   "source": [
    "Answer- Dot . character matches everything in input except newline character .. By passing re.DOTALL as a flag to re.compile(), you can make the dot character match all characters, including the newline character."
   ]
  },
  {
   "cell_type": "markdown",
   "id": "b64f7fd4",
   "metadata": {},
   "source": [
    "18.If numReg = re.compile(r&#39;\\d+&#39;), what will numRegex.sub(&#39;X&#39;, &#39;11 drummers, 10 pipers, five rings, 4\n",
    "hen&#39;) return?"
   ]
  },
  {
   "cell_type": "code",
   "execution_count": 7,
   "id": "2f02042a",
   "metadata": {},
   "outputs": [
    {
     "data": {
      "text/plain": [
       "'X drummers, X pipers, five rings, X hen'"
      ]
     },
     "execution_count": 7,
     "metadata": {},
     "output_type": "execute_result"
    }
   ],
   "source": [
    "import re\n",
    "numReg = re.compile(r'\\d+')\n",
    "numReg.sub('X', '11 drummers, 10 pipers, five rings, 4 hen')"
   ]
  },
  {
   "cell_type": "markdown",
   "id": "3bf552c2",
   "metadata": {},
   "source": [
    "19.What does passing re.VERBOSE as the 2nd argument to re.compile() allow to do?"
   ]
  },
  {
   "cell_type": "markdown",
   "id": "fcdf46c6",
   "metadata": {},
   "source": [
    "Answer- re.VERBOSE will allow to add whitespace and comments to string passed to re.compile()."
   ]
  },
  {
   "cell_type": "markdown",
   "id": "f19e9ce1",
   "metadata": {},
   "source": [
    "20.How would you write a regex that match a number with comma for every three digits? It must\n",
    "match the given following:\n",
    "\n",
    "&#39;42&#39;\n",
    "\n",
    "&#39;1,234&#39;\n",
    "\n",
    "&#39;6,368,745&#39;\n",
    "\n",
    "but not the following:\n",
    "\n",
    "&#39;12,34,567&#39; (which has only two digits between the commas)\n",
    "\n",
    "&#39;1234&#39; (which lacks commas)"
   ]
  },
  {
   "cell_type": "code",
   "execution_count": 8,
   "id": "54fa77a8",
   "metadata": {},
   "outputs": [
    {
     "name": "stdout",
     "output_type": "stream",
     "text": [
      "<re.Match object; span=(0, 2), match='42'>\n",
      "<re.Match object; span=(0, 5), match='1,234'>\n",
      "<re.Match object; span=(0, 9), match='6,368,745'>\n",
      "None\n",
      "None\n"
     ]
    }
   ],
   "source": [
    "import re\n",
    "pattern = r'^\\d{1,3}(,\\d{3})*$'\n",
    "pagex = re.compile(pattern)\n",
    "for i in ['42','1,234', '6,368,745','12,34,567','1234']:\n",
    "    print(pagex.search(i))"
   ]
  },
  {
   "cell_type": "markdown",
   "id": "48d60951",
   "metadata": {},
   "source": [
    "21.How would you write a regex that matches the full name of someone whose last name is\n",
    "Watanabe? You can assume that the first name that comes before it will always be one word that\n",
    "begins with a capital letter. The regex must match the following:\n",
    "\n",
    "&#39;Haruto Watanabe&#39;\n",
    "\n",
    "&#39;Alice Watanabe&#39;\n",
    "\n",
    "&#39;RoboCop Watanabe&#39;\n",
    "\n",
    "but not the following:\n",
    "\n",
    "&#39;haruto Watanabe&#39; (where the first name is not capitalized)\n",
    "\n",
    "&#39;Mr. Watanabe&#39; (where the preceding word has a nonletter character)\n",
    "\n",
    "&#39;Watanabe&#39; (which has no first name)\n",
    "\n",
    "&#39;Haruto watanabe&#39; (where Watanabe is not capitalized)"
   ]
  },
  {
   "cell_type": "markdown",
   "id": "d22014a4",
   "metadata": {},
   "source": [
    "Answer- pattern = r'[A-Z]{1}[a-z]*\\sWatanabe'"
   ]
  },
  {
   "cell_type": "code",
   "execution_count": 10,
   "id": "9af01532",
   "metadata": {},
   "outputs": [
    {
     "name": "stdout",
     "output_type": "stream",
     "text": [
      "<re.Match object; span=(0, 15), match='Haruto Watanabe'>\n",
      "<re.Match object; span=(0, 14), match='Alice Watanabe'>\n",
      "<re.Match object; span=(4, 16), match='Cop Watanabe'>\n",
      "None\n",
      "None\n",
      "None\n",
      "None\n"
     ]
    }
   ],
   "source": [
    "import re\n",
    "pattern = r'[A-Z]{1}[a-z]*\\sWatanabe'\n",
    "namex = re.compile(pattern)\n",
    "for name in ['Haruto Watanabe','Alice Watanabe','RoboCop Watanabe','haruto Watanabe','Mr. Watanabe','Watanabe','Haruto watanabe']:\n",
    "    print(namex.search(name))"
   ]
  },
  {
   "cell_type": "markdown",
   "id": "9630a5f8",
   "metadata": {},
   "source": [
    "22.How would you write a regex that matches a sentence where the first word is either Alice, Bob,\n",
    "or Carol; the second word is either eats, pets, or throws; the third word is apples, cats, or baseballs;\n",
    "and the sentence ends with a period? This regex should be case-insensitive. It must match the\n",
    "following:\n",
    "\n",
    "&#39;Alice eats apples.&#39;\n",
    "\n",
    "&#39;Bob pets cats.&#39;\n",
    "\n",
    "&#39;Carol throws baseballs.&#39;\n",
    "\n",
    "&#39;Alice throws Apples.&#39;\n",
    "\n",
    "&#39;BOB EATS CATS.&#39;\n",
    "\n",
    "but not the following:\n",
    "\n",
    "&#39;RoboCop eats apples.&#39;\n",
    "\n",
    "&#39;ALICE THROWS FOOTBALLS.&#39;\n",
    "\n",
    "&#39;Carol eats 7 cats.&#39;"
   ]
  },
  {
   "cell_type": "markdown",
   "id": "4a46a360",
   "metadata": {},
   "source": [
    "Answer- pattern = r'(Alice|Bob|Carol)\\s(eats|pets|throws)\\s(apples|cats|baseballs)\\.'"
   ]
  },
  {
   "cell_type": "code",
   "execution_count": 11,
   "id": "f2c5b6ed",
   "metadata": {},
   "outputs": [
    {
     "name": "stdout",
     "output_type": "stream",
     "text": [
      "<re.Match object; span=(0, 18), match='Alice eats apples.'>\n",
      "<re.Match object; span=(0, 14), match='Bob pets cats.'>\n",
      "<re.Match object; span=(0, 23), match='Carol throws baseballs.'>\n",
      "<re.Match object; span=(0, 20), match='Alice throws Apples.'>\n",
      "<re.Match object; span=(0, 14), match='BOB EATS CATS.'>\n",
      "None\n",
      "None\n",
      "None\n"
     ]
    }
   ],
   "source": [
    "import re\n",
    "pattern = r'(Alice|Bob|Carol)\\s(eats|pets|throws)\\s(apples|cats|baseballs)\\.'\n",
    "casex = re.compile(pattern,re.IGNORECASE)\n",
    "for ele in ['Alice eats apples.','Bob pets cats.','Carol throws baseballs.','Alice throws Apples.','BOB EATS CATS.','RoboCop eats apples.'\n",
    ",'ALICE THROWS FOOTBALLS.','Carol eats 7 cats.']:\n",
    "    print(casex.search(ele))"
   ]
  },
  {
   "cell_type": "code",
   "execution_count": null,
   "id": "acb1f67f",
   "metadata": {},
   "outputs": [],
   "source": []
  }
 ],
 "metadata": {
  "kernelspec": {
   "display_name": "Python 3 (ipykernel)",
   "language": "python",
   "name": "python3"
  },
  "language_info": {
   "codemirror_mode": {
    "name": "ipython",
    "version": 3
   },
   "file_extension": ".py",
   "mimetype": "text/x-python",
   "name": "python",
   "nbconvert_exporter": "python",
   "pygments_lexer": "ipython3",
   "version": "3.9.12"
  }
 },
 "nbformat": 4,
 "nbformat_minor": 5
}
