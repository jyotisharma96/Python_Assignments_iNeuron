{
 "cells": [
  {
   "cell_type": "markdown",
   "id": "4ca8fd9a",
   "metadata": {},
   "source": [
    "1.What does RGBA stand for?"
   ]
  },
  {
   "cell_type": "markdown",
   "id": "2c314f9c",
   "metadata": {},
   "source": [
    "Answer- RGBA stands for Red Green Blue Alpha. It is a color model that represents colors using combinations of red, green, and blue components, along with an alpha channel for transparency. The RGBA model is an extension of the RGB model, where the alpha channel determines the opacity of the color.\n",
    "\n",
    "In the RGBA model, each component (red, green, blue, and alpha) is represented by an integer value ranging from 0 to 255 or a floating-point value ranging from 0.0 to 1.0. The red, green, and blue components determine the intensity of their respective primary colors, while the alpha component determines the transparency or opacity of the color.\n",
    "\n",
    "The alpha channel allows you to control the level of transparency of a color, with 0 indicating fully transparent and 255 (or 1.0) indicating fully opaque. By adjusting the alpha value, you can create colors with varying levels of transparency, enabling overlaying or blending of colors in a visually appealing way.\n",
    "\n",
    "RGBA color values are commonly used in computer graphics, web design, and image processing to specify colors with transparency."
   ]
  },
  {
   "cell_type": "markdown",
   "id": "565edcbd",
   "metadata": {},
   "source": [
    "2.From the Pillow module, how do you get the RGBA value of any images?"
   ]
  },
  {
   "cell_type": "markdown",
   "id": "bc850887",
   "metadata": {},
   "source": [
    "Answer- A function call to ImageColor.getcolor('CornflowerBlue', 'RGBA') will return (100, 149, 237, 255), the RGBA value for that color."
   ]
  },
  {
   "cell_type": "markdown",
   "id": "f0133df6",
   "metadata": {},
   "source": [
    "3.What is a box tuple, and how does it work?"
   ]
  },
  {
   "cell_type": "markdown",
   "id": "3d09e8c6",
   "metadata": {},
   "source": [
    "Answer- In the context of image processing and the Python Imaging Library (PIL) or Pillow module, a box tuple refers to a tuple that defines a rectangular region within an image. It is commonly used to specify areas of interest, crop images, or define regions for various image manipulation operations.\n",
    "\n",
    "A box tuple typically consists of four values (left, upper, right, lower), representing the coordinates of the bounding box or rectangle. Here's a breakdown of each value:\n",
    "\n",
    "left: The x-coordinate of the left edge of the rectangle.\n",
    "\n",
    "upper: The y-coordinate of the upper edge of the rectangle.\n",
    "\n",
    "right: The x-coordinate of the right edge of the rectangle.\n",
    "\n",
    "lower: The y-coordinate of the lower edge of the rectangle."
   ]
  },
  {
   "cell_type": "markdown",
   "id": "c9d39fc1",
   "metadata": {},
   "source": [
    "4.Use your image and load in notebook then, How can you find out the width and height of an\n",
    "Image object?"
   ]
  },
  {
   "cell_type": "code",
   "execution_count": null,
   "id": "d5d76962",
   "metadata": {},
   "outputs": [],
   "source": [
    "from PIL import Image\n",
    "import matplotlib.pyplot as plt\n",
    "\n",
    "image = Image.open(\"example.jpg\")\n",
    "width, height = image.size\n",
    "\n",
    "plt.imshow(image)\n",
    "plt.show()\n",
    "print(\"Width:\", width)\n",
    "print(\"Height:\", height)\n"
   ]
  },
  {
   "cell_type": "markdown",
   "id": "8dc38de5",
   "metadata": {},
   "source": [
    "5.What method would you call to get Image object for a 100×100 image, excluding the lower-left\n",
    "quarter of it?"
   ]
  },
  {
   "cell_type": "markdown",
   "id": "91ff1347",
   "metadata": {},
   "source": [
    "Answer- To obtain an Image object for a 100x100 image, excluding the lower-left quarter of it, you can use the crop() method of the Image object. "
   ]
  },
  {
   "cell_type": "code",
   "execution_count": null,
   "id": "1edac786",
   "metadata": {},
   "outputs": [],
   "source": [
    "from PIL import Image\n",
    "\n",
    "image = Image.open(\"original_image.jpg\")\n",
    "left = 0\n",
    "upper = 50\n",
    "right = 50\n",
    "lower = 100\n",
    "\n",
    "cropped_image = image.crop((left, upper, right, lower))\n",
    "cropped_image.show()\n"
   ]
  },
  {
   "cell_type": "markdown",
   "id": "e657883a",
   "metadata": {},
   "source": [
    "6.After making changes to an Image object, how could you save it as an image file?"
   ]
  },
  {
   "cell_type": "markdown",
   "id": "c935534f",
   "metadata": {},
   "source": [
    "Answer- After making changes to an Image object using the PIL/Pillow module in Python, you can save it as an image file using the save() method. "
   ]
  },
  {
   "cell_type": "code",
   "execution_count": null,
   "id": "e083e806",
   "metadata": {},
   "outputs": [],
   "source": [
    "from PIL import Image\n",
    "\n",
    "image = Image.open(\"original_image.jpg\")\n",
    "image.save(\"modified_image.jpg\")\n"
   ]
  },
  {
   "cell_type": "markdown",
   "id": "e05d0aad",
   "metadata": {},
   "source": [
    "7.What module contains Pillow’s shape-drawing code?"
   ]
  },
  {
   "cell_type": "markdown",
   "id": "8bf7df53",
   "metadata": {},
   "source": [
    "Answer- The ImageDraw module is the module in the Pillow library that contains the shape-drawing code. It provides functions and methods for drawing various shapes, such as lines, rectangles, circles, polygons, and text, on an Image object."
   ]
  },
  {
   "cell_type": "markdown",
   "id": "4d3fbd86",
   "metadata": {},
   "source": [
    "8.Image objects do not have drawing methods. What kind of object does? How do you get this kind\n",
    "of object?"
   ]
  },
  {
   "cell_type": "markdown",
   "id": "e786699f",
   "metadata": {},
   "source": [
    "Answer-  ImageDraw objects have shape-drawing methods such as point(), line(), or rectangle().They are returned by passing the Image object to the ImageDraw.Draw() function."
   ]
  },
  {
   "cell_type": "code",
   "execution_count": null,
   "id": "e125ab47",
   "metadata": {},
   "outputs": [],
   "source": []
  },
  {
   "cell_type": "code",
   "execution_count": null,
   "id": "141f39a6",
   "metadata": {},
   "outputs": [],
   "source": []
  }
 ],
 "metadata": {
  "kernelspec": {
   "display_name": "Python 3 (ipykernel)",
   "language": "python",
   "name": "python3"
  },
  "language_info": {
   "codemirror_mode": {
    "name": "ipython",
    "version": 3
   },
   "file_extension": ".py",
   "mimetype": "text/x-python",
   "name": "python",
   "nbconvert_exporter": "python",
   "pygments_lexer": "ipython3",
   "version": "3.9.12"
  }
 },
 "nbformat": 4,
 "nbformat_minor": 5
}
