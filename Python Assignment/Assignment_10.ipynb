{
 "cells": [
  {
   "cell_type": "markdown",
   "id": "6356e5a1",
   "metadata": {},
   "source": [
    "1.How do you distinguish between shutil.copy() and shutil.copytree()?"
   ]
  },
  {
   "cell_type": "markdown",
   "id": "1ffc4687",
   "metadata": {},
   "source": [
    "Answer - The shutil.copy() function will copy a single file, while shutil.copytree() will copy an entire folder, along with all its contents."
   ]
  },
  {
   "cell_type": "markdown",
   "id": "2498946f",
   "metadata": {},
   "source": [
    "2.What function is used to rename files??"
   ]
  },
  {
   "cell_type": "markdown",
   "id": "87702027",
   "metadata": {},
   "source": [
    "Answer- The shutil.move() function is commonly used to rename files in Python. Although its primary purpose is to move files and directories, it can be effectively used to rename files as well.\n",
    "\n",
    "The shutil.move() function takes two arguments: the source path of the file or directory to be renamed and the destination path with the desired new name. It moves the file from the source location to the destination location, effectively renaming it."
   ]
  },
  {
   "cell_type": "markdown",
   "id": "5f83eae1",
   "metadata": {},
   "source": [
    "3.What is the difference between the delete functions in the send2trash and shutil modules?"
   ]
  },
  {
   "cell_type": "markdown",
   "id": "4c375fa1",
   "metadata": {},
   "source": [
    "Answer- Shutil module provides a funciton called as shutil.rmtree() which deletes a directory and all its contents. The other functions with similar functionality are os.remove() -> removes a file, os.rmdir() removes a empty directory. The problem with these functions is once a file is deleted. it will be lost permanently, if a file is deleted accidentally using these methods there is no way we can recover the deleted file\n",
    "\n",
    "Where as send2trash module provides a function called send2trash.send2trash() to delete a file/directory. these methods moves the files/directories to trash folder instead of permanently deleting them. hence if a file/folder is deleted accidentally it can be still recovered from trash folder, if is deleted using the send2trash.send2trash() function. send2trash is not included with python standard libary like os & shutil modules. it needs to be installed explicitly using the command !pip install send2trash"
   ]
  },
  {
   "cell_type": "markdown",
   "id": "2843c080",
   "metadata": {},
   "source": [
    "4.ZipFile objects have a close() method just like File objects’ close() method. What ZipFile method is\n",
    "equivalent to File objects’ open() method?"
   ]
  },
  {
   "cell_type": "markdown",
   "id": "1d430695",
   "metadata": {},
   "source": [
    "Answer- The zipfile.ZipFile() function is equivalent to the open() function; the first argument is the filename, and the second argument is the mode to open the ZIP file in (read, write, or append)."
   ]
  },
  {
   "cell_type": "markdown",
   "id": "fc30fd75",
   "metadata": {},
   "source": [
    "5.Create a programme that searches a folder tree for files with a certain file extension (such as .pdf\n",
    "or .jpg). Copy these files from whatever location they are in to a new folder."
   ]
  },
  {
   "cell_type": "code",
   "execution_count": 1,
   "id": "be260fbd",
   "metadata": {},
   "outputs": [],
   "source": [
    "import os\n",
    "import shutil\n",
    "\n",
    "def search_and_copy_files(source_folder, destination_folder, file_extension):\n",
    "    for root, dirs, files in os.walk(source_folder):\n",
    "        for file in files:\n",
    "            if file.endswith(file_extension):\n",
    "                source_path = os.path.join(root, file)\n",
    "                destination_path = os.path.join(destination_folder, file)\n",
    "                shutil.copy2(source_path, destination_path)\n",
    "                print(f\"Copied: {source_path} --> {destination_path}\")\n",
    "\n",
    "# Example usage:\n",
    "source_folder = \"path/to/source/folder\"\n",
    "destination_folder = \"path/to/destination/folder\"\n",
    "file_extension = \".pdf\"\n",
    "\n",
    "search_and_copy_files(source_folder, destination_folder, file_extension)\n"
   ]
  },
  {
   "cell_type": "code",
   "execution_count": null,
   "id": "9893652f",
   "metadata": {},
   "outputs": [],
   "source": []
  },
  {
   "cell_type": "code",
   "execution_count": null,
   "id": "e1e612f9",
   "metadata": {},
   "outputs": [],
   "source": []
  },
  {
   "cell_type": "code",
   "execution_count": null,
   "id": "3164e153",
   "metadata": {},
   "outputs": [],
   "source": []
  }
 ],
 "metadata": {
  "kernelspec": {
   "display_name": "Python 3 (ipykernel)",
   "language": "python",
   "name": "python3"
  },
  "language_info": {
   "codemirror_mode": {
    "name": "ipython",
    "version": 3
   },
   "file_extension": ".py",
   "mimetype": "text/x-python",
   "name": "python",
   "nbconvert_exporter": "python",
   "pygments_lexer": "ipython3",
   "version": "3.9.12"
  }
 },
 "nbformat": 4,
 "nbformat_minor": 5
}
