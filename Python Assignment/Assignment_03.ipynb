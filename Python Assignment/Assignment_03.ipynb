{
 "cells": [
  {
   "cell_type": "markdown",
   "id": "5c86cb7b",
   "metadata": {},
   "source": [
    "1.Why are functions advantageous to have in your programs?"
   ]
  },
  {
   "cell_type": "markdown",
   "id": "ed02355b",
   "metadata": {},
   "source": [
    "Answer - The use of functions makes a program more readable. It's frequently difficult to read a large program. Breaking the code down into smaller functions keeps the program structured, understandable, and reusable. The function can be reused countless times after it is defined."
   ]
  },
  {
   "cell_type": "markdown",
   "id": "f3749647",
   "metadata": {},
   "source": [
    "2.When does the code in a function run: when it&#39;s specified or when it&#39;s called?"
   ]
  },
  {
   "cell_type": "markdown",
   "id": "fc7b89f3",
   "metadata": {},
   "source": [
    "Answer - The code in a function executes when the function is called, not when the function is defined."
   ]
  },
  {
   "cell_type": "markdown",
   "id": "ddaf069d",
   "metadata": {},
   "source": [
    "3.What statement creates a function?"
   ]
  },
  {
   "cell_type": "markdown",
   "id": "10c4202b",
   "metadata": {},
   "source": [
    "Answer - The def statement defines a function\n",
    "\n",
    "Syntax of Function:\n",
    "\n",
    "def function_name(parameters): \"\"\"doc string\"\"\" -----function body----- -----function body----- return value"
   ]
  },
  {
   "cell_type": "markdown",
   "id": "10207e36",
   "metadata": {},
   "source": [
    "4.What is the difference between a function and a function call?"
   ]
  },
  {
   "cell_type": "markdown",
   "id": "d786179f",
   "metadata": {},
   "source": [
    "Answer - A function consists of the def statement and the code in its def clause.\n",
    "\n",
    "A function call is what moves the program execution into the function, and the function call evaluates to the function’s return value."
   ]
  },
  {
   "cell_type": "markdown",
   "id": "59713f4d",
   "metadata": {},
   "source": [
    "5.How many global scopes are there in a Python program? How many local scopes?"
   ]
  },
  {
   "cell_type": "markdown",
   "id": "cb8fa348",
   "metadata": {},
   "source": [
    "Answer - In a Python program, there is only one global scope, which is the highest level of scope in the program. This global scope exists outside of any function or class definitions and is accessible throughout the entire program.\n",
    "\n",
    "However, the number of local scopes can vary depending on the number of functions and nested blocks present in the program. Each function call or block of code creates its own local scope. This means that for each function invocation or block, a new local scope is created.\n",
    "\n",
    "The local scope is confined to the specific function or block where it is defined. It includes the variables, objects, and other entities that are created within that function or block and is accessible only within that specific context. Once the function or block execution completes, the local scope is destroyed, and the variables within it are no longer accessible."
   ]
  },
  {
   "cell_type": "markdown",
   "id": "acb1fced",
   "metadata": {},
   "source": [
    "6.What happens to variables in a local scope when the function call returns?"
   ]
  },
  {
   "cell_type": "markdown",
   "id": "f9415930",
   "metadata": {},
   "source": [
    "Answer - When a function call returns in Python, the local scope associated with that function is destroyed, and the variables defined within that local scope cease to exist. This process is known as variable scope and lifetime."
   ]
  },
  {
   "cell_type": "markdown",
   "id": "36dea3b3",
   "metadata": {},
   "source": [
    "7.What is the concept of a return value? Is it possible to have a return value in an expression?"
   ]
  },
  {
   "cell_type": "markdown",
   "id": "8487f831",
   "metadata": {},
   "source": [
    "Answer - The concept of a return value in programming refers to the value that a function can optionally provide back to the caller. When a function is called and executes its code, it can use the return statement to send a value back to the point of the function call. The return value can then be used and manipulated by the caller as needed.\n",
    "\n",
    "The return statement is typically followed by an expression or a variable that holds the value to be returned. When the return statement is encountered during function execution, the function immediately exits, and the control is transferred back to the caller, along with the return value."
   ]
  },
  {
   "cell_type": "markdown",
   "id": "f6854aa3",
   "metadata": {},
   "source": [
    "8.If a function does not have a return statement, what is the return value of a call to that function?"
   ]
  },
  {
   "cell_type": "markdown",
   "id": "9a3a50f1",
   "metadata": {},
   "source": [
    "Answer - If a function does not have a return statement, or if the return statement is not explicitly specified in the function's code, the function will implicitly return None. None is a special value in Python that represents the absence of a value or the lack of a return value."
   ]
  },
  {
   "cell_type": "markdown",
   "id": "b3bbc432",
   "metadata": {},
   "source": [
    "9.How do you make a function variable refer to the global variable?"
   ]
  },
  {
   "cell_type": "markdown",
   "id": "a6891505",
   "metadata": {},
   "source": [
    "Answer - In Python, if you want to make a function variable refer to a global variable, you can use the global keyword to declare that variable as a global variable within the function. This allows the function to access and modify the global variable instead of creating a new local variable with the same name."
   ]
  },
  {
   "cell_type": "markdown",
   "id": "c7027216",
   "metadata": {},
   "source": [
    "10.What is the data type of None?"
   ]
  },
  {
   "cell_type": "markdown",
   "id": "9425c3e3",
   "metadata": {},
   "source": [
    "Answer - The data type of None in Python is called NoneType. It is a built-in type that represents the absence of a value or the lack of a specific object. None is a singleton object, meaning there is only one instance of it in memory."
   ]
  },
  {
   "cell_type": "markdown",
   "id": "bcff21a6",
   "metadata": {},
   "source": [
    "11. What does the sentence import areallyourpetsnamederic do?"
   ]
  },
  {
   "cell_type": "markdown",
   "id": "43c42c36",
   "metadata": {},
   "source": [
    "Answer - That import statement imports a module named areallyourpetsnamederic."
   ]
  },
  {
   "cell_type": "markdown",
   "id": "1f93c4b6",
   "metadata": {},
   "source": [
    "12.If you had a bacon() feature in a spam module, what would you call it after importing spam?"
   ]
  },
  {
   "cell_type": "markdown",
   "id": "a68a84f7",
   "metadata": {},
   "source": [
    "Answer - This function can be called with spam.bacon()."
   ]
  },
  {
   "cell_type": "markdown",
   "id": "e012ccce",
   "metadata": {},
   "source": [
    "13.What can you do to save a programme from crashing if it encounters an error?"
   ]
  },
  {
   "cell_type": "markdown",
   "id": "736a1bcc",
   "metadata": {},
   "source": [
    "Answer - Place the line of code that might cause an error in a try clause and use except block to handle the error."
   ]
  },
  {
   "cell_type": "markdown",
   "id": "6acfc96d",
   "metadata": {},
   "source": [
    "14.What is the purpose of the try clause? What is the purpose of the except clause?"
   ]
  },
  {
   "cell_type": "markdown",
   "id": "15675f2a",
   "metadata": {},
   "source": [
    "Answer - The try and except clauses in Python are used together to implement exception handling, which allows you to handle and recover from errors or exceptions that occur during program execution.\n",
    "\n",
    "The purpose of the try clause is to enclose the block of code that might raise an exception. It defines a section where you anticipate that an exception might occur. The code within the try block is executed sequentially, and if an exception is raised during this execution, the normal flow of the program is interrupted, and the execution is transferred to the appropriate except block.\n",
    "\n",
    "The purpose of the except clause is to handle specific exceptions that can occur within the corresponding try block. When an exception occurs within the try block, the Python interpreter checks if there is an except block that matches the type of the raised exception. If a match is found, the code within the corresponding except block is executed, providing a way to handle the specific exception."
   ]
  },
  {
   "cell_type": "code",
   "execution_count": null,
   "id": "fdfe5dc8",
   "metadata": {},
   "outputs": [],
   "source": []
  },
  {
   "cell_type": "code",
   "execution_count": null,
   "id": "b19d89b9",
   "metadata": {},
   "outputs": [],
   "source": []
  }
 ],
 "metadata": {
  "kernelspec": {
   "display_name": "Python 3 (ipykernel)",
   "language": "python",
   "name": "python3"
  },
  "language_info": {
   "codemirror_mode": {
    "name": "ipython",
    "version": 3
   },
   "file_extension": ".py",
   "mimetype": "text/x-python",
   "name": "python",
   "nbconvert_exporter": "python",
   "pygments_lexer": "ipython3",
   "version": "3.9.12"
  }
 },
 "nbformat": 4,
 "nbformat_minor": 5
}
