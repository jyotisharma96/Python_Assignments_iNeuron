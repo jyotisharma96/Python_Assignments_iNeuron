{
 "cells": [
  {
   "cell_type": "markdown",
   "id": "cd4448cb",
   "metadata": {},
   "source": [
    "1.Is the Python Standard Library included with PyInputPlus?"
   ]
  },
  {
   "cell_type": "markdown",
   "id": "27acf69d",
   "metadata": {},
   "source": [
    "Answer- No, the Python Standard Library is separate from PyInputPlus. The Python Standard Library is a collection of modules that are included with the Python programming language distribution. It provides a wide range of functionality for tasks such as file I/O, networking, data manipulation, web development, and more.\n",
    "\n",
    "On the other hand, PyInputPlus is not part of the Python Standard Library. It is an external library or package that provides additional features and utilities for user input handling in Python. PyInputPlus aims to simplify and enhance the process of taking user input by providing functions and classes with built-in validation, retry mechanisms, and various input options.\n",
    "\n",
    "To use PyInputPlus in your Python code, you need to install it separately using a package manager such as pip."
   ]
  },
  {
   "cell_type": "markdown",
   "id": "7b584db0",
   "metadata": {},
   "source": [
    "2.Why is PyInputPlus commonly imported with import pyinputplus as pypi?"
   ]
  },
  {
   "cell_type": "markdown",
   "id": "5d94186a",
   "metadata": {},
   "source": [
    "Answer- The import statement import pyinputplus as pypi is a common practice when importing PyInputPlus. However, it is important to note that the choice of the alias (pypi in this case) is arbitrary and can be any valid identifier.\n",
    "\n",
    "The purpose of importing PyInputPlus with an alias is to provide a shorter and more convenient name to refer to the module throughout the code. This can be particularly useful when the module name is long or when there is a possibility of naming conflicts with other modules or variables in the code.\n",
    "\n",
    "By using an alias, such as pypi, you can then access the functions and classes provided by PyInputPlus using the shortened name, making the code more readable and concise. For example, instead of writing pyinputplus.inputStr(), you can write pypi.inputStr()."
   ]
  },
  {
   "cell_type": "markdown",
   "id": "49d1ef5b",
   "metadata": {},
   "source": [
    "3.How do you distinguish between inputInt() and inputFloat()?"
   ]
  },
  {
   "cell_type": "markdown",
   "id": "7937145e",
   "metadata": {},
   "source": [
    "Answer- inputInt() function Accepts an integer value. This also takes additional parameters min, max, greaterThan and lessThan for bounds. And it always returns an int.\n",
    "\n",
    "Whereas inputFloat() function Accepts a floating-point numeric value. this also takes additional min, max, greaterThan and lessThan parameters. and always returns a float."
   ]
  },
  {
   "cell_type": "markdown",
   "id": "6d73c91a",
   "metadata": {},
   "source": [
    "4.Using PyInputPlus, how do you ensure that the user enters a whole number between 0 and 99?"
   ]
  },
  {
   "cell_type": "markdown",
   "id": "ecce4e9c",
   "metadata": {},
   "source": [
    "Answer- PyInputPlus module provides a function called as inputInt() which only returns only integer values. inorder to restrict the input between 0 and 99, i'ii use parameters like min & max to ensure that user enters the values between the defined range only.\n",
    "\n",
    "import pyinputplus as pyip\n",
    "wholenumber = pyip.inputInt(prompt='Enter a number: ', min=0, max=100)\n",
    "print(wholenumber)"
   ]
  },
  {
   "cell_type": "markdown",
   "id": "2b707004",
   "metadata": {},
   "source": [
    "5.What is transferred to the keyword arguments allowRegexes and blockRegexes?"
   ]
  },
  {
   "cell_type": "markdown",
   "id": "6ab3edd5",
   "metadata": {},
   "source": [
    "Answer- we can use allowRegexes and blockRegexes keyword arguments to take list of regular expression strings to determine what the pyinputplus function will reject or accept valid input."
   ]
  },
  {
   "cell_type": "markdown",
   "id": "47427792",
   "metadata": {},
   "source": [
    "6.If a blank input is entered three times, what does inputStr(limit=3) do?"
   ]
  },
  {
   "cell_type": "markdown",
   "id": "7d7a94e6",
   "metadata": {},
   "source": [
    "Answer- When you use the inputStr(limit=3) function from PyInputPlus with a limit value of 3 and the user enters a blank input three times consecutively, it raises a TimeoutException and stops prompting for input.\n",
    "\n",
    "The limit parameter in inputStr(limit=3) specifies the maximum number of times the function will prompt the user for input before raising a TimeoutException. This is useful when you want to limit the number of attempts the user has to provide input.\n",
    "\n",
    "In the case of entering a blank input three times, if the user doesn't provide any input (i.e., just presses Enter) for three consecutive prompts, the function will raise a TimeoutException. This indicates that the limit of three attempts has been reached without receiving any non-blank input."
   ]
  },
  {
   "cell_type": "markdown",
   "id": "2c5a03bc",
   "metadata": {},
   "source": [
    "7.If blank input is entered three times, what does inputStr(limit=3, default=&#39;hello&#39;) do?"
   ]
  },
  {
   "cell_type": "markdown",
   "id": "cc2be316",
   "metadata": {},
   "source": [
    "Answer- If you use the inputStr(limit=3, default='hello') function from PyInputPlus and the user enters a blank input three times consecutively, the function will return the default value 'hello' instead of raising an exception.\n",
    "\n",
    "The limit parameter in inputStr(limit=3, default='hello') specifies the maximum number of times the function will prompt the user for input before returning the default value. The default parameter provides the value that will be returned if the input limit is reached.\n",
    "\n",
    "In the case of entering a blank input three times, since the default value is set to 'hello', the function will return 'hello' instead of raising an exception."
   ]
  },
  {
   "cell_type": "code",
   "execution_count": null,
   "id": "ed8256cd",
   "metadata": {},
   "outputs": [],
   "source": []
  }
 ],
 "metadata": {
  "kernelspec": {
   "display_name": "Python 3 (ipykernel)",
   "language": "python",
   "name": "python3"
  },
  "language_info": {
   "codemirror_mode": {
    "name": "ipython",
    "version": 3
   },
   "file_extension": ".py",
   "mimetype": "text/x-python",
   "name": "python",
   "nbconvert_exporter": "python",
   "pygments_lexer": "ipython3",
   "version": "3.9.12"
  }
 },
 "nbformat": 4,
 "nbformat_minor": 5
}
