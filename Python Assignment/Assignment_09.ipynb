{
 "cells": [
  {
   "cell_type": "markdown",
   "id": "bf38c48b",
   "metadata": {},
   "source": [
    "1.To what does a relative path refer?"
   ]
  },
  {
   "cell_type": "markdown",
   "id": "8407b904",
   "metadata": {},
   "source": [
    "Answer- A relative path refers to the location of a file or directory in relation to the current working directory or another reference point. It specifies the path to a file or directory relative to the current location instead of specifying the complete path from the root directory.\n",
    "\n",
    "In other words, a relative path describes the path to a file or directory based on the current context or reference point. It indicates the directions needed to reach the desired file or directory from the current location."
   ]
  },
  {
   "cell_type": "markdown",
   "id": "8ef52ee2",
   "metadata": {},
   "source": [
    "2.What does an absolute path start with your operating system?"
   ]
  },
  {
   "cell_type": "markdown",
   "id": "a641e6e0",
   "metadata": {},
   "source": [
    "Answer- In most operating systems, an absolute path starts with a root directory or a drive letter followed by a separator. The specific syntax can vary depending on the operating system.\n",
    "\n",
    "Windows: Absolute paths in Windows typically start with a drive letter followed by a colon (:) and a backslash (\\). For example, C:\\path\\to\\file.txt is an absolute path on the C: drive.\n",
    "\n",
    "Unix-like systems (Linux, macOS): Absolute paths in Unix-like systems start with a forward slash (/). For example, /home/user/file.txt is an absolute path in Unix-like systems.\n",
    "\n",
    "macOS: On macOS, which is a Unix-like system, the file system structure follows the same conventions as Unix-like systems, starting with a forward slash (/)."
   ]
  },
  {
   "cell_type": "markdown",
   "id": "b674d2f0",
   "metadata": {},
   "source": [
    "3.What do the functions os.getcwd() and os.chdir() do?"
   ]
  },
  {
   "cell_type": "markdown",
   "id": "8f8cf0e6",
   "metadata": {},
   "source": [
    "Answer- The functions os.getcwd() and os.chdir() are part of the os module in Python and are used to work with the current working directory.\n",
    "\n",
    "os.getcwd()-tells us the location of current working directory(CWD)\n",
    "\n",
    "os.chdir()-used to change the current working directory(CWD)"
   ]
  },
  {
   "cell_type": "markdown",
   "id": "f18ee14e",
   "metadata": {},
   "source": [
    "4.What are the . and .. folders?"
   ]
  },
  {
   "cell_type": "markdown",
   "id": "927b7d8e",
   "metadata": {},
   "source": [
    "Answer- .folder is the link to current directory whereas ..folder is the link to the parent directory."
   ]
  },
  {
   "cell_type": "markdown",
   "id": "baa5c822",
   "metadata": {},
   "source": [
    "5.In C:\\bacon\\eggs\\spam.txt, which part is the dir name, and which part is the base name?"
   ]
  },
  {
   "cell_type": "markdown",
   "id": "9200f2d6",
   "metadata": {},
   "source": [
    "Answer- C:\\bacon\\eggs is the directory name whereas spam.txt is the base name."
   ]
  },
  {
   "cell_type": "markdown",
   "id": "7f7b5866",
   "metadata": {},
   "source": [
    "6.What are the three “mode” arguments that can be passed to the open() function?"
   ]
  },
  {
   "cell_type": "markdown",
   "id": "f753dcd3",
   "metadata": {},
   "source": [
    "Answer- A file can be Accessed in python using open() function. open function takes two arguments filename and mode of operation (optional). if mode is not provided the default mode of opening is read mode\n",
    "\n",
    "So, the syntax being: open(filename, mode)\n",
    "\n",
    "a) r:Opens the file in read only mode.\n",
    "\n",
    "b) rb : Opens the file as read-only in binary format and starts reading from the beginning of the file\n",
    "\n",
    "c)r+ : Opens a file for reading and writing, placing the pointer at the beginning of the file."
   ]
  },
  {
   "cell_type": "markdown",
   "id": "8b68e53d",
   "metadata": {},
   "source": [
    "7.What happens if an existing file is opened in write mode?"
   ]
  },
  {
   "cell_type": "markdown",
   "id": "0dd478d6",
   "metadata": {},
   "source": [
    "Answer- If an existing file is opened in write mode (\"w\"), the file's contents will be truncated or completely overwritten with the new data you write to the file. If the file does not exist, a new file with the specified name will be created."
   ]
  },
  {
   "cell_type": "markdown",
   "id": "50f96d82",
   "metadata": {},
   "source": [
    "8.How do you tell the difference between read() and readlines()?"
   ]
  },
  {
   "cell_type": "markdown",
   "id": "4ee59576",
   "metadata": {},
   "source": [
    "Answer- The read() method returns the file’s entire contents as a single string value. The readlines() method returns a list of strings, where each string is a line from the file’s contents."
   ]
  },
  {
   "cell_type": "markdown",
   "id": "50d0fed3",
   "metadata": {},
   "source": [
    "9.What data structure does a shelf value resemble?"
   ]
  },
  {
   "cell_type": "markdown",
   "id": "9dc7dc52",
   "metadata": {},
   "source": [
    "Answer- A shelf value resembles a dictionary value; it has keys and values, along with keys() and values() methods that work similarly to the dictionary methods of the same names."
   ]
  },
  {
   "cell_type": "code",
   "execution_count": null,
   "id": "2293450a",
   "metadata": {},
   "outputs": [],
   "source": []
  },
  {
   "cell_type": "code",
   "execution_count": null,
   "id": "f5274543",
   "metadata": {},
   "outputs": [],
   "source": []
  }
 ],
 "metadata": {
  "kernelspec": {
   "display_name": "Python 3 (ipykernel)",
   "language": "python",
   "name": "python3"
  },
  "language_info": {
   "codemirror_mode": {
    "name": "ipython",
    "version": 3
   },
   "file_extension": ".py",
   "mimetype": "text/x-python",
   "name": "python",
   "nbconvert_exporter": "python",
   "pygments_lexer": "ipython3",
   "version": "3.9.12"
  }
 },
 "nbformat": 4,
 "nbformat_minor": 5
}
