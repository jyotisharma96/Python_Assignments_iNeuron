{
 "cells": [
  {
   "cell_type": "markdown",
   "id": "eda1e243",
   "metadata": {},
   "source": [
    "1. In the below elements which of them are values or an expression? eg:- values can be\n",
    "integer or string and expressions will be mathematical operators.\n",
    "*\n",
    "\n",
    "&#39;hello&#39;\n",
    "\n",
    "-87.8\n",
    "\n",
    "-\n",
    "\n",
    "/\n",
    "\n",
    "+\n",
    "\n",
    "6"
   ]
  },
  {
   "cell_type": "markdown",
   "id": "02ee3b96",
   "metadata": {},
   "source": [
    "Answer - In the given elements, the values and expressions can be identified as follows:\n",
    "\n",
    "Values:\n",
    "\n",
    "'hello' (string)\n",
    "\n",
    "-87.8 (float)\n",
    "\n",
    "6 (integer)\n",
    "\n",
    "Expressions:\n",
    "\n",
    "* --> (multiplication operator)\n",
    "- --> (subtraction operator)\n",
    "+ --> (addition operator)\n",
    "\n",
    "/ --> (division operator)\n",
    "\n",
    "It's important to note that the symbols '*', '-', '/', and '+' are operators, not expressions themselves. They are used in expressions to perform mathematical operations."
   ]
  },
  {
   "cell_type": "markdown",
   "id": "f97db178",
   "metadata": {},
   "source": [
    "2.What is the difference between string and variable?"
   ]
  },
  {
   "cell_type": "markdown",
   "id": "d5df9a31",
   "metadata": {},
   "source": [
    "Answer - The key differences between a string and a variable are as follows:\n",
    "\n",
    "String:\n",
    "1. Represents textual data.\n",
    "2. Enclosed in single quotes (' ') or double quotes (\" \").\n",
    "3. Contains characters, such as letters, numbers, symbols, and spaces.\n",
    "4. Used to store and manipulate textual information.\n",
    "\n",
    "Variable:\n",
    "1. Represents a named storage location in a program.\n",
    "2. Holds a value that can change during program execution.\n",
    "3. Can have different data types, including strings, numbers, booleans, etc.\n",
    "4. Used to store and reference data in the program.\n",
    "5. Allows for dynamic and flexible data handling.\n",
    "6. Can be assigned different values throughout the program.\n",
    "7 Provides a way to work with and manipulate data in the program.\n",
    "\n",
    "In summary, a string is a specific type of data used to represent text, while a variable is a container that can hold different types of data, including strings. Variables provide flexibility and the ability to store and manipulate various types of values throughout the program's execution.\n",
    "\n",
    "\n",
    "\n",
    "\n",
    "\n",
    "\n"
   ]
  },
  {
   "cell_type": "markdown",
   "id": "d8d4ea20",
   "metadata": {},
   "source": [
    "3.Describe three different data types."
   ]
  },
  {
   "cell_type": "markdown",
   "id": "b3a8f7c3",
   "metadata": {},
   "source": [
    "The descriptions of three different data types  used in programming:\n",
    "\n",
    "Integer- An integer represents whole numbers without any fractional or decimal part. Examples: -10, 0, 42, 100. Integers are typically used for counting, indexing, and performing arithmetic operations.\n",
    "\n",
    "String - A string represents a sequence of characters, such as letters, numbers, symbols, and spaces. Examples: \"Hello\", \"OpenAI\", \"12345\". Strings are commonly used to store and manipulate textual data in programming.\n",
    "\n",
    "Boolean - A boolean represents a logical value that can be either true or false. Examples: true, false. Booleans are often used in decision-making and control flow statements to determine the execution path based on certain conditions.\n",
    "\n",
    "It's important to note that these are just three examples of data types, and programming languages typically support a wide range of data types to accommodate different types of information and computations. Other common data types include floating-point numbers, arrays, and objects, among others.\n",
    "\n"
   ]
  },
  {
   "cell_type": "markdown",
   "id": "16b5950f",
   "metadata": {},
   "source": [
    "4.What is an expression made up of? What do all expressions do?"
   ]
  },
  {
   "cell_type": "markdown",
   "id": "50c18dc5",
   "metadata": {},
   "source": [
    "Answer - An expression is a combination of values and operators. All expressions evaluate (that is, reduce) to a single value."
   ]
  },
  {
   "cell_type": "markdown",
   "id": "66476f58",
   "metadata": {},
   "source": [
    "5.This assignment statements, like spam = 10. What is the difference between an\n",
    "expression and a statement?"
   ]
  },
  {
   "cell_type": "markdown",
   "id": "c512e38a",
   "metadata": {},
   "source": [
    "Answer- An expression is a combination of values, variables, and operators.When we type an expression at the prompt, the interpreter evaluates it, which means that it finds the value of the expression.\n",
    "\n",
    "eg: 4*5+20-40 is an example of an expression\n",
    "\n",
    "A statement is a unit of code that has an effect, like creating a variable or displaying a value.When we type a statement, the interpreter executes it, which means that it does whatever the statement says. In general, statements don’t have values.\n",
    "\n",
    "eg: variable declaration and assignment are statements because they do not return a value"
   ]
  },
  {
   "cell_type": "markdown",
   "id": "3bbfc570",
   "metadata": {},
   "source": [
    "6.After running the following code, what does the variable bacon contain?\n",
    "\n",
    "bacon = 22\n",
    "\n",
    "bacon + 1"
   ]
  },
  {
   "cell_type": "markdown",
   "id": "715a0854",
   "metadata": {},
   "source": [
    "Answer - The variable bacon is set to 22 .The expression bacon + 1 does not reassign the value in bacon (that would the case if the expression is like bacon = bacon + 1 instead of bacon + 1)"
   ]
  },
  {
   "cell_type": "code",
   "execution_count": 3,
   "id": "b04f68bd",
   "metadata": {},
   "outputs": [
    {
     "name": "stdout",
     "output_type": "stream",
     "text": [
      "22\n"
     ]
    }
   ],
   "source": [
    "# Example Case-1\n",
    "\n",
    "bacon=22\n",
    "bacon+1\n",
    "print(bacon)"
   ]
  },
  {
   "cell_type": "code",
   "execution_count": 2,
   "id": "02804768",
   "metadata": {},
   "outputs": [
    {
     "name": "stdout",
     "output_type": "stream",
     "text": [
      "23\n"
     ]
    }
   ],
   "source": [
    "#Example Case-2\n",
    "\n",
    "bacon=22\n",
    "bacon=bacon+1 \n",
    "print(bacon)"
   ]
  },
  {
   "cell_type": "markdown",
   "id": "f10cbf3a",
   "metadata": {},
   "source": [
    "7.What should the values of the following two terms be?\n",
    "\n",
    "&#39;spam&#39; + &#39;spamspam&#39;\n",
    "\n",
    "&#39;spam&#39; * 3"
   ]
  },
  {
   "cell_type": "markdown",
   "id": "6657c809",
   "metadata": {},
   "source": [
    "Answer - Ans: Both expressions evaluate to the string 'spamspamspam' Where as the first expression follows String Concatentation and the second expression follows String Multiplication"
   ]
  },
  {
   "cell_type": "code",
   "execution_count": 4,
   "id": "2c5684c8",
   "metadata": {},
   "outputs": [
    {
     "name": "stdout",
     "output_type": "stream",
     "text": [
      "spamspamspam\n",
      "spamspamspam\n"
     ]
    }
   ],
   "source": [
    "print('spam'+'spamspam') # string concatenation\n",
    "print('spam'*3) # string multiplication"
   ]
  },
  {
   "cell_type": "markdown",
   "id": "31289e2d",
   "metadata": {},
   "source": [
    "8.Why is eggs a valid variable name while 100 is invalid?"
   ]
  },
  {
   "cell_type": "markdown",
   "id": "ad000861",
   "metadata": {},
   "source": [
    "Answer - A variable cannot be any reserved keyword or any integer, float or Boolean values. Since here 100 is an integer, therefore it cannot be a variable."
   ]
  },
  {
   "cell_type": "markdown",
   "id": "18235447",
   "metadata": {},
   "source": [
    "9.What three functions can be used to get the integer, floating-point number, or string\n",
    "version of a value?"
   ]
  },
  {
   "cell_type": "markdown",
   "id": "bdf64d47",
   "metadata": {},
   "source": [
    "Answer - The int(), float(), and str() functions will evaluate to the integer, floating-point number, and string versions of the value passed to them."
   ]
  },
  {
   "cell_type": "markdown",
   "id": "a4db2f3d",
   "metadata": {},
   "source": [
    "10.Why does this expression cause an error? How can you fix it?\n",
    "\n",
    "&#39;I have eaten &#39; + 99 + &#39; burritos.&#39;"
   ]
  },
  {
   "cell_type": "markdown",
   "id": "064d77ea",
   "metadata": {},
   "source": [
    "Answer - 'I have eaten ' + 99 + ' burritos.'\n",
    "\n",
    "The expression causes an error because 99 is an integer, and only strings can be concatenated to other strings with the + operator. The correct way is I have eaten ' + str(99) + ' burritos.'."
   ]
  },
  {
   "cell_type": "code",
   "execution_count": null,
   "id": "ff86bb59",
   "metadata": {},
   "outputs": [],
   "source": []
  },
  {
   "cell_type": "code",
   "execution_count": null,
   "id": "fc7d4ce6",
   "metadata": {},
   "outputs": [],
   "source": []
  }
 ],
 "metadata": {
  "kernelspec": {
   "display_name": "Python 3 (ipykernel)",
   "language": "python",
   "name": "python3"
  },
  "language_info": {
   "codemirror_mode": {
    "name": "ipython",
    "version": 3
   },
   "file_extension": ".py",
   "mimetype": "text/x-python",
   "name": "python",
   "nbconvert_exporter": "python",
   "pygments_lexer": "ipython3",
   "version": "3.9.12"
  }
 },
 "nbformat": 4,
 "nbformat_minor": 5
}
