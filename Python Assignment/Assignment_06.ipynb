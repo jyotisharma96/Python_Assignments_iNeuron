{
 "cells": [
  {
   "cell_type": "markdown",
   "id": "0fe9697c",
   "metadata": {},
   "source": [
    "1.What are escape characters, and how do you use them?"
   ]
  },
  {
   "cell_type": "markdown",
   "id": "f3634296",
   "metadata": {},
   "source": [
    "Answer - Escape characters are special characters that are used to represent certain actions or characters that cannot be easily represented or typed directly in a string or text. They are typically used within programming languages or text editors to provide a way to include special characters, control characters, or to create formatting or control sequences.\n",
    "\n",
    "Escape characters are denoted by a backslash () followed by a specific character or sequence of characters. When the escape character is encountered, it indicates that the following character(s) should be treated in a special way."
   ]
  },
  {
   "cell_type": "markdown",
   "id": "dbb4ec85",
   "metadata": {},
   "source": [
    "2.What do the escape characters n and t stand for?"
   ]
  },
  {
   "cell_type": "markdown",
   "id": "aef770b0",
   "metadata": {},
   "source": [
    "Answer - \\n is a newline; \\t is a tab."
   ]
  },
  {
   "cell_type": "markdown",
   "id": "336ee98d",
   "metadata": {},
   "source": [
    "3.What is the way to include backslash characters in a string?"
   ]
  },
  {
   "cell_type": "code",
   "execution_count": null,
   "id": "468ee1db",
   "metadata": {},
   "outputs": [],
   "source": [
    "Answer- The \\\\ escape character will represent the backslash character in a string."
   ]
  },
  {
   "cell_type": "markdown",
   "id": "79148abc",
   "metadata": {},
   "source": [
    "4.The string \"Howl's Moving Castle\" is a correct value. Why isn't the single quote character in the word Howl's not escaped a problem?"
   ]
  },
  {
   "cell_type": "markdown",
   "id": "e24e7734",
   "metadata": {},
   "source": [
    "Answer - The string \"Howl's Moving Castle\" escaped the problem because it is wrapped inside double quotes. if its wrapped inside single quotes then we have to use escape character \\' to show single quote in the final output."
   ]
  },
  {
   "cell_type": "markdown",
   "id": "f1af2eaf",
   "metadata": {},
   "source": [
    "5.How do you write a string of newlines if you don&#39;t want to use the n character?"
   ]
  },
  {
   "cell_type": "markdown",
   "id": "ae3983a9",
   "metadata": {},
   "source": [
    "Answer - Multiline strings allow you to use newlines in strings without the \\n escape character."
   ]
  },
  {
   "cell_type": "code",
   "execution_count": 6,
   "id": "b693152e",
   "metadata": {},
   "outputs": [
    {
     "name": "stdout",
     "output_type": "stream",
     "text": [
      "iNeuron full stack\n",
      "Data Science Course\n"
     ]
    }
   ],
   "source": [
    "# Example:\n",
    "a = '''iNeuron full stack\n",
    "Data Science Course'''\n",
    "print(a)"
   ]
  },
  {
   "cell_type": "markdown",
   "id": "1a6b6cc7",
   "metadata": {},
   "source": [
    "6.What are the values of the given expressions?\n",
    "\n",
    "&#39;Hello, world!&#39;[1]\n",
    "\n",
    "&#39;Hello, world!&#39;[0:5]\n",
    "\n",
    "&#39;Hello, world!&#39;[:5]\n",
    "\n",
    "&#39;Hello, world!&#39;[3:]"
   ]
  },
  {
   "cell_type": "code",
   "execution_count": 7,
   "id": "a8fab01e",
   "metadata": {},
   "outputs": [
    {
     "name": "stdout",
     "output_type": "stream",
     "text": [
      "e\n",
      "Hello\n",
      "Hello\n",
      "lo, world!\n"
     ]
    }
   ],
   "source": [
    "print(\"Hello, world!\"[1])\n",
    "print(\"Hello, world!\"[0:5])\n",
    "print(\"Hello, world!\"[:5])\n",
    "print(\"Hello, world!\"[3:])"
   ]
  },
  {
   "cell_type": "markdown",
   "id": "99816a7b",
   "metadata": {},
   "source": [
    "7.What are the values of the following expressions?\n",
    "\n",
    "&#39;Hello&#39;.upper()\n",
    "\n",
    "&#39;Hello&#39;.upper().isupper()\n",
    "\n",
    "&#39;Hello&#39;.upper().lower()"
   ]
  },
  {
   "cell_type": "code",
   "execution_count": 8,
   "id": "03ef8340",
   "metadata": {},
   "outputs": [
    {
     "name": "stdout",
     "output_type": "stream",
     "text": [
      "HELLO\n",
      "True\n",
      "hello\n"
     ]
    }
   ],
   "source": [
    "print('Hello'.upper())\n",
    "print('Hello'.upper().isupper())\n",
    "print('Hello'.upper().lower())"
   ]
  },
  {
   "cell_type": "markdown",
   "id": "6196eefd",
   "metadata": {},
   "source": [
    "8.What are the values of the following expressions?\n",
    "\n",
    "&#39;Remember, remember, the fifth of July.&#39;.split()\n",
    "\n",
    "&#39;-&#39;.join(&#39;There can only one.&#39;.split())"
   ]
  },
  {
   "cell_type": "code",
   "execution_count": 9,
   "id": "63c8dbc9",
   "metadata": {},
   "outputs": [
    {
     "name": "stdout",
     "output_type": "stream",
     "text": [
      "['Remember,', 'remember,', 'the', 'fifth', 'of', 'November.']\n"
     ]
    },
    {
     "data": {
      "text/plain": [
       "'There-can-be-only-one.'"
      ]
     },
     "execution_count": 9,
     "metadata": {},
     "output_type": "execute_result"
    }
   ],
   "source": [
    "print('Remember, remember, the fifth of November.'.split())\n",
    "'-'.join('There can be only one.'.split())"
   ]
  },
  {
   "cell_type": "markdown",
   "id": "89db903a",
   "metadata": {},
   "source": [
    "9.What are the methods for right-justifying, left-justifying, and centering a string?"
   ]
  },
  {
   "cell_type": "markdown",
   "id": "28c088d2",
   "metadata": {},
   "source": [
    "Answer- The rjust(), ljust(), and center() string methods, respectively."
   ]
  },
  {
   "cell_type": "markdown",
   "id": "20178953",
   "metadata": {},
   "source": [
    "10.What is the best way to remove whitespace characters from the start or end?"
   ]
  },
  {
   "cell_type": "markdown",
   "id": "c581a034",
   "metadata": {},
   "source": [
    "Answer - The lstrip() and rstrip() methods remove whitespace from the left and right ends of a string, respectively."
   ]
  },
  {
   "cell_type": "code",
   "execution_count": null,
   "id": "ff5aae33",
   "metadata": {},
   "outputs": [],
   "source": []
  },
  {
   "cell_type": "code",
   "execution_count": null,
   "id": "198bab3d",
   "metadata": {},
   "outputs": [],
   "source": []
  },
  {
   "cell_type": "code",
   "execution_count": null,
   "id": "60109e59",
   "metadata": {},
   "outputs": [],
   "source": []
  }
 ],
 "metadata": {
  "kernelspec": {
   "display_name": "Python 3 (ipykernel)",
   "language": "python",
   "name": "python3"
  },
  "language_info": {
   "codemirror_mode": {
    "name": "ipython",
    "version": 3
   },
   "file_extension": ".py",
   "mimetype": "text/x-python",
   "name": "python",
   "nbconvert_exporter": "python",
   "pygments_lexer": "ipython3",
   "version": "3.9.12"
  }
 },
 "nbformat": 4,
 "nbformat_minor": 5
}
