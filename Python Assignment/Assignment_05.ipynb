{
 "cells": [
  {
   "cell_type": "markdown",
   "id": "d1fe5795",
   "metadata": {},
   "source": [
    "1.What does an empty dictionary&#39;s code look like?"
   ]
  },
  {
   "cell_type": "markdown",
   "id": "43a1d6a2",
   "metadata": {},
   "source": [
    "Answer - An empty dictionary in Python is represented by a pair of curly braces {} with no key-value pairs inside."
   ]
  },
  {
   "cell_type": "code",
   "execution_count": 1,
   "id": "b0df14d0",
   "metadata": {},
   "outputs": [],
   "source": [
    "my_dict = {}"
   ]
  },
  {
   "cell_type": "markdown",
   "id": "c4415438",
   "metadata": {},
   "source": [
    "2.What is the value of a dictionary value with the key &#39;foo&#39; and the value 42?"
   ]
  },
  {
   "cell_type": "code",
   "execution_count": 2,
   "id": "b9e97488",
   "metadata": {},
   "outputs": [
    {
     "data": {
      "text/plain": [
       "42"
      ]
     },
     "execution_count": 2,
     "metadata": {},
     "output_type": "execute_result"
    }
   ],
   "source": [
    "dict1={'foo':42}\n",
    "dict1.get('foo')"
   ]
  },
  {
   "cell_type": "markdown",
   "id": "a21de462",
   "metadata": {},
   "source": [
    "3.What is the most significant distinction between a dictionary and a list?"
   ]
  },
  {
   "cell_type": "markdown",
   "id": "aaf86683",
   "metadata": {},
   "source": [
    "Answer - List elemnets is stored in [] and dictionary elements is stored in {} in which it contains the elments in key,value pair"
   ]
  },
  {
   "cell_type": "markdown",
   "id": "ba3b2d91",
   "metadata": {},
   "source": [
    "4.What happens if you try to access spam[&#39;foo&#39;] if spam is {&#39;bar&#39;: 100}?"
   ]
  },
  {
   "cell_type": "markdown",
   "id": "65ec0f18",
   "metadata": {},
   "source": [
    "Answer - It will through as error because on spam dictionary no 'foo' key value is present."
   ]
  },
  {
   "cell_type": "code",
   "execution_count": 4,
   "id": "8c315363",
   "metadata": {},
   "outputs": [],
   "source": [
    "spam= {'bar': 100}"
   ]
  },
  {
   "cell_type": "code",
   "execution_count": 5,
   "id": "f0316e30",
   "metadata": {},
   "outputs": [
    {
     "ename": "KeyError",
     "evalue": "'foo'",
     "output_type": "error",
     "traceback": [
      "\u001b[1;31m---------------------------------------------------------------------------\u001b[0m",
      "\u001b[1;31mKeyError\u001b[0m                                  Traceback (most recent call last)",
      "Cell \u001b[1;32mIn [5], line 1\u001b[0m\n\u001b[1;32m----> 1\u001b[0m \u001b[43mspam\u001b[49m\u001b[43m[\u001b[49m\u001b[38;5;124;43m'\u001b[39;49m\u001b[38;5;124;43mfoo\u001b[39;49m\u001b[38;5;124;43m'\u001b[39;49m\u001b[43m]\u001b[49m\n",
      "\u001b[1;31mKeyError\u001b[0m: 'foo'"
     ]
    }
   ],
   "source": [
    "spam['foo']"
   ]
  },
  {
   "cell_type": "markdown",
   "id": "f43dad31",
   "metadata": {},
   "source": [
    "5.If a dictionary is stored in spam, what is the difference between the expressions &#39;cat&#39; in spam and\n",
    "&#39;cat&#39; in spam.keys()?"
   ]
  },
  {
   "cell_type": "code",
   "execution_count": 7,
   "id": "b052925b",
   "metadata": {},
   "outputs": [
    {
     "data": {
      "text/plain": [
       "True"
      ]
     },
     "execution_count": 7,
     "metadata": {},
     "output_type": "execute_result"
    }
   ],
   "source": [
    "spam={'cat':23}\n",
    "'cat' in spam"
   ]
  },
  {
   "cell_type": "markdown",
   "id": "a8da62f0",
   "metadata": {},
   "source": [
    "Both the expression gives the same output,if cat is present on keys then the output through as True and if its not present then ouput through as False.'cat' in spam .keys() in will check all the keys elements whether the cat is present or not."
   ]
  },
  {
   "cell_type": "markdown",
   "id": "83724017",
   "metadata": {},
   "source": [
    "6.If a dictionary is stored in spam, what is the difference between the expressions &#39;cat&#39; in spam and\n",
    "&#39;cat&#39; in spam.values()?"
   ]
  },
  {
   "cell_type": "markdown",
   "id": "db6d0016",
   "metadata": {},
   "source": [
    "Answer - 'cat' in spam checks whether there is a 'cat' key in the dictionary, while 'cat' in spam.values() checks whether there is a value 'cat' for one of the keys in spam."
   ]
  },
  {
   "cell_type": "markdown",
   "id": "324039af",
   "metadata": {},
   "source": [
    "7.What is a shortcut for the following code?\n",
    "\n",
    "if &#39;color&#39; not in spam:\n",
    "\n",
    "spam[&#39;color&#39;] = &#39;black&#39;"
   ]
  },
  {
   "cell_type": "code",
   "execution_count": 8,
   "id": "ea187f3c",
   "metadata": {},
   "outputs": [
    {
     "data": {
      "text/plain": [
       "'black'"
      ]
     },
     "execution_count": 8,
     "metadata": {},
     "output_type": "execute_result"
    }
   ],
   "source": [
    "spam.setdefault('color','black')"
   ]
  },
  {
   "cell_type": "markdown",
   "id": "810c4da9",
   "metadata": {},
   "source": [
    "8.How do you &quot;pretty print&quot; dictionary values using which module and function?"
   ]
  },
  {
   "cell_type": "markdown",
   "id": "fc169551",
   "metadata": {},
   "source": [
    "Answer - To \"pretty print\" dictionary values in Python, you can make use of the pprint module, which provides the pprint() function. The pprint module stands for \"pretty print\" and is designed to format complex data structures, such as dictionaries, in a more readable and visually appealing way."
   ]
  },
  {
   "cell_type": "code",
   "execution_count": 9,
   "id": "831897a1",
   "metadata": {},
   "outputs": [
    {
     "name": "stdout",
     "output_type": "stream",
     "text": [
      "{'age': 25, 'city': 'New York', 'name': 'John'}\n"
     ]
    }
   ],
   "source": [
    "import pprint\n",
    "\n",
    "my_dict = {'name': 'John', 'age': 25, 'city': 'New York'}\n",
    "pprint.pprint(my_dict)"
   ]
  },
  {
   "cell_type": "markdown",
   "id": "a260102a",
   "metadata": {},
   "source": [
    "In this example, the pprint.pprint() function is used to pretty print the dictionary my_dict. When you run this code, the dictionary will be formatted in a more structured and visually pleasing way, with indentation and line breaks for better readability."
   ]
  },
  {
   "cell_type": "code",
   "execution_count": 10,
   "id": "29a16a42",
   "metadata": {},
   "outputs": [
    {
     "data": {
      "text/plain": [
       "{'age': 25, 'city': 'New York', 'name': 'John'}"
      ]
     },
     "execution_count": 10,
     "metadata": {},
     "output_type": "execute_result"
    }
   ],
   "source": [
    "{'age': 25,\n",
    " 'city': 'New York',\n",
    " 'name': 'John'}"
   ]
  },
  {
   "cell_type": "markdown",
   "id": "2ab0a083",
   "metadata": {},
   "source": [
    "By default, pprint.pprint() uses a width of 80 characters for the output. If the dictionary exceeds this width, it will be automatically wrapped to the next line.\n",
    "\n",
    "Using pprint is particularly useful when dealing with large or nested dictionaries, as it helps you visualize the structure of the data more easily."
   ]
  },
  {
   "cell_type": "code",
   "execution_count": null,
   "id": "8a498412",
   "metadata": {},
   "outputs": [],
   "source": []
  }
 ],
 "metadata": {
  "kernelspec": {
   "display_name": "Python 3 (ipykernel)",
   "language": "python",
   "name": "python3"
  },
  "language_info": {
   "codemirror_mode": {
    "name": "ipython",
    "version": 3
   },
   "file_extension": ".py",
   "mimetype": "text/x-python",
   "name": "python",
   "nbconvert_exporter": "python",
   "pygments_lexer": "ipython3",
   "version": "3.9.12"
  }
 },
 "nbformat": 4,
 "nbformat_minor": 5
}
