{
 "cells": [
  {
   "cell_type": "markdown",
   "id": "18e684af",
   "metadata": {},
   "source": [
    "1.Create an assert statement that throws an AssertionError if the variable spam is a negative\n",
    "integer."
   ]
  },
  {
   "cell_type": "code",
   "execution_count": 3,
   "id": "c79864ae",
   "metadata": {},
   "outputs": [
    {
     "name": "stdout",
     "output_type": "stream",
     "text": [
      "Enter a number for checking whether it is spam or not:-5\n"
     ]
    },
    {
     "ename": "AssertionError",
     "evalue": "The spam variable is negative integer.",
     "output_type": "error",
     "traceback": [
      "\u001b[1;31m---------------------------------------------------------------------------\u001b[0m",
      "\u001b[1;31mAssertionError\u001b[0m                            Traceback (most recent call last)",
      "Cell \u001b[1;32mIn [3], line 2\u001b[0m\n\u001b[0;32m      1\u001b[0m spam\u001b[38;5;241m=\u001b[39m\u001b[38;5;28mint\u001b[39m(\u001b[38;5;28minput\u001b[39m(\u001b[38;5;124m\"\u001b[39m\u001b[38;5;124mEnter a number for checking whether it is spam or not:\u001b[39m\u001b[38;5;124m\"\u001b[39m))\n\u001b[1;32m----> 2\u001b[0m \u001b[38;5;28;01massert\u001b[39;00m spam \u001b[38;5;241m>\u001b[39m\u001b[38;5;241m=\u001b[39m \u001b[38;5;241m0\u001b[39m, \u001b[38;5;124m'\u001b[39m\u001b[38;5;124mThe spam variable is negative integer.\u001b[39m\u001b[38;5;124m'\u001b[39m\n",
      "\u001b[1;31mAssertionError\u001b[0m: The spam variable is negative integer."
     ]
    }
   ],
   "source": [
    "spam=int(input(\"Enter a number for checking whether it is spam or not:\"))\n",
    "assert spam >= 0, 'The spam variable is negative integer.'"
   ]
  },
  {
   "cell_type": "markdown",
   "id": "d88888c9",
   "metadata": {},
   "source": [
    "2.Write an assert statement that triggers an AssertionError if the variables eggs and bacon contain\n",
    "strings that are the same as each other, even if their cases are different (that is, &#39;hello&#39; and &#39;hello&#39; are\n",
    "considered the same, and &#39;goodbye&#39; and &#39;GOODbye&#39; are also considered the same)."
   ]
  },
  {
   "cell_type": "markdown",
   "id": "a3ec5748",
   "metadata": {},
   "source": [
    "Answer- You can use the str.lower() method to convert both eggs and bacon to lowercase before comparing them. Here's an assert statement that triggers an AssertionError if the variables eggs and bacon contain strings that are the same, regardless of their case."
   ]
  },
  {
   "cell_type": "code",
   "execution_count": 7,
   "id": "fb43a9f2",
   "metadata": {},
   "outputs": [
    {
     "ename": "AssertionError",
     "evalue": "The eggs and bacon variables are the same!",
     "output_type": "error",
     "traceback": [
      "\u001b[1;31m---------------------------------------------------------------------------\u001b[0m",
      "\u001b[1;31mAssertionError\u001b[0m                            Traceback (most recent call last)",
      "Cell \u001b[1;32mIn [7], line 3\u001b[0m\n\u001b[0;32m      1\u001b[0m eggs\u001b[38;5;241m=\u001b[39m\u001b[38;5;124m'\u001b[39m\u001b[38;5;124mhello\u001b[39m\u001b[38;5;124m'\u001b[39m\n\u001b[0;32m      2\u001b[0m bacon\u001b[38;5;241m=\u001b[39m\u001b[38;5;124m\"\u001b[39m\u001b[38;5;124mHello\u001b[39m\u001b[38;5;124m\"\u001b[39m\n\u001b[1;32m----> 3\u001b[0m \u001b[38;5;28;01massert\u001b[39;00m eggs\u001b[38;5;241m.\u001b[39mlower() \u001b[38;5;241m!=\u001b[39m bacon\u001b[38;5;241m.\u001b[39mlower(), \u001b[38;5;124m'\u001b[39m\u001b[38;5;124mThe eggs and bacon variables are the same!\u001b[39m\u001b[38;5;124m'\u001b[39m\n\u001b[0;32m      4\u001b[0m \u001b[38;5;28;01massert\u001b[39;00m eggs\u001b[38;5;241m.\u001b[39mupper() \u001b[38;5;241m!=\u001b[39m bacon\u001b[38;5;241m.\u001b[39mupper(), \u001b[38;5;124m'\u001b[39m\u001b[38;5;124mThe eggs and bacon variables are the same!\u001b[39m\u001b[38;5;124m'\u001b[39m\n",
      "\u001b[1;31mAssertionError\u001b[0m: The eggs and bacon variables are the same!"
     ]
    }
   ],
   "source": [
    "eggs='hello'\n",
    "bacon=\"Hello\"\n",
    "assert eggs.lower() != bacon.lower(), 'The eggs and bacon variables are the same!'\n",
    "assert eggs.upper() != bacon.upper(), 'The eggs and bacon variables are the same!'"
   ]
  },
  {
   "cell_type": "markdown",
   "id": "ed568e1e",
   "metadata": {},
   "source": [
    "3.Create an assert statement that throws an AssertionError every time."
   ]
  },
  {
   "cell_type": "code",
   "execution_count": 8,
   "id": "ce3d89c8",
   "metadata": {},
   "outputs": [
    {
     "ename": "AssertionError",
     "evalue": "This assertion always triggers.",
     "output_type": "error",
     "traceback": [
      "\u001b[1;31m---------------------------------------------------------------------------\u001b[0m",
      "\u001b[1;31mAssertionError\u001b[0m                            Traceback (most recent call last)",
      "Cell \u001b[1;32mIn [8], line 1\u001b[0m\n\u001b[1;32m----> 1\u001b[0m \u001b[38;5;28;01massert\u001b[39;00m \u001b[38;5;28;01mFalse\u001b[39;00m, \u001b[38;5;124m'\u001b[39m\u001b[38;5;124mThis assertion always triggers.\u001b[39m\u001b[38;5;124m'\u001b[39m\n",
      "\u001b[1;31mAssertionError\u001b[0m: This assertion always triggers."
     ]
    }
   ],
   "source": [
    "assert False, 'This assertion always triggers.'"
   ]
  },
  {
   "cell_type": "markdown",
   "id": "2d0c3be1",
   "metadata": {},
   "source": [
    "4.What are the two lines that must be present in your software in order to call logging.debug()?"
   ]
  },
  {
   "cell_type": "code",
   "execution_count": 9,
   "id": "3041e650",
   "metadata": {},
   "outputs": [],
   "source": [
    "import logging\n",
    "logging.basicConfig(level=logging.DEBUG, format=' %(asctime)s - %(levelname)s - %(message)s')"
   ]
  },
  {
   "cell_type": "markdown",
   "id": "79225bef",
   "metadata": {},
   "source": [
    "5.What are the two lines that your program must have in order to have logging.debug() send a\n",
    "logging message to a file named programLog.txt?"
   ]
  },
  {
   "cell_type": "code",
   "execution_count": 10,
   "id": "d2a01c31",
   "metadata": {},
   "outputs": [],
   "source": [
    "import logging\n",
    "\n",
    "logging.basicConfig(filename='programLog.txt', level=logging.DEBUG,\n",
    "\n",
    "format=' %(asctime)s - %(levelname)s - %(message)s')"
   ]
  },
  {
   "cell_type": "markdown",
   "id": "43f27437",
   "metadata": {},
   "source": [
    "6.What are the five levels of logging?"
   ]
  },
  {
   "cell_type": "markdown",
   "id": "adf7437f",
   "metadata": {},
   "source": [
    "Answer- The logging module in Python provides five standard levels of logging-\n",
    "\n",
    "DEBUG: Detailed information, typically useful for diagnosing problems during development or debugging. These messages are typically disabled in production environments.\n",
    "\n",
    "INFO: Confirmation that things are working as expected. It provides general operational information and significant milestones in the program's execution.\n",
    "\n",
    "WARNING: Indication of a potential problem or a situation that may lead to an error in the future. The program is still functioning as expected, but it's worth paying attention to these messages to prevent any issues.\n",
    "\n",
    "ERROR: Signifies a more severe problem that caused a specific functionality to fail or an operation to abort. The program may still continue running, but it indicates the occurrence of an error.\n",
    "\n",
    "CRITICAL: Represents a critical error or a failure that prevents the program from continuing to run. It typically indicates a severe problem that requires immediate attention.\n",
    "\n",
    "By default, the logging module is set to the WARNING level, which means it will only display WARNING, ERROR, and CRITICAL log messages. You can modify the logging level using the logging.basicConfig() function or by configuring a logger object."
   ]
  },
  {
   "cell_type": "markdown",
   "id": "8e2d556f",
   "metadata": {},
   "source": [
    "7.What line of code would you add to your software to disable all logging messages?"
   ]
  },
  {
   "cell_type": "code",
   "execution_count": 11,
   "id": "cb0e53d5",
   "metadata": {},
   "outputs": [],
   "source": [
    "logging.disable(logging.CRITICAL)"
   ]
  },
  {
   "cell_type": "markdown",
   "id": "5060c4e8",
   "metadata": {},
   "source": [
    "This line sets the logging level to logging.CRITICAL, which is the highest severity level. As a result, all log messages, including DEBUG, INFO, WARNING, and ERROR, will be effectively disabled.\n",
    "\n",
    "Once this line is executed, no logging messages will be displayed or written to any configured output, such as the console or log files."
   ]
  },
  {
   "cell_type": "markdown",
   "id": "690031e1",
   "metadata": {},
   "source": [
    "8.Why is using logging messages better than using print() to display the same message?"
   ]
  },
  {
   "cell_type": "markdown",
   "id": "b90c247d",
   "metadata": {},
   "source": [
    "Answer- Logging messages are preferred over print() statements for the following reasons:\n",
    "\n",
    "Configurability: Logging allows easy configuration of log levels, output destinations, and message formats.\n",
    "\n",
    "Granularity: Logging provides different severity levels for categorizing messages.\n",
    "\n",
    "Runtime Impact: Logging can be enabled or disabled without modifying the code.\n",
    "\n",
    "Flexibility: Logging supports various handlers, formatters, and filters.\n",
    "\n",
    "Standardization: Logging follows a standardized approach for consistent usage.\n",
    "\n",
    "Integration: Logging integrates well with other systems and frameworks."
   ]
  },
  {
   "cell_type": "markdown",
   "id": "dfa36c95",
   "metadata": {},
   "source": [
    "9.What are the differences between the Step Over, Step In, and Step Out buttons in the debugger?"
   ]
  },
  {
   "cell_type": "markdown",
   "id": "1ce861c9",
   "metadata": {},
   "source": [
    "Answer- The Step Over, Step In, and Step Out buttons are commonly found in debuggers and are used to control the execution flow during debugging. Here are brief explanations of each:\n",
    "\n",
    "Step Over: When the Step Over button is clicked, the debugger will execute the current line of code and move to the next line in the program. If the next line contains a function call, the debugger will execute the entire function without stepping into it. This allows you to skip over function calls and focus on the high-level flow of the program.\n",
    "\n",
    "Step In: The Step In button is used to dive into the execution of a function call. When clicked, the debugger will move to the next line of code, but if the line contains a function call, it will step into that function and continue debugging from the first line of that function. This allows you to explore the internal execution of functions and trace through the code line by line.\n",
    "\n",
    "Step Out: The Step Out button is used to quickly finish the execution of the current function and return to the calling function. When clicked, the debugger will continue executing the lines of code until it exits the current function and reaches the line of code that made the function call. This is useful when you want to quickly move out of a function and focus on the higher-level code.\n",
    "\n"
   ]
  },
  {
   "cell_type": "markdown",
   "id": "068dddb2",
   "metadata": {},
   "source": [
    "10.After you click Continue, when will the debugger stop ?"
   ]
  },
  {
   "cell_type": "markdown",
   "id": "fd3e0af1",
   "metadata": {},
   "source": [
    "Answer- After you click Continue, the debugger will stop when it has reached the end of the program or a line with a breakpoint."
   ]
  },
  {
   "cell_type": "markdown",
   "id": "032b5dc0",
   "metadata": {},
   "source": [
    "11.What is the concept of a breakpoint?"
   ]
  },
  {
   "cell_type": "markdown",
   "id": "838e6032",
   "metadata": {},
   "source": [
    "A breakpoint is a setting on a line of code that causes the debugger to pause when the program execution reaches the line."
   ]
  },
  {
   "cell_type": "code",
   "execution_count": null,
   "id": "b460403b",
   "metadata": {},
   "outputs": [],
   "source": []
  },
  {
   "cell_type": "code",
   "execution_count": null,
   "id": "2b2e951f",
   "metadata": {},
   "outputs": [],
   "source": []
  },
  {
   "cell_type": "code",
   "execution_count": null,
   "id": "16d1aa7c",
   "metadata": {},
   "outputs": [],
   "source": []
  }
 ],
 "metadata": {
  "kernelspec": {
   "display_name": "Python 3 (ipykernel)",
   "language": "python",
   "name": "python3"
  },
  "language_info": {
   "codemirror_mode": {
    "name": "ipython",
    "version": 3
   },
   "file_extension": ".py",
   "mimetype": "text/x-python",
   "name": "python",
   "nbconvert_exporter": "python",
   "pygments_lexer": "ipython3",
   "version": "3.9.12"
  }
 },
 "nbformat": 4,
 "nbformat_minor": 5
}
