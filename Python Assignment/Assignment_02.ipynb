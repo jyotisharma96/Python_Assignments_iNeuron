{
 "cells": [
  {
   "cell_type": "markdown",
   "id": "6402602e",
   "metadata": {},
   "source": [
    "1.What are the two values of the Boolean data type? How do you write them?"
   ]
  },
  {
   "cell_type": "markdown",
   "id": "e6b37192",
   "metadata": {},
   "source": [
    "The Boolean data type typically represents two values: \"true\" and \"false.\" Boolean values are commonly used for logical operations, conditional statements, and decision-making in programming. They allow you to express conditions and make comparisons, enabling you to control the flow of a program based on the evaluation of these conditions."
   ]
  },
  {
   "cell_type": "code",
   "execution_count": 1,
   "id": "1269b805",
   "metadata": {},
   "outputs": [
    {
     "name": "stdout",
     "output_type": "stream",
     "text": [
      "True <class 'bool'>\n",
      "False <class 'bool'>\n"
     ]
    }
   ],
   "source": [
    "x=True\n",
    "y=False\n",
    "print(x,type(x))\n",
    "print(y,type(y))"
   ]
  },
  {
   "cell_type": "markdown",
   "id": "156a58a9",
   "metadata": {},
   "source": [
    "2.What are the three different types of Boolean operators?"
   ]
  },
  {
   "cell_type": "markdown",
   "id": "c08513ec",
   "metadata": {},
   "source": [
    "The three different types of Boolean operators are:\n",
    "\n",
    "AND Operator: The AND operator returns true if both operands are true; otherwise, it returns false. It is represented by the symbol \"&&\" or the word \"AND.\" For example, in the expression \"A && B,\" the result is true only if both A and B are true.\n",
    "\n",
    "OR Operator: The OR operator returns true if at least one of the operands is true; otherwise, it returns false. It is represented by the symbol \"||\" or the word \"OR.\" For example, in the expression \"A || B,\" the result is true if either A or B (or both) is true.\n",
    "\n",
    "NOT Operator: The NOT operator, also known as the negation operator, is a unary operator that returns the opposite of the operand's value. It is represented by the symbol \"!\" or the word \"NOT.\" For example, in the expression \"!A,\" the result is true if A is false, and vice versa."
   ]
  },
  {
   "cell_type": "markdown",
   "id": "0560997b",
   "metadata": {},
   "source": [
    "3.Make a list of each Boolean operator&#39;s truth tables (i.e. every possible combination of Boolean\n",
    "values for the operator and what it evaluate )."
   ]
  },
  {
   "cell_type": "markdown",
   "id": "5c611a63",
   "metadata": {},
   "source": [
    "Answer- \n",
    "\n",
    "##### Truth Table for AND operator:\n",
    "\n",
    "True and True is True.\n",
    "\n",
    "True and False is False.\n",
    "\n",
    "False and True is False.\n",
    "\n",
    "False and False is False.\n",
    "\n",
    "##### Truth Table for OR operator:\n",
    "\n",
    "True or True is True.\n",
    "\n",
    "True or False is True.\n",
    "\n",
    "False or True is True.\n",
    "\n",
    "False or False is False.\n",
    "\n",
    "##### Truth Table for NOT operator:\n",
    "\n",
    "not True is False.\n",
    "\n",
    "not False is True.\n",
    "\n",
    "True is 1 and False is 0\n",
    "\n",
    "\n",
    "Truth Table for AND\n",
    "\n",
    "A B output\n",
    "\n",
    "0 0 0\n",
    "\n",
    "0 1 0\n",
    "\n",
    "1 0 0\n",
    "\n",
    "1 1 1\n",
    "\n",
    "Truth Table for OR\n",
    "\n",
    "A B output\n",
    "\n",
    "0 0 0\n",
    "\n",
    "0 1 1\n",
    "\n",
    "1 0 1\n",
    "\n",
    "1 1 1\n",
    "\n",
    "\n",
    "Truth Table for NOT\n",
    "\n",
    "A output\n",
    "\n",
    "0 1\n",
    "\n",
    "1 0\n",
    "\n"
   ]
  },
  {
   "cell_type": "markdown",
   "id": "9b9b916d",
   "metadata": {},
   "source": [
    "4.What are the values of the following expressions?\n",
    "\n",
    "(5 &gt; 4) and (3 == 5)\n",
    "\n",
    "not (5 &gt; 4)\n",
    "\n",
    "(5 &gt; 4) or (3 == 5)\n",
    "\n",
    "not ((5 &gt; 4) or (3 == 5))\n",
    "\n",
    "(True and True) and (True == False)\n",
    "\n",
    "(not False) or (not True)"
   ]
  },
  {
   "cell_type": "code",
   "execution_count": 1,
   "id": "705892ed",
   "metadata": {},
   "outputs": [
    {
     "name": "stdout",
     "output_type": "stream",
     "text": [
      "False\n",
      "False\n",
      "True\n",
      "False\n",
      "False\n",
      "True\n"
     ]
    }
   ],
   "source": [
    "print((5>4)and(3==5))\n",
    "print(not(5>4))\n",
    "print((5>4)or(3==5))\n",
    "print(not((5>4)or(3==5)))\n",
    "print((True and True)and(True==False))\n",
    "print((not False)or(not True))"
   ]
  },
  {
   "cell_type": "markdown",
   "id": "6c10371b",
   "metadata": {},
   "source": [
    "5.What are the six comparison operators?"
   ]
  },
  {
   "cell_type": "markdown",
   "id": "42550d4f",
   "metadata": {},
   "source": [
    "Answer- The six comparison operators are:\n",
    "\n",
    "Equal to (==): This operator checks if two values are equal and returns true if they are, and false otherwise. For example, 5 == 5 evaluates to true.\n",
    "\n",
    "Not equal to (!=): This operator checks if two values are not equal and returns true if they are not, and false if they are equal. For example, 5 != 3 evaluates to true.\n",
    "\n",
    "Greater than (>): This operator checks if the value on the left is greater than the value on the right and returns true if it is, and false otherwise. For example, 5 > 3 evaluates to true.\n",
    "\n",
    "Less than (<): This operator checks if the value on the left is less than the value on the right and returns true if it is, and false otherwise. For example, 3 < 5 evaluates to true.\n",
    "\n",
    "Greater than or equal to (>=): This operator checks if the value on the left is greater than or equal to the value on the right and returns true if it is, and false otherwise. For example, 5 >= 5 evaluates to true.\n",
    "\n",
    "Less than or equal to (<=): This operator checks if the value on the left is less than or equal to the value on the right and returns true if it is, and false otherwise. For example, 3 <= 5 evaluates to true."
   ]
  },
  {
   "cell_type": "markdown",
   "id": "c21f9cdc",
   "metadata": {},
   "source": [
    "6.How do you tell the difference between the equal to and assignment operators?Describe a\n",
    "condition and when you would use one."
   ]
  },
  {
   "cell_type": "markdown",
   "id": "4c662916",
   "metadata": {},
   "source": [
    "Answer- \n",
    "\n",
    "(==) is the equal to operator that compares two values and evaluates to a Boolean, while = is the assignment operator that stores a value in a variable.\n",
    "\n",
    "For example:-\n",
    "\n",
    "x=10 y=20 z=20\n",
    "\n",
    "(x==y) is False because we assigned different values to x and y.\n",
    "\n",
    "(y==z) is True because we assign equal values to y and z.\n",
    "\n",
    "A condition is an expression used in a flow control statement that evaluates to a Boolean value."
   ]
  },
  {
   "cell_type": "markdown",
   "id": "257d4a90",
   "metadata": {},
   "source": [
    "7.Identify the three blocks in this code:\n",
    "\n",
    "spam = 0\n",
    "\n",
    "if spam == 10:\n",
    "\n",
    "print(&#39;eggs&#39;)\n",
    "\n",
    "if spam &gt; 5:\n",
    "\n",
    "print(&#39;bacon&#39;)\n",
    "\n",
    "else:\n",
    "\n",
    "print(&#39;ham&#39;)\n",
    "\n",
    "print(&#39;spam&#39;)\n",
    "\n",
    "print(&#39;spam&#39;)"
   ]
  },
  {
   "cell_type": "markdown",
   "id": "692482f4",
   "metadata": {},
   "source": [
    "Answer - In Python, code block refers to a collection of code that is in the same block or indent. This is most commonly found in classes, functions, and loops."
   ]
  },
  {
   "cell_type": "code",
   "execution_count": 2,
   "id": "906f6db7",
   "metadata": {},
   "outputs": [
    {
     "name": "stdout",
     "output_type": "stream",
     "text": [
      "ham\n",
      "spam\n",
      "spam\n"
     ]
    }
   ],
   "source": [
    "spam = 0  \n",
    "if spam == 10:  \n",
    "    print('eggs')  # block #1\n",
    "if spam > 5:  \n",
    "    print('bacon')  # block #2\n",
    "else:  \n",
    "    print('ham')  # block #3\n",
    "print('spam')  \n",
    "print('spam')"
   ]
  },
  {
   "cell_type": "markdown",
   "id": "b6c93cd8",
   "metadata": {},
   "source": [
    "8.Write code that prints Hello if 1 is stored in spam, prints Howdy if 2 is stored in spam, and prints\n",
    "Greetings! if anything else is stored in spam."
   ]
  },
  {
   "cell_type": "code",
   "execution_count": 6,
   "id": "f7bea269",
   "metadata": {},
   "outputs": [
    {
     "name": "stdout",
     "output_type": "stream",
     "text": [
      "Input a no.7\n",
      "Greetings!\n"
     ]
    }
   ],
   "source": [
    "spam = int(input(\"Input a no.\"))\n",
    "if spam == 1:\n",
    "    print(\"Hello\")\n",
    "elif spam == 2:\n",
    "    print(\"Howdy\")\n",
    "else:\n",
    "    print(\"Greetings!\")"
   ]
  },
  {
   "cell_type": "markdown",
   "id": "aa476148",
   "metadata": {},
   "source": [
    "9.If your programme is stuck in an endless loop, what keys you’ll press?"
   ]
  },
  {
   "cell_type": "markdown",
   "id": "fb398330",
   "metadata": {},
   "source": [
    "Answer - If program is stuck in endless loop we will press ctrl+c.\n"
   ]
  },
  {
   "cell_type": "markdown",
   "id": "df447854",
   "metadata": {},
   "source": [
    "10.How can you tell the difference between break and continue?"
   ]
  },
  {
   "cell_type": "markdown",
   "id": "64957eab",
   "metadata": {},
   "source": [
    "Answer - In Python, the break and continue statements are used to alter the flow of execution within loops (such as for and while loops). Here's how you can differentiate between them:\n",
    "\n",
    "break - When encountered inside a loop, the break statement immediately terminates the loop execution, regardless of the loop's condition. It is typically used to exit a loop prematurely when a certain condition is met. After the break statement is encountered, the program continues executing from the statement immediately after the loop."
   ]
  },
  {
   "cell_type": "code",
   "execution_count": 11,
   "id": "644f5353",
   "metadata": {},
   "outputs": [
    {
     "name": "stdout",
     "output_type": "stream",
     "text": [
      "0\n",
      "1\n",
      "2\n"
     ]
    }
   ],
   "source": [
    "for i in range(5):\n",
    "    if i == 3:\n",
    "        break\n",
    "    print(i)\n",
    "\n",
    "#In this example, when i becomes 3, the break statement is triggered, causing the loop to terminate. The value 3 is not printed.\n"
   ]
  },
  {
   "cell_type": "markdown",
   "id": "b768fe18",
   "metadata": {},
   "source": [
    "continue - When encountered inside a loop, the continue statement immediately skips the rest of the loop's current iteration and moves to the next iteration.\n",
    "It is typically used to skip certain iterations based on a specific condition without exiting the loop entirely.\n",
    "The program continues executing from the beginning of the loop for the next iteration."
   ]
  },
  {
   "cell_type": "code",
   "execution_count": 9,
   "id": "38e8ad0f",
   "metadata": {},
   "outputs": [
    {
     "name": "stdout",
     "output_type": "stream",
     "text": [
      "0\n",
      "1\n",
      "3\n",
      "4\n"
     ]
    }
   ],
   "source": [
    "for i in range(5):\n",
    "    if i == 2:\n",
    "        continue\n",
    "    print(i)\n",
    "\n",
    "#In this example, when i becomes 2, the continue statement is encountered, causing the loop to skip printing the value 2. It then proceeds to the next iteration and continues the loop execution.\n"
   ]
  },
  {
   "cell_type": "markdown",
   "id": "3b518f11",
   "metadata": {},
   "source": [
    "The break statement is used to terminate the loop entirely, while the continue statement is used to skip the remaining statements of the current iteration and move to the next iteration of the loop."
   ]
  },
  {
   "cell_type": "markdown",
   "id": "758c2fa6",
   "metadata": {},
   "source": [
    "11.In a for loop, what is the difference between range(10), range(0, 10), and range(0, 10, 1)?"
   ]
  },
  {
   "cell_type": "markdown",
   "id": "e1ab5d54",
   "metadata": {},
   "source": [
    "Answer - As all of the above examoles gives same output, but range(10) has no start value so by default it takes 0 and end at 9(excluding 10).\n",
    "\n",
    "range(0,10)-It has the start value ,even it print 0 to 9(excluding 10).\n",
    "\n",
    "range(0,10,1)-It start from 0 and and end at 9(excluding 10) but step size is given as 1.\n",
    "\n",
    "(start_value,end_value,step_size)"
   ]
  },
  {
   "cell_type": "markdown",
   "id": "10128e9b",
   "metadata": {},
   "source": [
    "12.Write a short program that prints the numbers 1 to 10 using a for loop. Then write an equivalent\n",
    "program that prints the numbers 1 to 10 using a while loop."
   ]
  },
  {
   "cell_type": "code",
   "execution_count": 12,
   "id": "a1860252",
   "metadata": {},
   "outputs": [
    {
     "name": "stdout",
     "output_type": "stream",
     "text": [
      "1\n",
      "2\n",
      "3\n",
      "4\n",
      "5\n",
      "6\n",
      "7\n",
      "8\n",
      "9\n",
      "10\n"
     ]
    }
   ],
   "source": [
    "#For Loop\n",
    "\n",
    "for i in range(1, 11):\n",
    "    print(i)"
   ]
  },
  {
   "cell_type": "code",
   "execution_count": 13,
   "id": "0594e10d",
   "metadata": {},
   "outputs": [
    {
     "name": "stdout",
     "output_type": "stream",
     "text": [
      "1\n",
      "2\n",
      "3\n",
      "4\n",
      "5\n",
      "6\n",
      "7\n",
      "8\n",
      "9\n",
      "10\n"
     ]
    }
   ],
   "source": [
    "#While Loop\n",
    "\n",
    "i = 1\n",
    "while i <= 10:\n",
    "    print(i)\n",
    "    i = i + 1"
   ]
  },
  {
   "cell_type": "markdown",
   "id": "7e000caa",
   "metadata": {},
   "source": [
    "13.If you had a function named bacon() inside a module named spam, how would you call it after\n",
    "importing spam?"
   ]
  },
  {
   "cell_type": "markdown",
   "id": "5204f064",
   "metadata": {},
   "source": [
    "Answer- This function can be called with spam.bacon()."
   ]
  },
  {
   "cell_type": "code",
   "execution_count": null,
   "id": "9258fde9",
   "metadata": {},
   "outputs": [],
   "source": []
  },
  {
   "cell_type": "code",
   "execution_count": null,
   "id": "b946e741",
   "metadata": {},
   "outputs": [],
   "source": []
  }
 ],
 "metadata": {
  "kernelspec": {
   "display_name": "Python 3 (ipykernel)",
   "language": "python",
   "name": "python3"
  },
  "language_info": {
   "codemirror_mode": {
    "name": "ipython",
    "version": 3
   },
   "file_extension": ".py",
   "mimetype": "text/x-python",
   "name": "python",
   "nbconvert_exporter": "python",
   "pygments_lexer": "ipython3",
   "version": "3.9.12"
  }
 },
 "nbformat": 4,
 "nbformat_minor": 5
}
