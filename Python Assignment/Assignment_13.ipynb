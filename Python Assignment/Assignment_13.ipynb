{
 "cells": [
  {
   "cell_type": "markdown",
   "id": "7d00200b",
   "metadata": {},
   "source": [
    "1.What advantages do Excel spreadsheets have over CSV spreadsheets?"
   ]
  },
  {
   "cell_type": "markdown",
   "id": "7edad10e",
   "metadata": {},
   "source": [
    "Answer- The Advantages of Excel over CSV are:\n",
    "\n",
    "a) Excel (XLS and XLSX) file formats are better for storing and analysing complex data. \n",
    "\n",
    "b) An Excel not only stores data but can also do operations on the data using macros, formulas etc \n",
    "\n",
    "c) CSV files are plain-text files, Does not contain formatting, formulas, macros, etc. It is also known as flat files\n",
    "\n"
   ]
  },
  {
   "cell_type": "markdown",
   "id": "0aa938eb",
   "metadata": {},
   "source": [
    "2.What do you pass to csv.reader() and csv.writer() to create reader and writer objects?"
   ]
  },
  {
   "cell_type": "code",
   "execution_count": null,
   "id": "054dbad8",
   "metadata": {},
   "outputs": [],
   "source": [
    "#Read\n",
    "import csv\n",
    "with open('test.csv','r') as file:\n",
    "    csv_file = csv.reader(file,delimiter=',')\n",
    "    for ele in csv_file:\n",
    "        print(i)\n",
    "        "
   ]
  },
  {
   "cell_type": "code",
   "execution_count": null,
   "id": "3b9499aa",
   "metadata": {},
   "outputs": [],
   "source": [
    "#Write\n",
    "import csv\n",
    "with open('protagonist.csv', 'w', newline='') as file:\n",
    "    writer = csv.writer(file)\n",
    "    writer.writerow([\"SN\", \"Movie\", \"Protagonist\"])\n",
    "    writer.writerow([1, \"Lord of the Rings\", \"Frodo Baggins\"])\n",
    "    writer.writerow([2, \"Harry Potter\", \"Harry Potter\"])\n"
   ]
  },
  {
   "cell_type": "markdown",
   "id": "453e58f0",
   "metadata": {},
   "source": [
    "3.What modes do File objects for reader and writer objects need to be opened in?"
   ]
  },
  {
   "cell_type": "markdown",
   "id": "ec26e8dc",
   "metadata": {},
   "source": [
    "Answer-  For csv.reader(iterable_file_object), the file objects needed to be opened in read mode mode='r' Whereas for csv.writer(iterable_file_object) the file objects needed to be opened in write mode mode='w'"
   ]
  },
  {
   "cell_type": "markdown",
   "id": "88d0ab52",
   "metadata": {},
   "source": [
    "4.What method takes a list argument and writes it to a CSV file?"
   ]
  },
  {
   "cell_type": "markdown",
   "id": "17f19bc1",
   "metadata": {},
   "source": [
    "Answer- sv.writer class provides two methods for writing to CSV. They are writerow() and writerows(). writerow() method writes a single row at a time. Whereas writerows() method is used to write multiple rows at a time."
   ]
  },
  {
   "cell_type": "markdown",
   "id": "bac93406",
   "metadata": {},
   "source": [
    "5.What do the keyword arguments delimiter and line terminator do?"
   ]
  },
  {
   "cell_type": "markdown",
   "id": "b4c52dbb",
   "metadata": {},
   "source": [
    "Answer- The delimiter argument changes the string used to separate cells in a row. The lineterminator argument changes the string used to separate rows."
   ]
  },
  {
   "cell_type": "markdown",
   "id": "158e3453",
   "metadata": {},
   "source": [
    "6.What function takes a string of JSON data and returns a Python data structure?"
   ]
  },
  {
   "cell_type": "markdown",
   "id": "8a385c14",
   "metadata": {},
   "source": [
    "Answer- The function that takes a string of JSON data and returns a Python data structure is called json.loads().\n",
    "\n",
    "The json.loads() function is part of the json module in Python's standard library. It is used to parse a JSON-formatted string and convert it into a corresponding Python data structure, such as a dictionary, list, string, number, boolean, or null."
   ]
  },
  {
   "cell_type": "code",
   "execution_count": 2,
   "id": "85f3f2d5",
   "metadata": {},
   "outputs": [
    {
     "name": "stdout",
     "output_type": "stream",
     "text": [
      "John\n",
      "30\n",
      "New York\n"
     ]
    }
   ],
   "source": [
    "import json\n",
    "\n",
    "# JSON data as a string\n",
    "json_data = '{\"name\": \"John\", \"age\": 30, \"city\": \"New York\"}'\n",
    "\n",
    "# Parse JSON string into Python data structure\n",
    "data = json.loads(json_data)\n",
    "\n",
    "# Access the data as Python objects\n",
    "print(data['name'])  # Output: John\n",
    "print(data['age'])   # Output: 30\n",
    "print(data['city'])  # Output: New York\n"
   ]
  },
  {
   "cell_type": "code",
   "execution_count": null,
   "id": "5d0f0bdb",
   "metadata": {},
   "outputs": [],
   "source": []
  },
  {
   "cell_type": "markdown",
   "id": "db389bea",
   "metadata": {},
   "source": [
    "7.What function takes a Python data structure and returns a string of JSON data?"
   ]
  },
  {
   "cell_type": "markdown",
   "id": "e14198b7",
   "metadata": {},
   "source": [
    "The function that takes a Python data structure and returns a string of JSON data is called json.dumps().\n",
    "\n",
    "The json.dumps() function is part of the json module in Python's standard library. It is used to serialize a Python data structure into a JSON-formatted string."
   ]
  },
  {
   "cell_type": "code",
   "execution_count": 3,
   "id": "4d4a770d",
   "metadata": {},
   "outputs": [
    {
     "name": "stdout",
     "output_type": "stream",
     "text": [
      "{\"name\": \"John\", \"age\": 30, \"city\": \"New York\"}\n"
     ]
    }
   ],
   "source": [
    "import json\n",
    "\n",
    "# Python data structure (dictionary)\n",
    "data = {\n",
    "    \"name\": \"John\",\n",
    "    \"age\": 30,\n",
    "    \"city\": \"New York\"\n",
    "}\n",
    "\n",
    "# Convert Python data structure to JSON string\n",
    "json_data = json.dumps(data)\n",
    "\n",
    "# Print the JSON string\n",
    "print(json_data)\n"
   ]
  },
  {
   "cell_type": "code",
   "execution_count": null,
   "id": "9f28ebf9",
   "metadata": {},
   "outputs": [],
   "source": []
  },
  {
   "cell_type": "code",
   "execution_count": null,
   "id": "c8ff7b2c",
   "metadata": {},
   "outputs": [],
   "source": []
  },
  {
   "cell_type": "code",
   "execution_count": null,
   "id": "36bb5176",
   "metadata": {},
   "outputs": [],
   "source": []
  },
  {
   "cell_type": "code",
   "execution_count": null,
   "id": "1c33cd46",
   "metadata": {},
   "outputs": [],
   "source": []
  }
 ],
 "metadata": {
  "kernelspec": {
   "display_name": "Python 3 (ipykernel)",
   "language": "python",
   "name": "python3"
  },
  "language_info": {
   "codemirror_mode": {
    "name": "ipython",
    "version": 3
   },
   "file_extension": ".py",
   "mimetype": "text/x-python",
   "name": "python",
   "nbconvert_exporter": "python",
   "pygments_lexer": "ipython3",
   "version": "3.9.12"
  }
 },
 "nbformat": 4,
 "nbformat_minor": 5
}
