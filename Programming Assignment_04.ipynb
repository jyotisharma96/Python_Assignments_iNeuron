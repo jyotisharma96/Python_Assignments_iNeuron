{
 "cells": [
  {
   "cell_type": "markdown",
   "id": "2d0e0d3a",
   "metadata": {},
   "source": [
    "## Assignment Solutions 4"
   ]
  },
  {
   "cell_type": "markdown",
   "id": "b067b6af",
   "metadata": {},
   "source": [
    "Question 1. Write a Python Program to Find the Factorial of a Number?"
   ]
  },
  {
   "cell_type": "code",
   "execution_count": 4,
   "id": "1f1b15d4",
   "metadata": {},
   "outputs": [
    {
     "name": "stdout",
     "output_type": "stream",
     "text": [
      "Enter a number: 15\n",
      "The Factorial of 15 is 1307674368000\n"
     ]
    }
   ],
   "source": [
    "def factorial(num):\n",
    "    if (num < 1):\n",
    "        return 1\n",
    "    else:\n",
    "        return num*factorial(num-1)\n",
    "\n",
    "num = int(input(\"Enter a number: \"))\n",
    "value = factorial(num)\n",
    "print(f\"The Factorial of {num} is {value}\")"
   ]
  },
  {
   "cell_type": "markdown",
   "id": "f2b5c710",
   "metadata": {},
   "source": [
    "Question 2. Write a Python Program to Display the multiplication Table?"
   ]
  },
  {
   "cell_type": "code",
   "execution_count": 1,
   "id": "2d8e7558",
   "metadata": {},
   "outputs": [
    {
     "name": "stdout",
     "output_type": "stream",
     "text": [
      "Enter a number of table you want to print: 12\n",
      "Enter number of counts: 10\n",
      "12*1 = 12\n",
      "12*2 = 24\n",
      "12*3 = 36\n",
      "12*4 = 48\n",
      "12*5 = 60\n",
      "12*6 = 72\n",
      "12*7 = 84\n",
      "12*8 = 96\n",
      "12*9 = 108\n",
      "12*10 = 120\n"
     ]
    }
   ],
   "source": [
    "def table(number,count):\n",
    "    for x in range(1,count+1):\n",
    "        print(f'{number}*{x} = {number*x}')\n",
    "\n",
    "num = int(input('Enter a number of table you want to print: '))\n",
    "values = int(input('Enter number of counts: '))\n",
    "table(num,values)"
   ]
  },
  {
   "cell_type": "markdown",
   "id": "b5c879cf",
   "metadata": {},
   "source": [
    "Question 3. Write a Python Program to Print the Fibonacci sequence?"
   ]
  },
  {
   "cell_type": "code",
   "execution_count": 2,
   "id": "a4f0af32",
   "metadata": {},
   "outputs": [
    {
     "name": "stdout",
     "output_type": "stream",
     "text": [
      "How many terms: 12\n",
      "Fibonnaci sequence:\n",
      "0\n",
      "1\n",
      "1\n",
      "2\n",
      "3\n",
      "5\n",
      "8\n",
      "13\n",
      "21\n",
      "34\n",
      "55\n",
      "89\n"
     ]
    }
   ],
   "source": [
    "n = int(input(\"How many terms: \"))\n",
    "a,b = 0,1\n",
    "count = 0\n",
    "\n",
    "if n <= 0:\n",
    "    print(\"Please enter a positive integer\")\n",
    "    \n",
    "elif n==1:\n",
    "    print(\"Fibonnaci sequence upto\",n,\":\")\n",
    "    print(a)\n",
    "else:\n",
    "    print(\"Fibonnaci sequence:\")\n",
    "    while count < n:\n",
    "        print(a)\n",
    "        c = a+b\n",
    "        \n",
    "        a = b\n",
    "        b = c\n",
    "        count +=1"
   ]
  },
  {
   "cell_type": "markdown",
   "id": "298afb08",
   "metadata": {},
   "source": [
    "Question 4. Write a Python Program to Check Armstrong Number?"
   ]
  },
  {
   "cell_type": "code",
   "execution_count": 10,
   "id": "7e2e2638",
   "metadata": {},
   "outputs": [
    {
     "name": "stdout",
     "output_type": "stream",
     "text": [
      "Enter a number to check if it's an Armstrong Number: 407\n",
      "407 is a Armstrong Number\n"
     ]
    }
   ],
   "source": [
    "x = int(input(\"Enter a number to check if it's an Armstrong Number: \"))\n",
    "s = str(x)\n",
    "n = len(s)\n",
    "y = 0\n",
    "\n",
    "for i in range(n):\n",
    "    y += int(s[i])**n\n",
    "\n",
    "if y == x:\n",
    "    print(f\"{x} is a Armstrong Number\")\n",
    "else:\n",
    "    print(f\"{x} is not a Armstrong Number\")"
   ]
  },
  {
   "cell_type": "markdown",
   "id": "f95ad7cd",
   "metadata": {},
   "source": [
    "Question 5. Write a Python Program to Find Armstrong Number in an Interval?"
   ]
  },
  {
   "cell_type": "code",
   "execution_count": 13,
   "id": "0961ae0c",
   "metadata": {},
   "outputs": [
    {
     "name": "stdout",
     "output_type": "stream",
     "text": [
      "Lower Value of Interval: 0\n",
      "Higher Value of Interval: 2000\n",
      "[0, 1, 2, 3, 4, 5, 6, 7, 8, 9, 153, 370, 371, 407, 1634]\n"
     ]
    }
   ],
   "source": [
    "a = int(input(\"Lower Value of Interval: \"))\n",
    "b = int(input(\"Higher Value of Interval: \"))\n",
    "list = []\n",
    "\n",
    "for x in range(a,b):\n",
    "    s = str(x)\n",
    "    n = len(s)\n",
    "    y = 0\n",
    "    \n",
    "    for i in range(n):\n",
    "        y += int(s[i])**n\n",
    "    if y == x :\n",
    "        list.append(y)\n",
    "\n",
    "print(list)"
   ]
  },
  {
   "cell_type": "markdown",
   "id": "93dc57d5",
   "metadata": {},
   "source": [
    "Question 6. Write a Python Program to Find the Sum of Natural Numbers?"
   ]
  },
  {
   "cell_type": "code",
   "execution_count": 18,
   "id": "3a9d4cb2",
   "metadata": {},
   "outputs": [
    {
     "name": "stdout",
     "output_type": "stream",
     "text": [
      "Enter a number: 187\n",
      "Sum of 187 natural numbers is 17578.0\n"
     ]
    }
   ],
   "source": [
    "def Natural(num):\n",
    "    sum = (num*(num+1)/2)\n",
    "    print(f'Sum of {num} natural numbers is {sum}')\n",
    "    \n",
    "num = int(input('Enter a number: '))\n",
    "Natural(num)"
   ]
  },
  {
   "cell_type": "code",
   "execution_count": null,
   "id": "c62a2348",
   "metadata": {},
   "outputs": [],
   "source": []
  }
 ],
 "metadata": {
  "kernelspec": {
   "display_name": "Python 3 (ipykernel)",
   "language": "python",
   "name": "python3"
  },
  "language_info": {
   "codemirror_mode": {
    "name": "ipython",
    "version": 3
   },
   "file_extension": ".py",
   "mimetype": "text/x-python",
   "name": "python",
   "nbconvert_exporter": "python",
   "pygments_lexer": "ipython3",
   "version": "3.9.12"
  }
 },
 "nbformat": 4,
 "nbformat_minor": 5
}
