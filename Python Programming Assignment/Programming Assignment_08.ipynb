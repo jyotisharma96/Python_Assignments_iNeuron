{
 "cells": [
  {
   "cell_type": "markdown",
   "id": "9aa84edd",
   "metadata": {},
   "source": [
    "## Assignment Solutions 8"
   ]
  },
  {
   "cell_type": "markdown",
   "id": "e4d1b713",
   "metadata": {},
   "source": [
    "Question 1. Write a Python Program to Add Two Matrices?"
   ]
  },
  {
   "cell_type": "code",
   "execution_count": 1,
   "id": "72e8bd86",
   "metadata": {},
   "outputs": [],
   "source": [
    "import numpy as np"
   ]
  },
  {
   "cell_type": "code",
   "execution_count": 2,
   "id": "39848bca",
   "metadata": {},
   "outputs": [
    {
     "name": "stdout",
     "output_type": "stream",
     "text": [
      "The addition of matrix is: \n",
      "[[ 8 10 12]\n",
      " [ 4  6  8]]\n"
     ]
    }
   ],
   "source": [
    "a = np.array([[1,2,3],[4,5,6]])\n",
    "b = np.array([[7,8,9],[0,1,2]])\n",
    "\n",
    "c= a+b\n",
    "print(\"The addition of matrix is: \")\n",
    "print(c)"
   ]
  },
  {
   "cell_type": "markdown",
   "id": "7a4cac5f",
   "metadata": {},
   "source": [
    "Question 2. Write a Python Program to Multiply Two Matrices?"
   ]
  },
  {
   "cell_type": "code",
   "execution_count": 4,
   "id": "eee964fc",
   "metadata": {},
   "outputs": [
    {
     "name": "stdout",
     "output_type": "stream",
     "text": [
      "The multiplication of matrix is: \n",
      "[[ 7 10]\n",
      " [28 37]]\n"
     ]
    }
   ],
   "source": [
    "a = np.array([[1,2],[4,5]])\n",
    "b = np.array([[7,8],[0,1]])\n",
    "c = a.dot(b)\n",
    "print(\"The multiplication of matrix is: \")\n",
    "print(c)"
   ]
  },
  {
   "cell_type": "markdown",
   "id": "e9e68c2b",
   "metadata": {},
   "source": [
    "Question 3. Write a Python Program to Transpose a Matrix?"
   ]
  },
  {
   "cell_type": "code",
   "execution_count": 6,
   "id": "c1424372",
   "metadata": {},
   "outputs": [
    {
     "name": "stdout",
     "output_type": "stream",
     "text": [
      "The transpose of the matrix is: \n",
      "[[1 4]\n",
      " [2 5]\n",
      " [3 6]]\n"
     ]
    }
   ],
   "source": [
    "a = np.array([[1,2,3],\n",
    "              [4,5,6]])\n",
    "at=a.transpose()\n",
    "print(\"The transpose of the matrix is: \")\n",
    "print(at)"
   ]
  },
  {
   "cell_type": "markdown",
   "id": "2804972f",
   "metadata": {},
   "source": [
    "Question 4. Write a Python Program to Sort Words in Alphabetic Order?"
   ]
  },
  {
   "cell_type": "code",
   "execution_count": 7,
   "id": "579ce935",
   "metadata": {},
   "outputs": [
    {
     "name": "stdout",
     "output_type": "stream",
     "text": [
      "Enter a string: I am a girl\n",
      "A Am Girl I\n"
     ]
    }
   ],
   "source": [
    "def sortstring():\n",
    "    words = input(\"Enter a string: \").title()\n",
    "    sorted_words = sorted(words.split(' '))\n",
    "    print(' '.join(sorted_words))\n",
    "\n",
    "sortstring()"
   ]
  },
  {
   "cell_type": "markdown",
   "id": "8ac2a293",
   "metadata": {},
   "source": [
    "Question 5. Write a Python Program to Remove Punctuation From a String?"
   ]
  },
  {
   "cell_type": "code",
   "execution_count": 8,
   "id": "5154b2f1",
   "metadata": {},
   "outputs": [
    {
     "ename": "NameError",
     "evalue": "name 'remove_punctuations' is not defined",
     "output_type": "error",
     "traceback": [
      "\u001b[1;31m---------------------------------------------------------------------------\u001b[0m",
      "\u001b[1;31mNameError\u001b[0m                                 Traceback (most recent call last)",
      "Cell \u001b[1;32mIn [8], line 10\u001b[0m\n\u001b[0;32m      7\u001b[0m             out_st \u001b[38;5;241m+\u001b[39m\u001b[38;5;241m=\u001b[39m i\n\u001b[0;32m      8\u001b[0m     \u001b[38;5;28mprint\u001b[39m(out_st)\n\u001b[1;32m---> 10\u001b[0m \u001b[43mremove_punctuations\u001b[49m()\n",
      "\u001b[1;31mNameError\u001b[0m: name 'remove_punctuations' is not defined"
     ]
    }
   ],
   "source": [
    "def removePunctuations():\n",
    "    punctuations = '''!()-[]{}:;\"'\\,<>./?@#$%^&*_~`'''\n",
    "    st = input('Enter a string: ')\n",
    "    out_st = ''\n",
    "    for i in st:\n",
    "        if i not in punctuations:\n",
    "            out_st += i\n",
    "    print(out_st)\n",
    "\n",
    "removePunctuations()"
   ]
  },
  {
   "cell_type": "code",
   "execution_count": null,
   "id": "11f81fc6",
   "metadata": {},
   "outputs": [],
   "source": []
  }
 ],
 "metadata": {
  "kernelspec": {
   "display_name": "Python 3 (ipykernel)",
   "language": "python",
   "name": "python3"
  },
  "language_info": {
   "codemirror_mode": {
    "name": "ipython",
    "version": 3
   },
   "file_extension": ".py",
   "mimetype": "text/x-python",
   "name": "python",
   "nbconvert_exporter": "python",
   "pygments_lexer": "ipython3",
   "version": "3.9.12"
  }
 },
 "nbformat": 4,
 "nbformat_minor": 5
}
