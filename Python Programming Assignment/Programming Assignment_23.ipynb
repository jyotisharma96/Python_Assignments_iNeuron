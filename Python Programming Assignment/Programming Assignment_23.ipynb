{
 "cells": [
  {
   "cell_type": "markdown",
   "id": "ca6f7f18",
   "metadata": {},
   "source": [
    "## Assignment Solutions 23"
   ]
  },
  {
   "cell_type": "markdown",
   "id": "7254c654",
   "metadata": {},
   "source": [
    "Question 1.\n",
    "\n",
    "Create a function that takes a number as an argument and returns True or False depending\n",
    "on whether the number is symmetrical or not. A number is symmetrical when it is the same as\n",
    "its reverse.\n",
    "\n",
    "Examples\n",
    "\n",
    "is_symmetrical(7227) ➞ True\n",
    "\n",
    "is_symmetrical(12567) ➞ False\n",
    "\n",
    "is_symmetrical(44444444) ➞ True\n",
    "\n",
    "is_symmetrical(9939) ➞ False\n",
    "\n",
    "is_symmetrical(1112111) ➞ True"
   ]
  },
  {
   "cell_type": "code",
   "execution_count": 3,
   "id": "57818192",
   "metadata": {},
   "outputs": [
    {
     "name": "stdout",
     "output_type": "stream",
     "text": [
      "True\n",
      "False\n"
     ]
    }
   ],
   "source": [
    "def symmetrical(n):\n",
    "    return str(n) == str(n)[::-1]\n",
    "\n",
    "print(symmetrical(121))\n",
    "print(symmetrical(1223))"
   ]
  },
  {
   "cell_type": "markdown",
   "id": "0a8ae287",
   "metadata": {},
   "source": [
    "Question 2.\n",
    "\n",
    "Given a string of numbers separated by a comma and space, return the product of the\n",
    "numbers.\n",
    "\n",
    "Examples\n",
    "\n",
    "multiply_nums(&quot;2, 3&quot;) ➞ 6\n",
    "\n",
    "multiply_nums(&quot;1, 2, 3, 4&quot;) ➞ 24\n",
    "\n",
    "multiply_nums(&quot;54, 75, 453, 0&quot;) ➞ 0\n",
    "\n",
    "multiply_nums(&quot;10, -2&quot;) ➞ -20"
   ]
  },
  {
   "cell_type": "code",
   "execution_count": 5,
   "id": "84e05afb",
   "metadata": {},
   "outputs": [
    {
     "data": {
      "text/plain": [
       "6"
      ]
     },
     "execution_count": 5,
     "metadata": {},
     "output_type": "execute_result"
    }
   ],
   "source": [
    "def multiply_numbers(s):\n",
    "    s = s.replace(' ',\"\")\n",
    "    s = s.split(',')\n",
    "    sum=1\n",
    "    for i in s:\n",
    "        sum *= int(i)\n",
    "    return sum\n",
    "\n",
    "multiply_numbers('2,3')"
   ]
  },
  {
   "cell_type": "markdown",
   "id": "8e66bbc4",
   "metadata": {},
   "source": [
    "Question 3.\n",
    "\n",
    "Create a function that squares every digit of a number.\n",
    "\n",
    "Examples\n",
    "\n",
    "square_digits(9119) ➞ 811181\n",
    "\n",
    "square_digits(2483) ➞ 416649\n",
    "\n",
    "square_digits(3212) ➞ 9414\n",
    "\n",
    "Notes\n",
    "\n",
    "The function receives an integer and must return an integer."
   ]
  },
  {
   "cell_type": "code",
   "execution_count": 6,
   "id": "2a567be3",
   "metadata": {},
   "outputs": [
    {
     "data": {
      "text/plain": [
       "'1616'"
      ]
     },
     "execution_count": 6,
     "metadata": {},
     "output_type": "execute_result"
    }
   ],
   "source": [
    "def square_digits(n):\n",
    "    single_digits = [str(int(i)**2) for i in str(n)]\n",
    "    square_digits = ''.join(single_digits)\n",
    "    return square_digits\n",
    "\n",
    "square_digits(44)"
   ]
  },
  {
   "cell_type": "markdown",
   "id": "314b93c5",
   "metadata": {},
   "source": [
    "Question 4.\n",
    "\n",
    "Create a function that sorts a list and removes all duplicate items from it.\n",
    "\n",
    "Examples\n",
    "\n",
    "setify([1, 3, 3, 5, 5]) ➞ [1, 3, 5]\n",
    "\n",
    "setify([4, 4, 4, 4]) ➞ [4]\n",
    "\n",
    "setify([5, 7, 8, 9, 10, 15]) ➞ [5, 7, 8, 9, 10, 15]\n",
    "\n",
    "setify([3, 3, 3, 2, 1]) ➞ [1, 2, 3]"
   ]
  },
  {
   "cell_type": "code",
   "execution_count": 7,
   "id": "18b022d6",
   "metadata": {},
   "outputs": [
    {
     "data": {
      "text/plain": [
       "[1, 4, 5, 6]"
      ]
     },
     "execution_count": 7,
     "metadata": {},
     "output_type": "execute_result"
    }
   ],
   "source": [
    "def sortify(lst):\n",
    "    sorted_list = sorted(set(lst))\n",
    "    return sorted_list\n",
    "\n",
    "sortify([1,4,5,6,5,6])"
   ]
  },
  {
   "cell_type": "markdown",
   "id": "d0073fe8",
   "metadata": {},
   "source": [
    "Question 5.\n",
    "\n",
    "Create a function that returns the mean of all digits.\n",
    "\n",
    "Examples\n",
    "\n",
    "mean(42) ➞ 3\n",
    "\n",
    "mean(12345) ➞ 3\n",
    "\n",
    "mean(666) ➞ 6\n",
    "\n",
    "Notes\n",
    "\n",
    " The mean of all digits is the sum of digits / how many digits there are (e.g. mean of digits in\n",
    "512 is (5+1+2)/3(number of digits) = 8/3=2).\n",
    "\n",
    " The mean will always be an integer."
   ]
  },
  {
   "cell_type": "code",
   "execution_count": 9,
   "id": "4d5fd852",
   "metadata": {},
   "outputs": [
    {
     "name": "stdout",
     "output_type": "stream",
     "text": [
      "1.5\n"
     ]
    }
   ],
   "source": [
    "def digit_mean(number):\n",
    "    digits = [int(digit) for digit in str(abs(number)) if digit.isdigit()]\n",
    "    if len(digits) == 0:\n",
    "        return 0\n",
    "\n",
    "    mean = sum(digits) / len(digits)\n",
    "    return mean\n",
    "\n",
    "print(digit_mean(12))\n"
   ]
  },
  {
   "cell_type": "code",
   "execution_count": null,
   "id": "8b5ae02a",
   "metadata": {},
   "outputs": [],
   "source": []
  }
 ],
 "metadata": {
  "kernelspec": {
   "display_name": "Python 3 (ipykernel)",
   "language": "python",
   "name": "python3"
  },
  "language_info": {
   "codemirror_mode": {
    "name": "ipython",
    "version": 3
   },
   "file_extension": ".py",
   "mimetype": "text/x-python",
   "name": "python",
   "nbconvert_exporter": "python",
   "pygments_lexer": "ipython3",
   "version": "3.9.12"
  }
 },
 "nbformat": 4,
 "nbformat_minor": 5
}
