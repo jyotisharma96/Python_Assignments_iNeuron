{
 "cells": [
  {
   "cell_type": "markdown",
   "id": "10b2db3b",
   "metadata": {},
   "source": [
    "## Assignment Solutions 21"
   ]
  },
  {
   "cell_type": "markdown",
   "id": "e3df5226",
   "metadata": {},
   "source": [
    "Question 1.\n",
    "\n",
    "Write a function that takes a list and a number as arguments. Add the number to the end of\n",
    "the list, then remove the first element of the list. The function should then return the updated\n",
    "list.\n",
    "\n",
    "Examples\n",
    "\n",
    "next_in_line([5, 6, 7, 8, 9], 1) ➞ [6, 7, 8, 9, 1]\n",
    "\n",
    "next_in_line([7, 6, 3, 23, 17], 10) ➞ [6, 3, 23, 17, 10]\n",
    "\n",
    "next_in_line([1, 10, 20, 42 ], 6) ➞ [10, 20, 42, 6]\n",
    "\n",
    "next_in_line([], 6) ➞ &quot;No list has been selected&quot;"
   ]
  },
  {
   "cell_type": "code",
   "execution_count": 1,
   "id": "10143eb4",
   "metadata": {},
   "outputs": [
    {
     "name": "stdout",
     "output_type": "stream",
     "text": [
      "[2, 8, 97, 1, 4]\n"
     ]
    }
   ],
   "source": [
    "def end_of_the_list(lst,num):\n",
    "    if len(lst)>1:\n",
    "        lst.append(num)\n",
    "        lst.remove(lst[0])\n",
    "        print(lst)\n",
    "    else:\n",
    "        print(\"No list has been selected\")\n",
    "\n",
    "end_of_the_list([5,2,8,97,1],4)"
   ]
  },
  {
   "cell_type": "markdown",
   "id": "78c49efd",
   "metadata": {},
   "source": [
    "Question 2.\n",
    "\n",
    "Create the function that takes a list of dictionaries and returns the sum of people&#39;s budgets.\n",
    "\n",
    "Examples\n",
    "\n",
    "get_budgets([\n",
    "{ &quot;name&quot;: &quot;John&quot;, &quot;age&quot;: 21, &quot;budget&quot;: 23000 },\n",
    "\n",
    "{ &quot;name&quot;: &quot;Steve&quot;, &quot;age&quot;: 32, &quot;budget&quot;: 40000 },\n",
    "\n",
    "{ &quot;name&quot;: &quot;Martin&quot;, &quot;age&quot;: 16, &quot;budget&quot;: 2700 }\n",
    "]) ➞ 65700\n",
    "\n",
    "get_budgets([\n",
    "{ &quot;name&quot;: &quot;John&quot;, &quot;age&quot;: 21, &quot;budget&quot;: 29000 },\n",
    "\n",
    "{ &quot;name&quot;: &quot;Steve&quot;, &quot;age&quot;: 32, &quot;budget&quot;: 32000 },\n",
    "\n",
    "{ &quot;name&quot;: &quot;Martin&quot;, &quot;age&quot;: 16, &quot;budget&quot;: 1600 }\n",
    "]) ➞ 62600"
   ]
  },
  {
   "cell_type": "code",
   "execution_count": 4,
   "id": "d8047ff0",
   "metadata": {},
   "outputs": [
    {
     "name": "stdout",
     "output_type": "stream",
     "text": [
      "65700\n"
     ]
    }
   ],
   "source": [
    "def get_budgets(listdict):\n",
    "    sum=0\n",
    "    for i in listdict:\n",
    "        sum+=i['budget']\n",
    "    print(sum)\n",
    "\n",
    "get_budgets([\n",
    "{ \"name\": \"John\", \"age\": 21, \"budget\": 23000 },\n",
    "{ \"name\": \"Steve\", \"age\": 32, \"budget\": 40000 },\n",
    "{ \"name\": \"Martin\", \"age\": 16, \"budget\": 2700 }])"
   ]
  },
  {
   "cell_type": "markdown",
   "id": "af51159c",
   "metadata": {},
   "source": [
    "Question 3.\n",
    "\n",
    "Create a function that takes a string and returns a string with its letters in alphabetical order.\n",
    "\n",
    "Examples\n",
    "\n",
    "alphabet_soup(&quot;hello&quot;) ➞ &quot;ehllo&quot;\n",
    "\n",
    "alphabet_soup(&quot;edabit&quot;) ➞ &quot;abdeit&quot;\n",
    "\n",
    "alphabet_soup(&quot;hacker&quot;) ➞ &quot;acehkr&quot;\n",
    "\n",
    "alphabet_soup(&quot;geek&quot;) ➞ &quot;eegk&quot;\n",
    "\n",
    "alphabet_soup(&quot;javascript&quot;) ➞ &quot;aacijprstv&quot;"
   ]
  },
  {
   "cell_type": "code",
   "execution_count": 15,
   "id": "929cda2f",
   "metadata": {},
   "outputs": [
    {
     "name": "stdout",
     "output_type": "stream",
     "text": [
      "ehllo\n",
      " aacijprstv\n"
     ]
    }
   ],
   "source": [
    "def alphabetic_order(str):\n",
    "    return ''.join(sorted(str))\n",
    "\n",
    "print(alphabetic_order(\"hello\"))\n",
    "print(alphabetic_order(\"java script\"))\n"
   ]
  },
  {
   "cell_type": "markdown",
   "id": "848e9693",
   "metadata": {},
   "source": [
    "Question 4.\n",
    "\n",
    "Suppose that you invest $10,000 for 10 years at an interest rate of 6% compounded monthly.\n",
    "What will be the value of your investment at the end of the 10 year period?\n",
    "\n",
    "Create a function that accepts the principal p, the term in years t, the interest rate r, and the\n",
    "number of compounding periods per year n. The function returns the value at the end of term\n",
    "rounded to the nearest cent.\n",
    "\n",
    "For the example above:\n",
    "\n",
    "compound_interest(10000, 10, 0.06, 12) ➞ 18193.97\n",
    "\n",
    "Note that the interest rate is given as a decimal and n=12 because with monthly compounding\n",
    "there are 12 periods per year. Compounding can also be done annually, quarterly, weekly, or\n",
    "daily.\n",
    "\n",
    "Examples\n",
    "\n",
    "compound_interest(100, 1, 0.05, 1) ➞ 105.0\n",
    "\n",
    "compound_interest(3500, 15, 0.1, 4) ➞ 15399.26\n",
    "\n",
    "compound_interest(100000, 20, 0.15, 365) ➞ 2007316.26"
   ]
  },
  {
   "cell_type": "code",
   "execution_count": 18,
   "id": "f30cc97b",
   "metadata": {},
   "outputs": [
    {
     "name": "stdout",
     "output_type": "stream",
     "text": [
      "The value of the investment at the end of the 10-year period will be 18193.97.\n"
     ]
    }
   ],
   "source": [
    "def calculate_future_value(p,t,r,n):\n",
    "    \n",
    "    # Convert the interest rate to decimal form\n",
    "    r_decimal = r / 100\n",
    "\n",
    "    # Calculate the future value\n",
    "    A = p * (1 + r_decimal / n) ** (n * t)\n",
    "\n",
    "    # Round the future value to the nearest cent\n",
    "    rounded_value = round(A, 2)\n",
    "\n",
    "    return rounded_value\n",
    "\n",
    "future_value = calculate_future_value(10000, 10, 6, 12)\n",
    "print(f\"The value of the investment at the end of the 10-year period will be {future_value:.2f}.\")\n"
   ]
  },
  {
   "cell_type": "markdown",
   "id": "2ed72782",
   "metadata": {},
   "source": [
    "Question 5.\n",
    "\n",
    "Write a function that takes a list of elements and returns only the integers.\n",
    "\n",
    "Examples\n",
    "\n",
    "return_only_integer([9, 2, &quot;space&quot;, &quot;car&quot;, &quot;lion&quot;, 16]) ➞ [9, 2, 16]\n",
    "\n",
    "return_only_integer([&quot;hello&quot;, 81, &quot;basketball&quot;, 123, &quot;fox&quot;]) ➞ [81, 123]\n",
    "\n",
    "return_only_integer([10, &quot;121&quot;, 56, 20, &quot;car&quot;, 3, &quot;lion&quot;]) ➞ [10, 56, 20,\n",
    "3]\n",
    "\n",
    "return_only_integer([&quot;String&quot;, True, 3.3, 1]) ➞ [1]"
   ]
  },
  {
   "cell_type": "code",
   "execution_count": 22,
   "id": "54f399e4",
   "metadata": {},
   "outputs": [
    {
     "data": {
      "text/plain": [
       "[1, 2, 3, 4, 5, 7, 7, 8]"
      ]
     },
     "execution_count": 22,
     "metadata": {},
     "output_type": "execute_result"
    }
   ],
   "source": [
    "def return_integers(lst):\n",
    "    my_lst = []\n",
    "    for i in lst:\n",
    "        if type(i) == int:\n",
    "            my_lst.append(i)\n",
    "    return my_lst\n",
    "\n",
    "return_integers([1,2,3,4,5,'six',7,'eight',7,8])"
   ]
  },
  {
   "cell_type": "code",
   "execution_count": null,
   "id": "6e1a35ea",
   "metadata": {},
   "outputs": [],
   "source": []
  }
 ],
 "metadata": {
  "kernelspec": {
   "display_name": "Python 3 (ipykernel)",
   "language": "python",
   "name": "python3"
  },
  "language_info": {
   "codemirror_mode": {
    "name": "ipython",
    "version": 3
   },
   "file_extension": ".py",
   "mimetype": "text/x-python",
   "name": "python",
   "nbconvert_exporter": "python",
   "pygments_lexer": "ipython3",
   "version": "3.9.12"
  }
 },
 "nbformat": 4,
 "nbformat_minor": 5
}
