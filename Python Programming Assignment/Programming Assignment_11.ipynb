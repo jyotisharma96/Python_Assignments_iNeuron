{
 "cells": [
  {
   "cell_type": "markdown",
   "id": "4c3312af",
   "metadata": {},
   "source": [
    "## Assignment Solutions 11"
   ]
  },
  {
   "cell_type": "markdown",
   "id": "36a2761f",
   "metadata": {},
   "source": [
    "Question 1. Write a Python program to find words which are greater than given length k?"
   ]
  },
  {
   "cell_type": "code",
   "execution_count": 6,
   "id": "a22d6679",
   "metadata": {},
   "outputs": [
    {
     "name": "stdout",
     "output_type": "stream",
     "text": [
      "Enter the string: Full Stack Data Science\n",
      "Enter the length of the string: 4\n",
      "Stack,Science\n"
     ]
    }
   ],
   "source": [
    "def check_length():\n",
    "    str = input(\"Enter the string: \")\n",
    "    length = int(input(\"Enter the length of the string: \"))\n",
    "    out_str = []\n",
    "    for str in str.split(\" \"):\n",
    "        if len(str) > length:\n",
    "            out_str.append(str)\n",
    "    print(','.join(out_str))\n",
    "\n",
    "check_length()"
   ]
  },
  {
   "cell_type": "markdown",
   "id": "301b0b67",
   "metadata": {},
   "source": [
    "Question 2. Write a Python program for removing i-th character from a string?"
   ]
  },
  {
   "cell_type": "code",
   "execution_count": 13,
   "id": "461416fa",
   "metadata": {},
   "outputs": [
    {
     "name": "stdout",
     "output_type": "stream",
     "text": [
      "Enter the string: Data science is all about data\n",
      "Enter the ith character: 7\n",
      "Data scence is all about data\n"
     ]
    }
   ],
   "source": [
    "def removeCharacter():\n",
    "    Str=input(\"Enter the string: \")\n",
    "    ith=int(input(\"Enter the ith character: \"))\n",
    "    result_str=''\n",
    "    for i in range(len(str)):\n",
    "        if i != ith:\n",
    "            result_str = result_str + str[i]\n",
    "    print(result_str)\n",
    "\n",
    "removeCharacter()"
   ]
  },
  {
   "cell_type": "markdown",
   "id": "f75f388b",
   "metadata": {},
   "source": [
    "Question 3. Write a Python program to split and join a string?"
   ]
  },
  {
   "cell_type": "code",
   "execution_count": 14,
   "id": "cce9c6b8",
   "metadata": {},
   "outputs": [
    {
     "name": "stdout",
     "output_type": "stream",
     "text": [
      "Enter the string: Full Stack Data Science\n",
      "Split String: ['Full', 'Stack', 'Data', 'Science']\n",
      "Join String: Full Stack Data Science\n"
     ]
    }
   ],
   "source": [
    "def splitJoinString():\n",
    "    str=input('Enter the string: ')\n",
    "    print(f\"Split String: {str.split(' ')}\")\n",
    "    print(f\"Join String: {' '.join(str.split(' '))}\")\n",
    "\n",
    "splitJoinString()"
   ]
  },
  {
   "cell_type": "markdown",
   "id": "a433d291",
   "metadata": {},
   "source": [
    "Question 4. Write a Python to check if a given string is binary string or not?"
   ]
  },
  {
   "cell_type": "code",
   "execution_count": 15,
   "id": "55b896ae",
   "metadata": {},
   "outputs": [
    {
     "name": "stdout",
     "output_type": "stream",
     "text": [
      "Enter the binary string: 547\n",
      "This is not a binary string\n"
     ]
    }
   ],
   "source": [
    "str = input(\"Enter the binary string: \")\n",
    "\n",
    "flag = True\n",
    "for char in str:\n",
    "    if(char == '0' or char == '1'):\n",
    "        continue\n",
    "    else:\n",
    "        flag = False\n",
    "        print(\"This is not a binary string\")\n",
    "        break\n",
    "        \n",
    "if(flag):\n",
    "    print(\"This is a binary string\")"
   ]
  },
  {
   "cell_type": "markdown",
   "id": "d20fb039",
   "metadata": {},
   "source": [
    "Question 5. Write a Python program to find uncommon words from two Strings?"
   ]
  },
  {
   "cell_type": "code",
   "execution_count": 16,
   "id": "9c381499",
   "metadata": {},
   "outputs": [
    {
     "name": "stdout",
     "output_type": "stream",
     "text": [
      "['foe', 'friend']\n"
     ]
    }
   ],
   "source": [
    "def uncommon(s1,s2):\n",
    "    s1=s1.split()\n",
    "    s2=s2.split()\n",
    "    uncommon_words=set(s1).symmetric_difference(set(s2))\n",
    "    return uncommon_words\n",
    "\n",
    "a = \"Hello my friend\"\n",
    "b = \"Hello my foe\"\n",
    "print(list(uncommon(a,b)))"
   ]
  },
  {
   "cell_type": "markdown",
   "id": "83dee143",
   "metadata": {},
   "source": [
    "Question 6. Write a Python to find all duplicate characters in string?"
   ]
  },
  {
   "cell_type": "code",
   "execution_count": 20,
   "id": "04126b49",
   "metadata": {},
   "outputs": [
    {
     "name": "stdout",
     "output_type": "stream",
     "text": [
      "['e', 'l', ' ', 'S', 't', 'a', 'c']\n"
     ]
    }
   ],
   "source": [
    "def duplicate_characters(string):\n",
    "    chars = {}\n",
    "    \n",
    "    for char in string:\n",
    "        if char not in chars:\n",
    "            chars[char] = 1\n",
    "        else:\n",
    "            chars[char] +=1\n",
    "    \n",
    "    duplicates = []\n",
    "    \n",
    "    for char, count in chars.items():\n",
    "        if count > 1:\n",
    "            duplicates.append(char)\n",
    "    \n",
    "    return duplicates\n",
    "\n",
    "print(duplicate_characters(\"Hello Full Stack Data Science\"))"
   ]
  },
  {
   "cell_type": "markdown",
   "id": "5997f8ba",
   "metadata": {},
   "source": [
    "Question 7. Write a Python Program to check if a string contains any special character?"
   ]
  },
  {
   "cell_type": "code",
   "execution_count": 21,
   "id": "255a94a9",
   "metadata": {},
   "outputs": [
    {
     "name": "stdout",
     "output_type": "stream",
     "text": [
      "Enter the string: Hello $&$@ Stack Data Science\n",
      "There are 4 special characters in Hello $&$@ Stack Data Science which are ['$', '&', '$', '@']\n"
     ]
    }
   ],
   "source": [
    "def special_characters():\n",
    "    special_chars = '[@_!#$%^&*()<>?/\\|}{~:]'\n",
    "    str = input(\"Enter the string: \")\n",
    "    count = 0\n",
    "    char_list = []\n",
    "    \n",
    "    for i in str:\n",
    "        if i in special_chars:\n",
    "            char_list.append(i)\n",
    "            count = count+1\n",
    "    print(f'There are {count} special characters in {str} which are {char_list}')\n",
    "\n",
    "special_characters()"
   ]
  },
  {
   "cell_type": "code",
   "execution_count": null,
   "id": "69df4e27",
   "metadata": {},
   "outputs": [],
   "source": []
  }
 ],
 "metadata": {
  "kernelspec": {
   "display_name": "Python 3 (ipykernel)",
   "language": "python",
   "name": "python3"
  },
  "language_info": {
   "codemirror_mode": {
    "name": "ipython",
    "version": 3
   },
   "file_extension": ".py",
   "mimetype": "text/x-python",
   "name": "python",
   "nbconvert_exporter": "python",
   "pygments_lexer": "ipython3",
   "version": "3.9.12"
  }
 },
 "nbformat": 4,
 "nbformat_minor": 5
}
