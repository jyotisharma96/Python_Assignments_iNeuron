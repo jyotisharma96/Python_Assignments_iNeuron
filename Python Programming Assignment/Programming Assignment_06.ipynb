{
 "cells": [
  {
   "cell_type": "markdown",
   "id": "11991047",
   "metadata": {},
   "source": [
    "## Assignment Solutions 6"
   ]
  },
  {
   "cell_type": "markdown",
   "id": "694a842d",
   "metadata": {},
   "source": [
    "Question 1. Write a Python Program to Display Fibonacci Sequence Using Recursion?"
   ]
  },
  {
   "cell_type": "code",
   "execution_count": 6,
   "id": "d8c57f30",
   "metadata": {},
   "outputs": [
    {
     "name": "stdout",
     "output_type": "stream",
     "text": [
      "Enter number of terms: 20\n",
      "Fibonacci Sequence:\n",
      "0,1,1,2,3,5,8,13,21,34,55,89,144,233,377,610,987,1597,2584,4181,"
     ]
    }
   ],
   "source": [
    "def recursive_fibonacci(n):\n",
    "    if n <=1:\n",
    "        return n\n",
    "    else:\n",
    "        return(recursive_fibonacci(n-1) + recursive_fibonacci(n-2))\n",
    "\n",
    "#Take input from the user\n",
    "n = int(input(\"Enter number of terms: \"))\n",
    "\n",
    "print(\"Fibonacci Sequence:\")\n",
    "for i in range(n):\n",
    "    print(recursive_fibonacci(i), end=\",\")"
   ]
  },
  {
   "cell_type": "markdown",
   "id": "4fb51a74",
   "metadata": {},
   "source": [
    "Question 2. Write a Python Program to Find Factorial of Number Using Recursion?"
   ]
  },
  {
   "cell_type": "code",
   "execution_count": 9,
   "id": "5ed5c74f",
   "metadata": {},
   "outputs": [
    {
     "name": "stdout",
     "output_type": "stream",
     "text": [
      "Enter a number: 14\n",
      "The Factorial of 14 is 87178291200\n"
     ]
    }
   ],
   "source": [
    "def factorial(num):\n",
    "    if (num < 1):\n",
    "        return 1\n",
    "    else:\n",
    "        return num*factorial(num-1)\n",
    "\n",
    "num = int(input('Enter a number: '))\n",
    "value = factorial(num)\n",
    "print(f'The Factorial of {num} is {value}')"
   ]
  },
  {
   "cell_type": "markdown",
   "id": "47b715d9",
   "metadata": {},
   "source": [
    "Question 3. Write a Python Program to calculate your Body Mass Index?"
   ]
  },
  {
   "cell_type": "code",
   "execution_count": 11,
   "id": "0294cd8f",
   "metadata": {},
   "outputs": [
    {
     "name": "stdout",
     "output_type": "stream",
     "text": [
      "Enter your weight in kg: 70\n",
      "Enter your height in meter: 1.8\n",
      "21.604938271604937\n"
     ]
    }
   ],
   "source": [
    "weight=float(input(\"Enter your weight in kg: \"))\n",
    "height=float(input(\"Enter your height in meter: \"))\n",
    "BMI=weight/height**2\n",
    "print(BMI)"
   ]
  },
  {
   "cell_type": "markdown",
   "id": "66ffd5f0",
   "metadata": {},
   "source": [
    "Question 4. Write a Python Program to calculate the natural logarithm of any number?"
   ]
  },
  {
   "cell_type": "code",
   "execution_count": 12,
   "id": "6b5495b0",
   "metadata": {},
   "outputs": [
    {
     "name": "stdout",
     "output_type": "stream",
     "text": [
      "Enter a number: 87\n",
      "4.465908118654584\n"
     ]
    }
   ],
   "source": [
    "import math\n",
    "def log():\n",
    "    num = float(input(\"Enter a number: \"))\n",
    "    print(math.log(num))\n",
    "\n",
    "log()"
   ]
  },
  {
   "cell_type": "markdown",
   "id": "f0516bd5",
   "metadata": {},
   "source": [
    "Question 5. Write a Python Program for cube sum of first n natural numbers?"
   ]
  },
  {
   "cell_type": "code",
   "execution_count": 13,
   "id": "4bd7a322",
   "metadata": {},
   "outputs": [
    {
     "name": "stdout",
     "output_type": "stream",
     "text": [
      "Enter the number of Natural Numbers: 8\n",
      "The cube sum of first 8 Natural Numbers is 1056.25\n"
     ]
    }
   ],
   "source": [
    "def cube():\n",
    "    num = int(input(\"Enter the number of Natural Numbers: \"))\n",
    "    result = pow(((num * num+1))/2,2)\n",
    "    print(f'The cube sum of first {num} Natural Numbers is {result}')\n",
    "\n",
    "cube()"
   ]
  },
  {
   "cell_type": "code",
   "execution_count": null,
   "id": "9fc5a083",
   "metadata": {},
   "outputs": [],
   "source": []
  }
 ],
 "metadata": {
  "kernelspec": {
   "display_name": "Python 3 (ipykernel)",
   "language": "python",
   "name": "python3"
  },
  "language_info": {
   "codemirror_mode": {
    "name": "ipython",
    "version": 3
   },
   "file_extension": ".py",
   "mimetype": "text/x-python",
   "name": "python",
   "nbconvert_exporter": "python",
   "pygments_lexer": "ipython3",
   "version": "3.9.12"
  }
 },
 "nbformat": 4,
 "nbformat_minor": 5
}
