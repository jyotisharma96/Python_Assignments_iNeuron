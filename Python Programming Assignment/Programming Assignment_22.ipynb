{
 "cells": [
  {
   "cell_type": "markdown",
   "id": "736877dd",
   "metadata": {},
   "source": [
    "## Assignment Solutions 22"
   ]
  },
  {
   "cell_type": "markdown",
   "id": "d43d3f96",
   "metadata": {},
   "source": [
    "Question 1.\n",
    "\n",
    "Create a function that takes three parameters where:\n",
    "    \n",
    " x is the start of the range (inclusive).\n",
    " y is the end of the range (inclusive).\n",
    " n is the divisor to be checked against.\n",
    "\n",
    "Return an ordered list with numbers in the range that are divisible by the third parameter n.\n",
    "Return an empty list if there are no numbers that are divisible by n.\n",
    "\n",
    "Examples\n",
    "list_operation(1, 10, 3) ➞ [3, 6, 9]\n",
    "\n",
    "list_operation(7, 9, 2) ➞ [8]\n",
    "\n",
    "list_operation(15, 20, 7) ➞ []"
   ]
  },
  {
   "cell_type": "code",
   "execution_count": 2,
   "id": "5da50e3d",
   "metadata": {},
   "outputs": [
    {
     "data": {
      "text/plain": [
       "[8]"
      ]
     },
     "execution_count": 2,
     "metadata": {},
     "output_type": "execute_result"
    }
   ],
   "source": [
    "def list_operation(start,end,divisor):\n",
    "    lst=[]\n",
    "    for i in range(start,end):\n",
    "        if i%divisor==0:\n",
    "            lst.append(i)\n",
    "    return lst\n",
    "\n",
    "list_operation(7,9,2)\n",
    "    "
   ]
  },
  {
   "cell_type": "markdown",
   "id": "efce9adc",
   "metadata": {},
   "source": [
    "Question 2.\n",
    "\n",
    "Create a function that takes in two lists and returns True if the second list follows the first list\n",
    "by one element, and False otherwise. In other words, determine if the second list is the first\n",
    "list shifted to the right by 1.\n",
    "\n",
    "Examples\n",
    "\n",
    "simon_says([1, 2], [5, 1]) ➞ True\n",
    "simon_says([1, 2], [5, 5]) ➞ False\n",
    "simon_says([1, 2, 3, 4, 5], [0, 1, 2, 3, 4]) ➞ True\n",
    "simon_says([1, 2, 3, 4, 5], [5, 5, 1, 2, 3]) ➞ False\n",
    "\n",
    "Notes\n",
    "\n",
    " Both input lists will be of the same length, and will have a minimum length of 2.\n",
    "\n",
    " The values of the 0-indexed element in the second list and the n-1th indexed element\n",
    "in the first list do not matter."
   ]
  },
  {
   "cell_type": "code",
   "execution_count": 6,
   "id": "355e2afa",
   "metadata": {},
   "outputs": [
    {
     "name": "stdout",
     "output_type": "stream",
     "text": [
      "True\n",
      "False\n"
     ]
    }
   ],
   "source": [
    "def simon_says(lst1,lst2):\n",
    "    if lst1[0:len(lst1)-1] == lst2[1:len(lst2)]:\n",
    "        return True\n",
    "    else:\n",
    "        return False\n",
    "        \n",
    "print(simon_says([1, 2], [5, 1]))\n",
    "print(simon_says([1, 2], [5, 5]))"
   ]
  },
  {
   "cell_type": "markdown",
   "id": "405aa551",
   "metadata": {},
   "source": [
    "Question 3.\n",
    "\n",
    "A group of friends have decided to start a secret society. The name will be the first letter of\n",
    "each of their names, sorted in alphabetical order.\n",
    "\n",
    "Create a function that takes in a list of names and returns the name of the secret society.\n",
    "\n",
    "Examples\n",
    "\n",
    "society_name([&quot;Adam&quot;, &quot;Sarah&quot;, &quot;Malcolm&quot;]) ➞ &quot;AMS&quot;\n",
    "\n",
    "society_name([&quot;Harry&quot;, &quot;Newt&quot;, &quot;Luna&quot;, &quot;Cho&quot;]) ➞ &quot;CHLN&quot;\n",
    "\n",
    "society_name([&quot;Phoebe&quot;, &quot;Chandler&quot;, &quot;Rachel&quot;, &quot;Ross&quot;, &quot;Monica&quot;, &quot;Joey&quot;])"
   ]
  },
  {
   "cell_type": "code",
   "execution_count": 8,
   "id": "b2cd38af",
   "metadata": {},
   "outputs": [
    {
     "data": {
      "text/plain": [
       "'AMS'"
      ]
     },
     "execution_count": 8,
     "metadata": {},
     "output_type": "execute_result"
    }
   ],
   "source": [
    "def society_name(lst):\n",
    "    s=''\n",
    "    for i in lst:\n",
    "        s+=(i[0])\n",
    "    s1=''.join(sorted(s))\n",
    "    return s1\n",
    "\n",
    "society_name([\"Adam\",\"Sarah\",\"Malcom\"])"
   ]
  },
  {
   "cell_type": "markdown",
   "id": "a010b837",
   "metadata": {},
   "source": [
    "Question 4.\n",
    "\n",
    "An isogram is a word that has no duplicate letters. Create a function that takes a string and\n",
    "returns either True or False depending on whether or not it&#39;s an &quot;isogram&quot;.\n",
    "\n",
    "Examples\n",
    "\n",
    "is_isogram(&quot;Algorism&quot;) ➞ True\n",
    "\n",
    "is_isogram(&quot;PasSword&quot;) ➞ False\n",
    "\n",
    "#Not case sensitive.\n",
    "\n",
    "is_isogram(&quot;Consecutive&quot;) ➞ False\n",
    "\n",
    "Notes\n",
    "\n",
    " Ignore letter case (should not be case sensitive).\n",
    "\n",
    " All test cases contain valid one word strings."
   ]
  },
  {
   "cell_type": "code",
   "execution_count": 10,
   "id": "f0cd9e7b",
   "metadata": {},
   "outputs": [
    {
     "data": {
      "text/plain": [
       "True"
      ]
     },
     "execution_count": 10,
     "metadata": {},
     "output_type": "execute_result"
    }
   ],
   "source": [
    "def is_isogram(s):\n",
    "    for i in range(len(s)):\n",
    "        if s.lower().count(s[i]) > 1:\n",
    "            return False\n",
    "    else:\n",
    "        return True\n",
    "\n",
    "is_isogram('Algorism')"
   ]
  },
  {
   "cell_type": "markdown",
   "id": "2e194c7e",
   "metadata": {},
   "source": [
    "Question 5.\n",
    "\n",
    "Create a function that takes a string and returns True or False, depending on whether the\n",
    "characters are in order or not.\n",
    "\n",
    "Examples\n",
    "\n",
    "is_in_order(&quot;abc&quot;) ➞ True\n",
    "\n",
    "is_in_order(&quot;edabit&quot;) ➞ False\n",
    "\n",
    "is_in_order(&quot;123&quot;) ➞ True\n",
    "\n",
    "is_in_order(&quot;xyzz&quot;) ➞ True\n",
    "\n",
    "Notes\n",
    "\n",
    "You don&#39;t have to handle empty strings."
   ]
  },
  {
   "cell_type": "code",
   "execution_count": 13,
   "id": "cf3c4961",
   "metadata": {},
   "outputs": [
    {
     "data": {
      "text/plain": [
       "False"
      ]
     },
     "execution_count": 13,
     "metadata": {},
     "output_type": "execute_result"
    }
   ],
   "source": [
    "def in_order(s):\n",
    "    s_sorted = ''.join(sorted(s))\n",
    "    if s == s_sorted:\n",
    "        return True\n",
    "    else:\n",
    "        return False\n",
    "\n",
    "in_order(\"edabit\")"
   ]
  },
  {
   "cell_type": "code",
   "execution_count": null,
   "id": "c5f32afc",
   "metadata": {},
   "outputs": [],
   "source": []
  }
 ],
 "metadata": {
  "kernelspec": {
   "display_name": "Python 3 (ipykernel)",
   "language": "python",
   "name": "python3"
  },
  "language_info": {
   "codemirror_mode": {
    "name": "ipython",
    "version": 3
   },
   "file_extension": ".py",
   "mimetype": "text/x-python",
   "name": "python",
   "nbconvert_exporter": "python",
   "pygments_lexer": "ipython3",
   "version": "3.9.12"
  }
 },
 "nbformat": 4,
 "nbformat_minor": 5
}
