{
 "cells": [
  {
   "cell_type": "markdown",
   "id": "4ffcd0ec",
   "metadata": {},
   "source": [
    "## Assignment Solutions 9"
   ]
  },
  {
   "cell_type": "markdown",
   "id": "553148ad",
   "metadata": {},
   "source": [
    "Question 1. Write a Python program to check if the given number is a Disarium Number?"
   ]
  },
  {
   "cell_type": "code",
   "execution_count": 1,
   "id": "ec448d5b",
   "metadata": {},
   "outputs": [
    {
     "name": "stdout",
     "output_type": "stream",
     "text": [
      "enter a number: 58745\n",
      "58745 is not a disarium number\n"
     ]
    }
   ],
   "source": [
    "def calculatelength(n):\n",
    "    length = 0\n",
    "    while(n != 0):\n",
    "        length = length + 1\n",
    "        n = n//10\n",
    "    return length\n",
    "\n",
    "num = int(input('enter a number: '))\n",
    "rem = sum = 0\n",
    "len = calculatelength(num)\n",
    "n = num\n",
    "while(num > 0):\n",
    "    rem = num%10\n",
    "    sum = sum + int(rem**len)\n",
    "    num = num//10\n",
    "    len = len - 1\n",
    "\n",
    "if(sum==n):\n",
    "    print(str(n) + \" is a disarium number\")\n",
    "else:\n",
    "    print(str(n) + \" is not a disarium number\")"
   ]
  },
  {
   "cell_type": "markdown",
   "id": "82ae481b",
   "metadata": {},
   "source": [
    "Question 2. Write a Python program to print all disarium numbers between 1 to 100?"
   ]
  },
  {
   "cell_type": "code",
   "execution_count": 2,
   "id": "9e4fca24",
   "metadata": {},
   "outputs": [
    {
     "name": "stdout",
     "output_type": "stream",
     "text": [
      "The disarium numbers between 1 and 100 are : \n",
      "1\n",
      "2\n",
      "3\n",
      "4\n",
      "5\n",
      "6\n",
      "7\n",
      "8\n",
      "9\n",
      "89\n"
     ]
    }
   ],
   "source": [
    "def length(my_val):\n",
    "    len_val = 0\n",
    "    while(my_val!=0):\n",
    "        len_val = len_val + 1\n",
    "        my_val = my_val//10\n",
    "    return len_val\n",
    "\n",
    "def sum(my_num):\n",
    "    remaining = sum_val=0\n",
    "    len_dis = length(my_num)\n",
    "    while(my_num > 0):\n",
    "        remaining = my_num%10\n",
    "        sum_val = sum_val + (remaining**len_dis)\n",
    "        my_num = my_num//10\n",
    "        len_dis = len_dis - 1\n",
    "    return sum_val\n",
    "\n",
    "result = 0\n",
    "print(\"The disarium numbers between 1 and 100 are : \")\n",
    "\n",
    "for i in range(1,101):\n",
    "    result = sum(i)\n",
    "    if(result == i):\n",
    "        print(i)"
   ]
  },
  {
   "cell_type": "markdown",
   "id": "cd8e44cd",
   "metadata": {},
   "source": [
    "Question 3. Write a Python program to check if the given number is Happy Number?"
   ]
  },
  {
   "cell_type": "code",
   "execution_count": 15,
   "id": "8a08dc78",
   "metadata": {},
   "outputs": [
    {
     "name": "stdout",
     "output_type": "stream",
     "text": [
      "17 is not a Happy number\n"
     ]
    }
   ],
   "source": [
    "def numSquareSum(n):\n",
    "    squareSum = 0;\n",
    "    while(n):\n",
    "        squareSum += (n % 10) * (n % 10);\n",
    "        n = int(n / 10);\n",
    "    return squareSum;\n",
    " \n",
    "def isHappynumber(n):\n",
    "    slow = n;\n",
    "    fast = n;\n",
    "    while(True):\n",
    "        slow = numSquareSum(slow);\n",
    "        fast = numSquareSum(numSquareSum(fast));\n",
    "        if(slow != fast):\n",
    "            continue;\n",
    "        else:\n",
    "            break;\n",
    "    return (slow == 1);\n",
    " \n",
    "n = 17;\n",
    "if (isHappynumber(n)):\n",
    "    print(n , \"is a Happy number\");\n",
    "else:\n",
    "    print(n , \"is not a Happy number\");"
   ]
  },
  {
   "cell_type": "markdown",
   "id": "289f5177",
   "metadata": {},
   "source": [
    "Question 4. Write a Python program to print all happy numbers between 1 and 100?"
   ]
  },
  {
   "cell_type": "code",
   "execution_count": 16,
   "id": "0b96b76c",
   "metadata": {},
   "outputs": [
    {
     "name": "stdout",
     "output_type": "stream",
     "text": [
      "The list of happy numbers between 1 and 100 are : \n",
      "1\n",
      "7\n",
      "10\n",
      "13\n",
      "19\n",
      "23\n",
      "28\n",
      "31\n",
      "32\n",
      "44\n",
      "49\n",
      "68\n",
      "70\n",
      "79\n",
      "82\n",
      "86\n",
      "91\n",
      "94\n",
      "97\n",
      "100\n"
     ]
    }
   ],
   "source": [
    "def check_happy_num(my_num):\n",
    "    remaining=sum=0\n",
    "    while(my_num > 0):\n",
    "        remaining = my_num%10\n",
    "        sum = sum + (remaining * remaining)\n",
    "        my_num = my_num//10\n",
    "    return sum\n",
    "\n",
    "print(\"The list of happy numbers between 1 and 100 are : \")\n",
    "\n",
    "for i in range(1,101):\n",
    "    result = i\n",
    "    while( result != 1 and result != 4 ):\n",
    "        result = check_happy_num(result)\n",
    "    if(result == 1):\n",
    "        print(i)"
   ]
  },
  {
   "cell_type": "markdown",
   "id": "8b45d72e",
   "metadata": {},
   "source": [
    "Question 5. Write a Python program to determine whether the given number is a Harshad Number?"
   ]
  },
  {
   "cell_type": "code",
   "execution_count": 21,
   "id": "8a5f1afa",
   "metadata": {},
   "outputs": [
    {
     "name": "stdout",
     "output_type": "stream",
     "text": [
      "Enter a number : 87\n",
      "87 is not a Harshad Number\n"
     ]
    }
   ],
   "source": [
    "num = int(input('Enter a number : '))\n",
    "rem = sum = 0;\n",
    "\n",
    "n = num;\n",
    "\n",
    "while(num > 0):\n",
    "    rem = num%10;\n",
    "    sum = sum + rem;\n",
    "    num = num//10;\n",
    "    \n",
    "if(n%sum == 0):\n",
    "    print(str(n) + \" is a Harshad Number\");\n",
    "else:\n",
    "    print(str(n) + \" is not a Harshad Number\")\n"
   ]
  },
  {
   "cell_type": "markdown",
   "id": "a2a425f0",
   "metadata": {},
   "source": [
    "Question 6. Write a Python program to print all pronic numbers between 1 and 100?"
   ]
  },
  {
   "cell_type": "code",
   "execution_count": 30,
   "id": "25f43322",
   "metadata": {},
   "outputs": [
    {
     "name": "stdout",
     "output_type": "stream",
     "text": [
      "Pronic numbers between 1 and 100: \n",
      "2\n",
      "6\n",
      "12\n",
      "20\n",
      "30\n",
      "42\n",
      "56\n",
      "72\n",
      "90\n"
     ]
    }
   ],
   "source": [
    "def isPronicNumber(num):    \n",
    "    flag = False;    \n",
    "        \n",
    "    for j in range(1, num+1):       \n",
    "        if((j*(j+1)) == num):    \n",
    "            flag = True;    \n",
    "            break;    \n",
    "    return flag;    \n",
    "      \n",
    "print(\"Pronic numbers between 1 and 100: \");    \n",
    "for i in range(1, 101):    \n",
    "    if(isPronicNumber(i)):    \n",
    "        print(i)   "
   ]
  },
  {
   "cell_type": "code",
   "execution_count": null,
   "id": "39f860ed",
   "metadata": {},
   "outputs": [],
   "source": []
  }
 ],
 "metadata": {
  "kernelspec": {
   "display_name": "Python 3 (ipykernel)",
   "language": "python",
   "name": "python3"
  },
  "language_info": {
   "codemirror_mode": {
    "name": "ipython",
    "version": 3
   },
   "file_extension": ".py",
   "mimetype": "text/x-python",
   "name": "python",
   "nbconvert_exporter": "python",
   "pygments_lexer": "ipython3",
   "version": "3.9.12"
  }
 },
 "nbformat": 4,
 "nbformat_minor": 5
}
