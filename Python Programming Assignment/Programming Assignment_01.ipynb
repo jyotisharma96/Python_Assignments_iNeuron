{
 "cells": [
  {
   "cell_type": "markdown",
   "id": "d82c5b3e",
   "metadata": {},
   "source": [
    "## Assignment Solutions 1"
   ]
  },
  {
   "cell_type": "markdown",
   "id": "52ffca8c",
   "metadata": {},
   "source": [
    "Question 1. Write a Python program to print \"Hello Python\"?"
   ]
  },
  {
   "cell_type": "code",
   "execution_count": 1,
   "id": "993f2c28",
   "metadata": {},
   "outputs": [
    {
     "name": "stdout",
     "output_type": "stream",
     "text": [
      "Hello Python\n"
     ]
    }
   ],
   "source": [
    "print('Hello Python')"
   ]
  },
  {
   "cell_type": "markdown",
   "id": "f153b34f",
   "metadata": {},
   "source": [
    "Question 2. Write a Python program to do arithmetic operations addition and division ?"
   ]
  },
  {
   "cell_type": "code",
   "execution_count": 1,
   "id": "5dd759e9",
   "metadata": {},
   "outputs": [
    {
     "name": "stdout",
     "output_type": "stream",
     "text": [
      "9\n",
      "4\n",
      "This is the addition of your numbers :  13\n",
      "This is the division of your numbers :  2.25\n"
     ]
    }
   ],
   "source": [
    "a = int(input())\n",
    "b = int(input())\n",
    "\n",
    "print(\"This is the addition of your numbers : \", a+b)\n",
    "print(\"This is the division of your numbers : \", a/b)"
   ]
  },
  {
   "cell_type": "markdown",
   "id": "194ef8e9",
   "metadata": {},
   "source": [
    "Question 3. Write a Python program to find the area of a triangle?"
   ]
  },
  {
   "cell_type": "code",
   "execution_count": 6,
   "id": "3bd0e9e3",
   "metadata": {},
   "outputs": [
    {
     "name": "stdout",
     "output_type": "stream",
     "text": [
      "Enter height of the Triangle : 7\n",
      "Enter base of the Triangle : 5\n",
      "\n",
      "The area of the triangle is :  17.5\n"
     ]
    }
   ],
   "source": [
    "height = int(input(\"Enter height of the Triangle : \"))\n",
    "base = int(input(\"Enter base of the Triangle : \"))\n",
    "\n",
    "def areaoftriangle(height,base):\n",
    "    print('\\nThe area of the triangle is : ', 0.5*base*height)\n",
    "\n",
    "areaoftriangle(height,base)"
   ]
  },
  {
   "cell_type": "markdown",
   "id": "25c49541",
   "metadata": {},
   "source": [
    "Question 4. Write a Python program to swap two variables?"
   ]
  },
  {
   "cell_type": "code",
   "execution_count": 10,
   "id": "ae1db16a",
   "metadata": {},
   "outputs": [
    {
     "name": "stdout",
     "output_type": "stream",
     "text": [
      "Enter the first number: 8\n",
      "Enter the second number: 7\n",
      "before swapping :  8 7\n",
      "after swapping :  7 8\n"
     ]
    }
   ],
   "source": [
    "x = int(input(\"Enter the first number: \"))\n",
    "y = int(input(\"Enter the second number: \"))\n",
    "\n",
    "def swapNumbers(a,b):\n",
    "    temp = a\n",
    "    a = b\n",
    "    b = temp\n",
    "    return a,b\n",
    "\n",
    "print('before swapping : ', x,y)\n",
    "\n",
    "x,y = swapNumbers(x,y)\n",
    "\n",
    "print('after swapping : ', x,y)"
   ]
  },
  {
   "cell_type": "markdown",
   "id": "03a0d973",
   "metadata": {},
   "source": [
    "Question 5. Write a Python program to generate a random number?"
   ]
  },
  {
   "cell_type": "code",
   "execution_count": 12,
   "id": "b0de8937",
   "metadata": {},
   "outputs": [
    {
     "name": "stdout",
     "output_type": "stream",
     "text": [
      "Random Number ->  662\n"
     ]
    }
   ],
   "source": [
    "from random import randint\n",
    "\n",
    "def generateRandomNumber(start=0, end=500000):\n",
    "    print('Random Number -> ',randint(start,end))\n",
    "    \n",
    "generateRandomNumber(0,999)"
   ]
  },
  {
   "cell_type": "code",
   "execution_count": null,
   "id": "fc0c5872",
   "metadata": {},
   "outputs": [],
   "source": []
  }
 ],
 "metadata": {
  "kernelspec": {
   "display_name": "Python 3 (ipykernel)",
   "language": "python",
   "name": "python3"
  },
  "language_info": {
   "codemirror_mode": {
    "name": "ipython",
    "version": 3
   },
   "file_extension": ".py",
   "mimetype": "text/x-python",
   "name": "python",
   "nbconvert_exporter": "python",
   "pygments_lexer": "ipython3",
   "version": "3.9.12"
  }
 },
 "nbformat": 4,
 "nbformat_minor": 5
}
