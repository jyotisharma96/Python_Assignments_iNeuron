{
 "cells": [
  {
   "cell_type": "markdown",
   "id": "f5b7831d",
   "metadata": {},
   "source": [
    "## Assignment Solutions 10"
   ]
  },
  {
   "cell_type": "markdown",
   "id": "554f1f4b",
   "metadata": {},
   "source": [
    "Question 1. Write a Python program to find sum of elements in list?"
   ]
  },
  {
   "cell_type": "code",
   "execution_count": 3,
   "id": "d2fa41d8",
   "metadata": {},
   "outputs": [
    {
     "name": "stdout",
     "output_type": "stream",
     "text": [
      "11\n"
     ]
    }
   ],
   "source": [
    "def sum_list(items):\n",
    "    sum = 0\n",
    "    for i in items:\n",
    "        sum +=i\n",
    "    return sum\n",
    "\n",
    "print(sum_list([1,2,8]))"
   ]
  },
  {
   "cell_type": "markdown",
   "id": "ad623cff",
   "metadata": {},
   "source": [
    "Question 2. Write a Python program to Multiply all numbers in the list?"
   ]
  },
  {
   "cell_type": "code",
   "execution_count": 5,
   "id": "0a6dcdb4",
   "metadata": {},
   "outputs": [
    {
     "name": "stdout",
     "output_type": "stream",
     "text": [
      "6\n"
     ]
    }
   ],
   "source": [
    "def mul_list(items):\n",
    "    mul = 1\n",
    "    for i in items:\n",
    "        mul *=i\n",
    "    return mul\n",
    "\n",
    "print(mul_list([1,2,3]))"
   ]
  },
  {
   "cell_type": "markdown",
   "id": "342f7bf9",
   "metadata": {},
   "source": [
    "Question 3. Write a Python program to find smallest number in a list?"
   ]
  },
  {
   "cell_type": "code",
   "execution_count": 9,
   "id": "3f2ccc34",
   "metadata": {},
   "outputs": [
    {
     "name": "stdout",
     "output_type": "stream",
     "text": [
      "The smallest number in the [1, 2, 3, 4, 6, 7, 3, 8, 433, 75, 98] is:\n",
      "1\n"
     ]
    }
   ],
   "source": [
    "def smallest_num_in_list(list):\n",
    "    sm = list[0]\n",
    "    for i in list:\n",
    "        if i < sm:\n",
    "            sm = i\n",
    "    return sm\n",
    "\n",
    "list = [1,2,3,4,6,7,3,8,433,75,98]\n",
    "print(\"The smallest number in the\", list, \"is:\")\n",
    "print(smallest_num_in_list(list))"
   ]
  },
  {
   "cell_type": "markdown",
   "id": "f47b28fe",
   "metadata": {},
   "source": [
    "Question 4. Write a Python program to find largest number in a list?"
   ]
  },
  {
   "cell_type": "code",
   "execution_count": 2,
   "id": "6b81f977",
   "metadata": {},
   "outputs": [
    {
     "name": "stdout",
     "output_type": "stream",
     "text": [
      "The largest number in the  [1, 2, 4, 7, 9, 4, 58, 95, 10] is:\n",
      "95\n"
     ]
    }
   ],
   "source": [
    "def largest_num_in_list(list):\n",
    "    large = list[0]\n",
    "    for i in list:\n",
    "        if i > large:\n",
    "            large = i\n",
    "    return large\n",
    "\n",
    "list = [1,2,4,7,9,4,58,95,10]\n",
    "print(\"The largest number in the \", list, \"is:\")\n",
    "print(largest_num_in_list(list))"
   ]
  },
  {
   "cell_type": "markdown",
   "id": "e77ae3d4",
   "metadata": {},
   "source": [
    "Question 5. Write a Python program to find second largest number in a list?"
   ]
  },
  {
   "cell_type": "code",
   "execution_count": 3,
   "id": "6584f0ce",
   "metadata": {},
   "outputs": [
    {
     "name": "stdout",
     "output_type": "stream",
     "text": [
      "Enter the number of elements: 8\n",
      "Enter Element:1\n",
      "Enter Element:2\n",
      "Enter Element:6\n",
      "Enter Element:7\n",
      "Enter Element:8\n",
      "Enter Element:95\n",
      "Enter Element:24\n",
      "Enter Element:87\n",
      "Second Largest element is: 87\n"
     ]
    }
   ],
   "source": [
    "a = []\n",
    "n = int(input(\"Enter the number of elements: \"))\n",
    "for i in range(1, n+1):\n",
    "    b = int(input(\"Enter Element:\"))\n",
    "    a.append(b)\n",
    "a.sort()\n",
    "print(\"Second Largest element is:\", a[n-2])"
   ]
  },
  {
   "cell_type": "markdown",
   "id": "8c490764",
   "metadata": {},
   "source": [
    "Question 6. Write a Python program to find N largest elements from a list?"
   ]
  },
  {
   "cell_type": "code",
   "execution_count": 4,
   "id": "498510c6",
   "metadata": {},
   "outputs": [
    {
     "name": "stdout",
     "output_type": "stream",
     "text": [
      "Enter the Size of list: 7\n",
      "Enter the elements of list: 4\n",
      "Enter the elements of list: 5\n",
      "Enter the elements of list: 8\n",
      "Enter the elements of list: 1\n",
      "Enter the elements of list: 2\n",
      "Enter the elements of list: 57\n",
      "Enter the elements of list: 98\n",
      "Enter the required number of elements: 5\n",
      "5 Largest Elements in the [4, 5, 8, 1, 2, 57, 98]\n",
      "[4, 5, 8, 57, 98]\n"
     ]
    }
   ],
   "source": [
    "def N_largest_elements(list,N):\n",
    "    list.sort()\n",
    "    return list[-N: ]\n",
    "\n",
    "list=[]\n",
    "n=int(input(\"Enter the Size of list: \"))\n",
    "for i in range(0,n):\n",
    "    Elements=int(input(\"Enter the elements of list: \"))\n",
    "    list.append(Elements)\n",
    "\n",
    "n=int(input(\"Enter the required number of elements: \"))\n",
    "print(n, \"Largest Elements in the\", list)\n",
    "\n",
    "print(N_largest_elements(list,n))\n",
    "    "
   ]
  },
  {
   "cell_type": "markdown",
   "id": "dc93e004",
   "metadata": {},
   "source": [
    "Question 7. Write a Python program to print even numbers in a list?"
   ]
  },
  {
   "cell_type": "code",
   "execution_count": 5,
   "id": "abd80b40",
   "metadata": {},
   "outputs": [
    {
     "name": "stdout",
     "output_type": "stream",
     "text": [
      "Enter the size of list: 8\n",
      "Enter the elements of list: 5\n",
      "Enter the elements of list: 9\n",
      "Enter the elements of list: 47\n",
      "Enter the elements of list: 24\n",
      "Enter the elements of list: 98\n",
      "Enter the elements of list: 247\n",
      "Enter the elements of list: 24\n",
      "Enter the elements of list: 25\n",
      "Even Numbers in a list  [5, 9, 47, 24, 98, 247, 24, 25]\n",
      "[24, 98, 24]\n"
     ]
    }
   ],
   "source": [
    "def even(list):\n",
    "    new_list=[]\n",
    "    for i in list:\n",
    "        if i%2==0:\n",
    "            new_list.append(i)\n",
    "    return new_list\n",
    "\n",
    "li=[]\n",
    "n=int(input(\"Enter the size of list: \"))\n",
    "for i in range(0,n):\n",
    "    Elements=int(input(\"Enter the elements of list: \"))\n",
    "    li.append(Elements)\n",
    "\n",
    "print(\"Even Numbers in a list \", li)\n",
    "print(even(li))"
   ]
  },
  {
   "cell_type": "markdown",
   "id": "c67aee08",
   "metadata": {},
   "source": [
    "Question 8. Write a Python program to print odd numbers in a List?"
   ]
  },
  {
   "cell_type": "code",
   "execution_count": 6,
   "id": "45a0b30b",
   "metadata": {},
   "outputs": [
    {
     "name": "stdout",
     "output_type": "stream",
     "text": [
      "Enter the size of list: 5\n",
      "Enter the elements of list: 54\n",
      "Enter the elements of list: 24\n",
      "Enter the elements of list: 21\n",
      "Enter the elements of list: 68\n",
      "Enter the elements of list: 7\n",
      "Even Numbers in a list  [54, 24, 21, 68, 7]\n",
      "[21, 7]\n"
     ]
    }
   ],
   "source": [
    "def even(list):\n",
    "    new_list=[]\n",
    "    for i in list:\n",
    "        if i%2 !=0:\n",
    "            new_list.append(i)\n",
    "    return new_list\n",
    "\n",
    "li=[]\n",
    "n=int(input(\"Enter the size of list: \"))\n",
    "for i in range(0,n):\n",
    "    Elements=int(input(\"Enter the elements of list: \"))\n",
    "    li.append(Elements)\n",
    "\n",
    "print(\"Even Numbers in a list \", li)\n",
    "print(even(li))"
   ]
  },
  {
   "cell_type": "markdown",
   "id": "a160ac0a",
   "metadata": {},
   "source": [
    "Question 9. Write a Python program to Remove empty List from List?"
   ]
  },
  {
   "cell_type": "code",
   "execution_count": 9,
   "id": "205266d9",
   "metadata": {},
   "outputs": [
    {
     "name": "stdout",
     "output_type": "stream",
     "text": [
      "Enter all the elements of the list: [9, 5 , 87, 58, 97, 25, [65, 87], [], 87]\n",
      "There is an Empty list in [9, 5, 87, 58, 97, 25, [65, 87], [], 87] at position 7\n",
      "The list after removing [] is [9, 5, 87, 58, 97, 25, [65, 87], 87]\n"
     ]
    }
   ],
   "source": [
    "def EmptyList():\n",
    "    list1 = eval(input(\"Enter all the elements of the list: \"))\n",
    "    if [] in list1:\n",
    "        print(f'There is an Empty list in {list1} at position {list1.index([])}')\n",
    "        list1.remove([])\n",
    "        print(f'The list after removing [] is {list1}')\n",
    "    else:\n",
    "        print(f'There is no [] List in the list {list1}')\n",
    "\n",
    "EmptyList()"
   ]
  },
  {
   "cell_type": "markdown",
   "id": "833ae5ed",
   "metadata": {},
   "source": [
    "Question 10. Write a Python program to Cloning or Copying a list?"
   ]
  },
  {
   "cell_type": "code",
   "execution_count": 10,
   "id": "11f484b7",
   "metadata": {},
   "outputs": [
    {
     "name": "stdout",
     "output_type": "stream",
     "text": [
      "Enter the size of list: 4\n",
      "Enter the element of list: 8\n",
      "Enter the element of list: 55\n",
      "Enter the element of list: 54\n",
      "Enter the element of list: 24\n",
      "Original list:  [8, 55, 54, 24]\n",
      "After cloning:  [8, 55, 54, 24]\n"
     ]
    }
   ],
   "source": [
    "li=[]\n",
    "n=int(input(\"Enter the size of list: \"))\n",
    "for i in range(0,n):\n",
    "    cl=int(input(\"Enter the element of list: \"))\n",
    "    li.append(cl)\n",
    "print(\"Original list: \",li)\n",
    "\n",
    "#cloning\n",
    "\n",
    "list_copy = li[:]\n",
    "print(\"After cloning: \",list_copy)\n",
    "    "
   ]
  },
  {
   "cell_type": "markdown",
   "id": "4552afa3",
   "metadata": {},
   "source": [
    "Question 11. Write a Python program to Count occurrences of an element in a list?"
   ]
  },
  {
   "cell_type": "code",
   "execution_count": 13,
   "id": "f1cb6a7e",
   "metadata": {},
   "outputs": [
    {
     "name": "stdout",
     "output_type": "stream",
     "text": [
      "The element 87 occurs 3 times in the list.\n"
     ]
    }
   ],
   "source": [
    "def count_occurrences(lst,element):\n",
    "    count = 0\n",
    "    for i in lst:\n",
    "        if i == element:\n",
    "            count+=1\n",
    "    return count\n",
    "\n",
    "my_list = [1,587, 572, 87, 87, 85, 547, 87, 54]\n",
    "element = 87\n",
    "occurrences = count_occurrences(my_list, element)\n",
    "print(f\"The element {element} occurs {occurrences} times in the list.\")"
   ]
  },
  {
   "cell_type": "code",
   "execution_count": null,
   "id": "0ca063f5",
   "metadata": {},
   "outputs": [],
   "source": []
  }
 ],
 "metadata": {
  "kernelspec": {
   "display_name": "Python 3 (ipykernel)",
   "language": "python",
   "name": "python3"
  },
  "language_info": {
   "codemirror_mode": {
    "name": "ipython",
    "version": 3
   },
   "file_extension": ".py",
   "mimetype": "text/x-python",
   "name": "python",
   "nbconvert_exporter": "python",
   "pygments_lexer": "ipython3",
   "version": "3.9.12"
  }
 },
 "nbformat": 4,
 "nbformat_minor": 5
}
