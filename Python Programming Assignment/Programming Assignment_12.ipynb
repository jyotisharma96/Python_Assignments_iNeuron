{
 "cells": [
  {
   "cell_type": "markdown",
   "id": "2206a6aa",
   "metadata": {},
   "source": [
    "## Assignment Solutions 12"
   ]
  },
  {
   "cell_type": "markdown",
   "id": "b1495dbc",
   "metadata": {},
   "source": [
    "Question 1. Write a Python program to Extract Unique values dictionary values?"
   ]
  },
  {
   "cell_type": "code",
   "execution_count": 3,
   "id": "7697f8e2",
   "metadata": {},
   "outputs": [
    {
     "name": "stdout",
     "output_type": "stream",
     "text": [
      "{1, 2, 3, 4, 5}\n"
     ]
    }
   ],
   "source": [
    "my_dict = {'a':1, 'b':2, 'c':3, 'd':4, 'e':5, 'f':4}\n",
    "unique = set()\n",
    "for values in my_dict.values():\n",
    "    unique.add(values)\n",
    "print(unique)"
   ]
  },
  {
   "cell_type": "markdown",
   "id": "1e902977",
   "metadata": {},
   "source": [
    "Question 2. Write a Python program to find the sum of all items in a dictionary?"
   ]
  },
  {
   "cell_type": "code",
   "execution_count": 4,
   "id": "5809fb4e",
   "metadata": {},
   "outputs": [
    {
     "name": "stdout",
     "output_type": "stream",
     "text": [
      "Dictionary Elements:  {'a': 657, 'b': 876, 'c': 764}\n",
      "Sum of values in the dictionary:  2297\n"
     ]
    }
   ],
   "source": [
    "def sum_dict(items):\n",
    "    \n",
    "    sum = 0\n",
    "    for i in items.values():\n",
    "        sum=sum+i\n",
    "    return sum\n",
    "\n",
    "items={'a': 657, 'b': 876, 'c':764}\n",
    "print(\"Dictionary Elements: \", items)\n",
    "\n",
    "print(\"Sum of values in the dictionary: \", sum_dict(items))"
   ]
  },
  {
   "cell_type": "markdown",
   "id": "b5088eac",
   "metadata": {},
   "source": [
    "Question 3. Write a Python program to Merging two Dictionaries?"
   ]
  },
  {
   "cell_type": "code",
   "execution_count": 5,
   "id": "7afb181d",
   "metadata": {},
   "outputs": [
    {
     "name": "stdout",
     "output_type": "stream",
     "text": [
      "{1: 'a', 2: 'b', 3: 'c', 4: 'd'}\n"
     ]
    }
   ],
   "source": [
    "dict_1 = {1: 'a', 2: 'b'}\n",
    "dict_2 = {3: 'c', 4: 'd'}\n",
    "\n",
    "print(dict_1 | dict_2)"
   ]
  },
  {
   "cell_type": "markdown",
   "id": "d8acf038",
   "metadata": {},
   "source": [
    "Question 4. Write a Python program to convert key-values list to flat dictionary?"
   ]
  },
  {
   "cell_type": "code",
   "execution_count": 12,
   "id": "62dc132b",
   "metadata": {},
   "outputs": [
    {
     "name": "stdout",
     "output_type": "stream",
     "text": [
      "The original dictionary is: {'month': [1, 2, 3], 'name': ['Jan', 'Feb', 'March']}\n",
      "Flattened dictionary : {1: 'Jan', 2: 'Feb', 3: 'March'}\n"
     ]
    }
   ],
   "source": [
    "test_dict = {'month' : [1,2,3], 'name' : ['Jan', 'Feb', 'March']}\n",
    "\n",
    "print(\"The original dictionary is: \" + str(test_dict))\n",
    "\n",
    "res = {}\n",
    "for i in range(len(test_dict['month'])):\n",
    "    res[test_dict['month'][i]] = test_dict['name'][i]\n",
    "\n",
    "print(\"Flattened dictionary : \" + str(res))"
   ]
  },
  {
   "cell_type": "markdown",
   "id": "89993548",
   "metadata": {},
   "source": [
    "Question 5. Write a Python program to insertion at the beginning in OrderedDict?"
   ]
  },
  {
   "cell_type": "code",
   "execution_count": 15,
   "id": "efc5aea9",
   "metadata": {},
   "outputs": [
    {
     "name": "stdout",
     "output_type": "stream",
     "text": [
      "OrderedDict([('D', '400'), ('A', '100'), ('B', '200'), ('C', '300')])\n"
     ]
    }
   ],
   "source": [
    "from collections import OrderedDict\n",
    "dict_1 = OrderedDict([('A', '100'), ('B', '200'), ('C', '300')])\n",
    "insrt = OrderedDict([(\"D\", '400')])\n",
    "\n",
    "final = OrderedDict(list(insrt.items()) + list(dict_1.items()))\n",
    "print(final)"
   ]
  },
  {
   "cell_type": "markdown",
   "id": "d4fdb3d5",
   "metadata": {},
   "source": [
    "Question 6. Write a Python program to check order of character in string using OrderedDict()?"
   ]
  },
  {
   "cell_type": "code",
   "execution_count": 2,
   "id": "3a5f8382",
   "metadata": {},
   "outputs": [
    {
     "name": "stdout",
     "output_type": "stream",
     "text": [
      "False\n"
     ]
    }
   ],
   "source": [
    "from collections import OrderedDict\n",
    "\n",
    "def checkOrder(inp,pattern):\n",
    "    \n",
    "    dict = OrderedDict.fromkeys(inp)\n",
    "    \n",
    "    i=0\n",
    "    for key,value in dict.items():\n",
    "        if (key==pattern[i]):\n",
    "            i+=1\n",
    "        if (i==(len(pattern))):\n",
    "            return 'true'\n",
    "    return False\n",
    "\n",
    "inp = 'Data Science'\n",
    "pattern = 'er'\n",
    "print(checkOrder(inp,pattern))"
   ]
  },
  {
   "cell_type": "markdown",
   "id": "cf6b796b",
   "metadata": {},
   "source": [
    "Question 7. Write a Python program to sort Python Dictionaries by Key or Value?"
   ]
  },
  {
   "cell_type": "code",
   "execution_count": 5,
   "id": "983d47a2",
   "metadata": {},
   "outputs": [
    {
     "name": "stdout",
     "output_type": "stream",
     "text": [
      "{'a': 100, 'b': 22, 'c': 60, 'd': 13}\n",
      "{'d': 13, 'b': 22, 'c': 60, 'a': 100}\n"
     ]
    }
   ],
   "source": [
    "d_items = {'a':100,'b':22,'c':60,'d':13}\n",
    "\n",
    "def sort_dict(in_dict,sort_type):\n",
    "    if sort_type == 'key':\n",
    "        print(dict(sorted(in_dict.items(), key=lambda x:x[0], reverse=False)))\n",
    "    else:\n",
    "        print(dict(sorted(in_dict.items(), key=lambda x:x[1], reverse=False)))\n",
    "        \n",
    "sort_dict(d_items,'key')        \n",
    "sort_dict(d_items,'value')"
   ]
  },
  {
   "cell_type": "code",
   "execution_count": null,
   "id": "59789ebb",
   "metadata": {},
   "outputs": [],
   "source": []
  }
 ],
 "metadata": {
  "kernelspec": {
   "display_name": "Python 3 (ipykernel)",
   "language": "python",
   "name": "python3"
  },
  "language_info": {
   "codemirror_mode": {
    "name": "ipython",
    "version": 3
   },
   "file_extension": ".py",
   "mimetype": "text/x-python",
   "name": "python",
   "nbconvert_exporter": "python",
   "pygments_lexer": "ipython3",
   "version": "3.9.12"
  }
 },
 "nbformat": 4,
 "nbformat_minor": 5
}
