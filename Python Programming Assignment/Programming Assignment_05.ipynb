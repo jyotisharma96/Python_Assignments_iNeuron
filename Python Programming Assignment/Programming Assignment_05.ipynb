{
 "cells": [
  {
   "cell_type": "markdown",
   "id": "d2bc5a18",
   "metadata": {},
   "source": [
    "## Assignment Solutions 5"
   ]
  },
  {
   "cell_type": "markdown",
   "id": "936353fe",
   "metadata": {},
   "source": [
    "Question 1. Write a Python Program to Find LCM?"
   ]
  },
  {
   "cell_type": "code",
   "execution_count": 1,
   "id": "efd37509",
   "metadata": {},
   "outputs": [
    {
     "name": "stdout",
     "output_type": "stream",
     "text": [
      "The lcm of 3,6 is 6\n",
      "The lcm of 5,4 is 20\n"
     ]
    }
   ],
   "source": [
    "def compute_lcm(x,y):\n",
    "    \n",
    "    #choose the greater number\n",
    "    if x>y:\n",
    "        greater = x\n",
    "    else:\n",
    "        greater = y\n",
    "    \n",
    "    while(True):\n",
    "        if((greater % x == 0) and (greater % y == 0)):\n",
    "            lcm = greater\n",
    "            break\n",
    "        greater += 1\n",
    "        \n",
    "    print(f'The lcm of {x},{y} is {lcm}')\n",
    "\n",
    "compute_lcm(3,6)\n",
    "compute_lcm(5,4)\n",
    "\n"
   ]
  },
  {
   "cell_type": "markdown",
   "id": "d4a9c8b2",
   "metadata": {},
   "source": [
    "Question 2. Write a Python Program to Find HCF?"
   ]
  },
  {
   "cell_type": "code",
   "execution_count": 2,
   "id": "1a901e5f",
   "metadata": {},
   "outputs": [
    {
     "name": "stdout",
     "output_type": "stream",
     "text": [
      "The HCF of 3,6 is 3\n",
      "The HCF of 5,4 is 1\n"
     ]
    }
   ],
   "source": [
    "def compute_hcf(x,y):\n",
    "    \n",
    "    # choose the smaller number\n",
    "    if x > y:\n",
    "        smaller = y\n",
    "    else:\n",
    "        smaller = x\n",
    "    for i in range(1, smaller+1):\n",
    "        if((x % i == 0) and (y % i == 0)):\n",
    "            hcf = i\n",
    "    \n",
    "    print(f'The HCF of {x},{y} is {hcf}')\n",
    "    \n",
    "compute_hcf(3,6)\n",
    "compute_hcf(5,4)"
   ]
  },
  {
   "cell_type": "markdown",
   "id": "639a4270",
   "metadata": {},
   "source": [
    "Question 3. Write a Python Program to Convert Decimal to Binary, Octal and Hexadecimal?"
   ]
  },
  {
   "cell_type": "code",
   "execution_count": 3,
   "id": "7de8577b",
   "metadata": {},
   "outputs": [
    {
     "name": "stdout",
     "output_type": "stream",
     "text": [
      "Enter a number to convert Decimal to Binary : 87\n",
      "1010111\n"
     ]
    }
   ],
   "source": [
    "# Code to convert decimal to binary\n",
    "\n",
    "n=int(input('Enter a number to convert Decimal to Binary : '))\n",
    "l= []\n",
    "for i in range(1,n+1):\n",
    "    if n == 0:\n",
    "        break\n",
    "    else:\n",
    "        l.append(n%2)\n",
    "        n = n//2\n",
    "\n",
    "l.reverse()\n",
    "a = ''\n",
    "for i in l:\n",
    "    a += str(i)\n",
    "\n",
    "print(a)\n"
   ]
  },
  {
   "cell_type": "code",
   "execution_count": 4,
   "id": "b66c019a",
   "metadata": {},
   "outputs": [
    {
     "name": "stdout",
     "output_type": "stream",
     "text": [
      "Enter a number to Convert Decimal to Octal: 87\n",
      "127\n"
     ]
    }
   ],
   "source": [
    "# Code to convert decimal to Octal\n",
    "\n",
    "n = int(input(\"Enter a number to Convert Decimal to Octal: \"))\n",
    "l = []\n",
    "for i in range(1,n+1):\n",
    "    if n == 0:\n",
    "        break\n",
    "    else:\n",
    "        \n",
    "        l.append(n%8)\n",
    "        n = n//8\n",
    "\n",
    "l.reverse()\n",
    "a = ''\n",
    "for i in l:\n",
    "    a += str(i)\n",
    "\n",
    "print(a)"
   ]
  },
  {
   "cell_type": "code",
   "execution_count": 5,
   "id": "62cc3587",
   "metadata": {},
   "outputs": [
    {
     "name": "stdout",
     "output_type": "stream",
     "text": [
      "Enter a number to convert Decimal to Hexadecimal : 57\n",
      "039\n"
     ]
    }
   ],
   "source": [
    "# Code to convert decimal to Hexadecimal\n",
    "\n",
    "n = int(input(\"Enter a number to convert Decimal to Hexadecimal : \"))\n",
    "l= []\n",
    "\n",
    "x = 'ABCDEF'\n",
    "for i in range(1,n+1):\n",
    "    y = ''\n",
    "    if n == 0:\n",
    "        l.append(n)\n",
    "        break\n",
    "    else:\n",
    "        if n%16 >= 10 :\n",
    "            y +=x [(n%16)-10]\n",
    "            l.append(y)\n",
    "            n = n//16\n",
    "        else:\n",
    "            l.append(n%16)\n",
    "            n = n//16\n",
    "\n",
    "l.reverse()\n",
    "a = ''\n",
    "for i in l:\n",
    "    a += str(i)\n",
    "\n",
    "print(a)\n"
   ]
  },
  {
   "cell_type": "markdown",
   "id": "2882b6e9",
   "metadata": {},
   "source": [
    "Question 4. Write a Python Program To Find ASCII value of a character?"
   ]
  },
  {
   "cell_type": "code",
   "execution_count": 6,
   "id": "3fef3ba8",
   "metadata": {},
   "outputs": [
    {
     "name": "stdout",
     "output_type": "stream",
     "text": [
      "Enter your Alphabet here : o\n",
      "ASCII value of o is :  111\n"
     ]
    }
   ],
   "source": [
    "C = 'ABCDEFGHIJKLMNOPQRSTUVWXYZ'\n",
    "lc = C.lower()\n",
    "\n",
    "x = input(\"Enter your Alphabet here : \")\n",
    "for i in range(26):\n",
    "    if x in C:\n",
    "        print(f\"ASCII value of {x} is : \" , C.index(x)+65)\n",
    "    \n",
    "    elif x in lc:\n",
    "        print(f\"ASCII value of {x} is : \" , lc.index(x)+97)\n",
    "    \n",
    "    else:\n",
    "        print(\"Enter a valid character\")\n",
    "    break"
   ]
  },
  {
   "cell_type": "markdown",
   "id": "20f4b3f7",
   "metadata": {},
   "source": [
    "Question 5. Write a Python Program to Make a Simple Calculator with 4 basic mathematical operations?"
   ]
  },
  {
   "cell_type": "code",
   "execution_count": 7,
   "id": "c72a3018",
   "metadata": {},
   "outputs": [
    {
     "name": "stdout",
     "output_type": "stream",
     "text": [
      "Select a Arithemetic Operation:        \n",
      "1.Addition(+)       \n",
      "2.Subtraction(-)       \n",
      "3.Multiplication(*)       \n",
      "4.Division(/)       \n",
      "5.Stop(0)\n",
      "\n",
      "Enter a arithmetic operation -> +\n",
      "\n",
      "Enter 1st Number: 87\n",
      "\\Enter 2nd Number: 54\n",
      "87+54=141\n",
      "\n",
      "Enter a arithmetic operation -> -\n",
      "\n",
      "Enter 1st Number: 547\n",
      "\\Enter 2nd Number: 57\n",
      "547-57=490\n",
      "\n",
      "Enter a arithmetic operation -> *\n",
      "\n",
      "Enter 1st Number: 87\n",
      "\\Enter 2nd Number: 54\n",
      "87*54=4698\n",
      "\n",
      "Enter a arithmetic operation -> /\n",
      "\n",
      "Enter 1st Number: 87\n",
      "\\Enter 2nd Number: 54\n",
      "87/54=1.6111111111111112\n",
      "\n",
      "Enter a arithmetic operation -> 0\n",
      "Program Stopped Successfully\n"
     ]
    }
   ],
   "source": [
    "import operator\n",
    "\n",
    "ops = { \"+\": operator.add, \"-\": operator.sub, \"*\":operator.mul, \"/\":operator.truediv }\n",
    "\n",
    "print('Select a Arithemetic Operation: \\\n",
    "       \\n1.Addition(+)\\\n",
    "       \\n2.Subtraction(-)\\\n",
    "       \\n3.Multiplication(*)\\\n",
    "       \\n4.Division(/)\\\n",
    "       \\n5.Stop(0)\\n')\n",
    "\n",
    "while True:\n",
    "    operator = input('Enter a arithmetic operation -> ')\n",
    "    if operator == '0':\n",
    "        print(\"Program Stopped Successfully\")\n",
    "        break\n",
    "    elif operator not in ['+','-','*','/']:\n",
    "        print(\"Please enter a valid operator\")\n",
    "    else:\n",
    "        num_1 = int(input('\\nEnter 1st Number: '))\n",
    "        num_2 = int(input('\\Enter 2nd Number: '))\n",
    "        print(f'{num_1}{operator}{num_2}={ops[operator](num_1,num_2)}\\n')"
   ]
  },
  {
   "cell_type": "code",
   "execution_count": null,
   "id": "6203befb",
   "metadata": {},
   "outputs": [],
   "source": []
  }
 ],
 "metadata": {
  "kernelspec": {
   "display_name": "Python 3 (ipykernel)",
   "language": "python",
   "name": "python3"
  },
  "language_info": {
   "codemirror_mode": {
    "name": "ipython",
    "version": 3
   },
   "file_extension": ".py",
   "mimetype": "text/x-python",
   "name": "python",
   "nbconvert_exporter": "python",
   "pygments_lexer": "ipython3",
   "version": "3.9.12"
  }
 },
 "nbformat": 4,
 "nbformat_minor": 5
}
