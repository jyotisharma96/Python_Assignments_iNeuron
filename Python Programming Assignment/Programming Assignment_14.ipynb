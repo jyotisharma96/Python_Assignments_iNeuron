{
 "cells": [
  {
   "cell_type": "markdown",
   "id": "5b328a7b",
   "metadata": {},
   "source": [
    "## Assignment Solutions 14"
   ]
  },
  {
   "cell_type": "markdown",
   "id": "a4762a10",
   "metadata": {},
   "source": [
    "Question 1:\n",
    "    \n",
    "Define a class with a generator which can iterate the numbers, which are divisible by\n",
    "7, between a given range 0 and n."
   ]
  },
  {
   "cell_type": "code",
   "execution_count": 6,
   "id": "3cc67b6b",
   "metadata": {},
   "outputs": [
    {
     "name": "stdout",
     "output_type": "stream",
     "text": [
      "0\n",
      "7\n",
      "14\n",
      "21\n",
      "28\n",
      "35\n",
      "42\n",
      "49\n",
      "56\n",
      "63\n",
      "70\n",
      "77\n",
      "84\n",
      "91\n",
      "98\n"
     ]
    }
   ],
   "source": [
    "class iterator(object):\n",
    "    def __init__(self,n):\n",
    "        super(iterator,self).__init__()\n",
    "        self.n = n\n",
    "    \n",
    "    def divbyseven(self):\n",
    "        for i in range(0, self.n):\n",
    "            if i % 7 == 0:\n",
    "                yield i\n",
    "\n",
    "for num in iterator(100).divbyseven():\n",
    "    print(num)"
   ]
  },
  {
   "cell_type": "markdown",
   "id": "2029952f",
   "metadata": {},
   "source": [
    "Question 2:\n",
    "\n",
    "Write a program to compute the frequency of the words from the input. The output\n",
    "should output after sorting the key alphanumerically.\n",
    "\n",
    "Suppose the following input is supplied to the program:\n",
    "\n",
    "New to Python or choosing between Python 2 and Python 3? Read Python 2 or\n",
    "Python 3.\n",
    "\n",
    "Then, the output should be:\n",
    "2:2\n",
    "3.:1\n",
    "3?:1\n",
    "New:1\n",
    "Python:5\n",
    "\n",
    "Read:1\n",
    "and:1\n",
    "between:1\n",
    "choosing:1\n",
    "or:2\n",
    "to:1"
   ]
  },
  {
   "cell_type": "code",
   "execution_count": 7,
   "id": "f608854b",
   "metadata": {},
   "outputs": [
    {
     "name": "stdout",
     "output_type": "stream",
     "text": [
      "{'New': 1, 'to': 1, 'Python': 5, 'or': 2, 'choosing': 1, 'between': 1, '2': 2, 'and': 1, '3?': 1, 'Read': 1, '3.': 1}\n"
     ]
    }
   ],
   "source": [
    "def word_count(str):\n",
    "    counts = dict()\n",
    "    words = str.split()\n",
    "\n",
    "    for word in words:\n",
    "        if word in counts:\n",
    "            counts[word] += 1\n",
    "        else:\n",
    "            counts[word] = 1\n",
    "\n",
    "    return counts\n",
    "\n",
    "print( word_count('New to Python or choosing between Python 2 and Python 3? Read Python 2 or Python 3.'))"
   ]
  },
  {
   "cell_type": "markdown",
   "id": "8826ef49",
   "metadata": {},
   "source": [
    "Question 3:\n",
    "\n",
    "Define a class Person and its two child classes: Male and Female. \n",
    "\n",
    "All classes have a method &quot;getGender&quot; which can print &quot;Male&quot; for Male class and &quot;Female&quot; for Female\n",
    "class."
   ]
  },
  {
   "cell_type": "code",
   "execution_count": 5,
   "id": "8c6fe99a",
   "metadata": {},
   "outputs": [
    {
     "name": "stdout",
     "output_type": "stream",
     "text": [
      "Male\n",
      "Female\n"
     ]
    }
   ],
   "source": [
    "class Person():\n",
    "    def getgender(self):\n",
    "        return \"unknown\"\n",
    "class Male(Person):\n",
    "    def getgender(self):\n",
    "        return \"Male\"\n",
    "class Female(Person):\n",
    "    def getgender(self):\n",
    "        return \"Female\"\n",
    "\n",
    "Male1=Male()\n",
    "Female2=Female()\n",
    "print(Male1.getgender())\n",
    "print(Female2.getgender())"
   ]
  },
  {
   "cell_type": "markdown",
   "id": "f15fee12",
   "metadata": {},
   "source": [
    "Question 4:\n",
    "    \n",
    "Please write a program to generate all sentences where subject is in [&quot;I&quot;, &quot;You&quot;] and\n",
    "verb is in [&quot;Play&quot;, &quot;Love&quot;] and the object is in [&quot;Hockey&quot;,&quot;Football&quot;]."
   ]
  },
  {
   "cell_type": "code",
   "execution_count": 7,
   "id": "2c5f48f3",
   "metadata": {},
   "outputs": [
    {
     "name": "stdout",
     "output_type": "stream",
     "text": [
      "I Play Hockey\n",
      "I Play Football\n",
      "I Love Hockey\n",
      "I Love Football\n",
      "You Play Hockey\n",
      "You Play Football\n",
      "You Love Hockey\n",
      "You Love Football\n"
     ]
    }
   ],
   "source": [
    "def generateSentences():\n",
    "    subject = ['I','You']\n",
    "    verb = ['Play', 'Love']\n",
    "    object = ['Hockey', 'Football']\n",
    "    \n",
    "    for s in subject:\n",
    "        for v in verb:\n",
    "            for o in object:\n",
    "                print(f'{s} {v} {o}')\n",
    "\n",
    "generateSentences()"
   ]
  },
  {
   "cell_type": "markdown",
   "id": "f97aa72d",
   "metadata": {},
   "source": [
    "Question 5:\n",
    "    \n",
    "Please write a program to compress and decompress the string &quot;hello world!hello\n",
    "world!hello world!hello world!&quot;."
   ]
  },
  {
   "cell_type": "code",
   "execution_count": 10,
   "id": "57491db7",
   "metadata": {},
   "outputs": [
    {
     "name": "stdout",
     "output_type": "stream",
     "text": [
      "b'x\\x9c\\xcbH\\xcd\\xc9\\xc9W(\\xcf/\\xcaIQ\\xcc \\x82\\r\\x00\\xbd[\\x11\\xf5'\n",
      "b'hello world!hello world!hello world!hello world!'\n"
     ]
    }
   ],
   "source": [
    "import zlib\n",
    "\n",
    "st = \"hello world!hello world!hello world!hello world!\"\n",
    "# In Python 3 zlib.compress() accepts only DataType <bytes>\n",
    "\n",
    "y = bytes(st,'utf-8')\n",
    "x = zlib.compress(y)\n",
    "print(x)\n",
    "print(zlib.decompress(x))"
   ]
  },
  {
   "cell_type": "markdown",
   "id": "4af10cd8",
   "metadata": {},
   "source": [
    "Question 6:\n",
    "    \n",
    "Please write a binary search function which searches an item in a sorted list. The\n",
    "function should return the index of element to be searched in the list."
   ]
  },
  {
   "cell_type": "code",
   "execution_count": null,
   "id": "a27b91de",
   "metadata": {},
   "outputs": [],
   "source": [
    "n = int"
   ]
  }
 ],
 "metadata": {
  "kernelspec": {
   "display_name": "Python 3 (ipykernel)",
   "language": "python",
   "name": "python3"
  },
  "language_info": {
   "codemirror_mode": {
    "name": "ipython",
    "version": 3
   },
   "file_extension": ".py",
   "mimetype": "text/x-python",
   "name": "python",
   "nbconvert_exporter": "python",
   "pygments_lexer": "ipython3",
   "version": "3.9.12"
  }
 },
 "nbformat": 4,
 "nbformat_minor": 5
}
