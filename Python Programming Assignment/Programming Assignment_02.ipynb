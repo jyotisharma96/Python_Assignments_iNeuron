{
 "cells": [
  {
   "cell_type": "markdown",
   "id": "55f13a66",
   "metadata": {},
   "source": [
    "## Assignment Solutions 2"
   ]
  },
  {
   "cell_type": "markdown",
   "id": "c5f17b2c",
   "metadata": {},
   "source": [
    "Question 1. Write a Python program to convert kilometers to miles?"
   ]
  },
  {
   "cell_type": "code",
   "execution_count": 6,
   "id": "87ac06bc",
   "metadata": {},
   "outputs": [
    {
     "name": "stdout",
     "output_type": "stream",
     "text": [
      "Please enter the value in Kilometers:8\n",
      "8.0 km is equal to 4.970968 miles\n"
     ]
    }
   ],
   "source": [
    "def kilometer(km):\n",
    "    conversion_ratio = 0.621371\n",
    "    miles = km * conversion_ratio\n",
    "    print(\"{} km is equal to {} miles\".format(km,miles))\n",
    "\n",
    "km = float(input(\"Please enter the value in Kilometers:\"))\n",
    "\n",
    "kilometer(km)"
   ]
  },
  {
   "cell_type": "markdown",
   "id": "8d811a98",
   "metadata": {},
   "source": [
    "Question 2. Write a Python program to convert Celsius to Fahrenheit?"
   ]
  },
  {
   "cell_type": "code",
   "execution_count": 17,
   "id": "cba15392",
   "metadata": {},
   "outputs": [
    {
     "name": "stdout",
     "output_type": "stream",
     "text": [
      "Enter temperature in celsius : 87\n",
      "The 87.00 degree Celsius is equal to 188.60 Farenheit\n"
     ]
    }
   ],
   "source": [
    "def CeltoFarh():\n",
    "    celsius = int(input(\"Enter temperature in celsius : \"))\n",
    "    Farenheit = (celsius*(9/5))+32\n",
    "    print('The %.2f degree Celsius is equal to %.2f Farenheit' %(celsius,Farenheit))\n",
    "    \n",
    "CeltoFarh()"
   ]
  },
  {
   "cell_type": "markdown",
   "id": "9c0c8895",
   "metadata": {},
   "source": [
    "Question 3. Write a Python program to display calendar?"
   ]
  },
  {
   "cell_type": "code",
   "execution_count": 20,
   "id": "859d842f",
   "metadata": {},
   "outputs": [
    {
     "name": "stdout",
     "output_type": "stream",
     "text": [
      "Enter calender year: 2022\n",
      "                                  2022\n",
      "\n",
      "      January                   February                   March\n",
      "Mo Tu We Th Fr Sa Su      Mo Tu We Th Fr Sa Su      Mo Tu We Th Fr Sa Su\n",
      "                1  2          1  2  3  4  5  6          1  2  3  4  5  6\n",
      " 3  4  5  6  7  8  9       7  8  9 10 11 12 13       7  8  9 10 11 12 13\n",
      "10 11 12 13 14 15 16      14 15 16 17 18 19 20      14 15 16 17 18 19 20\n",
      "17 18 19 20 21 22 23      21 22 23 24 25 26 27      21 22 23 24 25 26 27\n",
      "24 25 26 27 28 29 30      28                        28 29 30 31\n",
      "31\n",
      "\n",
      "       April                      May                       June\n",
      "Mo Tu We Th Fr Sa Su      Mo Tu We Th Fr Sa Su      Mo Tu We Th Fr Sa Su\n",
      "             1  2  3                         1             1  2  3  4  5\n",
      " 4  5  6  7  8  9 10       2  3  4  5  6  7  8       6  7  8  9 10 11 12\n",
      "11 12 13 14 15 16 17       9 10 11 12 13 14 15      13 14 15 16 17 18 19\n",
      "18 19 20 21 22 23 24      16 17 18 19 20 21 22      20 21 22 23 24 25 26\n",
      "25 26 27 28 29 30         23 24 25 26 27 28 29      27 28 29 30\n",
      "                          30 31\n",
      "\n",
      "        July                     August                  September\n",
      "Mo Tu We Th Fr Sa Su      Mo Tu We Th Fr Sa Su      Mo Tu We Th Fr Sa Su\n",
      "             1  2  3       1  2  3  4  5  6  7                1  2  3  4\n",
      " 4  5  6  7  8  9 10       8  9 10 11 12 13 14       5  6  7  8  9 10 11\n",
      "11 12 13 14 15 16 17      15 16 17 18 19 20 21      12 13 14 15 16 17 18\n",
      "18 19 20 21 22 23 24      22 23 24 25 26 27 28      19 20 21 22 23 24 25\n",
      "25 26 27 28 29 30 31      29 30 31                  26 27 28 29 30\n",
      "\n",
      "      October                   November                  December\n",
      "Mo Tu We Th Fr Sa Su      Mo Tu We Th Fr Sa Su      Mo Tu We Th Fr Sa Su\n",
      "                1  2          1  2  3  4  5  6                1  2  3  4\n",
      " 3  4  5  6  7  8  9       7  8  9 10 11 12 13       5  6  7  8  9 10 11\n",
      "10 11 12 13 14 15 16      14 15 16 17 18 19 20      12 13 14 15 16 17 18\n",
      "17 18 19 20 21 22 23      21 22 23 24 25 26 27      19 20 21 22 23 24 25\n",
      "24 25 26 27 28 29 30      28 29 30                  26 27 28 29 30 31\n",
      "31\n",
      "\n"
     ]
    }
   ],
   "source": [
    "import calendar\n",
    "\n",
    "def showcalendar():\n",
    "    year = int(input(\"Enter calender year: \"))\n",
    "    print(calendar.calendar(year))\n",
    "\n",
    "showcalendar()"
   ]
  },
  {
   "cell_type": "markdown",
   "id": "e1b1d89e",
   "metadata": {},
   "source": [
    "Question 4. Write a Python program to solve quadratic equation?"
   ]
  },
  {
   "cell_type": "code",
   "execution_count": 29,
   "id": "97ca031b",
   "metadata": {},
   "outputs": [
    {
     "name": "stdout",
     "output_type": "stream",
     "text": [
      "Enter a value which carries variable as x^2:7\n",
      "Enter a value which carries variable as x:8\n",
      "Enter a value which carries coefficient only:9\n",
      "The roots are (-0.5714285714285714-0.9793792286287205j) (-0.5714285714285714+0.9793792286287205j)\n"
     ]
    }
   ],
   "source": [
    "import cmath\n",
    "\n",
    "a = int(input(\"Enter a value which carries variable as x^2:\"))\n",
    "b = int(input(\"Enter a value which carries variable as x:\"))\n",
    "c = int(input(\"Enter a value which carries coefficient only:\"))\n",
    "\n",
    "d = (b**2)-(4*a*c)\n",
    "r1 = (-b-cmath.sqrt(d))/(2*a)\n",
    "r2 = (-b+cmath.sqrt(d))/(2*a)\n",
    "\n",
    "print(\"The roots are\", r1,r2)"
   ]
  },
  {
   "cell_type": "code",
   "execution_count": 25,
   "id": "a7d90a01",
   "metadata": {},
   "outputs": [
    {
     "name": "stdout",
     "output_type": "stream",
     "text": [
      "Enter the First Number: 7\n",
      "Enter the Second Number: 8\n",
      "After swapping 8 7\n"
     ]
    }
   ],
   "source": [
    "x = int(input(\"Enter the First Number: \"))\n",
    "y = int(input(\"Enter the Second Number: \"))\n",
    "\n",
    "x,y = y,x\n",
    "\n",
    "print(\"After swapping\",x,y)"
   ]
  },
  {
   "cell_type": "code",
   "execution_count": null,
   "id": "423001da",
   "metadata": {},
   "outputs": [],
   "source": []
  }
 ],
 "metadata": {
  "kernelspec": {
   "display_name": "Python 3 (ipykernel)",
   "language": "python",
   "name": "python3"
  },
  "language_info": {
   "codemirror_mode": {
    "name": "ipython",
    "version": 3
   },
   "file_extension": ".py",
   "mimetype": "text/x-python",
   "name": "python",
   "nbconvert_exporter": "python",
   "pygments_lexer": "ipython3",
   "version": "3.9.12"
  }
 },
 "nbformat": 4,
 "nbformat_minor": 5
}
