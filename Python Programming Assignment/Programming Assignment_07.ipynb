{
 "cells": [
  {
   "cell_type": "markdown",
   "id": "1bfe0617",
   "metadata": {},
   "source": [
    "## Assignment Solutions 7"
   ]
  },
  {
   "cell_type": "markdown",
   "id": "4df11f47",
   "metadata": {},
   "source": [
    "Question 1. Write a Python Program to find sum of array?"
   ]
  },
  {
   "cell_type": "code",
   "execution_count": 7,
   "id": "b1338a00",
   "metadata": {},
   "outputs": [
    {
     "name": "stdout",
     "output_type": "stream",
     "text": [
      "The sum of the array is 24\n"
     ]
    }
   ],
   "source": [
    "a=0\n",
    "l=[7,8,9]\n",
    "for i in l:\n",
    "    a+=i\n",
    "print(\"The sum of the array is\",a)\n",
    "\n"
   ]
  },
  {
   "cell_type": "markdown",
   "id": "408da7e1",
   "metadata": {},
   "source": [
    "Question 2. Write a Python Program to find largest element in an array?"
   ]
  },
  {
   "cell_type": "code",
   "execution_count": 10,
   "id": "2e54d85b",
   "metadata": {},
   "outputs": [
    {
     "name": "stdout",
     "output_type": "stream",
     "text": [
      "Enter the Array: [1,2,3,4,5,1]\n",
      "The largest element in [1, 2, 3, 4, 5, 1] is 5\n"
     ]
    }
   ],
   "source": [
    "def largest():\n",
    "    array = eval(input(\"Enter the Array: \"))\n",
    "    print(f\"The largest element in {array} is {sorted(array, reverse=True)[0]}\" )\n",
    "    \n",
    "largest()"
   ]
  },
  {
   "cell_type": "markdown",
   "id": "a3d78717",
   "metadata": {},
   "source": [
    "Question 3. Write a Python Program for array rotation?"
   ]
  },
  {
   "cell_type": "code",
   "execution_count": 12,
   "id": "b5f8e9d4",
   "metadata": {},
   "outputs": [
    {
     "data": {
      "text/plain": [
       "[4, 78, 91, 65, 82, 1]"
      ]
     },
     "execution_count": 12,
     "metadata": {},
     "output_type": "execute_result"
    }
   ],
   "source": [
    "def rotateArray(arr, n, d):\n",
    "    a = []\n",
    "    i = 0\n",
    "    while (i < d):\n",
    "        a.append(arr[i])\n",
    "        i = i + 1\n",
    "    i = 0\n",
    "    while (d < n):\n",
    "        arr[i] = arr[d]\n",
    "        i = i + 1\n",
    "        d = d + 1\n",
    "    arr[:] = arr[: i] + a\n",
    "    return arr\n",
    "\n",
    "arr=[1, 4 , 78, 91, 65, 82]\n",
    "n=len(arr)\n",
    "d=1\n",
    "rotateArray(arr,n,d)"
   ]
  },
  {
   "cell_type": "markdown",
   "id": "d9ad615c",
   "metadata": {},
   "source": [
    "Question 4. Write a Python Program to Split the array and add the first part to the end?"
   ]
  },
  {
   "cell_type": "code",
   "execution_count": 14,
   "id": "39ce3aa5",
   "metadata": {},
   "outputs": [
    {
     "name": "stdout",
     "output_type": "stream",
     "text": [
      "73 83 90 82 73 42 86 98 71 34 2 56\n"
     ]
    }
   ],
   "source": [
    "def split(arr,n):\n",
    "    return [arr[(i+n) % len(arr)] for i in range(len(arr))]\n",
    "\n",
    "arr = [2, 56, 73, 83, 90, 82, 73, 42, 86, 98, 71, 34]\n",
    "n = 2\n",
    "\n",
    "result = split(arr,n)\n",
    "\n",
    "print(*result)"
   ]
  },
  {
   "cell_type": "markdown",
   "id": "6ee41d9d",
   "metadata": {},
   "source": [
    "Question 5. Write a Python Program to check if given array is Monotonic?"
   ]
  },
  {
   "cell_type": "code",
   "execution_count": 15,
   "id": "796337d1",
   "metadata": {},
   "outputs": [
    {
     "name": "stdout",
     "output_type": "stream",
     "text": [
      "Enter the Array: [1,2,5,6,8,9]\n",
      "Array [1, 2, 5, 6, 8, 9] is monotonic\n"
     ]
    }
   ],
   "source": [
    "def monotonic():\n",
    "    arr = eval(input(\"Enter the Array: \"))\n",
    "    if(all(arr[i]<=arr[i+1] for i in range(len(arr)-1) or all(arr[i]>=arr[i+1] for i in range(len(arr)-1)))):\n",
    "        print(f'Array {arr} is monotonic')\n",
    "    else:\n",
    "        print(f'Array {arr} is Not monotonic')\n",
    "\n",
    "monotonic()"
   ]
  },
  {
   "cell_type": "code",
   "execution_count": null,
   "id": "f7937fef",
   "metadata": {},
   "outputs": [],
   "source": []
  }
 ],
 "metadata": {
  "kernelspec": {
   "display_name": "Python 3 (ipykernel)",
   "language": "python",
   "name": "python3"
  },
  "language_info": {
   "codemirror_mode": {
    "name": "ipython",
    "version": 3
   },
   "file_extension": ".py",
   "mimetype": "text/x-python",
   "name": "python",
   "nbconvert_exporter": "python",
   "pygments_lexer": "ipython3",
   "version": "3.9.12"
  }
 },
 "nbformat": 4,
 "nbformat_minor": 5
}
