{
 "cells": [
  {
   "cell_type": "markdown",
   "id": "d555bfc2",
   "metadata": {},
   "source": [
    "Q1.What is the purpose of the try statement?"
   ]
  },
  {
   "cell_type": "markdown",
   "id": "fd6e10e9",
   "metadata": {},
   "source": [
    "Answer- The purpose of the try statement is to define a block of code where exceptions (errors) may occur. It allows you to write code that can potentially throw exceptions and provides a mechanism to handle those exceptions gracefully.\n",
    "\n",
    "The try statement is typically used in conjunction with one or more catch blocks (also known as exception handlers) that define how to handle specific types of exceptions that may be thrown within the try block. By enclosing potentially error-prone code within a try block, you can control the flow of execution and handle exceptions in a structured and controlled manner."
   ]
  },
  {
   "cell_type": "code",
   "execution_count": 2,
   "id": "8697e83e",
   "metadata": {},
   "outputs": [
    {
     "name": "stdout",
     "output_type": "stream",
     "text": [
      "Division by Zero is Not Possible\n"
     ]
    }
   ],
   "source": [
    "try:\n",
    "    print(10/0)\n",
    "except ZeroDivisionError:\n",
    "    print('Division by Zero is Not Possible')\n",
    "    "
   ]
  },
  {
   "cell_type": "markdown",
   "id": "4ea5db7a",
   "metadata": {},
   "source": [
    "Q2.What are the two most popular try statement variations?"
   ]
  },
  {
   "cell_type": "markdown",
   "id": "03efcd25",
   "metadata": {},
   "source": [
    "Answer- The two most popular variations of the try statement in Python are:\n",
    "\n",
    "1. try-except Statement: The try-except statement is used to catch and handle exceptions that may occur within a block of code. It allows you to specify code that might raise an exception within the try block, and provide one or more except blocks to catch and handle specific exceptions or a generic exception.\n",
    "\n",
    "\n",
    "2. try-finally Statement: The try-finally statement is used to ensure that a certain block of code is always executed, regardless of whether an exception occurs or not. It is commonly used for cleanup and resource management tasks. "
   ]
  },
  {
   "cell_type": "markdown",
   "id": "9fd2f3b7",
   "metadata": {},
   "source": [
    "Q3.What is the purpose of the raise statement?"
   ]
  },
  {
   "cell_type": "markdown",
   "id": "5e585b15",
   "metadata": {},
   "source": [
    "Answer- The raise statement in Python is used to explicitly raise an exception. It allows you to raise built-in exceptions provided by Python or create custom exceptions by defining your own exception classes. The raise statement is typically used in situations where you want to indicate that an exceptional condition has occurred and control should be transferred to an exception handler."
   ]
  },
  {
   "cell_type": "markdown",
   "id": "1024db70",
   "metadata": {},
   "source": [
    "Q4.What does the assert statement do, and what other statement is it like?"
   ]
  },
  {
   "cell_type": "markdown",
   "id": "ce749e82",
   "metadata": {},
   "source": [
    "Answer- The assert statement in Python is used as a debugging aid to check if a given condition is true. It allows you to specify a condition that you expect to be true at that point in the code. If the condition evaluates to False, the assert statement raises an AssertionError exception, indicating that an assumption or expectation about the code's state or behavior has failed."
   ]
  },
  {
   "cell_type": "code",
   "execution_count": 6,
   "id": "2cd7e474",
   "metadata": {},
   "outputs": [
    {
     "ename": "AssertionError",
     "evalue": "number should be greater than 0",
     "output_type": "error",
     "traceback": [
      "\u001b[1;31m---------------------------------------------------------------------------\u001b[0m",
      "\u001b[1;31mAssertionError\u001b[0m                            Traceback (most recent call last)",
      "Cell \u001b[1;32mIn [6], line 4\u001b[0m\n\u001b[0;32m      1\u001b[0m \u001b[38;5;66;03m#assert condition, [message]\u001b[39;00m\n\u001b[0;32m      3\u001b[0m x \u001b[38;5;241m=\u001b[39m \u001b[38;5;241m0\u001b[39m\n\u001b[1;32m----> 4\u001b[0m \u001b[38;5;28;01massert\u001b[39;00m  x \u001b[38;5;241m>\u001b[39m \u001b[38;5;241m0\u001b[39m, \u001b[38;5;124m\"\u001b[39m\u001b[38;5;124mnumber should be greater than 0\u001b[39m\u001b[38;5;124m\"\u001b[39m\n\u001b[0;32m      5\u001b[0m \u001b[38;5;28mprint\u001b[39m(\u001b[38;5;124m\"\u001b[39m\u001b[38;5;124meven\u001b[39m\u001b[38;5;124m\"\u001b[39m)\n",
      "\u001b[1;31mAssertionError\u001b[0m: number should be greater than 0"
     ]
    }
   ],
   "source": [
    "#assert condition, [message]\n",
    "\n",
    "x = 0\n",
    "assert  x > 0, \"number should be greater than 0\"\n",
    "print(\"even\")\n"
   ]
  },
  {
   "cell_type": "markdown",
   "id": "d62e8f63",
   "metadata": {},
   "source": [
    "Q5.What is the purpose of the with/as argument, and what other statement is it like?"
   ]
  },
  {
   "cell_type": "markdown",
   "id": "230211fd",
   "metadata": {},
   "source": [
    "Answer- with/as statement simplifies use of file handling in python. When we use a with statement for file reading, there is no need for programmer to explicitly takecare of activities like resource deallocation and file closing by using file.close() method. with statement itself ensures proper acquisition and release of resources. this avoids triggering of exceptions if file closing is unknowingly forgotten in the code execution.\n",
    "\n",
    "with open('sample_file.txt','w') as file: file.write('Hello World')\n",
    "\n",
    "The with/as statement is similar to the try/finally statement in terms of resource management. Both statements ensure that certain cleanup or finalization actions are performed, even in the presence of exceptions. However, the with/as statement provides a more concise and readable syntax for managing resources. It abstracts away the details of acquiring and releasing resources, making the code more readable and less error-prone.\n",
    "\n",
    "Using the with/as statement not only ensures proper resource cleanup but also helps in writing cleaner and more maintainable code by encapsulating the setup and teardown logic within a context manager. It is commonly used for managing files, database connections, network sockets, and other resources that need to be properly handled in Python programs.\n"
   ]
  },
  {
   "cell_type": "code",
   "execution_count": null,
   "id": "411f055f",
   "metadata": {},
   "outputs": [],
   "source": []
  },
  {
   "cell_type": "code",
   "execution_count": null,
   "id": "cc26e56d",
   "metadata": {},
   "outputs": [],
   "source": []
  },
  {
   "cell_type": "code",
   "execution_count": null,
   "id": "79a3669c",
   "metadata": {},
   "outputs": [],
   "source": []
  }
 ],
 "metadata": {
  "kernelspec": {
   "display_name": "Python 3 (ipykernel)",
   "language": "python",
   "name": "python3"
  },
  "language_info": {
   "codemirror_mode": {
    "name": "ipython",
    "version": 3
   },
   "file_extension": ".py",
   "mimetype": "text/x-python",
   "name": "python",
   "nbconvert_exporter": "python",
   "pygments_lexer": "ipython3",
   "version": "3.9.12"
  }
 },
 "nbformat": 4,
 "nbformat_minor": 5
}
