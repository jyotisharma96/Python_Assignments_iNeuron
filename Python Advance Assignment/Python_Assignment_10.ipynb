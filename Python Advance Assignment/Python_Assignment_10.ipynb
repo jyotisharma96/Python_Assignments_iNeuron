{
 "cells": [
  {
   "cell_type": "markdown",
   "id": "b8eff12e",
   "metadata": {},
   "source": [
    "Q1.What is the difference between __getattr__ and __getattribute__?"
   ]
  },
  {
   "cell_type": "markdown",
   "id": "55a45d77",
   "metadata": {},
   "source": [
    "Answer- Both __getattr__ and __getattribute__ are special methods in Python classes that are used to handle attribute access. However, they have some key differences:\n",
    "\n",
    "1. __getattr__(self, name): This method is called when an attribute is accessed, and the attribute is not found through the usual lookup process. It is invoked only when the attribute is not present in the instance or its class. This method takes two parameters: self (the instance) and name (the name of the attribute being accessed). It can be used to dynamically compute or provide a default value for the requested attribute."
   ]
  },
  {
   "cell_type": "code",
   "execution_count": 2,
   "id": "9ce3a1ba",
   "metadata": {},
   "outputs": [
    {
     "name": "stdout",
     "output_type": "stream",
     "text": [
      "Attribute 'foo' not found.\n"
     ]
    }
   ],
   "source": [
    "class MyClass:\n",
    "    def __getattr__(self, name):\n",
    "        return f\"Attribute '{name}' not found.\"\n",
    "\n",
    "obj = MyClass()\n",
    "print(obj.foo)\n"
   ]
  },
  {
   "cell_type": "markdown",
   "id": "d7ec1ade",
   "metadata": {},
   "source": [
    "2. __getattribute__(self, name): This method is called for every attribute access, regardless of whether the attribute exists or not. It is invoked first, before any other attribute access method. This method takes two parameters: self (the instance) and name (the name of the attribute being accessed). It is typically used for implementing low-level attribute access behavior or for intercepting all attribute access."
   ]
  },
  {
   "cell_type": "code",
   "execution_count": 7,
   "id": "9cdf414a",
   "metadata": {},
   "outputs": [
    {
     "name": "stdout",
     "output_type": "stream",
     "text": [
      "New Value\n"
     ]
    }
   ],
   "source": [
    "class Dummy():\n",
    "\n",
    "    def __getattribute__(self, attr):\n",
    "        return 'New Value'\n",
    "\n",
    "d = Dummy()\n",
    "d.value = \"Old value\"\n",
    "print(d.value)  # \"YOU SEE ME?\"\n"
   ]
  },
  {
   "cell_type": "markdown",
   "id": "0e080ad5",
   "metadata": {},
   "source": [
    "Q2.What is the difference between properties and descriptors?"
   ]
  },
  {
   "cell_type": "markdown",
   "id": "5dd22971",
   "metadata": {},
   "source": [
    "Answer- The differences between Properties and Descriptors is:\n",
    "\n",
    "1. Properties: With Properties we can bind getter, setter and delete functions together with an attribute name, using the built-in property function or @property decorator. When we do this, each reference to an attribute looks like simple, direct access, but involes the appropriate function of the object.\n",
    "\n",
    "\n",
    "2. Descriptor: With Descriptor we can bind getter, setter and delete functions into a seperate class. we then assign an object of this class to the attribute name in our main class. When we do this, each reference to an attribute looks like simple, direct access but invokes an appropriate function of descriptor object."
   ]
  },
  {
   "cell_type": "markdown",
   "id": "d26ebde8",
   "metadata": {},
   "source": [
    "Q3.What are the key differences in functionality between __getattr__ and __getattribute__, as well as\n",
    "properties and descriptors?"
   ]
  },
  {
   "cell_type": "markdown",
   "id": "56b75382",
   "metadata": {},
   "source": [
    "Answer- To access the attribute of class which are not defined in the class, we use getattr() method. But if the attribute does exist, getattr won’t be invoked. getattribute will look for every attribute, doesn’t matter if the attribute exists or not.\n",
    "\n",
    "In Properties, We can bind getter, setter functions with an attribute name, using the built-in property function. In descriptor, We can bind getter, setter (and deleter) functions into a separate class. We then assign an object of this class to the attribute name."
   ]
  },
  {
   "cell_type": "code",
   "execution_count": null,
   "id": "bcdfd337",
   "metadata": {},
   "outputs": [],
   "source": []
  },
  {
   "cell_type": "code",
   "execution_count": null,
   "id": "ebc26dbc",
   "metadata": {},
   "outputs": [],
   "source": []
  },
  {
   "cell_type": "code",
   "execution_count": null,
   "id": "5c5ef4c1",
   "metadata": {},
   "outputs": [],
   "source": []
  },
  {
   "cell_type": "code",
   "execution_count": null,
   "id": "62e88a4f",
   "metadata": {},
   "outputs": [],
   "source": []
  }
 ],
 "metadata": {
  "kernelspec": {
   "display_name": "Python 3 (ipykernel)",
   "language": "python",
   "name": "python3"
  },
  "language_info": {
   "codemirror_mode": {
    "name": "ipython",
    "version": 3
   },
   "file_extension": ".py",
   "mimetype": "text/x-python",
   "name": "python",
   "nbconvert_exporter": "python",
   "pygments_lexer": "ipython3",
   "version": "3.9.12"
  }
 },
 "nbformat": 4,
 "nbformat_minor": 5
}
