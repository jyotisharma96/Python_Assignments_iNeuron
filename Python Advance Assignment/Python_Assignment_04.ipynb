{
 "cells": [
  {
   "cell_type": "markdown",
   "id": "54c48d9b",
   "metadata": {},
   "source": [
    "Q1.Which two operator overloading methods can you use in your classes to support iteration?"
   ]
  },
  {
   "cell_type": "markdown",
   "id": "278af19f",
   "metadata": {},
   "source": [
    "Answer- To support iteration in your classes, you can use the following two operator overloading methods:\n",
    "\n",
    "1. __iter__(self): This method enables the class to be iterable by returning an iterator object. The iterator object should implement the __next__() method, which defines the logic for returning the next element in the iteration. The __iter__() method is called when the iteration begins, typically by using a loop or invoking the iter() function.\n",
    "\n",
    "\n",
    "2. __next__(self): This method is used by the iterator object to retrieve the next element in the iteration sequence. It should return the next value and move the internal state of the iterator to the next position. When there are no more elements to iterate over, it should raise the StopIteration exception to signal the end of the iteration."
   ]
  },
  {
   "cell_type": "code",
   "execution_count": 5,
   "id": "e0fc5267",
   "metadata": {},
   "outputs": [
    {
     "name": "stdout",
     "output_type": "stream",
     "text": [
      "1\n",
      "2\n",
      "3\n",
      "4\n",
      "5\n"
     ]
    }
   ],
   "source": [
    "class MyIterable:\n",
    "    def __init__(self, data):\n",
    "        self.data = data\n",
    "        self.index = 0\n",
    "\n",
    "    def __iter__(self):\n",
    "        return self\n",
    "\n",
    "    def __next__(self):\n",
    "        if self.index >= len(self.data):\n",
    "            raise StopIteration\n",
    "        value = self.data[self.index]\n",
    "        self.index += 1\n",
    "        return value\n",
    "\n",
    "# Create an instance of the iterable class\n",
    "my_iterable = MyIterable([1, 2, 3, 4, 5])\n",
    "\n",
    "# Iterate over the elements using a loop\n",
    "for item in my_iterable:\n",
    "    print(item)\n"
   ]
  },
  {
   "cell_type": "markdown",
   "id": "b5aeaff1",
   "metadata": {},
   "source": [
    "In this example, the MyIterable class implements the __iter__() and __next__() methods. The __iter__() method returns self, as the class itself is the iterator object. The __next__() method retrieves the next element from the data attribute and updates the internal index to track the current position.\n",
    "\n",
    "By using a loop (for item in my_iterable), the __iter__() method is called to obtain the iterator, and then the __next__() method is called repeatedly to retrieve the elements until the StopIteration exception is raised.\n",
    "\n",
    "By defining these two operator overloading methods, you can make your class iterable and support iteration using standard iteration constructs like loops or the iter() function."
   ]
  },
  {
   "cell_type": "markdown",
   "id": "04188ae9",
   "metadata": {},
   "source": [
    "Q2.In what contexts do the two operator overloading methods manage printing?"
   ]
  },
  {
   "cell_type": "markdown",
   "id": "454c9f4f",
   "metadata": {},
   "source": [
    "Answer- The two operator overloading methods that are commonly used to manage printing in classes are:\n",
    "\n",
    "1. __str__(self): This method is used to define a string representation of an object. It returns a string that represents the object in a human-readable format. It is typically called by the str() function or implicitly when an object is passed to the print() function. The __str__() method should return a string that provides a concise and informative representation of the object's state.\n",
    "\n",
    "\n",
    "2. __repr__(self): This method is used to define a string representation of an object that is more aimed at developers. It returns a string that represents the object in a way that can be used to recreate the object. It is typically called by the repr() function or implicitly when the object is displayed in the interactive shell. The __repr__() method should return a string that provides a detailed representation of the object's state, including information that is useful for debugging and recreating the object."
   ]
  },
  {
   "cell_type": "code",
   "execution_count": 6,
   "id": "0f657c3b",
   "metadata": {},
   "outputs": [
    {
     "name": "stdout",
     "output_type": "stream",
     "text": [
      "MyClass instance with value: 42\n"
     ]
    },
    {
     "data": {
      "text/plain": [
       "MyClass(42)"
      ]
     },
     "execution_count": 6,
     "metadata": {},
     "output_type": "execute_result"
    }
   ],
   "source": [
    "class MyClass:\n",
    "    def __init__(self, value):\n",
    "        self.value = value\n",
    "\n",
    "    def __str__(self):\n",
    "        return f\"MyClass instance with value: {self.value}\"\n",
    "\n",
    "    def __repr__(self):\n",
    "        return f\"MyClass({self.value})\"\n",
    "\n",
    "# Create an instance of the class\n",
    "obj = MyClass(42)\n",
    "\n",
    "# Printing the object using print()\n",
    "print(obj)  # Calls obj.__str__()\n",
    "\n",
    "# Printing the object in the interactive shell\n",
    "obj  # Calls obj.__repr__()\n"
   ]
  },
  {
   "cell_type": "markdown",
   "id": "c76799c3",
   "metadata": {},
   "source": [
    "In this example, the MyClass class defines both __str__() and __repr__() methods. The __str__() method returns a string that provides a concise representation of the object's state, and it is called when the object is passed to the print() function. The __repr__() method returns a string that provides a more detailed representation of the object's state, and it is called when the object is displayed in the interactive shell.\n",
    "\n",
    "\n",
    "By implementing these two methods, you can customize the string representation of your objects, making them more informative and suitable for different contexts, whether it's for human consumption or developer-oriented purposes like debugging or recreating objects."
   ]
  },
  {
   "cell_type": "markdown",
   "id": "7564a24b",
   "metadata": {},
   "source": [
    "Q3.In a class, how do you intercept slice operations?"
   ]
  },
  {
   "cell_type": "markdown",
   "id": "c035a3fe",
   "metadata": {},
   "source": [
    "Answer- To intercept slice operations in a class, you can define the __getitem__() method with appropriate logic to handle slicing. The __getitem__() method is called when an object is accessed using square brackets ([]), allowing you to customize the behavior of slicing operations."
   ]
  },
  {
   "cell_type": "code",
   "execution_count": 11,
   "id": "e929a5f9",
   "metadata": {},
   "outputs": [
    {
     "name": "stdout",
     "output_type": "stream",
     "text": [
      "[2, 3, 4]\n"
     ]
    }
   ],
   "source": [
    "class MyList:\n",
    "    def __init__(self, data):\n",
    "        self.data = data\n",
    "\n",
    "    def __getitem__(self, index):\n",
    "        if isinstance(index, slice):\n",
    "            # Handle slice operation\n",
    "            start, stop, step = index.start, index.stop, index.step\n",
    "            return self.data[start:stop:step]\n",
    "        else:\n",
    "            # Handle single index access\n",
    "            return self.data[index]\n",
    "\n",
    "# Create an instance of the class\n",
    "my_list = MyList([1, 2, 3, 4, 5])\n",
    "\n",
    "# Access elements using slicing\n",
    "slice_result = my_list[1:4]\n",
    "print(slice_result) \n"
   ]
  },
  {
   "cell_type": "markdown",
   "id": "840c759f",
   "metadata": {},
   "source": [
    "In this example, the MyList class defines the __getitem__() method. When an object of this class is accessed using square brackets ([]), the __getitem__() method is called.\n",
    "\n",
    "Inside __getitem__(), we check if the index argument is an instance of the slice class. If it is, it means a slice operation is being performed. We extract the start, stop, and step values from the index object and use them to slice the data attribute of the class.\n",
    "\n",
    "If the index is not a slice, it means a single index access is being performed. In this case, we handle it accordingly by accessing the element at the specified index in the data attribute.\n",
    "\n",
    "By implementing the __getitem__() method and checking for the slice object, you can intercept and handle slice operations in your class, allowing customized behavior when using slicing notation on instances of your class."
   ]
  },
  {
   "cell_type": "markdown",
   "id": "7d1cf186",
   "metadata": {},
   "source": [
    "Q4.In a class, how do you capture in-place addition?"
   ]
  },
  {
   "cell_type": "markdown",
   "id": "0947b694",
   "metadata": {},
   "source": [
    "Answer- To capture in-place addition (+=) in a class, you can define the __iadd__() method. The __iadd__() method is called when the in-place addition operator (+=) is used on an object. It allows you to customize the behavior of in-place addition operations."
   ]
  },
  {
   "cell_type": "code",
   "execution_count": 10,
   "id": "e3881499",
   "metadata": {},
   "outputs": [
    {
     "name": "stdout",
     "output_type": "stream",
     "text": [
      "15\n",
      "18\n"
     ]
    }
   ],
   "source": [
    "class MyNumber:\n",
    "    def __init__(self, value):\n",
    "        self.value = value\n",
    "\n",
    "    def __iadd__(self, other):\n",
    "        if isinstance(other, MyNumber):\n",
    "            self.value += other.value\n",
    "        else:\n",
    "            self.value += other\n",
    "        return self\n",
    "\n",
    "# Create instances of the class\n",
    "num1 = MyNumber(5)\n",
    "num2 = MyNumber(10)\n",
    "\n",
    "# Perform in-place addition using +=\n",
    "num1 += num2\n",
    "print(num1.value)\n",
    "\n",
    "num1 += 3\n",
    "print(num1.value)\n"
   ]
  },
  {
   "cell_type": "markdown",
   "id": "95b5979e",
   "metadata": {},
   "source": [
    "Q5.When is it appropriate to use operator overloading?"
   ]
  },
  {
   "cell_type": "markdown",
   "id": "2d1628b3",
   "metadata": {},
   "source": [
    "Answer- Operator overloading is used when we want to use an operator other than its normal operation to have different meaning according to the context required in user defined function."
   ]
  },
  {
   "cell_type": "code",
   "execution_count": 9,
   "id": "3c3d5283",
   "metadata": {},
   "outputs": [
    {
     "name": "stdout",
     "output_type": "stream",
     "text": [
      "Total Number of Pages -> 300\n"
     ]
    }
   ],
   "source": [
    "class Book:\n",
    "    def __init__(self,pages):\n",
    "        self.pages = pages\n",
    "    def __add__(self,other):\n",
    "        return self.pages+other.pages\n",
    "b1 = Book(100)\n",
    "b2 = Book(200)\n",
    "print(f'Total Number of Pages -> {b1+b2}')"
   ]
  },
  {
   "cell_type": "code",
   "execution_count": null,
   "id": "2b194e6d",
   "metadata": {},
   "outputs": [],
   "source": []
  },
  {
   "cell_type": "code",
   "execution_count": null,
   "id": "36c9e508",
   "metadata": {},
   "outputs": [],
   "source": []
  }
 ],
 "metadata": {
  "kernelspec": {
   "display_name": "Python 3 (ipykernel)",
   "language": "python",
   "name": "python3"
  },
  "language_info": {
   "codemirror_mode": {
    "name": "ipython",
    "version": 3
   },
   "file_extension": ".py",
   "mimetype": "text/x-python",
   "name": "python",
   "nbconvert_exporter": "python",
   "pygments_lexer": "ipython3",
   "version": "3.9.12"
  }
 },
 "nbformat": 4,
 "nbformat_minor": 5
}
