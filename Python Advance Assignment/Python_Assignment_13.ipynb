{
 "cells": [
  {
   "cell_type": "markdown",
   "id": "32ca39e0",
   "metadata": {},
   "source": [
    "Q1.Can you create a programme or function that employs both positive and negative indexing? Is\n",
    "there any repercussion if you do so?"
   ]
  },
  {
   "cell_type": "markdown",
   "id": "ea5d3d7e",
   "metadata": {},
   "source": [
    "Answer- Yes, you can create a program or function that employs both positive and negative indexing in Python. Positive indexing starts from 0 for the first element and increments by 1, while negative indexing starts from -1 for the last element and decrements by 1."
   ]
  },
  {
   "cell_type": "code",
   "execution_count": 1,
   "id": "320b4745",
   "metadata": {},
   "outputs": [
    {
     "name": "stdout",
     "output_type": "stream",
     "text": [
      "H\n",
      "!\n"
     ]
    }
   ],
   "source": [
    "def get_elements(s):\n",
    "    first = s[0]  # Positive indexing, retrieves the first element\n",
    "    last = s[-1]  # Negative indexing, retrieves the last element\n",
    "\n",
    "    return first, last\n",
    "\n",
    "# Usage\n",
    "string = \"Hello, World!\"\n",
    "first_element, last_element = get_elements(string)\n",
    "print(first_element)\n",
    "print(last_element) \n"
   ]
  },
  {
   "cell_type": "markdown",
   "id": "6834e67e",
   "metadata": {},
   "source": [
    "In this example, the get_elements() function takes a string s as input and retrieves the first element using positive indexing (s[0]) and the last element using negative indexing (s[-1]). For avoiding the  repercussions of using both positive and negative indexing, it's essential to keep in mind the following points:\n",
    "\n",
    "1. Clarity and readability: Mixing positive and negative indexing can make code less intuitive and harder to understand. It is generally recommended to use one indexing style consistently within your codebase for better readability and maintainability.\n",
    "\n",
    "\n",
    "2. Potential confusion: When positive and negative indexing are intermixed, it can lead to confusion and mistakes, especially when dealing with complex data structures or nested sequences. Using one indexing style consistently helps avoid confusion and potential errors.\n",
    "\n",
    "While it is possible to employ both positive and negative indexing, it is generally recommended to choose one style consistently to enhance code clarity and reduce the likelihood of errors. It's best to select the indexing style that suits the specific use case and stick to it throughout your codebase for consistency."
   ]
  },
  {
   "cell_type": "markdown",
   "id": "bdec36e1",
   "metadata": {},
   "source": [
    "Q2.What is the most effective way of starting with 1,000 elements in a Python list? Assume that all\n",
    "elements should be set to the same value."
   ]
  },
  {
   "cell_type": "markdown",
   "id": "70dfd1af",
   "metadata": {},
   "source": [
    "Answer- The most effective way to create a Python list with 1,000 elements, all set to the same value, is to use the list multiplication operator (*) along with a list containing the desired value."
   ]
  },
  {
   "cell_type": "code",
   "execution_count": 4,
   "id": "a42c7041",
   "metadata": {},
   "outputs": [
    {
     "name": "stdout",
     "output_type": "stream",
     "text": [
      "[42, 42, 42, 42, 42, 42, 42, 42, 42, 42, 42, 42, 42, 42, 42, 42, 42, 42, 42, 42, 42, 42, 42, 42, 42, 42, 42, 42, 42, 42, 42, 42, 42, 42, 42, 42, 42, 42, 42, 42, 42, 42, 42, 42, 42, 42, 42, 42, 42, 42, 42, 42, 42, 42, 42, 42, 42, 42, 42, 42, 42, 42, 42, 42, 42, 42, 42, 42, 42, 42, 42, 42, 42, 42, 42, 42, 42, 42, 42, 42, 42, 42, 42, 42, 42, 42, 42, 42, 42, 42, 42, 42, 42, 42, 42, 42, 42, 42, 42, 42, 42, 42, 42, 42, 42, 42, 42, 42, 42, 42, 42, 42, 42, 42, 42, 42, 42, 42, 42, 42, 42, 42, 42, 42, 42, 42, 42, 42, 42, 42, 42, 42, 42, 42, 42, 42, 42, 42, 42, 42, 42, 42, 42, 42, 42, 42, 42, 42, 42, 42, 42, 42, 42, 42, 42, 42, 42, 42, 42, 42, 42, 42, 42, 42, 42, 42, 42, 42, 42, 42, 42, 42, 42, 42, 42, 42, 42, 42, 42, 42, 42, 42, 42, 42, 42, 42, 42, 42, 42, 42, 42, 42, 42, 42, 42, 42, 42, 42, 42, 42, 42, 42, 42, 42, 42, 42, 42, 42, 42, 42, 42, 42, 42, 42, 42, 42, 42, 42, 42, 42, 42, 42, 42, 42, 42, 42, 42, 42, 42, 42, 42, 42, 42, 42, 42, 42, 42, 42, 42, 42, 42, 42, 42, 42, 42, 42, 42, 42, 42, 42, 42, 42, 42, 42, 42, 42, 42, 42, 42, 42, 42, 42, 42, 42, 42, 42, 42, 42, 42, 42, 42, 42, 42, 42, 42, 42, 42, 42, 42, 42, 42, 42, 42, 42, 42, 42, 42, 42, 42, 42, 42, 42, 42, 42, 42, 42, 42, 42, 42, 42, 42, 42, 42, 42, 42, 42, 42, 42, 42, 42, 42, 42, 42, 42, 42, 42, 42, 42, 42, 42, 42, 42, 42, 42, 42, 42, 42, 42, 42, 42, 42, 42, 42, 42, 42, 42, 42, 42, 42, 42, 42, 42, 42, 42, 42, 42, 42, 42, 42, 42, 42, 42, 42, 42, 42, 42, 42, 42, 42, 42, 42, 42, 42, 42, 42, 42, 42, 42, 42, 42, 42, 42, 42, 42, 42, 42, 42, 42, 42, 42, 42, 42, 42, 42, 42, 42, 42, 42, 42, 42, 42, 42, 42, 42, 42, 42, 42, 42, 42, 42, 42, 42, 42, 42, 42, 42, 42, 42, 42, 42, 42, 42, 42, 42, 42, 42, 42, 42, 42, 42, 42, 42, 42, 42, 42, 42, 42, 42, 42, 42, 42, 42, 42, 42, 42, 42, 42, 42, 42, 42, 42, 42, 42, 42, 42, 42, 42, 42, 42, 42, 42, 42, 42, 42, 42, 42, 42, 42, 42, 42, 42, 42, 42, 42, 42, 42, 42, 42, 42, 42, 42, 42, 42, 42, 42, 42, 42, 42, 42, 42, 42, 42, 42, 42, 42, 42, 42, 42, 42, 42, 42, 42, 42, 42, 42, 42, 42, 42, 42, 42, 42, 42, 42, 42, 42, 42, 42, 42, 42, 42, 42, 42, 42, 42, 42, 42, 42, 42, 42, 42, 42, 42, 42, 42, 42, 42, 42, 42, 42, 42, 42, 42, 42, 42, 42, 42, 42, 42, 42, 42, 42, 42, 42, 42, 42, 42, 42, 42, 42, 42, 42, 42, 42, 42, 42, 42, 42, 42, 42, 42, 42, 42, 42, 42, 42, 42, 42, 42, 42, 42, 42, 42, 42, 42, 42, 42, 42, 42, 42, 42, 42, 42, 42, 42, 42, 42, 42, 42, 42, 42, 42, 42, 42, 42, 42, 42, 42, 42, 42, 42, 42, 42, 42, 42, 42, 42, 42, 42, 42, 42, 42, 42, 42, 42, 42, 42, 42, 42, 42, 42, 42, 42, 42, 42, 42, 42, 42, 42, 42, 42, 42, 42, 42, 42, 42, 42, 42, 42, 42, 42, 42, 42, 42, 42, 42, 42, 42, 42, 42, 42, 42, 42, 42, 42, 42, 42, 42, 42, 42, 42, 42, 42, 42, 42, 42, 42, 42, 42, 42, 42, 42, 42, 42, 42, 42, 42, 42, 42, 42, 42, 42, 42, 42, 42, 42, 42, 42, 42, 42, 42, 42, 42, 42, 42, 42, 42, 42, 42, 42, 42, 42, 42, 42, 42, 42, 42, 42, 42, 42, 42, 42, 42, 42, 42, 42, 42, 42, 42, 42, 42, 42, 42, 42, 42, 42, 42, 42, 42, 42, 42, 42, 42, 42, 42, 42, 42, 42, 42, 42, 42, 42, 42, 42, 42, 42, 42, 42, 42, 42, 42, 42, 42, 42, 42, 42, 42, 42, 42, 42, 42, 42, 42, 42, 42, 42, 42, 42, 42, 42, 42, 42, 42, 42, 42, 42, 42, 42, 42, 42, 42, 42, 42, 42, 42, 42, 42, 42, 42, 42, 42, 42, 42, 42, 42, 42, 42, 42, 42, 42, 42, 42, 42, 42, 42, 42, 42, 42, 42, 42, 42, 42, 42, 42, 42, 42, 42, 42, 42, 42, 42, 42, 42, 42, 42, 42, 42, 42, 42, 42, 42, 42, 42, 42, 42, 42, 42, 42, 42, 42, 42, 42, 42, 42, 42, 42, 42, 42, 42, 42, 42, 42, 42, 42, 42, 42, 42, 42, 42, 42, 42, 42, 42, 42, 42, 42, 42, 42, 42, 42, 42, 42, 42, 42, 42, 42, 42, 42, 42, 42, 42, 42, 42, 42, 42, 42, 42, 42, 42, 42, 42, 42, 42, 42, 42, 42, 42, 42, 42, 42, 42, 42, 42, 42, 42, 42, 42, 42, 42, 42, 42, 42, 42, 42, 42, 42, 42, 42, 42, 42, 42, 42, 42, 42, 42, 42, 42, 42, 42, 42, 42, 42, 42, 42, 42, 42, 42, 42, 42, 42, 42, 42, 42, 42, 42, 42, 42, 42, 42, 42, 42, 42, 42, 42, 42, 42, 42, 42, 42, 42, 42, 42, 42, 42, 42, 42, 42, 42, 42, 42, 42, 42, 42, 42, 42, 42, 42, 42, 42, 42, 42, 42, 42, 42, 42, 42, 42, 42, 42, 42, 42, 42, 42, 42, 42, 42, 42, 42, 42, 42, 42]\n"
     ]
    }
   ],
   "source": [
    "value = 42\n",
    "my_list = [value] * 1000\n",
    "\n",
    "print(my_list)\n"
   ]
  },
  {
   "cell_type": "markdown",
   "id": "d5e7b9bc",
   "metadata": {},
   "source": [
    "Q3.How do you slice a list to get any other part while missing the rest? (For example, suppose you\n",
    "want to make a new list with the elements first, third, fifth, seventh, and so on.)"
   ]
  },
  {
   "cell_type": "markdown",
   "id": "b5a7486a",
   "metadata": {},
   "source": [
    "Answer- To create a new list by selecting specific elements from an existing list while skipping the rest, you can use slicing with a step value. By specifying a step value of 2, you can select every other element from the list."
   ]
  },
  {
   "cell_type": "code",
   "execution_count": 5,
   "id": "27b10f71",
   "metadata": {},
   "outputs": [
    {
     "name": "stdout",
     "output_type": "stream",
     "text": [
      "[1, 3, 5, 7, 9]\n"
     ]
    }
   ],
   "source": [
    "my_list = [1, 2, 3, 4, 5, 6, 7, 8, 9, 10]\n",
    "new_list = my_list[::2]  # Slice with a step of 2\n",
    "\n",
    "print(new_list)\n"
   ]
  },
  {
   "cell_type": "markdown",
   "id": "7b0f8978",
   "metadata": {},
   "source": [
    "Q4.Explain the distinctions between indexing and slicing."
   ]
  },
  {
   "cell_type": "markdown",
   "id": "de3ac12b",
   "metadata": {},
   "source": [
    "Answer- Indexing is the way of accessing a single element of the object by its index or position, where as, slicing enables us to access the sub parts of object. Slicing can be done using indexes."
   ]
  },
  {
   "cell_type": "code",
   "execution_count": 6,
   "id": "e9224a09",
   "metadata": {},
   "outputs": [
    {
     "name": "stdout",
     "output_type": "stream",
     "text": [
      "[2, 4, 6, 8, 10, 12]\n",
      "6\n"
     ]
    }
   ],
   "source": [
    "my_list = [1,2,3,4,5,6,7,8,9,10,11,12]\n",
    "\n",
    "new_list = my_list[1:len(my_list):2] # this is list sclicing.\n",
    "\n",
    "print(new_list)\n",
    "\n",
    "print(new_list[2]) # this is list indexing\n"
   ]
  },
  {
   "cell_type": "markdown",
   "id": "370520f9",
   "metadata": {},
   "source": [
    "Q5.What happens if one of the slicing expression&#39;s indexes is out of range?"
   ]
  },
  {
   "cell_type": "markdown",
   "id": "12b07687",
   "metadata": {},
   "source": [
    "Answer- If one of the indexes in a slicing expression is out of range, i.e., it exceeds the valid index range for the sequence, Python handles it gracefully and does not raise an error. Instead, it adjusts the index to the nearest valid value and returns the result based on the available elements."
   ]
  },
  {
   "cell_type": "markdown",
   "id": "0016ce94",
   "metadata": {},
   "source": [
    "Q6.If you pass a list to a function, and if you want the function to be able to change the values of the\n",
    "list—so that the list is different after the function returns—what action should you avoid?"
   ]
  },
  {
   "cell_type": "markdown",
   "id": "0540067e",
   "metadata": {},
   "source": [
    "Answer- To allow a function to change the values of a list passed as an argument, you should avoid reassigning a completely new list object to the variable that holds the list reference. In other words, you should avoid assigning a new list to the parameter itself within the function.\n",
    "\n",
    "When you pass a list to a function, the function receives a reference to the original list object. By default, Python passes the reference by value, meaning the function can access and modify the contents of the list. However, if you reassign a new list to the parameter within the function, it creates a new local binding, effectively disconnecting the parameter from the original list object."
   ]
  },
  {
   "cell_type": "code",
   "execution_count": 7,
   "id": "2045183d",
   "metadata": {},
   "outputs": [
    {
     "name": "stdout",
     "output_type": "stream",
     "text": [
      "[4, 5, 6]\n"
     ]
    }
   ],
   "source": [
    "def modify_list(my_list):\n",
    "    my_list = [1, 2, 3]  # Avoid reassigning a new list to the parameter\n",
    "\n",
    "my_list = [4, 5, 6]\n",
    "modify_list(my_list)\n",
    "print(my_list)\n"
   ]
  },
  {
   "cell_type": "markdown",
   "id": "5f6fba26",
   "metadata": {},
   "source": [
    "Q7.What is the concept of an unbalanced matrix?"
   ]
  },
  {
   "cell_type": "markdown",
   "id": "3cb8de69",
   "metadata": {},
   "source": [
    "Answer- The concept of an unbalanced matrix typically refers to a matrix where the number of rows and columns is different, meaning it does not have an equal number of rows and columns. In other words, the matrix is not a square matrix."
   ]
  },
  {
   "cell_type": "markdown",
   "id": "88f0d7ec",
   "metadata": {},
   "source": [
    "Q8.Why is it necessary to use either list comprehension or a loop to create arbitrarily large matrices?"
   ]
  },
  {
   "cell_type": "markdown",
   "id": "3df59d0f",
   "metadata": {},
   "source": [
    "Answer- When creating arbitrarily large matrices, it is necessary to use either list comprehension or a loop because these methods allow for dynamic and efficient generation of matrix elements based on a given pattern or algorithm.\n",
    "\n",
    "In Python 3, we can use numpy library to create large matrices instaed of list comprehension or a loop."
   ]
  },
  {
   "cell_type": "code",
   "execution_count": null,
   "id": "2395f044",
   "metadata": {},
   "outputs": [],
   "source": []
  },
  {
   "cell_type": "code",
   "execution_count": null,
   "id": "660be23f",
   "metadata": {},
   "outputs": [],
   "source": []
  }
 ],
 "metadata": {
  "kernelspec": {
   "display_name": "Python 3 (ipykernel)",
   "language": "python",
   "name": "python3"
  },
  "language_info": {
   "codemirror_mode": {
    "name": "ipython",
    "version": 3
   },
   "file_extension": ".py",
   "mimetype": "text/x-python",
   "name": "python",
   "nbconvert_exporter": "python",
   "pygments_lexer": "ipython3",
   "version": "3.9.12"
  }
 },
 "nbformat": 4,
 "nbformat_minor": 5
}
