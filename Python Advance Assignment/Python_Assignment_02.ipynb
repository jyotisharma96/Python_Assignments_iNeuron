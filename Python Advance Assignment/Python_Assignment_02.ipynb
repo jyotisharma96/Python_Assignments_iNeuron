{
 "cells": [
  {
   "cell_type": "markdown",
   "id": "ab90f681",
   "metadata": {},
   "source": [
    "Q1.What is the relationship between classes and modules?"
   ]
  },
  {
   "cell_type": "markdown",
   "id": "8c31a0c4",
   "metadata": {},
   "source": [
    "Answer- In Python, classes and modules are both key components of the language, but they serve different purposes and have distinct relationships:\n",
    "\n",
    "1. Classes: A class is a blueprint or template for creating objects (instances) that encapsulate data and behavior. It defines the structure and behavior of objects that belong to that class. Classes allow you to create reusable code by grouping related data and functions together.\n",
    "\n",
    "\n",
    "2. Modules: A module is a file containing Python code that defines functions, classes, and variables. It serves as a container for organizing related code into a single file. Modules provide a way to organize and reuse code across multiple files or projects.\n",
    "\n",
    "The relationship between classes and modules is that classes can be defined within modules. This allows you to group related classes together within a module, promoting code organization and modularity."
   ]
  },
  {
   "cell_type": "code",
   "execution_count": null,
   "id": "af2886c8",
   "metadata": {},
   "outputs": [],
   "source": [
    "# module.py\n",
    "\n",
    "class MyClass:\n",
    "    def __init__(self, value):\n",
    "        self.value = value\n",
    "\n",
    "    def print_value(self):\n",
    "        print(\"Value:\", self.value)\n",
    "\n",
    "def my_function():\n",
    "    print(\"This is a function in the module.\")\n",
    "\n",
    "# main.py\n",
    "import module\n",
    "\n",
    "# Creating an instance of MyClass\n",
    "obj = module.MyClass(42)\n",
    "obj.print_value()\n",
    "\n",
    "# Calling a function from the module\n",
    "module.my_function()\n"
   ]
  },
  {
   "cell_type": "markdown",
   "id": "a08de6b6",
   "metadata": {},
   "source": [
    "In the above example, we have a module named module.py that defines a class MyClass and a function my_function. We import the module in main.py using the import statement. This allows us to access and use the classes and functions defined in the module by using the module name followed by dot notation (module.MyClass, module.my_function).\n",
    "\n",
    "\n",
    "By organizing related classes within a module, you can create a logical structure for your code and achieve better code reusability. Modules provide a way to group classes, functions, and variables together, while classes define the blueprint for creating objects with shared behavior and attributes."
   ]
  },
  {
   "cell_type": "markdown",
   "id": "c5442e8f",
   "metadata": {},
   "source": [
    "Q2.How do you make instances and classes?"
   ]
  },
  {
   "cell_type": "markdown",
   "id": "219699a5",
   "metadata": {},
   "source": [
    "Answer- For creating a class instance. we call a class by its name and pass the arguments which its __init__ method accepts.\n",
    "\n",
    "Example: vishwak = employee('Male',20000), Here vishwak is an instance of class employee with attriubutes 'Male' and 20000.\n",
    "\n",
    "\n",
    "\n",
    "Whereas for creating a class, we use the Class keyword. Class keyword is followed by classname and semicolon.\n",
    "\n",
    "Example: Here Employee is a class created with class keyword with arguments gender and salary.\n",
    "\n",
    "class Employee: def __init__(self, gender,salary): self.gender = gender self.salary = salary"
   ]
  },
  {
   "cell_type": "markdown",
   "id": "f756802f",
   "metadata": {},
   "source": [
    "Q3.Where and how should be class attributes created?"
   ]
  },
  {
   "cell_type": "markdown",
   "id": "8d52e51a",
   "metadata": {},
   "source": [
    "Answer- Class attributes in Python should be created within the class definition, outside of any methods or constructors. They are typically placed directly beneath the class name, before any other methods or attributes."
   ]
  },
  {
   "cell_type": "code",
   "execution_count": 2,
   "id": "7a106a77",
   "metadata": {},
   "outputs": [
    {
     "name": "stdout",
     "output_type": "stream",
     "text": [
      "This is a class attribute\n",
      "Instance attribute\n"
     ]
    }
   ],
   "source": [
    "class MyClass:\n",
    "    class_attribute = \"This is a class attribute\"\n",
    "\n",
    "    def __init__(self, instance_attribute):\n",
    "        self.instance_attribute = instance_attribute\n",
    "\n",
    "    def instance_method(self):\n",
    "        print(\"Instance method called\")\n",
    "\n",
    "# Accessing class attribute\n",
    "print(MyClass.class_attribute)\n",
    "\n",
    "# Creating instances and accessing instance attributes\n",
    "instance = MyClass(\"Instance attribute\")\n",
    "print(instance.instance_attribute)\n"
   ]
  },
  {
   "cell_type": "markdown",
   "id": "a5bb1f40",
   "metadata": {},
   "source": [
    "Q4.Where and how are instance attributes created?"
   ]
  },
  {
   "cell_type": "markdown",
   "id": "52f5dc24",
   "metadata": {},
   "source": [
    "Answer- Instance attributes in Python are created within the __init__() method of a class, which serves as the constructor for instances of the class. The __init__() method is called automatically when a new instance is created, and it is where you initialize the instance attributes."
   ]
  },
  {
   "cell_type": "code",
   "execution_count": 3,
   "id": "fb354f65",
   "metadata": {},
   "outputs": [
    {
     "name": "stdout",
     "output_type": "stream",
     "text": [
      "Value 1\n",
      "20\n"
     ]
    }
   ],
   "source": [
    "class MyClass:\n",
    "    def __init__(self, attribute1, attribute2):\n",
    "        self.attribute1 = attribute1\n",
    "        self.attribute2 = attribute2\n",
    "\n",
    "# Creating instances and initializing instance attributes\n",
    "instance1 = MyClass(\"Value 1\", 10)\n",
    "instance2 = MyClass(\"Value 2\", 20)\n",
    "\n",
    "# Accessing instance attributes\n",
    "print(instance1.attribute1)\n",
    "print(instance2.attribute2)\n"
   ]
  },
  {
   "cell_type": "markdown",
   "id": "fc55624d",
   "metadata": {},
   "source": [
    "Q5.What does the term &quot;self&quot; in a Python class mean?"
   ]
  },
  {
   "cell_type": "markdown",
   "id": "2d2b5cf7",
   "metadata": {},
   "source": [
    "Answer- In Python, the term \"self\" is a conventional name used as the first parameter in method definitions within a class. It represents the instance of the class that the method is being called on. The name \"self\" is not a keyword in Python but a widely accepted convention to refer to the instance itself.\n",
    "\n",
    "By using the name \"self\" as the first parameter, you can access and manipulate the instance's attributes and call other methods within the class. It acts as a reference to the specific instance, allowing you to distinguish between instance attributes and local variables within the method."
   ]
  },
  {
   "cell_type": "code",
   "execution_count": 4,
   "id": "eb0ae523",
   "metadata": {},
   "outputs": [
    {
     "name": "stdout",
     "output_type": "stream",
     "text": [
      "Initial value\n",
      "Updated value\n"
     ]
    }
   ],
   "source": [
    "class MyClass:\n",
    "    def __init__(self, attribute):\n",
    "        self.attribute = attribute\n",
    "\n",
    "    def print_attribute(self):\n",
    "        print(self.attribute)\n",
    "\n",
    "    def update_attribute(self, new_value):\n",
    "        self.attribute = new_value\n",
    "\n",
    "# Creating an instance of MyClass\n",
    "instance = MyClass(\"Initial value\")\n",
    "\n",
    "# Accessing and modifying instance attribute using self\n",
    "instance.print_attribute()\n",
    "instance.update_attribute(\"Updated value\")\n",
    "instance.print_attribute()\n"
   ]
  },
  {
   "cell_type": "markdown",
   "id": "a5db1959",
   "metadata": {},
   "source": [
    "Q6.How does a Python class handle operator overloading?"
   ]
  },
  {
   "cell_type": "markdown",
   "id": "8b8281f2",
   "metadata": {},
   "source": [
    "Answer- In Python, operator overloading allows classes to define their own behavior for built-in operators (+, -, *, /, etc.) by implementing special methods. These special methods, also known as magic methods or dunder methods (double underscore methods), provide a way to customize the behavior of operators when applied to instances of a class.\n",
    "\n",
    "To handle operator overloading in a Python class, you can define the appropriate dunder methods to specify the desired behavior for each operator. "
   ]
  },
  {
   "cell_type": "code",
   "execution_count": 5,
   "id": "96f99f13",
   "metadata": {},
   "outputs": [
    {
     "name": "stdout",
     "output_type": "stream",
     "text": [
      "Vector(4, 6)\n",
      "Vector(3, 6)\n"
     ]
    }
   ],
   "source": [
    "class Vector:\n",
    "    def __init__(self, x, y):\n",
    "        self.x = x\n",
    "        self.y = y\n",
    "\n",
    "    def __add__(self, other):\n",
    "        return Vector(self.x + other.x, self.y + other.y)\n",
    "\n",
    "    def __mul__(self, scalar):\n",
    "        return Vector(self.x * scalar, self.y * scalar)\n",
    "\n",
    "    def __str__(self):\n",
    "        return f\"Vector({self.x}, {self.y})\"\n",
    "\n",
    "# Usage of the Vector class\n",
    "v1 = Vector(1, 2)\n",
    "v2 = Vector(3, 4)\n",
    "v3 = v1 + v2    # Calls the __add__() method\n",
    "v4 = v1 * 3     # Calls the __mul__() method\n",
    "\n",
    "print(v3)       \n",
    "print(v4)\n"
   ]
  },
  {
   "cell_type": "markdown",
   "id": "063dea03",
   "metadata": {},
   "source": [
    "Q7.When do you consider allowing operator overloading of your classes?"
   ]
  },
  {
   "cell_type": "markdown",
   "id": "bddf026f",
   "metadata": {},
   "source": [
    "Answer- When we want to have different meaning for the same operator accroding to the context we use operator overloading.\n",
    "\n",
    "Let us assumewe have an object called string1 which is a string object as defined below. Now, when we try to add a string to this string object, the compiler will throw an error. This is because the compiler doesn't know how to add them."
   ]
  },
  {
   "cell_type": "code",
   "execution_count": 6,
   "id": "81d1cbe5",
   "metadata": {},
   "outputs": [
    {
     "ename": "TypeError",
     "evalue": "unsupported operand type(s) for +: 'String' and 'str'",
     "output_type": "error",
     "traceback": [
      "\u001b[1;31m---------------------------------------------------------------------------\u001b[0m",
      "\u001b[1;31mTypeError\u001b[0m                                 Traceback (most recent call last)",
      "Cell \u001b[1;32mIn [6], line 11\u001b[0m\n\u001b[0;32m      8\u001b[0m string1 \u001b[38;5;241m=\u001b[39m String(\u001b[38;5;124m'\u001b[39m\u001b[38;5;124mHello\u001b[39m\u001b[38;5;124m'\u001b[39m)    \n\u001b[0;32m     10\u001b[0m \u001b[38;5;66;03m# concatenate String object and a string\u001b[39;00m\n\u001b[1;32m---> 11\u001b[0m \u001b[38;5;28mprint\u001b[39m(\u001b[43mstring1\u001b[49m\u001b[43m \u001b[49m\u001b[38;5;241;43m+\u001b[39;49m\u001b[38;5;124;43m'\u001b[39;49m\u001b[38;5;124;43m world\u001b[39;49m\u001b[38;5;124;43m'\u001b[39;49m)\n",
      "\u001b[1;31mTypeError\u001b[0m: unsupported operand type(s) for +: 'String' and 'str'"
     ]
    }
   ],
   "source": [
    "# declare our own string class\n",
    "class String:\n",
    "    def __init__(self, string):\n",
    "            self.string = string         \n",
    "    def __repr__(self):\n",
    "        return 'Object: {}'.format(self.string)\n",
    "\n",
    "string1 = String('Hello')    \n",
    "\n",
    "# concatenate String object and a string\n",
    "print(string1 +' world')"
   ]
  },
  {
   "cell_type": "markdown",
   "id": "12c076b1",
   "metadata": {},
   "source": [
    "This error can be avoided by adding the __ add__ method to the String class. This way, we are overloading the + operator to concatenate a string object with a string."
   ]
  },
  {
   "cell_type": "code",
   "execution_count": 7,
   "id": "c8cc2474",
   "metadata": {},
   "outputs": [
    {
     "name": "stdout",
     "output_type": "stream",
     "text": [
      "Hello world\n"
     ]
    }
   ],
   "source": [
    "# declare our own string class\n",
    "class String:\n",
    "    def __init__(self, string):\n",
    "            self.string = string         \n",
    "                \n",
    "    def __add__(self, other):\n",
    "          return self.string + other\n",
    "            \n",
    "    def __repr__(self):\n",
    "        return 'Object: {}'.format(self.string)\n",
    "\n",
    "string1 = String('Hello')    \n",
    "\n",
    "# concatenate String object and a string\n",
    "print(string1 +' world')"
   ]
  },
  {
   "cell_type": "markdown",
   "id": "2a8413c2",
   "metadata": {},
   "source": [
    "Q8.What is the most popular form of operator overloading?"
   ]
  },
  {
   "cell_type": "markdown",
   "id": "4bff0d3e",
   "metadata": {},
   "source": [
    "The most popular form of operator overloading in python is by special methods called Magic methods. Which usually beign and end with double underscore __<method name>__."
   ]
  },
  {
   "cell_type": "markdown",
   "id": "7c8b78fb",
   "metadata": {},
   "source": [
    "Q9.What are the two most important concepts to grasp in order to comprehend Python OOP code?"
   ]
  },
  {
   "cell_type": "markdown",
   "id": "10aebd0c",
   "metadata": {},
   "source": [
    "Answer- Classes and objects are the two concepts to comprehend python OOP code as more formally objects are entities that represent instances of general abstract concept called class\n",
    "\n",
    "Along with classes and objects the important concepts to grasp are:\n",
    "\n",
    "1. Inheritence\n",
    "2. Abstraction\n",
    "3. Polymorphism\n",
    "4. Encapsulation"
   ]
  },
  {
   "cell_type": "code",
   "execution_count": null,
   "id": "e587f07a",
   "metadata": {},
   "outputs": [],
   "source": []
  },
  {
   "cell_type": "code",
   "execution_count": null,
   "id": "72794967",
   "metadata": {},
   "outputs": [],
   "source": []
  },
  {
   "cell_type": "code",
   "execution_count": null,
   "id": "369c4b46",
   "metadata": {},
   "outputs": [],
   "source": []
  },
  {
   "cell_type": "code",
   "execution_count": null,
   "id": "1203644a",
   "metadata": {},
   "outputs": [],
   "source": []
  }
 ],
 "metadata": {
  "kernelspec": {
   "display_name": "Python 3 (ipykernel)",
   "language": "python",
   "name": "python3"
  },
  "language_info": {
   "codemirror_mode": {
    "name": "ipython",
    "version": 3
   },
   "file_extension": ".py",
   "mimetype": "text/x-python",
   "name": "python",
   "nbconvert_exporter": "python",
   "pygments_lexer": "ipython3",
   "version": "3.9.12"
  }
 },
 "nbformat": 4,
 "nbformat_minor": 5
}
