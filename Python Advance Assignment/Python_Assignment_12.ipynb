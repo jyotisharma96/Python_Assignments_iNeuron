{
 "cells": [
  {
   "cell_type": "markdown",
   "id": "249946af",
   "metadata": {},
   "source": [
    "Q1.Does assigning a value to a string&#39;s indexed character violate Python&#39;s string immutability?"
   ]
  },
  {
   "cell_type": "markdown",
   "id": "567e95dc",
   "metadata": {},
   "source": [
    "Answer- In Python, strings are immutable objects, which means that you cannot modify them in-place. Assigning a value to an indexed character of a string does not violate the immutability of strings because it actually creates a new string object rather than modifying the original string.\n",
    "\n",
    "When you assign a value to an indexed character of a string, you are creating a new string object with the modified value. The original string remains unchanged, and the assignment operation returns the new string with the desired modification. This is possible because strings are considered immutable."
   ]
  },
  {
   "cell_type": "markdown",
   "id": "f32c5ae4",
   "metadata": {},
   "source": [
    "Q2.Does using the += operator to concatenate strings violate Python&#39;s string immutability? Why or\n",
    "why not?"
   ]
  },
  {
   "cell_type": "markdown",
   "id": "39f7acda",
   "metadata": {},
   "source": [
    "Answer- No, using the += operator to concatenate strings does not violate Python's string immutability. Although the += operator appears to modify the existing string, it actually creates a new string object.\n",
    "\n",
    "When you use the += operator to concatenate strings, Python creates a new string object that contains the concatenated result of the original string and the string being appended. The original string remains unchanged, and the variable is then reassigned to refer to the new string object."
   ]
  },
  {
   "cell_type": "code",
   "execution_count": 2,
   "id": "bce67137",
   "metadata": {},
   "outputs": [
    {
     "name": "stdout",
     "output_type": "stream",
     "text": [
      "Hello, World!\n"
     ]
    }
   ],
   "source": [
    "s = \"Hello\"\n",
    "s += \", World!\"\n",
    "print(s)\n"
   ]
  },
  {
   "cell_type": "markdown",
   "id": "38008cff",
   "metadata": {},
   "source": [
    "In the above code, the += operator is used to concatenate the string \", World!\" to the original string \"Hello\". However, instead of modifying the original string in-place, Python creates a new string object that contains the concatenated result. The variable s is then reassigned to refer to the new string object.\n",
    "\n",
    "This behavior ensures the immutability of strings. The original string object remains unchanged, and a new string object is created whenever modifications are made. It allows for efficient memory management and avoids unexpected side effects when working with strings.\n",
    "\n",
    "Therefore, while the += operator may give the impression of modifying the existing string, it actually creates a new string object, maintaining the immutability of strings in Python."
   ]
  },
  {
   "cell_type": "markdown",
   "id": "09456ff8",
   "metadata": {},
   "source": [
    "Q3.In Python, how many different ways are there to index a character?"
   ]
  },
  {
   "cell_type": "markdown",
   "id": "0da2080f",
   "metadata": {},
   "source": [
    "Answer- A Character in string can be indexed using string name followed by index number of character in square bracket. Positive Indexing i.e. first index is 0 an so on, or Negative Indexing i.e. last letter is -1 and so on can be used to index a character."
   ]
  },
  {
   "cell_type": "code",
   "execution_count": 3,
   "id": "cb181314",
   "metadata": {},
   "outputs": [
    {
     "name": "stdout",
     "output_type": "stream",
     "text": [
      "u l e\n",
      "e i c\n"
     ]
    }
   ],
   "source": [
    "in_string = \"iNeuron Full Stack Data Science\"\n",
    "print(in_string[9],in_string[10],in_string[2]) # Positive Indexing\n",
    "print(in_string[-1],in_string[-5],in_string[-2]) # Negative Indexing\n"
   ]
  },
  {
   "cell_type": "markdown",
   "id": "97fd838e",
   "metadata": {},
   "source": [
    "Q4.What is the relationship between indexing and slicing?"
   ]
  },
  {
   "cell_type": "markdown",
   "id": "4c2298fd",
   "metadata": {},
   "source": [
    "Answer- Indexing is a way to access an element of a string by its position or index. Slicing is accessing only part od a string and not a full string. String slicing is done by using index."
   ]
  },
  {
   "cell_type": "code",
   "execution_count": 4,
   "id": "b1d9dcd6",
   "metadata": {},
   "outputs": [
    {
     "name": "stdout",
     "output_type": "stream",
     "text": [
      "neu\n",
      "noru\n"
     ]
    }
   ],
   "source": [
    "s = 'ineuron'\n",
    "\n",
    "print(s[1:4])\n",
    "print(s[-1:2:-1])\n"
   ]
  },
  {
   "cell_type": "markdown",
   "id": "d0a5ef3a",
   "metadata": {},
   "source": [
    "Q5.What is an indexed character&#39;s exact data type? What is the data form of a slicing-generated\n",
    "substring?"
   ]
  },
  {
   "cell_type": "markdown",
   "id": "4a61b64a",
   "metadata": {},
   "source": [
    "Indexed characters and sliced substrings have datatype String."
   ]
  },
  {
   "cell_type": "code",
   "execution_count": 5,
   "id": "6485fedc",
   "metadata": {},
   "outputs": [
    {
     "name": "stdout",
     "output_type": "stream",
     "text": [
      "<class 'str'>\n",
      "<class 'str'>\n"
     ]
    }
   ],
   "source": [
    "in_string = \"iNeuron Full Stack Data Science\"\n",
    "print(type(in_string[3])) # Indexing -> str\n",
    "print(type(in_string[1:10])) # Indexing -> str\n"
   ]
  },
  {
   "cell_type": "markdown",
   "id": "8cd099a4",
   "metadata": {},
   "source": [
    "Q6.What is the relationship between string and character &quot;types&quot; in Python?"
   ]
  },
  {
   "cell_type": "markdown",
   "id": "5dddbc83",
   "metadata": {},
   "source": [
    "Answer- In Python, strings and characters are closely related, but they have different data types. Here is the relationship between string and character \"types\" in Python:\n",
    "\n",
    "String:\n",
    "\n",
    "1. A string is a sequence of characters enclosed in single quotes (') or double quotes (\").\n",
    "2. In Python, strings are represented by the built-in str data type.\n",
    "3. Strings can contain zero or more characters and are iterable, allowing you to access individual characters using indexing or perform operations on the entire string."
   ]
  },
  {
   "cell_type": "code",
   "execution_count": 6,
   "id": "c0956808",
   "metadata": {},
   "outputs": [
    {
     "name": "stdout",
     "output_type": "stream",
     "text": [
      "<class 'str'>\n"
     ]
    }
   ],
   "source": [
    "s = \"Hello\"\n",
    "print(type(s))  # Output: <class 'str'>\n"
   ]
  },
  {
   "cell_type": "markdown",
   "id": "6af807ae",
   "metadata": {},
   "source": [
    "Character:\n",
    "\n",
    "1. A character represents a single symbol, such as a letter, digit, or special character.\n",
    "2. In Python, a character is essentially a string of length 1, containing a single character.\n",
    "3. While some programming languages have a distinct data type for characters, in Python, characters are represented as strings."
   ]
  },
  {
   "cell_type": "code",
   "execution_count": 8,
   "id": "92f53563",
   "metadata": {},
   "outputs": [
    {
     "name": "stdout",
     "output_type": "stream",
     "text": [
      "<class 'str'>\n"
     ]
    }
   ],
   "source": [
    "char = 'H'\n",
    "print(type(char))  # Output: <class 'str'>\n"
   ]
  },
  {
   "cell_type": "markdown",
   "id": "882a3591",
   "metadata": {},
   "source": [
    "Therefore, in Python, characters are essentially strings of length 1, and strings are collections or sequences of characters. The str data type is used for both characters and strings, and you can perform various operations on strings as well as individual characters within a string."
   ]
  },
  {
   "cell_type": "markdown",
   "id": "551f91fa",
   "metadata": {},
   "source": [
    "Q7.Identify at least two operators and one method that allow you to combine one or more smaller\n",
    "strings to create a larger string."
   ]
  },
  {
   "cell_type": "markdown",
   "id": "5e89135b",
   "metadata": {},
   "source": [
    "Answer-   \"+\" will concatenate two strings and \"*\" will repeat the string number of times mentioned. \n",
    "\n",
    "We can also use join() method for getting a larger string."
   ]
  },
  {
   "cell_type": "code",
   "execution_count": 9,
   "id": "03e94174",
   "metadata": {},
   "outputs": [
    {
     "name": "stdout",
     "output_type": "stream",
     "text": [
      "Hello!How are you?\n",
      "RainRainRainRain\n",
      "How are you?\n"
     ]
    }
   ],
   "source": [
    "print(\"Hello!\" + 'How are you?')\n",
    "\n",
    "print(\"Rain\" * 4)\n",
    "\n",
    "l = ['How', 'are', 'you?']\n",
    "\n",
    "s = ' '.join(l)\n",
    "\n",
    "print(s)"
   ]
  },
  {
   "cell_type": "markdown",
   "id": "ca235e1a",
   "metadata": {},
   "source": [
    "Q8.What is the benefit of first checking the target string with in or not in before using the index\n",
    "method to find a substring?"
   ]
  },
  {
   "cell_type": "markdown",
   "id": "8f8de275",
   "metadata": {},
   "source": [
    "Answer- Checking the target string with in or not Operators before using the index method to find a substring just helps confirming availability of substring and thus avoid raising of ValueError."
   ]
  },
  {
   "cell_type": "code",
   "execution_count": 10,
   "id": "0d1ca728",
   "metadata": {},
   "outputs": [
    {
     "ename": "ValueError",
     "evalue": "substring not found",
     "output_type": "error",
     "traceback": [
      "\u001b[1;31m---------------------------------------------------------------------------\u001b[0m",
      "\u001b[1;31mValueError\u001b[0m                                Traceback (most recent call last)",
      "Cell \u001b[1;32mIn [10], line 8\u001b[0m\n\u001b[0;32m      5\u001b[0m \u001b[38;5;28;01mif\u001b[39;00m s1 \u001b[38;5;129;01min\u001b[39;00m s:\n\u001b[0;32m      6\u001b[0m     \u001b[38;5;28mprint\u001b[39m(s\u001b[38;5;241m.\u001b[39mindex(s1))\n\u001b[1;32m----> 8\u001b[0m \u001b[43ms\u001b[49m\u001b[38;5;241;43m.\u001b[39;49m\u001b[43mindex\u001b[49m\u001b[43m(\u001b[49m\u001b[43ms1\u001b[49m\u001b[43m)\u001b[49m\n",
      "\u001b[1;31mValueError\u001b[0m: substring not found"
     ]
    }
   ],
   "source": [
    "s = 'abcdefghijk'\n",
    "\n",
    "s1 = 'xyz'\n",
    "\n",
    "if s1 in s:\n",
    "    print(s.index(s1))\n",
    "\n",
    "s.index(s1)\n"
   ]
  },
  {
   "cell_type": "markdown",
   "id": "3497ae75",
   "metadata": {},
   "source": [
    "Q9.Which operators and built-in string methods produce simple Boolean (true/false) results?"
   ]
  },
  {
   "cell_type": "markdown",
   "id": "d45601c0",
   "metadata": {},
   "source": [
    "Answer- Operators:\n",
    "\n",
    "    1. Comparison operators : (== ,!= ,< ,> ,<=, >=) \n",
    "    2. Logical Operators : (and, or, not)\n",
    "    3. Identity Operators : (is , is not)\n",
    "    4. Membership Operators : (in, not in)\n",
    "\n",
    "String methods:\n",
    "\n",
    "    1. endswith() : Returns true if the string ends with the specified value \n",
    "    2. isalnum()\tReturns True if all characters in the string are alphanumeric        \n",
    "    3. isalpha()\tReturns True if all characters in the string are in the alphabet        \n",
    "    4. isdecimal()\tReturns True if all characters in the string are decimals       \n",
    "    5. isdigit()\tReturns True if all characters in the string are digits        \n",
    "    6. isidentifier()\tReturns True if the string is an identifier        \n",
    "    7. islower()\tReturns True if all characters in the string are lower case        \n",
    "    8. isnumeric()\tReturns True if all characters in the string are numeric        \n",
    "    9. isprintable()\tReturns True if all characters in the string are printable        \n",
    "    10. isspace()\tReturns True if all characters in the string are whitespaces        \n",
    "    11. istitle()\tReturns True if the string follows the rules of a title        \n",
    "    12. isupper()\tReturns True if all characters in the string are upper case"
   ]
  },
  {
   "cell_type": "code",
   "execution_count": null,
   "id": "01883e9d",
   "metadata": {},
   "outputs": [],
   "source": []
  },
  {
   "cell_type": "code",
   "execution_count": null,
   "id": "1b39cd49",
   "metadata": {},
   "outputs": [],
   "source": []
  },
  {
   "cell_type": "code",
   "execution_count": null,
   "id": "4a0eb3ad",
   "metadata": {},
   "outputs": [],
   "source": []
  }
 ],
 "metadata": {
  "kernelspec": {
   "display_name": "Python 3 (ipykernel)",
   "language": "python",
   "name": "python3"
  },
  "language_info": {
   "codemirror_mode": {
    "name": "ipython",
    "version": 3
   },
   "file_extension": ".py",
   "mimetype": "text/x-python",
   "name": "python",
   "nbconvert_exporter": "python",
   "pygments_lexer": "ipython3",
   "version": "3.9.12"
  }
 },
 "nbformat": 4,
 "nbformat_minor": 5
}
