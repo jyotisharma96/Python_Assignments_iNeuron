{
 "cells": [
  {
   "cell_type": "markdown",
   "id": "cac37a12",
   "metadata": {},
   "source": [
    "Q1. Is it permissible to use several import statements to import the same module? What would the\n",
    "goal be? Can you think of a situation where it would be beneficial?"
   ]
  },
  {
   "cell_type": "markdown",
   "id": "72ffde99",
   "metadata": {},
   "source": [
    "Answer- Yes we can use more than one import statement to import the same module more than once. This is com einto action when support we want to import some other function or class from the base class of any module. For example - \n",
    "\n",
    "from sklearn.preprocessing import LabelEncoder\n",
    "\n",
    "from sklearn.linear_model import LinearRegression\n"
   ]
  },
  {
   "cell_type": "markdown",
   "id": "79ac00fb",
   "metadata": {},
   "source": [
    "Q2. What are some of a module&#39;s characteristics? (Name at least one.)"
   ]
  },
  {
   "cell_type": "markdown",
   "id": "06fe3822",
   "metadata": {},
   "source": [
    "Answer- The following are some of a module's characteristics:\n",
    "\n",
    "1. __name__ : It returns the name of the module.\n",
    "    \n",
    "2. __doc__ : It denotes the documentation string line written in a module code.\n",
    "    \n",
    "3. __file__ : It holds the name and path of the module file from which it is loaded.\n",
    "    \n",
    "4. __dict__ : It return a dictionary object of module attributes, functions and other definitions and their respective values.\n",
    "\n"
   ]
  },
  {
   "cell_type": "markdown",
   "id": "3eb833d1",
   "metadata": {},
   "source": [
    "Q3. Circular importing, such as when two modules import each other, can lead to dependencies and\n",
    "bugs that aren&#39;t visible. How can you go about creating a program that avoids mutual importing?"
   ]
  },
  {
   "cell_type": "markdown",
   "id": "093d700c",
   "metadata": {},
   "source": [
    "Answer- Circular importing means importing the two modules in each other. If suppose we are wokring in MOD1.py file and it is importing some function say F2() from some other module say MOD2.PY file or we can do vice-versa. What will happen is: This will give an import error.\n",
    "\n",
    "This is because when we import F2() function from module MOD2.py, then this will execute MOD2.py file. And in MOD2.py file there is an another statement of importing MOD1.py module.\n",
    "\n",
    "This will result in endless loop. To avoid this error just do one thingWe can use if __name__ == '__main__'.\n",
    "\n",
    "In the function, you can't directly refer to the function in the program. The addition of this sentence avoids the endless loop of the program ."
   ]
  },
  {
   "cell_type": "markdown",
   "id": "a3535343",
   "metadata": {},
   "source": [
    "Q4. Why is _ _all_ _ in Python?"
   ]
  },
  {
   "cell_type": "markdown",
   "id": "a3068054",
   "metadata": {},
   "source": [
    "Answer- It specifies all the modules present in the particular library and those can be called when we use import *."
   ]
  },
  {
   "cell_type": "markdown",
   "id": "e38333e2",
   "metadata": {},
   "source": [
    "Q5. In what situation is it useful to refer to the _ _name_ _ attribute or the string &#39;_ _main_ _&#39;?"
   ]
  },
  {
   "cell_type": "markdown",
   "id": "2495ac85",
   "metadata": {},
   "source": [
    "Answer- During the time of execution of the code if we want to refer the module in which we are working on then we uses name attribute. In that case it will return the module in which we are working on. Suppose if that module is being imported from some other module then name will have the name of that module from where the current module has been imported. The current module in which we are working is refer to the string '_ main _'."
   ]
  },
  {
   "cell_type": "markdown",
   "id": "d9fad152",
   "metadata": {},
   "source": [
    "Q6. What are some of the benefits of attaching a program counter to the RPN interpreter\n",
    "application, which interprets an RPN script line by line?"
   ]
  },
  {
   "cell_type": "markdown",
   "id": "d2785a17",
   "metadata": {},
   "source": [
    "Answer- Attaching a program counter to an RPN (Reverse Polish Notation) interpreter application can provide several benefits:\n",
    "\n",
    "1. Tracking Execution Progress - The program counter keeps track of the current instruction being executed in the RPN script. This allows you to precisely monitor the progress of the program and identify the exact point of execution at any given time. It provides visibility into the flow of execution and helps with debugging and troubleshooting.\n",
    "\n",
    "\n",
    "2. Error Handling and Reporting - With a program counter, when an error or exception occurs during the execution of the RPN script, you can identify the specific line or instruction that caused the error. This information is invaluable for error handling, as it helps in pinpointing the problematic section of the code and provides meaningful feedback or error messages to the user.\n",
    "\n",
    "\n",
    "3. Control Flow and Conditionals -  The program counter enables the implementation of control flow structures, such as loops and conditionals, within the RPN interpreter. It allows you to keep track of loop iterations, condition evaluations, and branching instructions, enabling more advanced script execution capabilities.\n",
    "\n",
    "\n",
    "4. Script Debugging and Stepping - By utilizing the program counter, you can implement debugging features like breakpoints, stepping through the script line by line, and inspecting the stack and variables at each step. This assists in understanding how the RPN script executes and aids in diagnosing logical errors or unexpected behaviors.\n",
    "\n",
    "\n",
    "5. Performance Optimization - The program counter can be utilized to analyze the execution patterns and performance characteristics of the RPN script. By measuring the execution time of each instruction or line, you can identify bottlenecks, optimize critical sections, or profile the script for efficiency improvements.\n",
    "\n",
    "\n",
    "6. Script Analysis and Profiling - With the program counter, you can gather statistics and profile the RPN script execution. You can measure the frequency of instruction usage, identify frequently executed sections, track resource usage, and gain insights into the behavior and performance of the script.\n",
    "\n",
    "Overall, attaching a program counter to an RPN interpreter application enhances the visibility, control, and analysis capabilities of the interpreter. It enables effective debugging, error handling, profiling, and performance optimization, making it easier to develop, analyze, and maintain RPN scripts."
   ]
  },
  {
   "cell_type": "markdown",
   "id": "e9fcf649",
   "metadata": {},
   "source": [
    "Q7. What are the minimum expressions or statements (or both) that you&#39;d need to render a basic\n",
    "programming language like RPN primitive but complete— that is, capable of carrying out any\n",
    "computerised task theoretically possible?"
   ]
  },
  {
   "cell_type": "markdown",
   "id": "58b9291a",
   "metadata": {},
   "source": [
    "Answer- \n",
    "\n",
    "Notations  : +-/*. \n",
    "\n",
    "These are the basic notations we require to carry out a computerised task , like RPN Primitive. We also need a particular data structure for storing elements from a statements except operators"
   ]
  },
  {
   "cell_type": "code",
   "execution_count": null,
   "id": "f3e204f0",
   "metadata": {},
   "outputs": [],
   "source": []
  },
  {
   "cell_type": "code",
   "execution_count": null,
   "id": "c913c46c",
   "metadata": {},
   "outputs": [],
   "source": []
  },
  {
   "cell_type": "code",
   "execution_count": null,
   "id": "3df2cf4c",
   "metadata": {},
   "outputs": [],
   "source": []
  },
  {
   "cell_type": "code",
   "execution_count": null,
   "id": "f147abec",
   "metadata": {},
   "outputs": [],
   "source": []
  }
 ],
 "metadata": {
  "kernelspec": {
   "display_name": "Python 3 (ipykernel)",
   "language": "python",
   "name": "python3"
  },
  "language_info": {
   "codemirror_mode": {
    "name": "ipython",
    "version": 3
   },
   "file_extension": ".py",
   "mimetype": "text/x-python",
   "name": "python",
   "nbconvert_exporter": "python",
   "pygments_lexer": "ipython3",
   "version": "3.9.12"
  }
 },
 "nbformat": 4,
 "nbformat_minor": 5
}
