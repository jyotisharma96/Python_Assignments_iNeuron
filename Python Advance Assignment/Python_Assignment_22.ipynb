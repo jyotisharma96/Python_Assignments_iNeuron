{
 "cells": [
  {
   "cell_type": "markdown",
   "id": "ded216f8",
   "metadata": {},
   "source": [
    "Q1.What are the benefits of the built-in array package, if any?"
   ]
  },
  {
   "cell_type": "markdown",
   "id": "3869929e",
   "metadata": {},
   "source": [
    "Answer- Arrays represent multiple data items of the same type using a single name.In arrays, the elements can be accessed randomly by using the index number. Arrays allocate memory in contiguous memory locations for all its elements. Hence there is no chance of extra memory being allocated in case of arrays. This avoids memory overflow or shortage of memory in arrays."
   ]
  },
  {
   "cell_type": "markdown",
   "id": "8075553c",
   "metadata": {},
   "source": [
    "Q2.What are some of the array package&#39;s limitations?"
   ]
  },
  {
   "cell_type": "markdown",
   "id": "075c80ce",
   "metadata": {},
   "source": [
    "Answer- The number of elements to be stored in an array should be known in advance. An array is a static structure (which means the array is of fixed size). Once declared the size of the array cannot be modified. The memory which is allocated to it cannot be increased or decreased.\n",
    "\n",
    "Insertion and deletion are quite difficult in an array as the elements are stored in consecutive memory locations and the shifting operation is costly.\n",
    "\n",
    "Allocating more memory than the requirement leads to wastage of memory space and less allocation of memory also leads to a problem."
   ]
  },
  {
   "cell_type": "markdown",
   "id": "9c79c099",
   "metadata": {},
   "source": [
    "Q3.Describe the main differences between the array and numpy packages."
   ]
  },
  {
   "cell_type": "markdown",
   "id": "f8e7da6e",
   "metadata": {},
   "source": [
    "Answer- The main differences between the array package (specifically referring to the Python built-in list type) and the NumPy package are as follows:\n",
    "\n",
    "1. Performance: NumPy is designed to provide efficient and high-performance numerical operations on arrays. It uses optimized C code under the hood, making it significantly faster than the Python built-in list type. NumPy employs fixed data types and contiguous memory storage, allowing for efficient memory access and vectorized operations. In contrast, Python lists have more memory overhead and lack specialized optimizations for numerical computations.\n",
    "\n",
    "\n",
    "2. Homogeneous data type: NumPy arrays require homogeneous data types, meaning all elements in an array must have the same data type. This restriction enables NumPy to store and manipulate arrays more efficiently in memory. On the other hand, Python lists can contain elements of different data types within a single list, providing flexibility but sacrificing performance and memory efficiency.\n",
    "\n",
    "\n",
    "3. Array dimensions: NumPy provides multi-dimensional arrays, allowing you to work with matrices, tensors, and n-dimensional data structures. You can create, manipulate, and perform operations on arrays with any number of dimensions. In contrast, Python lists are one-dimensional and need nested lists to represent multi-dimensional structures, which can be less intuitive and efficient.\n",
    "\n",
    "\n",
    "4. Array operations: NumPy offers a vast array of mathematical and statistical functions optimized for array operations. It provides built-in functions for operations like element-wise arithmetic, matrix multiplication, linear algebra, Fourier transforms, and more. Python lists lack such specialized array operations and require manual iteration or third-party libraries to perform similar computations efficiently.\n",
    "\n",
    "\n",
    "5. Broadcasting: NumPy supports broadcasting, which is a powerful feature that allows for implicit element-wise operations between arrays of different shapes. This capability simplifies code and eliminates the need for explicit loops. Python lists do not have built-in broadcasting support.\n",
    "\n",
    "\n",
    "6. Ecosystem and integration: NumPy is a fundamental package in the Python scientific computing ecosystem. It integrates well with other scientific libraries like SciPy, Pandas, and Matplotlib, enabling seamless data manipulation, analysis, visualization, and scientific computing workflows. The Python built-in list type does not have the same level of integration or specialization for scientific computing tasks.\n",
    "\n",
    "\n",
    "Overall, while Python lists provide basic array functionality, the NumPy package offers a more efficient, powerful, and specialized array implementation for numerical computations and scientific computing. Its performance optimizations, support for homogeneous data types, multi-dimensional arrays, and specialized array operations make it a popular choice for numerical analysis, data manipulation, and scientific simulations.\n",
    "\n"
   ]
  },
  {
   "cell_type": "markdown",
   "id": "76da0c32",
   "metadata": {},
   "source": [
    "Q4.Explain the distinctions between the empty, ones, and zeros functions."
   ]
  },
  {
   "cell_type": "markdown",
   "id": "0f3eaa3b",
   "metadata": {},
   "source": [
    "Answer- In NumPy, the empty, ones, and zeros functions are used to create arrays with specific initial values. Here are the distinctions between these functions:\n",
    "\n",
    "1. Empty: The empty function creates a new array with uninitialized or arbitrary values. It allocates the required memory for the array without initializing the elements to any particular value. The content of the array will be whatever values happen to already exist in that memory location. This function is useful when you plan to fill the array with values later on and don't need to initialize it explicitly.\n",
    "\n",
    "\n",
    "2. Ones: The ones function creates a new array filled with ones. It takes the shape of the desired array as an argument and returns an array of that shape, with all elements initialized to the value 1.\n",
    "\n",
    "\n",
    "3. Zeros: The zeros function creates a new array filled with zeros. Similar to the ones function, it takes the shape of the desired array as an argument and returns an array of that shape, with all elements initialized to the value 0.\n",
    "\n",
    "These functions are often used as a convenient way to create initial arrays with specific values. They allow you to avoid manually initializing arrays or filling them with values using loops or other methods.\n"
   ]
  },
  {
   "cell_type": "markdown",
   "id": "4ee0beda",
   "metadata": {},
   "source": [
    "Q5.In the fromfunction function, which is used to construct new arrays, what is the role of the callable\n",
    "argument?"
   ]
  },
  {
   "cell_type": "markdown",
   "id": "a87de7be",
   "metadata": {},
   "source": [
    "Answer- In the fromfunction function of NumPy, the callable argument plays a crucial role in constructing new arrays. The callable is a function or callable object that defines the values of the array based on its indices. The fromfunction function generates an array by repeatedly calling the callable function with coordinate arrays.\n"
   ]
  },
  {
   "cell_type": "code",
   "execution_count": null,
   "id": "f423a5e1",
   "metadata": {},
   "outputs": [],
   "source": [
    "\n",
    "#The syntax of fromfunction is as follows:\n",
    "\n",
    "numpy.fromfunction(function, shape, **kwargs)\n",
    "\n",
    "#The callable function is defined with the following signature:\n",
    "\n",
    "function(indices, ...)\n"
   ]
  },
  {
   "cell_type": "markdown",
   "id": "07cd8d7c",
   "metadata": {},
   "source": [
    "The indices parameter represents the indices of the array being constructed. The number of indices depends on the desired shape of the output array specified in the shape parameter."
   ]
  },
  {
   "cell_type": "markdown",
   "id": "4a48956f",
   "metadata": {},
   "source": [
    "Q6.What happens when a numpy array is combined with a single-value operand (a scalar, such as\n",
    "an int or a floating-point value) through addition, as in the expression A + n?"
   ]
  },
  {
   "cell_type": "markdown",
   "id": "17c3e661",
   "metadata": {},
   "source": [
    "Answer- When a NumPy array A is combined with a single-value operand n (a scalar) through addition, the scalar value n is broadcasted to match the shape of the array A, and then element-wise addition is performed between A and the broadcasted scalar.\n",
    "\n",
    "This behavior is known as broadcasting in NumPy, which enables operations between arrays of different shapes or between arrays and scalars by implicitly extending the smaller array or scalar to match the shape of the larger array."
   ]
  },
  {
   "cell_type": "markdown",
   "id": "7b5f3f95",
   "metadata": {},
   "source": [
    "Q7.Can array-to-scalar operations use combined operation-assign operators (such as += or *=)?\n",
    "What is the outcome?"
   ]
  },
  {
   "cell_type": "markdown",
   "id": "707f0f20",
   "metadata": {},
   "source": [
    "Answer- In NumPy, array-to-scalar operations using combined operation-assign operators (+=, -=, *=, /=, etc.) are allowed. However, the outcome of such operations depends on the broadcasting rules and the behavior of the specific operation.\n",
    "\n",
    "When you use a combined operation-assign operator with a scalar and an array, the scalar value is applied to each element of the array, and the result is assigned back to the original array. "
   ]
  },
  {
   "cell_type": "code",
   "execution_count": 3,
   "id": "f2142915",
   "metadata": {},
   "outputs": [
    {
     "name": "stdout",
     "output_type": "stream",
     "text": [
      "[3 4 5]\n",
      "[[ 3  6]\n",
      " [ 9 12]]\n"
     ]
    }
   ],
   "source": [
    "import numpy as np\n",
    "\n",
    "A = np.array([1, 2, 3])\n",
    "n = 2\n",
    "\n",
    "A += n\n",
    "print(A)\n",
    "\n",
    "B = np.array([[1, 2], [3, 4]])\n",
    "m = 3\n",
    "\n",
    "B *= m\n",
    "print(B)\n"
   ]
  },
  {
   "cell_type": "markdown",
   "id": "83b9280c",
   "metadata": {},
   "source": [
    "Q8.Does a numpy array contain fixed-length strings? What happens if you allocate a longer string to\n",
    "one of these arrays?"
   ]
  },
  {
   "cell_type": "markdown",
   "id": "b2f5e889",
   "metadata": {},
   "source": [
    "Answer- Yes, it is possible that we can include a string of fixed length in numpy array. The dtype of any numpy array containing string values is the maximum length of any string present in the array.Once set, it will only be able to store new string having length not more than the maximum length at the time of the creation. If we try to reassign some another string value having length greater than the maximum length of the existing elements, it simply discards all the values beyond the maximum length accept upto those values which are under the limit."
   ]
  },
  {
   "cell_type": "markdown",
   "id": "9a87d92b",
   "metadata": {},
   "source": [
    "Q9.What happens when you combine two numpy arrays using an operation like addition (+) or\n",
    "multiplication (*)? What are the conditions for combining two numpy arrays?"
   ]
  },
  {
   "cell_type": "markdown",
   "id": "2c29448b",
   "metadata": {},
   "source": [
    "Answer- When you combine two NumPy arrays using an operation like addition (+) or multiplication (*), the operation is performed element-wise between the corresponding elements of the arrays. The resulting array will have the same shape as the input arrays, and each element will be the result of the corresponding operation between the corresponding elements of the input arrays.\n",
    "\n",
    "The only requirement which must be met are:\n",
    "\n",
    "1) Data type should be same.\n",
    "\n",
    "2) Shape of the two matrices must be same\n"
   ]
  },
  {
   "cell_type": "markdown",
   "id": "a6b5ac24",
   "metadata": {},
   "source": [
    "Q10.What is the best way to use a Boolean array to mask another array?"
   ]
  },
  {
   "cell_type": "markdown",
   "id": "a84f7e6d",
   "metadata": {},
   "source": [
    "Answer- The best way to use a Boolean array to mask another array in NumPy is by using the Boolean array as an indexing mask. This technique allows you to select elements from the array based on the corresponding Boolean values in the mask array.\n"
   ]
  },
  {
   "cell_type": "code",
   "execution_count": 5,
   "id": "d0619925",
   "metadata": {},
   "outputs": [
    {
     "name": "stdout",
     "output_type": "stream",
     "text": [
      "[1 3]\n"
     ]
    }
   ],
   "source": [
    "import numpy as np\n",
    "\n",
    "# Original array\n",
    "arr = np.array([1, 2, 3, 4, 5])\n",
    "\n",
    "# Boolean mask\n",
    "mask = np.array([True, False, True, False, False])\n",
    "\n",
    "# Applying the mask\n",
    "result = arr[mask]\n",
    "\n",
    "print(result)\n"
   ]
  },
  {
   "cell_type": "markdown",
   "id": "633b3c6c",
   "metadata": {},
   "source": [
    "Q11. What are three different ways to get the standard deviation of a wide collection of data using\n",
    "both standard Python and its packages? Sort the three of them by how quickly they execute."
   ]
  },
  {
   "cell_type": "markdown",
   "id": "33e184d2",
   "metadata": {},
   "source": [
    "Answer- When it comes to calculating the standard deviation of a wide collection of data, there are several approaches using standard Python and its packages. Sorting them by execution speed, here are three different ways to calculate the standard deviation:"
   ]
  },
  {
   "cell_type": "markdown",
   "id": "cde4d9fe",
   "metadata": {},
   "source": [
    "1. NumPy's numpy.std() function - NumPy is a powerful package for scientific computing in Python, and it provides a fast and efficient implementation of standard deviation calculation through the numpy.std() function. This function calculates the standard deviation along the specified axis of an array or the entire array if no axis is specified. It is significantly faster than pure Python implementations due to its optimized C-based backend.\n"
   ]
  },
  {
   "cell_type": "code",
   "execution_count": 6,
   "id": "87811fa0",
   "metadata": {},
   "outputs": [
    {
     "name": "stdout",
     "output_type": "stream",
     "text": [
      "1.4142135623730951\n"
     ]
    }
   ],
   "source": [
    "import numpy as np\n",
    "\n",
    "data = np.array([1, 2, 3, 4, 5])\n",
    "std_dev = np.std(data)\n",
    "\n",
    "print(std_dev)\n"
   ]
  },
  {
   "cell_type": "markdown",
   "id": "ca097a93",
   "metadata": {},
   "source": [
    "2. The statistics module in the Python Standard Library - The statistics module provides a built-in function called statistics.stdev() that can be used to calculate the standard deviation. While it is not as fast as the NumPy implementation, it offers a convenient option for standard deviation calculation when using only standard Python."
   ]
  },
  {
   "cell_type": "code",
   "execution_count": 7,
   "id": "e3d49b7c",
   "metadata": {},
   "outputs": [
    {
     "name": "stdout",
     "output_type": "stream",
     "text": [
      "1.5811388300841898\n"
     ]
    }
   ],
   "source": [
    "import statistics\n",
    "\n",
    "data = [1, 2, 3, 4, 5]\n",
    "std_dev = statistics.stdev(data)\n",
    "\n",
    "print(std_dev)\n"
   ]
  },
  {
   "cell_type": "markdown",
   "id": "64b73ce4",
   "metadata": {},
   "source": [
    "3. A manual implementation using pure Python - If you prefer not to use external libraries, you can implement your own standard deviation calculation using pure Python. However, this approach will generally be slower than the previous two methods, as it involves more computation and lacks the optimizations of specialized libraries."
   ]
  },
  {
   "cell_type": "code",
   "execution_count": 8,
   "id": "7916af89",
   "metadata": {},
   "outputs": [
    {
     "name": "stdout",
     "output_type": "stream",
     "text": [
      "1.4142135623730951\n"
     ]
    }
   ],
   "source": [
    "import math\n",
    "\n",
    "data = [1, 2, 3, 4, 5]\n",
    "mean = sum(data) / len(data)\n",
    "variance = sum((x - mean) ** 2 for x in data) / len(data)\n",
    "std_dev = math.sqrt(variance)\n",
    "\n",
    "print(std_dev)\n"
   ]
  },
  {
   "cell_type": "markdown",
   "id": "ea315ae9",
   "metadata": {},
   "source": [
    "The fastest approach among the three options is typically the NumPy implementation (numpy.std()), as it is specifically optimized for efficient numerical computations. The statistics module provides a reasonable balance between convenience and performance, while the manual implementation using pure Python is the slowest due to the lack of specialized optimizations."
   ]
  },
  {
   "cell_type": "markdown",
   "id": "1cce7d63",
   "metadata": {},
   "source": [
    "Q12. What is the dimensionality of a Boolean mask-generated array?"
   ]
  },
  {
   "cell_type": "markdown",
   "id": "96df172e",
   "metadata": {},
   "source": [
    "Answer- The dimensionality of a Boolean mask-generated array is determined by the shape and dimensions of the Boolean mask itself. When using a Boolean mask to index an array, the resulting array will have the same number of dimensions as the mask, but with potentially reduced size along the masked dimensions. The dimensions corresponding to the True values in the mask are retained, while the dimensions corresponding to the False values are effectively removed or squeezed."
   ]
  },
  {
   "cell_type": "code",
   "execution_count": 9,
   "id": "3ced3319",
   "metadata": {},
   "outputs": [
    {
     "name": "stdout",
     "output_type": "stream",
     "text": [
      "[1 4 5]\n",
      "(3,)\n"
     ]
    }
   ],
   "source": [
    "import numpy as np\n",
    "\n",
    "arr = np.array([[1, 2], [3, 4], [5, 6]])\n",
    "mask = np.array([[True, False], [False, True], [True, False]])\n",
    "\n",
    "result = arr[mask]\n",
    "\n",
    "print(result)\n",
    "print(result.shape)\n"
   ]
  },
  {
   "cell_type": "markdown",
   "id": "29b40e31",
   "metadata": {},
   "source": [
    "In this example, the original array arr has a shape of (3, 2), representing 3 rows and 2 columns. The Boolean mask mask also has a shape of (3, 2), matching the shape of arr.\n",
    "\n",
    "By applying the mask to the array using arr[mask], we obtain a new array result. The resulting array has a shape of (3,), indicating that it is a one-dimensional array with 3 elements. The False values in the mask have effectively squeezed the dimension corresponding to the columns of arr, resulting in a one-dimensional output.\n",
    "\n",
    "It's important to note that the dimensionality of the Boolean mask-generated array will depend on the shape and dimensions of the mask array itself. Using different mask shapes or dimensions will yield different resulting array shapes."
   ]
  },
  {
   "cell_type": "code",
   "execution_count": null,
   "id": "66d5c9f2",
   "metadata": {},
   "outputs": [],
   "source": []
  },
  {
   "cell_type": "code",
   "execution_count": null,
   "id": "51c3ff7d",
   "metadata": {},
   "outputs": [],
   "source": []
  },
  {
   "cell_type": "code",
   "execution_count": null,
   "id": "860615ed",
   "metadata": {},
   "outputs": [],
   "source": []
  },
  {
   "cell_type": "code",
   "execution_count": null,
   "id": "33fb641a",
   "metadata": {},
   "outputs": [],
   "source": []
  }
 ],
 "metadata": {
  "kernelspec": {
   "display_name": "Python 3 (ipykernel)",
   "language": "python",
   "name": "python3"
  },
  "language_info": {
   "codemirror_mode": {
    "name": "ipython",
    "version": 3
   },
   "file_extension": ".py",
   "mimetype": "text/x-python",
   "name": "python",
   "nbconvert_exporter": "python",
   "pygments_lexer": "ipython3",
   "version": "3.9.12"
  }
 },
 "nbformat": 4,
 "nbformat_minor": 5
}
