{
 "cells": [
  {
   "cell_type": "markdown",
   "id": "cae47601",
   "metadata": {},
   "source": [
    "Q1. Is an assignment operator like += only for show? Is it possible that it would lead to faster results\n",
    "at the runtime?"
   ]
  },
  {
   "cell_type": "markdown",
   "id": "60061a36",
   "metadata": {},
   "source": [
    "Answer- No, an assignment operator like += is not just for show. In certain cases, it can lead to faster results at runtime compared to alternative approaches.\n",
    "\n",
    "The += operator, also known as the \"augmented assignment operator,\" combines the operation of addition (+) and assignment (=) into a single operation. It performs the addition and assigns the result back to the variable."
   ]
  },
  {
   "cell_type": "code",
   "execution_count": 1,
   "id": "4a9240f8",
   "metadata": {},
   "outputs": [
    {
     "name": "stdout",
     "output_type": "stream",
     "text": [
      "15\n"
     ]
    }
   ],
   "source": [
    "x = 10\n",
    "x += 5  # Equivalent to x = x + 5\n",
    "print(x)\n"
   ]
  },
  {
   "cell_type": "markdown",
   "id": "78e95b0d",
   "metadata": {},
   "source": [
    "Q2.What is the smallest number of statements you&#39;d have to write in most programming languages to\n",
    "replace the Python expression a, b = a + b, a?"
   ]
  },
  {
   "cell_type": "markdown",
   "id": "f447c13d",
   "metadata": {},
   "source": [
    "Answer- Minimum number of lines required to write above code in languages other Python will be 4, two for assigning initial values for variables a and b, and two for reassignment i.e. a  = a + b and b = a."
   ]
  },
  {
   "cell_type": "markdown",
   "id": "47434ec2",
   "metadata": {},
   "source": [
    "Q3.In Python, what is the most effective way to set a list of 100 integers to 0?"
   ]
  },
  {
   "cell_type": "markdown",
   "id": "3127ade5",
   "metadata": {},
   "source": [
    "Answer- In Python, the most effective way to set a list of 100 integers to 0 is to use list comprehension. List comprehension allows you to create a new list with a desired value for all elements in a concise and efficient manner."
   ]
  },
  {
   "cell_type": "code",
   "execution_count": 3,
   "id": "a730cc98",
   "metadata": {},
   "outputs": [
    {
     "name": "stdout",
     "output_type": "stream",
     "text": [
      "[0, 0, 0, 0, 0, 0, 0, 0, 0, 0, 0, 0, 0, 0, 0, 0, 0, 0, 0, 0, 0, 0, 0, 0, 0, 0, 0, 0, 0, 0, 0, 0, 0, 0, 0, 0, 0, 0, 0, 0, 0, 0, 0, 0, 0, 0, 0, 0, 0, 0, 0, 0, 0, 0, 0, 0, 0, 0, 0, 0, 0, 0, 0, 0, 0, 0, 0, 0, 0, 0, 0, 0, 0, 0, 0, 0, 0, 0, 0, 0, 0, 0, 0, 0, 0, 0, 0, 0, 0, 0, 0, 0, 0, 0, 0, 0, 0, 0, 0, 0]\n"
     ]
    }
   ],
   "source": [
    "l = [0] * 100\n",
    "\n",
    "print(l)\n"
   ]
  },
  {
   "cell_type": "markdown",
   "id": "f168d6ac",
   "metadata": {},
   "source": [
    "Q4.What is the most effective way to initialise a list of 99 integers that repeats the sequence 1, 2, 3?\n",
    "S If necessary, show step-by-step instructions on how to accomplish this."
   ]
  },
  {
   "cell_type": "markdown",
   "id": "d410d999",
   "metadata": {},
   "source": [
    "Answer- To initialize a list of 99 integers that repeats the sequence 1, 2, 3, you can use list comprehension in combination with the modulo operator %. Here's how you can accomplish this step-by-step:\n",
    "\n",
    "1. Determine the length of the list you want to create, which is 99 in this case.\n",
    "\n",
    "\n",
    "2. Use list comprehension with the modulo operator to generate the repeating sequence. In the list comprehension expression, use (i % 3) + 1 to obtain the desired sequence 1, 2, 3. Here's an example:"
   ]
  },
  {
   "cell_type": "code",
   "execution_count": 4,
   "id": "2bab126d",
   "metadata": {},
   "outputs": [],
   "source": [
    "my_list = [(i % 3) + 1 for i in range(99)]\n"
   ]
  },
  {
   "cell_type": "markdown",
   "id": "19eed95a",
   "metadata": {},
   "source": [
    "In this example, range(99) generates numbers from 0 to 98. (i % 3) + 1 calculates the remainder when dividing each number by 3 and adds 1 to the result, resulting in the sequence 1, 2, 3 repeating.\n",
    "\n",
    "The resulting list my_list will be a list of 99 integers that repeats the sequence 1, 2, 3.\n",
    "\n",
    "By using list comprehension and the modulo operator, you can efficiently generate the desired list without the need for explicit loops or repetitive code. The approach scales well even for larger sequences and ensures both effectiveness and code readability."
   ]
  },
  {
   "cell_type": "markdown",
   "id": "13e21c26",
   "metadata": {},
   "source": [
    "Q5.If you&#39;re using IDLE to run a Python application, explain how to print a multidimensional list as\n",
    "efficiently?"
   ]
  },
  {
   "cell_type": "markdown",
   "id": "23fd4976",
   "metadata": {},
   "source": [
    "Answer- We can print multidimentional list by simply writing the name of the variable in a cell."
   ]
  },
  {
   "cell_type": "code",
   "execution_count": 6,
   "id": "21844c99",
   "metadata": {},
   "outputs": [
    {
     "data": {
      "text/plain": [
       "[[1, 2, 3, 4], ['A', 'B'], [5, 6, 7, 8]]"
      ]
     },
     "execution_count": 6,
     "metadata": {},
     "output_type": "execute_result"
    }
   ],
   "source": [
    "my_list = [[1,2,3,4],['A','B'],[5,6,7,8]]\n",
    "\n",
    "my_list"
   ]
  },
  {
   "cell_type": "markdown",
   "id": "4fbb2adf",
   "metadata": {},
   "source": [
    "Q6.Is it possible to use list comprehension with a string? If so, how can you go about doing it?"
   ]
  },
  {
   "cell_type": "markdown",
   "id": "30ec2793",
   "metadata": {},
   "source": [
    "Answer- Yes, it is possible as string is an iterable object. \n",
    "\n",
    "Explained below -"
   ]
  },
  {
   "cell_type": "code",
   "execution_count": 7,
   "id": "27d5c608",
   "metadata": {},
   "outputs": [
    {
     "data": {
      "text/plain": [
       "['ii', 'NN', 'ee', 'uu', 'rr', 'oo', 'nn']"
      ]
     },
     "execution_count": 7,
     "metadata": {},
     "output_type": "execute_result"
    }
   ],
   "source": [
    "s = 'iNeuron'\n",
    "\n",
    "[i*2 for i in s]"
   ]
  },
  {
   "cell_type": "markdown",
   "id": "8b3c5445",
   "metadata": {},
   "source": [
    "Q7.From the command line, how do you get support with a user-written Python programme? Is this\n",
    "possible from inside IDLE?"
   ]
  },
  {
   "cell_type": "markdown",
   "id": "4a52afc0",
   "metadata": {},
   "source": [
    "Answer- From the command line, you can get support with a user-written Python program by using various methods. Here are a few options:\n",
    "\n",
    "1. Read the program's documentation: If the user-written Python program includes documentation, you can refer to it for instructions, usage examples, and troubleshooting tips. Documentation is often provided in the form of README files or separate documentation files.\n",
    "\n",
    "\n",
    "2. View the program's help or usage information: Many Python programs include built-in help or usage information that you can access from the command line. Typically, you can use command-line arguments such as --help or -h to display the program's help documentation. This command will display information about the program's usage, available options, and their descriptions.\n",
    "\n",
    "\n",
    "3. Consult the program's source code or comments: If you have access to the program's source code, you can open it in a text editor or IDE to examine the code logic, comments, and function/class definitions. This can provide insights into how the program works and help you understand its functionality.\n",
    "\n",
    "Regarding IDLE, it depends on whether the user-written Python program is executed within the IDLE environment or from the command line using IDLE as the Python interpreter. If the program is executed within IDLE, you can access support by following similar approaches as mentioned above, such as referring to the program's documentation, viewing help information, or examining the source code.\n",
    "\n",
    "However, if you are using IDLE as the Python interpreter from the command line to run the user-written Python program, you can still use the command-line methods described earlier to get support."
   ]
  },
  {
   "cell_type": "markdown",
   "id": "b6dd1938",
   "metadata": {},
   "source": [
    "Q8.Functions are said to be “first-class objects” in Python but not in most other languages, such as\n",
    "C++ or Java. What can you do in Python with a function (callable object) that you can&#39;t do in C or\n",
    "C++?"
   ]
  },
  {
   "cell_type": "markdown",
   "id": "1c03c379",
   "metadata": {},
   "source": [
    "Answer- In Python, functions are like any other object, such as an int or a list. That means that you can use functions as arguments to other functions, store functions as dictionary values, or return a function from another function. This leads to many powerful ways to use functions."
   ]
  },
  {
   "cell_type": "markdown",
   "id": "ef76bc5a",
   "metadata": {},
   "source": [
    "Q9.How do you distinguish between a wrapper, a wrapped feature, and a decorator?"
   ]
  },
  {
   "cell_type": "markdown",
   "id": "6cfe6c7f",
   "metadata": {},
   "source": [
    "Answer- A wrapper, a wrapped feature, and a decorator are all same. They can be thought of as functions which modify the functionality of another function. They help to make your code shorter and more \"Pythonic\"."
   ]
  },
  {
   "cell_type": "markdown",
   "id": "642a5ad7",
   "metadata": {},
   "source": [
    "Q10.If a function is a generator function, what does it return?"
   ]
  },
  {
   "cell_type": "markdown",
   "id": "ea25ad24",
   "metadata": {},
   "source": [
    "Answer- A generator function in Python does not return a specific value in the conventional sense. Instead, it yields a sequence of values using the yield keyword.\n",
    "\n",
    "When a generator function is called, it returns a generator object. This generator object can be iterated over using a for loop or by explicitly calling the next() function on it. Each time the generator's yield statement is encountered, it suspends its execution and produces the yielded value as the next item in the sequence. The generator retains its internal state, allowing it to resume execution from where it left off when next() is called again."
   ]
  },
  {
   "cell_type": "code",
   "execution_count": 9,
   "id": "04274efe",
   "metadata": {},
   "outputs": [
    {
     "name": "stdout",
     "output_type": "stream",
     "text": [
      "0\n",
      "1\n",
      "2\n",
      "3\n",
      "4\n"
     ]
    }
   ],
   "source": [
    "def number_generator(n):\n",
    "    for i in range(n):\n",
    "        yield i\n",
    "\n",
    "# Create a generator object\n",
    "gen = number_generator(5)\n",
    "\n",
    "# Iterate over the generator using a for loop\n",
    "for num in gen:\n",
    "    print(num)\n"
   ]
  },
  {
   "cell_type": "markdown",
   "id": "0c97265b",
   "metadata": {},
   "source": [
    "Q11.What is the one improvement that must be made to a function in order for it to become a\n",
    "generator function in the Python language?"
   ]
  },
  {
   "cell_type": "markdown",
   "id": "7e965c18",
   "metadata": {},
   "source": [
    "Answer- The key improvement needed to turn a regular function into a generator function in Python is to replace the return statements with yield statements.\n",
    "\n",
    "When a function encounters a yield statement, it becomes a generator function. The yield statement allows the function to yield a value and suspend its execution, preserving its internal state. The function can be resumed later, picking up from where it left off."
   ]
  },
  {
   "cell_type": "code",
   "execution_count": 10,
   "id": "06b5e711",
   "metadata": {},
   "outputs": [],
   "source": [
    "def generate_numbers(n):\n",
    "    for i in range(n):\n",
    "        yield i\n"
   ]
  },
  {
   "cell_type": "markdown",
   "id": "39d234db",
   "metadata": {},
   "source": [
    "Q12.Identify at least one benefit of generators."
   ]
  },
  {
   "cell_type": "markdown",
   "id": "1f2d208b",
   "metadata": {},
   "source": [
    "Answer- return statement sends a specified value back to its caller whereas yield statment can produce a sequence of values. We should use generator when we want to iterate over a sequence, but don’t want to store the entire sequence in memory."
   ]
  },
  {
   "cell_type": "code",
   "execution_count": null,
   "id": "1ce9d70b",
   "metadata": {},
   "outputs": [],
   "source": []
  },
  {
   "cell_type": "code",
   "execution_count": null,
   "id": "7056f946",
   "metadata": {},
   "outputs": [],
   "source": []
  },
  {
   "cell_type": "code",
   "execution_count": null,
   "id": "00a70559",
   "metadata": {},
   "outputs": [],
   "source": []
  },
  {
   "cell_type": "code",
   "execution_count": null,
   "id": "b70bdfbe",
   "metadata": {},
   "outputs": [],
   "source": []
  }
 ],
 "metadata": {
  "kernelspec": {
   "display_name": "Python 3 (ipykernel)",
   "language": "python",
   "name": "python3"
  },
  "language_info": {
   "codemirror_mode": {
    "name": "ipython",
    "version": 3
   },
   "file_extension": ".py",
   "mimetype": "text/x-python",
   "name": "python",
   "nbconvert_exporter": "python",
   "pygments_lexer": "ipython3",
   "version": "3.9.12"
  }
 },
 "nbformat": 4,
 "nbformat_minor": 5
}
