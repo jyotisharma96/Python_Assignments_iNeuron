{
 "cells": [
  {
   "cell_type": "markdown",
   "id": "6aae2c9f",
   "metadata": {},
   "source": [
    "Q1. If you have any, what are your choices for increasing the comparison between different figures on\n",
    "the same graph?"
   ]
  },
  {
   "cell_type": "markdown",
   "id": "13d9aa2b",
   "metadata": {},
   "source": [
    "Answer- When comparing different figures on the same graph, there are several choices you can consider to increase the comparison and make the distinctions more pronounced:\n",
    "\n",
    "1. Adjust the scaling or limits: Modify the scaling or limits of the graph axes to better highlight the differences between the figures. You can manually set the minimum and maximum values of the axes to emphasize variations in the data. This can be achieved using functions like plt.xlim() and plt.ylim() in Matplotlib.\n",
    "\n",
    "\n",
    "2. Use different colors or markers: Assign distinct colors or markers to each figure to make them visually distinguishable. By using a color palette with contrasting colors or a combination of solid and dashed lines, you can enhance the visibility of individual figures within the graph. Matplotlib provides various customization options for colors and markers.\n",
    "\n",
    "\n",
    "3. Add labels or annotations: Include labels or annotations for each figure to provide additional information and aid in identification. You can label the figures directly on the graph using functions like plt.text() in Matplotlib, or you can add a legend to the graph to associate labels with specific figures.\n",
    "\n",
    "\n",
    "4. Adjust line styles or widths: Vary the line styles or widths of the figures to differentiate them visually. For example, you can use thicker lines or dashed lines for certain figures to make them stand out from others. Matplotlib offers options to customize line styles and widths.\n",
    "\n",
    "\n",
    "5. Utilize subplots or multiple axes: If the figures are complex or have different scales, consider using subplots or multiple axes within a single graph. This allows you to present each figure separately or with its own scale, facilitating direct comparison.\n",
    "\n",
    "\n",
    "6. Normalize the data: If the figures have different scales or ranges, you can normalize the data to a common scale for fairer comparisons. This can be done by dividing the values by the maximum or using techniques like z-score normalization. Normalizing the data can help align the figures and emphasize their relative differences.\n",
    "\n"
   ]
  },
  {
   "cell_type": "markdown",
   "id": "2c2defed",
   "metadata": {},
   "source": [
    "Q2. Can you explain the benefit of compound interest over a higher rate of interest that does not\n",
    "compound after reading this chapter?"
   ]
  },
  {
   "cell_type": "markdown",
   "id": "530b3653",
   "metadata": {},
   "source": [
    "Answer- Compound interest makes your money grow faster because interest is calculated on the accumulated interest over time as well as on your original principal. Compounding can create a snowball effect, as the original investments plus the income earned from those investments grow together."
   ]
  },
  {
   "cell_type": "markdown",
   "id": "37c1763b",
   "metadata": {},
   "source": [
    "Q3. What is a histogram, exactly? Name a numpy method for creating such a graph."
   ]
  },
  {
   "cell_type": "markdown",
   "id": "cb948273",
   "metadata": {},
   "source": [
    "Answer- A histogram is a graphical representation of the distribution of a dataset. It displays the frequency or count of observations falling into different predefined intervals or \"bins\" along the x-axis, with the height of each bar indicating the number of observations within that bin.\n",
    "\n",
    "In a histogram, the x-axis represents the range of values in the dataset, divided into bins or intervals, while the y-axis represents the frequency or count of observations falling within each bin.\n",
    "\n",
    "NumPy provides a method called numpy.histogram() for creating a histogram graph. This method takes an array of data and returns the frequency counts and bin edges necessary for creating a histogram. The resulting histogram can then be visualized using plotting libraries such as Matplotlib."
   ]
  },
  {
   "cell_type": "code",
   "execution_count": 1,
   "id": "5166d650",
   "metadata": {},
   "outputs": [
    {
     "data": {
      "image/png": "[encoded data removed]",
      "text/plain": [
       "<Figure size 432x288 with 1 Axes>"
      ]
     },
     "metadata": {
      "needs_background": "light"
     },
     "output_type": "display_data"
    }
   ],
   "source": [
    "import numpy as np\n",
    "import matplotlib.pyplot as plt\n",
    "\n",
    "# Generate some random data\n",
    "data = np.random.randn(1000)\n",
    "\n",
    "# Create histogram\n",
    "hist, bins = np.histogram(data, bins=10)\n",
    "\n",
    "# Plot histogram\n",
    "plt.hist(data, bins=10)\n",
    "\n",
    "# Show the plot\n",
    "plt.show()\n"
   ]
  },
  {
   "cell_type": "markdown",
   "id": "2dbbb603",
   "metadata": {},
   "source": [
    "Q4. If necessary, how do you change the aspect ratios between the X and Y axes?"
   ]
  },
  {
   "cell_type": "markdown",
   "id": "f131737a",
   "metadata": {},
   "source": [
    "Answer- We can use figure(figsize=(10,8)) function inside the matplot.pyplot library which we scale down or up the graph.\n",
    "\n",
    "figure(figsize=(10,8))"
   ]
  },
  {
   "cell_type": "markdown",
   "id": "8e7f6d8d",
   "metadata": {},
   "source": [
    "Q5. Compare and contrast the three types of array multiplication between two numpy arrays: dot\n",
    "product, outer product, and regular multiplication of two numpy arrays."
   ]
  },
  {
   "cell_type": "markdown",
   "id": "2bcff2b4",
   "metadata": {},
   "source": [
    "Answer- The three types of array multiplication between two NumPy arrays are the dot product, outer product, and regular element-wise multiplication. Here's a comparison and contrast of these operations:\n",
    "\n",
    "A. Dot Product:\n",
    "\n",
    "1. The dot product, represented by numpy.dot() or the @ operator, calculates the matrix product or inner product between two arrays.\n",
    "\n",
    "2. It requires the shapes of the two arrays to be compatible for matrix multiplication, with the number of columns in the first array matching the number of rows in the second array.\n",
    "\n",
    "3. The result of the dot product is a single value or a 1-dimensional array if the input arrays are multi-dimensional.\n",
    "\n",
    "4. The dot product combines the corresponding elements of the arrays and sums their products, resulting in a scalar or a 1-dimensional array.\n",
    "\n",
    "5. It is used for operations such as matrix multiplication, vector operations, and computing projections."
   ]
  },
  {
   "cell_type": "code",
   "execution_count": 2,
   "id": "d80c13cf",
   "metadata": {},
   "outputs": [
    {
     "name": "stdout",
     "output_type": "stream",
     "text": [
      "32\n"
     ]
    }
   ],
   "source": [
    "import numpy as np\n",
    "\n",
    "a = np.array([1, 2, 3])\n",
    "b = np.array([4, 5, 6])\n",
    "\n",
    "dot_product = np.dot(a, b)\n",
    "\n",
    "print(dot_product)\n"
   ]
  },
  {
   "cell_type": "markdown",
   "id": "fbb41c0d",
   "metadata": {},
   "source": [
    "B. Outer Product:\n",
    "\n",
    "1. The outer product, represented by numpy.outer(), calculates the tensor product or outer product between two arrays.\n",
    "\n",
    "2. It multiplies each element of the first array with each element of the second array to produce a new array.\n",
    "\n",
    "3. The resulting array has a shape determined by the outer product of the input arrays' shapes.\n",
    "\n",
    "4. The outer product is used to compute the Cartesian product of two arrays or to generate matrices for linear transformations."
   ]
  },
  {
   "cell_type": "code",
   "execution_count": 3,
   "id": "5736ca97",
   "metadata": {},
   "outputs": [
    {
     "name": "stdout",
     "output_type": "stream",
     "text": [
      "[[ 4  5  6]\n",
      " [ 8 10 12]\n",
      " [12 15 18]]\n"
     ]
    }
   ],
   "source": [
    "import numpy as np\n",
    "\n",
    "a = np.array([1, 2, 3])\n",
    "b = np.array([4, 5, 6])\n",
    "\n",
    "outer_product = np.outer(a, b)\n",
    "\n",
    "print(outer_product)\n"
   ]
  },
  {
   "cell_type": "markdown",
   "id": "3625c7c2",
   "metadata": {},
   "source": [
    "C. Regular Element-wise Multiplication:\n",
    "\n",
    "1. Regular element-wise multiplication, represented by the * operator or numpy.multiply(), multiplies corresponding elements of two arrays.\n",
    "\n",
    "2. The arrays must have the same shape or be broadcastable for element-wise multiplication.\n",
    "\n",
    "3. The result is a new array with the same shape as the input arrays.\n",
    "\n",
    "4. Regular multiplication is used to perform element-wise operations such as scaling, element-wise product, or element-wise exponentiation."
   ]
  },
  {
   "cell_type": "code",
   "execution_count": 4,
   "id": "4b101517",
   "metadata": {},
   "outputs": [
    {
     "name": "stdout",
     "output_type": "stream",
     "text": [
      "[ 4 10 18]\n"
     ]
    }
   ],
   "source": [
    "import numpy as np\n",
    "\n",
    "a = np.array([1, 2, 3])\n",
    "b = np.array([4, 5, 6])\n",
    "\n",
    "elementwise_product = np.multiply(a, b)\n",
    "\n",
    "print(elementwise_product)\n"
   ]
  },
  {
   "cell_type": "markdown",
   "id": "0b27c28d",
   "metadata": {},
   "source": [
    "Q6. Before you buy a home, which numpy function will you use to measure your monthly mortgage\n",
    "payment?"
   ]
  },
  {
   "cell_type": "markdown",
   "id": "404e0fc0",
   "metadata": {},
   "source": [
    "Answer- To calculate your monthly mortgage payment before buying a home using NumPy, you would typically use the numpy.pmt() function. The numpy.pmt() function is used to compute the fixed monthly payment required to pay off a loan or mortgage with a fixed interest rate over a specified number of periods.\n"
   ]
  },
  {
   "cell_type": "markdown",
   "id": "d7404c69",
   "metadata": {},
   "source": [
    "In the numpy, np.pmt(rate, nper, pv) function we will be using in order to calculate monthly mortgage payment before you purchase a house.\n",
    "\n",
    "rate = The periodic interest rate\n",
    "\n",
    "nper = The number of payment periods\n",
    "\n",
    "pv = The total value of the mortgage loan."
   ]
  },
  {
   "cell_type": "markdown",
   "id": "69b5549b",
   "metadata": {},
   "source": [
    "Q7. Can string data be stored in numpy arrays? If so, list at least one restriction that applies to this\n",
    "data."
   ]
  },
  {
   "cell_type": "markdown",
   "id": "75fda35b",
   "metadata": {},
   "source": [
    "Answer- Yes an array can store the string.The limitation which imposed on the string data is, whenever we store the data of string dtype then it should should keep in mind that the string which is having the maximum length is\n",
    "the limit.\n",
    "\n",
    "The dtype value is the maximum length of a string in such data. Meaning suppose if any new string we wanted to add, then we can add only that string which have the length either equal to that dtype value or less than that. If any string which are adding and if its length is more than the dtype value then it will only accept to maximum length and rest of the characters will not be included."
   ]
  },
  {
   "cell_type": "code",
   "execution_count": null,
   "id": "0680a3cd",
   "metadata": {},
   "outputs": [],
   "source": [
    "\n"
   ]
  },
  {
   "cell_type": "code",
   "execution_count": null,
   "id": "870a97d2",
   "metadata": {},
   "outputs": [],
   "source": []
  },
  {
   "cell_type": "code",
   "execution_count": null,
   "id": "2aa9af34",
   "metadata": {},
   "outputs": [],
   "source": []
  }
 ],
 "metadata": {
  "kernelspec": {
   "display_name": "Python 3 (ipykernel)",
   "language": "python",
   "name": "python3"
  },
  "language_info": {
   "codemirror_mode": {
    "name": "ipython",
    "version": 3
   },
   "file_extension": ".py",
   "mimetype": "text/x-python",
   "name": "python",
   "nbconvert_exporter": "python",
   "pygments_lexer": "ipython3",
   "version": "3.9.12"
  }
 },
 "nbformat": 4,
 "nbformat_minor": 5
}
