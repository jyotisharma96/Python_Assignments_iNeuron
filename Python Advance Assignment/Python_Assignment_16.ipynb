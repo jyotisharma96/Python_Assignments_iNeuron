{
 "cells": [
  {
   "cell_type": "markdown",
   "id": "4a0b371b",
   "metadata": {},
   "source": [
    "Q1.What is the benefit of regular expressions?"
   ]
  },
  {
   "cell_type": "markdown",
   "id": "65bba08f",
   "metadata": {},
   "source": [
    "Answer- Regular Expressions, also known as regex or regexp, are used to match strings of text such as particular characters, words, or patterns of characters. It means that we can match and extract any string pattern from the text with the help of regular expressions. it helps the programmers to Write less and cleaner code. it also avoids multiple use of if/else statements."
   ]
  },
  {
   "cell_type": "markdown",
   "id": "dc884ca9",
   "metadata": {},
   "source": [
    "Q2.Describe the difference between the effects of &quot;(ab)c+&quot; and &quot;a(bc)+.&quot; Which of these, if any, is the\n",
    "unqualified pattern &quot;abc+&quot;?"
   ]
  },
  {
   "cell_type": "markdown",
   "id": "b6e9afb4",
   "metadata": {},
   "source": [
    "Answer- Pattern (ab)c+ will search for at only one occurence of \"ab\" and one or more occurances of c.\n",
    "\n",
    "Pattern a(bc)+ will search for at only one occurence of \"a\" and one or more occurances of bc.\n",
    "\n",
    "pattern (ab)c+ can be unqualified pattern \"abc+\""
   ]
  },
  {
   "cell_type": "code",
   "execution_count": 1,
   "id": "82907c96",
   "metadata": {},
   "outputs": [
    {
     "name": "stdout",
     "output_type": "stream",
     "text": [
      "abcccccc\n",
      "abcbc\n"
     ]
    }
   ],
   "source": [
    "import re\n",
    "\n",
    "match1 = re.search(r'(ab)c+',\"abcccccc\")\n",
    "match2 = re.search(r'a(bc)+',\"abcbc\")\n",
    "\n",
    "print(match1.group())\n",
    "\n",
    "print(match2.group())"
   ]
  },
  {
   "cell_type": "markdown",
   "id": "e0456661",
   "metadata": {},
   "source": [
    "Q3.How much do you need to use the following sentence while using regular expressions?\n",
    "\n",
    "\n",
    "import re"
   ]
  },
  {
   "cell_type": "markdown",
   "id": "b3e85cde",
   "metadata": {},
   "source": [
    "Answer- The sentence \"import re\" is typically used at the beginning of a Python script or module when you want to utilize regular expressions. It imports the \"re\" module, which is the standard library module in Python for working with regular expressions.\n",
    "\n",
    "Once you import the \"re\" module, you can access its functions and methods to perform various operations related to regular expressions, such as pattern matching, search, replace, and more."
   ]
  },
  {
   "cell_type": "markdown",
   "id": "bacf6fc4",
   "metadata": {},
   "source": [
    "Q4.Which characters have special significance in square brackets when expressing a range, and\n",
    "under what circumstances?"
   ]
  },
  {
   "cell_type": "markdown",
   "id": "7e9ffeda",
   "metadata": {},
   "source": [
    "Answer- The Characters ., *, ?, ^, or, (), have a special signiface when used with square brackets. They need not be be explicitly escaped by \\ as in case of pattern texts in a raw string."
   ]
  },
  {
   "cell_type": "markdown",
   "id": "35a6888f",
   "metadata": {},
   "source": [
    "Q5.How does compiling a regular-expression object benefit you?"
   ]
  },
  {
   "cell_type": "markdown",
   "id": "fcf079d9",
   "metadata": {},
   "source": [
    "Answer- It is faster compared to using pattern ad other re functions."
   ]
  },
  {
   "cell_type": "markdown",
   "id": "c4ed0486",
   "metadata": {},
   "source": [
    "Q6.What are some examples of how to use the match object returned by re.match and re.search?"
   ]
  },
  {
   "cell_type": "markdown",
   "id": "2742a64d",
   "metadata": {},
   "source": [
    "Answer- re.search() searches for the whole string even if the string contains multi-lines and tries to find a match of the substring in all the lines of string\n",
    "\n",
    "re.match() searches only from the beginning of the string and return match object if found. But if a match of substring is found somewhere in the middle of the string, it returns none.\n",
    "\n",
    "Both search() and match() returns only the first occurance of pattern."
   ]
  },
  {
   "cell_type": "code",
   "execution_count": 2,
   "id": "b868f52d",
   "metadata": {},
   "outputs": [
    {
     "name": "stdout",
     "output_type": "stream",
     "text": [
      "<re.Match object; span=(0, 7), match='Ineuron'>\n",
      "None\n"
     ]
    }
   ],
   "source": [
    "import re\n",
    "\n",
    "pattern = 'ineuron'\n",
    "\n",
    "search = re.search(pattern,\"Ineuron is the best coaching class ineuron!\",re.IGNORECASE)\n",
    "\n",
    "print(search)\n",
    "\n",
    "match = re.match(pattern,\"The best coaching class is Ineuron!\",re.IGNORECASE)\n",
    "\n",
    "print(match)"
   ]
  },
  {
   "cell_type": "markdown",
   "id": "e230f202",
   "metadata": {},
   "source": [
    "Q7.What is the difference between using a vertical bar (|) as an alteration and using square brackets\n",
    "as a character set?"
   ]
  },
  {
   "cell_type": "markdown",
   "id": "c3d8d189",
   "metadata": {},
   "source": [
    "Answer- \n",
    "\n",
    "| : is regex or. It will check either of any string is present in search string.\n",
    "\n",
    "[] : This will search for any character is present in string"
   ]
  },
  {
   "cell_type": "code",
   "execution_count": 3,
   "id": "2778bed1",
   "metadata": {},
   "outputs": [
    {
     "name": "stdout",
     "output_type": "stream",
     "text": [
      "['She']\n",
      "['she is great human!']\n"
     ]
    }
   ],
   "source": [
    "import re\n",
    "\n",
    "print(re.findall(\"She|he\", \"She is a great human!\"))\n",
    "\n",
    "print(re.findall(r'[^\\d]+',\"she is great human!\"))"
   ]
  },
  {
   "cell_type": "markdown",
   "id": "fce2e46d",
   "metadata": {},
   "source": [
    "Q8.In regular-expression search patterns, why is it necessary to use the raw-string indicator (r)? In  replacement strings?"
   ]
  },
  {
   "cell_type": "markdown",
   "id": "4081184f",
   "metadata": {},
   "source": [
    "Answer- In regular expression search patterns, using the raw-string indicator (r) is not strictly necessary but is considered a good practice. The raw-string indicator (r) is used to create a raw string literal, which treats backslashes (\\) as literal characters rather than escape characters.\n",
    "\n",
    "When defining regular expression patterns, there are certain escape sequences that use backslashes (\\) to represent special characters. For example, \\d represents any digit, \\w represents any alphanumeric character, \\s represents any whitespace character, etc. If you don't use a raw string literal, Python's string processing will interpret the backslashes and apply escape sequence replacements before the regular expression engine sees the pattern. This can lead to unintended behavior and incorrect patterns.\n",
    "\n",
    "By using the raw-string indicator (r), you instruct Python to treat the string as a raw string literal, ignoring any escape sequences. This ensures that the regular expression engine receives the pattern exactly as it is defined, without any unexpected modifications."
   ]
  },
  {
   "cell_type": "code",
   "execution_count": null,
   "id": "e2ac2401",
   "metadata": {},
   "outputs": [],
   "source": []
  },
  {
   "cell_type": "code",
   "execution_count": null,
   "id": "b559f75d",
   "metadata": {},
   "outputs": [],
   "source": []
  },
  {
   "cell_type": "code",
   "execution_count": null,
   "id": "b119a9f2",
   "metadata": {},
   "outputs": [],
   "source": []
  }
 ],
 "metadata": {
  "kernelspec": {
   "display_name": "Python 3 (ipykernel)",
   "language": "python",
   "name": "python3"
  },
  "language_info": {
   "codemirror_mode": {
    "name": "ipython",
    "version": 3
   },
   "file_extension": ".py",
   "mimetype": "text/x-python",
   "name": "python",
   "nbconvert_exporter": "python",
   "pygments_lexer": "ipython3",
   "version": "3.9.12"
  }
 },
 "nbformat": 4,
 "nbformat_minor": 5
}
