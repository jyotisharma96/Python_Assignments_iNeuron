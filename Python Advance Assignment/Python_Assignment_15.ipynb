{
 "cells": [
  {
   "cell_type": "markdown",
   "id": "6ba50cd0",
   "metadata": {},
   "source": [
    "1.What are the new features added in Python 3.8 version?"
   ]
  },
  {
   "cell_type": "markdown",
   "id": "5dd29a9f",
   "metadata": {},
   "source": [
    "Answer- Python 3.8 introduced several new features and improvements. Some of the key features added in Python 3.8 are:\n",
    "\n",
    "1. Assignment Expressions (the Walrus Operator): Python 3.8 introduced the : = operator, also known as the \"walrus operator.\" It allows you to assign values to variables as part of an expression. This feature is particularly useful in conditional statements and while-loop conditions.\n",
    "\n",
    "\n",
    "2. Positional-Only Parameters: Python 3.8 introduced the ability to define function parameters as \"positional-only,\" using the / separator. This allows you to enforce that certain arguments must be passed positionally and cannot be passed as keyword arguments.\n",
    "\n",
    "\n",
    "3. f-strings = faster: Python 3.8 optimized the performance of f-strings, making them significantly faster than before. This improvement enhances the speed of string formatting operations.\n",
    "\n",
    "\n",
    "4. Improved Syntax Warnings: Python 3.8 introduced more informative and helpful syntax warnings. These warnings provide better insights into potential syntax errors or deprecated features, assisting developers in writing cleaner and more maintainable code.\n",
    "\n",
    "\n",
    "5. New Syntax for Type Hints: Python 3.8 introduced the TypedDict type hint, which allows you to define dictionaries with specific key-value types. It also introduced the Literal type hint, which allows you to specify a literal value as a type.\n",
    "\n",
    "\n",
    "6. Parallel File System Cache for import: In Python 3.8, the import system was improved to utilize a parallel file system cache. This enhances the performance of importing modules, particularly in scenarios with many modules or large codebases.\n",
    "\n",
    "\n",
    "7. Syntax for Type Hinting Generics: Python 3.8 introduced improved syntax for type hinting generics, making it easier to work with generic types and collections.\n"
   ]
  },
  {
   "cell_type": "markdown",
   "id": "2e49e83d",
   "metadata": {},
   "source": [
    "2.What is monkey patching in Python?"
   ]
  },
  {
   "cell_type": "markdown",
   "id": "5b9cf44a",
   "metadata": {},
   "source": [
    "Answer- Monkey patching in Python refers to the practice of modifying or extending the behavior of an existing module, class, or object at runtime, without altering its original source code. It allows you to add, replace, or modify attributes, methods, or functionality dynamically.\n",
    "\n",
    "The term \"monkey patching\" comes from the idea that you are making changes to the code at runtime, similar to a monkey manipulating objects."
   ]
  },
  {
   "cell_type": "code",
   "execution_count": 1,
   "id": "18d2b231",
   "metadata": {},
   "outputs": [
    {
     "name": "stdout",
     "output_type": "stream",
     "text": [
      "Original method\n",
      "New method\n"
     ]
    }
   ],
   "source": [
    "# Original class definition\n",
    "class MyClass:\n",
    "    def original_method(self):\n",
    "        print(\"Original method\")\n",
    "\n",
    "# Monkey patching to add a new method\n",
    "def new_method(self):\n",
    "    print(\"New method\")\n",
    "\n",
    "MyClass.new_method = new_method\n",
    "\n",
    "# Create an instance and call the original and new methods\n",
    "obj = MyClass()\n",
    "obj.original_method()  \n",
    "obj.new_method()       \n"
   ]
  },
  {
   "cell_type": "markdown",
   "id": "e30094b7",
   "metadata": {},
   "source": [
    "In this example, we have a class MyClass with an original_method. We then define a new function new_method and assign it as an attribute to the class MyClass at runtime using monkey patching. As a result, instances of MyClass gain access to the newly added new_method, even though it was not defined in the original class.\n",
    "\n",
    "Monkey patching can be useful in certain situations, such as adding functionality to existing classes or fixing issues in third-party libraries without modifying their source code. However, it is important to use monkey patching judiciously, as it can make code harder to understand, maintain, and debug if misused."
   ]
  },
  {
   "cell_type": "markdown",
   "id": "6b295ba2",
   "metadata": {},
   "source": [
    "3.What is the difference between a shallow copy and deep copy?"
   ]
  },
  {
   "cell_type": "markdown",
   "id": "f4a9ac11",
   "metadata": {},
   "source": [
    "Answer- The difference between a shallow copy and a deep copy lies in how they handle nested objects or collections when creating a copy of an object.\n",
    "\n",
    "1. Shallow Copy: A shallow copy creates a new object but references the same nested objects or collections present in the original object. In other words, it creates a new object, but the nested objects themselves are not copied. Changes made to the nested objects in the copy will also be reflected in the original object and vice versa. Shallow copy is the default behavior for most Python objects."
   ]
  },
  {
   "cell_type": "code",
   "execution_count": 2,
   "id": "4375a8a7",
   "metadata": {},
   "outputs": [
    {
     "name": "stdout",
     "output_type": "stream",
     "text": [
      "[1, 2, [5, 4]]\n",
      "[1, 2, [5, 4]]\n"
     ]
    }
   ],
   "source": [
    "import copy\n",
    "\n",
    "list1 = [1, 2, [3, 4]]\n",
    "list2 = copy.copy(list1)\n",
    "\n",
    "list2[2][0] = 5\n",
    "\n",
    "print(list1)  \n",
    "print(list2)  \n"
   ]
  },
  {
   "cell_type": "markdown",
   "id": "363087a2",
   "metadata": {},
   "source": [
    "2. Deep Copy: A deep copy creates a new object and recursively copies all nested objects or collections present in the original object. In other words, it creates an independent copy of the original object and all its nested objects. Changes made to the nested objects in the copy will not affect the original object, and vice versa."
   ]
  },
  {
   "cell_type": "code",
   "execution_count": 4,
   "id": "2ebfece1",
   "metadata": {},
   "outputs": [
    {
     "name": "stdout",
     "output_type": "stream",
     "text": [
      "[1, 2, [3, 4]]\n",
      "[1, 2, [5, 4]]\n"
     ]
    }
   ],
   "source": [
    "import copy\n",
    "\n",
    "list1 = [1, 2, [3, 4]]\n",
    "list2 = copy.deepcopy(list1)\n",
    "\n",
    "list2[2][0] = 5\n",
    "\n",
    "print(list1)  \n",
    "print(list2)  \n"
   ]
  },
  {
   "cell_type": "markdown",
   "id": "108067a5",
   "metadata": {},
   "source": [
    "4.What is the maximum possible length of an identifier?"
   ]
  },
  {
   "cell_type": "markdown",
   "id": "7bdd287b",
   "metadata": {},
   "source": [
    "Answer- In Python, the maximum possible length of an identifier is not explicitly defined or limited by the language specification. However, the practical limit is typically determined by the system's memory constraints and the maximum string length supported by the underlying implementation."
   ]
  },
  {
   "cell_type": "markdown",
   "id": "78b99270",
   "metadata": {},
   "source": [
    "5.What is generator comprehension?"
   ]
  },
  {
   "cell_type": "markdown",
   "id": "0c145492",
   "metadata": {},
   "source": [
    "Answer- Generator comprehension is a concise way to create a generator object in Python using a single line of code. It is similar to list comprehension but produces a generator instead of a list. Generator comprehension allows you to generate values on the fly, without storing them all in memory at once.\n",
    "\n",
    "The syntax for generator comprehension is similar to list comprehension, but instead of enclosing the expression in square brackets [ ], it is enclosed in parentheses ( ). Additionally, it uses the same comprehension syntax with the for loop and optional if condition."
   ]
  },
  {
   "cell_type": "code",
   "execution_count": 5,
   "id": "2782a1b2",
   "metadata": {},
   "outputs": [
    {
     "name": "stdout",
     "output_type": "stream",
     "text": [
      "[0, 1, 2, 3, 4]\n",
      "<generator object <genexpr> at 0x0000019FB8DEAF20>\n",
      "0\n",
      "1\n",
      "2\n",
      "3\n",
      "4\n"
     ]
    }
   ],
   "source": [
    "# List Comprehension\n",
    "my_list = [x for x in range(5)]\n",
    "print(my_list)  # Output: [0, 1, 2, 3, 4]\n",
    "\n",
    "# Generator Comprehension\n",
    "my_generator = (x for x in range(5))\n",
    "print(my_generator)  # Output: <generator object <genexpr> at 0x000001>\n",
    "\n",
    "# Iterating over the generator\n",
    "for num in my_generator:\n",
    "    print(num)  # Output: 0, 1, 2, 3, 4\n"
   ]
  },
  {
   "cell_type": "markdown",
   "id": "6efadc0f",
   "metadata": {},
   "source": [
    "Generator comprehension is memory-efficient because it generates values on-demand as you iterate over it, rather than creating and storing all values in memory at once like a list comprehension. This makes it useful when dealing with large datasets or when you only need to iterate over the values once."
   ]
  },
  {
   "cell_type": "code",
   "execution_count": null,
   "id": "10d7a88a",
   "metadata": {},
   "outputs": [],
   "source": []
  }
 ],
 "metadata": {
  "kernelspec": {
   "display_name": "Python 3 (ipykernel)",
   "language": "python",
   "name": "python3"
  },
  "language_info": {
   "codemirror_mode": {
    "name": "ipython",
    "version": 3
   },
   "file_extension": ".py",
   "mimetype": "text/x-python",
   "name": "python",
   "nbconvert_exporter": "python",
   "pygments_lexer": "ipython3",
   "version": "3.9.12"
  }
 },
 "nbformat": 4,
 "nbformat_minor": 5
}
