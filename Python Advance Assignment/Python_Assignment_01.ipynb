{
 "cells": [
  {
   "cell_type": "markdown",
   "id": "e4011685",
   "metadata": {},
   "source": [
    "Q1.What is the purpose of Python&#39;s OOP?"
   ]
  },
  {
   "cell_type": "markdown",
   "id": "62216b5a",
   "metadata": {},
   "source": [
    "The purpose of Python's object-oriented programming (OOP) is to provide a powerful and flexible programming paradigm for organizing and structuring code. OOP allows you to design and implement complex systems by representing real-world objects, their properties, and their interactions through the use of classes and objects. Here are some key purposes and benefits of OOP in Python:\n",
    "\n",
    "1. OOP promotes modularity by encapsulating related data and functionality into objects. Objects can be created based on reusable classes, allowing you to create instances with similar behavior and attributes. This modularity and reusability make it easier to build and maintain large codebases and encourages code organization.\n",
    "\n",
    "\n",
    "2. OOP allows you to create abstract models that hide complex implementation details. Classes encapsulate data (attributes) and operations (methods) into a single unit, providing a clean interface for interacting with objects. Encapsulation protects data from direct access, ensuring that it is accessed and modified through controlled interfaces, enhancing code security and maintainability.\n",
    "\n",
    "\n",
    "3. Inheritance allows you to create new classes (derived or child classes) based on existing classes (base or parent classes), inheriting their attributes and methods. This promotes code reuse and helps to establish an \"is-a\" relationship between objects. Polymorphism allows objects of different classes to be treated uniformly, providing flexibility and extensibility.\n",
    "\n",
    "\n",
    "4. OOP enables you to structure code into logical units (classes and objects), making it easier to understand, navigate, and maintain. By dividing functionality into separate classes, each responsible for a specific task, you can achieve better organization, separation of concerns, and improved readability.\n",
    "\n",
    "\n",
    "5. OOP facilitates collaboration among developers working on the same project. By defining classes and their interfaces, different team members can work on different components independently and integrate them seamlessly later. OOP also enables code libraries and frameworks to be developed, providing reusable components for other developers to utilize.\n",
    "\n",
    "\n",
    "6. OOP allows for flexible and extensible code through mechanisms like inheritance and polymorphism. You can easily extend existing classes to create new ones or modify their behavior without affecting the rest of the codebase. This flexibility enables code adaptability to changing requirements and promotes code evolution.\n"
   ]
  },
  {
   "cell_type": "markdown",
   "id": "d380b79e",
   "metadata": {},
   "source": [
    "Q2.Where does an inheritance search look for an attribute?"
   ]
  },
  {
   "cell_type": "markdown",
   "id": "c7fc4c2c",
   "metadata": {},
   "source": [
    "Answer- When a program tries to access an attribute of an object in Python, the inheritance search looks for the attribute in the following order:\n",
    "\n",
    "1. The instance itself: If the attribute is directly defined in the instance (object), it will be found and used immediately. The search stops at this point.\n",
    "\n",
    "\n",
    "2. The instance's class: If the attribute is not found in the instance, Python looks for the attribute in the class of the instance. This includes both instance variables and class variables. If found, it is used, and the search stops.\n",
    "\n",
    "\n",
    "3. Parent classes and their ancestors: If the attribute is not found in the instance or its class, Python continues the search in the parent classes and their ancestors in the order they are defined. This process continues until the attribute is found or until the search exhausts all available classes in the inheritance hierarchy.\n",
    "\n",
    "\n",
    "This search order is often referred to as the \"Method Resolution Order\" (MRO), and it follows a depth-first, left-to-right approach. It ensures that attributes are inherited and overridden correctly in the presence of multiple inheritan"
   ]
  },
  {
   "cell_type": "markdown",
   "id": "d159d027",
   "metadata": {},
   "source": [
    "Q3.How do you distinguish between a class object and an instance object?"
   ]
  },
  {
   "cell_type": "markdown",
   "id": "e13a719f",
   "metadata": {},
   "source": [
    "Answer- Objects and Instances are almost similar and are often used interchangeably but with a small difference. Object is a generic term , it is physically present but remains undiferrentiated. Instance is something that gives them a separate identity.\n",
    "\n",
    "Object is the physical entity for which memory is allocated. Object contains many instances.\n",
    "\n",
    "Instance : An instance is also the physical manifestation of a class that occupies memory and has data members.\n",
    "\n",
    "e.g. There is Class car, when I create c = car(), c is object. When we create different object with different specifications(car name, type, company) such as i10, i20, Creta, audi7 are called as instances which actually exists."
   ]
  },
  {
   "cell_type": "code",
   "execution_count": 3,
   "id": "f8f9ac79",
   "metadata": {},
   "outputs": [
    {
     "name": "stdout",
     "output_type": "stream",
     "text": [
      "42\n",
      "This is a class method.\n"
     ]
    }
   ],
   "source": [
    "class MyClass:\n",
    "    class_attribute = 42\n",
    "\n",
    "    def class_method(self):\n",
    "        print(\"This is a class method.\")\n",
    "\n",
    "# Accessing class attributes and methods\n",
    "print(MyClass.class_attribute)\n",
    "MyClass.class_method(1)\n"
   ]
  },
  {
   "cell_type": "code",
   "execution_count": 4,
   "id": "dd768775",
   "metadata": {},
   "outputs": [
    {
     "name": "stdout",
     "output_type": "stream",
     "text": [
      "10\n",
      "This is an instance method.\n"
     ]
    }
   ],
   "source": [
    "class MyClass:\n",
    "    def __init__(self, value):\n",
    "        self.instance_attribute = value\n",
    "\n",
    "    def instance_method(self):\n",
    "        print(\"This is an instance method.\")\n",
    "\n",
    "# Creating instance objects\n",
    "obj1 = MyClass(10)\n",
    "obj2 = MyClass(20)\n",
    "\n",
    "# Accessing instance attributes and methods\n",
    "print(obj1.instance_attribute)\n",
    "obj1.instance_method()\n"
   ]
  },
  {
   "cell_type": "markdown",
   "id": "9686d5f3",
   "metadata": {},
   "source": [
    "Q4.What makes the first argument in a class’s method function special?"
   ]
  },
  {
   "cell_type": "markdown",
   "id": "9503f56d",
   "metadata": {},
   "source": [
    "Answer- In Python, the first argument in a class's method function is conventionally named self, although any valid variable name can be used. This argument is special because it refers to the instance object that the method is being called on. By convention, the first parameter of any instance method should always be self, although it is not a reserved keyword in Python.\n",
    "\n",
    "When a method is called on an instance object, the instance object itself is automatically passed as the first argument to the method. This allows the method to access and manipulate the instance's attributes and perform operations specific to that particular instance.\n",
    "\n",
    "The self parameter provides a way for instance methods to refer to the instance object within the method body. It allows you to access instance attributes using self.attribute_name syntax and call other instance methods using self.method_name()."
   ]
  },
  {
   "cell_type": "code",
   "execution_count": 5,
   "id": "9cd06213",
   "metadata": {},
   "outputs": [
    {
     "name": "stdout",
     "output_type": "stream",
     "text": [
      "Value: 42\n"
     ]
    }
   ],
   "source": [
    "class MyClass:\n",
    "    def __init__(self, value):\n",
    "        self.value = value\n",
    "\n",
    "    def print_value(self):\n",
    "        print(\"Value:\", self.value)\n",
    "\n",
    "# Creating an instance object\n",
    "obj = MyClass(42)\n",
    "\n",
    "# Calling an instance method\n",
    "obj.print_value()\n"
   ]
  },
  {
   "cell_type": "markdown",
   "id": "5d4ed583",
   "metadata": {},
   "source": [
    "self is used as the first parameter in both __init__() and print_value() methods. When the print_value() method is called on the instance obj, the instance obj is automatically passed as the self argument to the method. Inside the method, self.value refers to the value attribute of that particular instance.\n",
    "\n",
    "Using self as the first parameter is a convention that helps improve code readability and maintainability. It clearly indicates that the method is intended to be called on an instance object and allows for easy access to instance attributes and methods within the method body."
   ]
  },
  {
   "cell_type": "markdown",
   "id": "01821ba8",
   "metadata": {},
   "source": [
    "Q5.What is the purpose of the __init__ method?"
   ]
  },
  {
   "cell_type": "markdown",
   "id": "2cfb8cef",
   "metadata": {},
   "source": [
    "Answer- The __init__() method, also known as the initializer or constructor, is a special method in Python classes. Its purpose is to initialize and set up the initial state of an object (instance) when it is created from a class.\n",
    "\n",
    "When you create an instance of a class using the class name followed by parentheses, the __init__() method is automatically called on the newly created instance, with the instance itself (self) as the first argument. This allows you to perform any necessary setup or initialization operations specific to that instance."
   ]
  },
  {
   "cell_type": "markdown",
   "id": "73e01adc",
   "metadata": {},
   "source": [
    "Q6.What is the process for creating a class instance?"
   ]
  },
  {
   "cell_type": "markdown",
   "id": "a8562247",
   "metadata": {},
   "source": [
    "Answer- To create a class instance, we need to call the class by its name and pass the arguments to the class, which its init method accepts.\n",
    "\n",
    "Example: my_name = my_class(\"Rahul\",\"Anjali\").\n",
    "\n",
    "Here my_name is an instance of class my_class with attributes \"Rahul\" and \"Anjali\"."
   ]
  },
  {
   "cell_type": "markdown",
   "id": "b5df5198",
   "metadata": {},
   "source": [
    "Q7.What is the process for creating a class?"
   ]
  },
  {
   "cell_type": "markdown",
   "id": "4c20a682",
   "metadata": {},
   "source": [
    "Answer- class keyword is used to created a class in python. The syntax to create a class in python is class <classname>:"
   ]
  },
  {
   "cell_type": "code",
   "execution_count": 6,
   "id": "a670295a",
   "metadata": {},
   "outputs": [
    {
     "name": "stdout",
     "output_type": "stream",
     "text": [
      "This is Radha Rani (an instance of a class Student)\n"
     ]
    }
   ],
   "source": [
    "class Student:\n",
    "    def __init__(self,name):\n",
    "        self.name = name\n",
    "    \n",
    "    def __str__(self):\n",
    "        return f\"This is {self.name} (an instance of a class Student)\"\n",
    "    \n",
    "student1 = Student(\"Radha Rani\")       \n",
    "print(student1)"
   ]
  },
  {
   "cell_type": "markdown",
   "id": "b49754a2",
   "metadata": {},
   "source": [
    "Q8.How would you define the superclasses of a class?"
   ]
  },
  {
   "cell_type": "markdown",
   "id": "5a4e1e0d",
   "metadata": {},
   "source": [
    "Answer- A superclass is the class from which many subclasses can be created. The subclasses inherit the characteristics of a superclass. The superclass is also known as the parent class or base class."
   ]
  },
  {
   "cell_type": "code",
   "execution_count": 7,
   "id": "197d2653",
   "metadata": {},
   "outputs": [
    {
     "name": "stdout",
     "output_type": "stream",
     "text": [
      "this is method of class A\n",
      "this is method of class B\n",
      "this is method of class A\n",
      "this is method of class A\n",
      "this is method of class A\n"
     ]
    }
   ],
   "source": [
    "class A:\n",
    "    def method_A(self):\n",
    "        return \"this is method of class A\"\n",
    "    \n",
    "class B(A):\n",
    "    def method_B(self):\n",
    "        return \"this is method of class B\"\n",
    "\n",
    "class C(A):\n",
    "    def method_B(self):\n",
    "        return \"this is method of class C\"\n",
    "    \n",
    "class D(A):\n",
    "    def method_B(self):\n",
    "        return \"this is method of class D\"\n",
    "\n",
    "# Class B, C, D are subclasses and Class A is superclass    \n",
    "a = A()\n",
    "b = B()\n",
    "c = C()\n",
    "d = D()\n",
    "\n",
    "print(a.method_A())\n",
    "print(b.method_B())\n",
    "print(b.method_A())   # objects of class B, C and D are able to access method of class A because Class A is superclass. \n",
    "print(c.method_A())\n",
    "print(d.method_A())"
   ]
  },
  {
   "cell_type": "code",
   "execution_count": null,
   "id": "24d356ef",
   "metadata": {},
   "outputs": [],
   "source": []
  },
  {
   "cell_type": "code",
   "execution_count": null,
   "id": "cea77f18",
   "metadata": {},
   "outputs": [],
   "source": []
  },
  {
   "cell_type": "code",
   "execution_count": null,
   "id": "7d7c8289",
   "metadata": {},
   "outputs": [],
   "source": []
  }
 ],
 "metadata": {
  "kernelspec": {
   "display_name": "Python 3 (ipykernel)",
   "language": "python",
   "name": "python3"
  },
  "language_info": {
   "codemirror_mode": {
    "name": "ipython",
    "version": 3
   },
   "file_extension": ".py",
   "mimetype": "text/x-python",
   "name": "python",
   "nbconvert_exporter": "python",
   "pygments_lexer": "ipython3",
   "version": "3.9.12"
  }
 },
 "nbformat": 4,
 "nbformat_minor": 5
}
