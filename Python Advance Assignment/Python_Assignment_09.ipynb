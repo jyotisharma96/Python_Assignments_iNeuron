{
 "cells": [
  {
   "cell_type": "markdown",
   "id": "45d7c3c8",
   "metadata": {},
   "source": [
    "Q1.In Python 3.X, what are the names and functions of string object types?"
   ]
  },
  {
   "cell_type": "markdown",
   "id": "1042e381",
   "metadata": {},
   "source": [
    "Answer- In Python 3.x, strings are represented by the str object type. The str class provides various built-in functions and methods to manipulate and operate on strings. Here are some commonly used functions and methods of the str object:\n",
    "\n",
    "1. len(str): Returns the length of the string.\n",
    "\n",
    "\n",
    "2. str.capitalize(): Returns a copy of the string with its first character capitalized and the rest lowercased.\n",
    "\n",
    "\n",
    "3. str.lower(): Returns a copy of the string converted to lowercase.\n",
    "\n",
    "\n",
    "4. str.upper(): Returns a copy of the string converted to uppercase.\n",
    "\n",
    "\n",
    "5. str.title(): Returns a copy of the string with the first character of each word capitalized.\n",
    "\n",
    "\n",
    "6. str.strip(): Returns a copy of the string with leading and trailing whitespace removed.\n",
    "\n",
    "\n",
    "7. str.split(sep=None, maxsplit=-1): Returns a list of substrings obtained by splitting the string at each occurrence of the separator sep.\n",
    "\n",
    "\n",
    "8. str.join(iterable): Concatenates the elements of an iterable (e.g., a list) using the string as a separator.\n",
    "\n",
    "\n",
    "9. str.startswith(prefix): Returns True if the string starts with the specified prefix, otherwise False.\n",
    "\n",
    "\n",
    "10. str.endswith(suffix): Returns True if the string ends with the specified suffix, otherwise False.\n",
    "\n",
    "\n",
    "11. str.replace(old, new): Returns a copy of the string with all occurrences of the substring old replaced by new.\n",
    "\n",
    "\n",
    "12. str.find(sub): Returns the lowest index in the string where the substring sub is found, or -1 if it is not present.\n",
    "\n",
    "\n",
    "13. str.count(sub): Returns the number of non-overlapping occurrences of the substring sub in the string.\n",
    "\n",
    "\n",
    "14. str.isnumeric(): Returns True if all characters in the string are numeric, otherwise False.\n",
    "\n",
    "\n",
    "15. str.isdigit(): Returns True if all characters in the string are digits, otherwise False.\n",
    "\n",
    "\n",
    "These are just a few examples of the functions and methods available for string manipulation in Python. The str object provides many more useful methods, and you can find the complete list in the Python documentation.\n",
    "\n"
   ]
  },
  {
   "cell_type": "markdown",
   "id": "03efe84d",
   "metadata": {},
   "source": [
    "Q2.How do the string forms in Python 3.X vary in terms of operations?"
   ]
  },
  {
   "cell_type": "markdown",
   "id": "4f5f1e07",
   "metadata": {},
   "source": [
    "Answer- Python supports ASCII as a subset of Unicode. The default encoding of characters in Python is UTF-8 (Unicode Transformation Format - 8-bit).ASCII is really a 7-bit character set; it is mapped to 8-bit bytes by setting the high bit to zero. Thus, ASCII characters are unchanged in UTF-8. A non-zero high bit indicates that a character composed of multiple bytes."
   ]
  },
  {
   "cell_type": "code",
   "execution_count": 1,
   "id": "44a6a4e0",
   "metadata": {},
   "outputs": [
    {
     "name": "stdout",
     "output_type": "stream",
     "text": [
      "97\n"
     ]
    }
   ],
   "source": [
    "u = 'Radha'\n",
    "\n",
    "print(ord(u[-1]))"
   ]
  },
  {
   "cell_type": "markdown",
   "id": "65271368",
   "metadata": {},
   "source": [
    "Q3.In 3.X, how do you put non-ASCII Unicode characters in a string?"
   ]
  },
  {
   "cell_type": "markdown",
   "id": "3a2f39f9",
   "metadata": {},
   "source": [
    "Answer- In Python 3.x unidecode() method from unidecode library can be used to put non-ASCII Unicode Characters in a string."
   ]
  },
  {
   "cell_type": "code",
   "execution_count": 2,
   "id": "07a0cd08",
   "metadata": {},
   "outputs": [
    {
     "name": "stdout",
     "output_type": "stream",
     "text": [
      "kozuscek\n",
      "aap niice apnii bhaassaa aur inputt upkrnn cuneN aur likhnaa aarNbh kreN\n",
      "Xie Xie Ni \n",
      "arigatou. \n",
      "ulybat'sia Vladimir Putin\n"
     ]
    }
   ],
   "source": [
    "from unidecode import unidecode\n",
    "print(unidecode(u'ko\\u017eu\\u0161\\u010dek'))\n",
    "print(unidecode(\"आप नीचे अपनी भाषा और इनपुट उपकरण चुनें और लिखना आरंभ करें\"))\n",
    "print(unidecode(\"谢谢你\"))\n",
    "print(unidecode(\"ありがとう。\"))\n",
    "print(unidecode(\"улыбаться Владимир Путин\"))\n"
   ]
  },
  {
   "cell_type": "markdown",
   "id": "91c8d9d7",
   "metadata": {},
   "source": [
    "Q4.In Python 3.X, what are the key differences between text-mode and binary-mode files?"
   ]
  },
  {
   "cell_type": "markdown",
   "id": "4888a4f1",
   "metadata": {},
   "source": [
    "Answer- In Python 3.x, there are two main modes for file I/O: text mode and binary mode. Here are the key differences between these modes:\n",
    "\n",
    "Text Mode:\n",
    "\n",
    "1. Text mode is the default mode for file operations in Python.\n",
    "\n",
    "2. Text mode treats the data in the file as a sequence of Unicode characters.\n",
    "\n",
    "3. When reading from a text file, Python automatically decodes the bytes from the file into Unicode characters using the default encoding (usually UTF-8).\n",
    "\n",
    "4. When writing to a text file, Python encodes the Unicode characters into bytes using the default encoding.\n",
    "\n",
    "5. In text mode, newline characters ('\\n') are automatically converted to the platform-specific newline representation (e.g., '\\r\\n' on Windows).\n",
    "\n",
    "6. Text mode allows you to work with text files and provides convenient operations for string manipulation and line-based processing.\n",
    "\n",
    "Binary Mode:\n",
    "\n",
    "1. Binary mode treats the data in the file as a sequence of bytes.\n",
    "2. In binary mode, data is read and written exactly as it is without any encoding or decoding.\n",
    "3. When reading from a binary file, you get the raw bytes from the file.\n",
    "4. When writing to a binary file, you can write bytes directly without any encoding.\n",
    "5. In binary mode, newline characters are not automatically converted, and they are read and written as-is.\n",
    "6. Binary mode is useful when working with non-text files such as images, audio files, or binary data that should not undergo any character encoding or decoding.\n",
    "\n",
    "To specify the mode when opening a file, you can use the open() function and specify the desired mode as the second argument. For example:"
   ]
  },
  {
   "cell_type": "code",
   "execution_count": null,
   "id": "226f9066",
   "metadata": {},
   "outputs": [],
   "source": [
    "# Text mode\n",
    "with open('text_file.txt', 'r') as f:\n",
    "    # Perform text mode operations\n",
    "\n",
    "# Binary mode\n",
    "with open('binary_file.bin', 'rb') as f:\n",
    "    # Perform binary mode operations\n"
   ]
  },
  {
   "cell_type": "markdown",
   "id": "22fe5225",
   "metadata": {},
   "source": [
    "In the binary mode, you need to use 'rb' for reading and 'wb' for writing to distinguish it from text mode. The r, w, a, etc., flags can still be used in both text and binary modes to control read, write, and append operations."
   ]
  },
  {
   "cell_type": "markdown",
   "id": "67194035",
   "metadata": {},
   "source": [
    "Q5.How can you interpret a Unicode text file containing text encoded in a different encoding than\n",
    "your platform&#39;s default?"
   ]
  },
  {
   "cell_type": "markdown",
   "id": "b1b14514",
   "metadata": {},
   "source": [
    "Answer- To interpret a Unicode text file containing text encoded in a different encoding than your platform's default, you can open the file in binary mode and then decode the bytes using the appropriate encoding. Here's the general approach:\n",
    "\n",
    "1. Open the file in binary mode using open() with the 'rb' mode.\n",
    "\n",
    "2. Read the contents of the file as bytes using the read() method.\n",
    "\n",
    "3. Decode the bytes using the appropriate encoding to obtain a Unicode string."
   ]
  },
  {
   "cell_type": "code",
   "execution_count": null,
   "id": "6905a55a",
   "metadata": {},
   "outputs": [],
   "source": [
    "with open('unicode_file.txt', 'rb') as file:\n",
    "    content_bytes = file.read()\n",
    "\n",
    "decoded_text = content_bytes.decode('utf-16')\n",
    "print(decoded_text)\n"
   ]
  },
  {
   "cell_type": "markdown",
   "id": "2c8aa11c",
   "metadata": {},
   "source": [
    "The file 'unicode_file.txt' is opened in binary mode ('rb'), and its contents are read as bytes using read(). Then, the decode() method is used to decode the bytes into a Unicode string using the 'utf-16' encoding. Finally, the decoded text is printed."
   ]
  },
  {
   "cell_type": "markdown",
   "id": "c5715e52",
   "metadata": {},
   "source": [
    "Q6.What is the best way to make a Unicode text file in a particular encoding format?"
   ]
  },
  {
   "cell_type": "markdown",
   "id": "a9d86588",
   "metadata": {},
   "source": [
    "Answer- To create a Unicode text file in a particular encoding format in Python, you can follow these steps:\n",
    "\n",
    "1. Open the file in text mode using open() with the desired encoding specified as the encoding parameter.\n",
    "2. Write the text content to the file using the write() or writelines() method."
   ]
  },
  {
   "cell_type": "code",
   "execution_count": 5,
   "id": "62961672",
   "metadata": {},
   "outputs": [],
   "source": [
    "text = \"Hello, 你好, नमस्ते\"\n",
    "\n",
    "with open('unicode_file.txt', 'w', encoding='utf-8') as file:\n",
    "    file.write(text)\n"
   ]
  },
  {
   "cell_type": "markdown",
   "id": "3f2fb9c3",
   "metadata": {},
   "source": [
    "The file 'unicode_file.txt' is opened in text mode with the 'w' mode, and the desired encoding ('utf-8') is specified through the encoding parameter. The write() method is then used to write the text content to the file, 'utf-8' can be replaced with the desired encoding format you want for the text file. Common encodings include 'utf-8', 'utf-16', 'latin-1', etc."
   ]
  },
  {
   "cell_type": "markdown",
   "id": "aeed22c2",
   "metadata": {},
   "source": [
    "Q7.What qualifies ASCII text as a form of Unicode text?"
   ]
  },
  {
   "cell_type": "markdown",
   "id": "d89fe31f",
   "metadata": {},
   "source": [
    "Answer- ASCII text is a subset of Unicode text. Unicode is a universal character encoding standard that aims to represent all characters from all writing systems in the world. It includes a vast range of characters, including characters from various scripts, symbols, emoji, and more.\n",
    "\n",
    "ASCII (American Standard Code for Information Interchange) is a widely used character encoding scheme that represents English characters (Latin alphabet), digits, and a limited set of symbols using 7 bits, allowing a total of 128 characters. The ASCII character set includes basic Latin letters (A-Z, a-z), digits (0-9), punctuation marks, and control characters.\n",
    "\n",
    "Since ASCII characters are a subset of Unicode, any text that contains only ASCII characters can be considered Unicode text. This is because Unicode includes ASCII characters as its first 128 code points, with the ASCII character assignments preserved.\n",
    "\n",
    "For example, the ASCII character 'A' (U+0041) is also a valid Unicode character. In fact, the Unicode code points U+0000 to U+007F represent the ASCII characters exactly."
   ]
  },
  {
   "cell_type": "markdown",
   "id": "5540d5a0",
   "metadata": {},
   "source": [
    "Q8.How much of an effect does the change in string types in Python 3.X have on your code?"
   ]
  },
  {
   "cell_type": "markdown",
   "id": "84bf4b10",
   "metadata": {},
   "source": [
    "Answer- Python 3 stores strings as Unicode by default whereas Python 2 requires you to mark a string with a u if you want to store it as Unicode. Unicode strings are more versatile than ASCII strings, which are the Python 3.X default, as they can store letters from foreign languages as well as emoji and the standard Roman letters and numerals."
   ]
  },
  {
   "cell_type": "code",
   "execution_count": null,
   "id": "3a2d0bb5",
   "metadata": {},
   "outputs": [],
   "source": []
  },
  {
   "cell_type": "code",
   "execution_count": null,
   "id": "df1036e4",
   "metadata": {},
   "outputs": [],
   "source": []
  },
  {
   "cell_type": "code",
   "execution_count": null,
   "id": "027ce0e3",
   "metadata": {},
   "outputs": [],
   "source": []
  }
 ],
 "metadata": {
  "kernelspec": {
   "display_name": "Python 3 (ipykernel)",
   "language": "python",
   "name": "python3"
  },
  "language_info": {
   "codemirror_mode": {
    "name": "ipython",
    "version": 3
   },
   "file_extension": ".py",
   "mimetype": "text/x-python",
   "name": "python",
   "nbconvert_exporter": "python",
   "pygments_lexer": "ipython3",
   "version": "3.9.12"
  }
 },
 "nbformat": 4,
 "nbformat_minor": 5
}
