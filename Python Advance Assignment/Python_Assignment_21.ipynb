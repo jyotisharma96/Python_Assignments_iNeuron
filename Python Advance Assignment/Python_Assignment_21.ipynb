{
 "cells": [
  {
   "cell_type": "markdown",
   "id": "1ab874f3",
   "metadata": {},
   "source": [
    "Q1. What is a probability distribution, exactly? If the values are meant to be random, how can you\n",
    "predict them at all?"
   ]
  },
  {
   "cell_type": "markdown",
   "id": "9a3bd316",
   "metadata": {},
   "source": [
    "Answer- A probability distribution is a mathematical function that describes the likelihood of different outcomes occurring in a particular event or experiment. It provides a way to represent and analyze the uncertainty associated with the occurrence of various events or values.\n",
    "\n",
    "When we say that the values in a probability distribution are random, it means that we do not know the specific outcome in advance. However, we can still make predictions about the likelihood of different outcomes based on the distribution.\n",
    "\n",
    "Probability distributions are typically defined over a set of possible outcomes, and they assign probabilities to each outcome. The sum of all probabilities in a distribution is always equal to 1, representing the certainty that some outcome will occur."
   ]
  },
  {
   "cell_type": "markdown",
   "id": "eaa62d79",
   "metadata": {},
   "source": [
    "Q2.Is there a distinction between true random numbers and pseudo-random numbers, if there is\n",
    "one? Why are the latter considered “good enough”?"
   ]
  },
  {
   "cell_type": "markdown",
   "id": "969683c0",
   "metadata": {},
   "source": [
    "Answer- Yes, there is a distinction between true random numbers and pseudo-random numbers.\n",
    "\n",
    "True random numbers are generated from a source that is inherently unpredictable, such as atmospheric noise, radioactive decay, or other physical processes. They are considered to be truly random because their generation is not deterministic and cannot be predicted in advance. True random numbers are often used in cryptography, simulations, and other applications where high-quality randomness is crucial.\n",
    "\n",
    "On the other hand, pseudo-random numbers are generated using algorithms or mathematical formulas. While they appear to be random, they are actually generated in a deterministic manner. Pseudo-random number generators (PRNGs) start with an initial value called a seed and use mathematical operations to produce a sequence of numbers that exhibit properties of randomness. However, if the seed and algorithm used are known, the sequence of numbers can be reproduced, which means they are not truly random.\n",
    "\n",
    "PRNGs are widely used in various applications because they are computationally efficient and produce sequences of numbers that are indistinguishable from true randomness for many practical purposes. These sequences pass statistical tests for randomness and exhibit properties such as uniformity and independence. For most applications, including simulations, statistical modeling, and games, pseudo-random numbers are considered \"good enough\" because they provide sufficient randomness for practical purposes.\n",
    "\n",
    "However, it's important to note that PRNGs are not suitable for applications where true randomness is critical, such as cryptographic key generation or gambling systems where high security and unpredictability are required. In these cases, true random number sources, such as hardware random number generators, are used to ensure the highest level of randomness and security."
   ]
  },
  {
   "cell_type": "markdown",
   "id": "4e926a43",
   "metadata": {},
   "source": [
    "Q3.What are the two main factors that influence the behaviour of a &quot;normal&quot; probability distribution?"
   ]
  },
  {
   "cell_type": "markdown",
   "id": "8717bae5",
   "metadata": {},
   "source": [
    "Answer- A normal distribution is determined by two parameters the mean and the variance. A normal distribution with a mean of 0 and a standard deviation of 1 is called a standard normal distribution."
   ]
  },
  {
   "cell_type": "markdown",
   "id": "9761dfa0",
   "metadata": {},
   "source": [
    "Q4.Provide a real-life example of a normal distribution."
   ]
  },
  {
   "cell_type": "markdown",
   "id": "bf9e9e9a",
   "metadata": {},
   "source": [
    "Answer- One real-life example of a normal distribution is the distribution of heights of adult humans.\n",
    "\n",
    "If we were to measure the heights of a large population of adults and plot a histogram of the data, it would often resemble a bell-shaped curve. The majority of people would fall close to the average height, with fewer individuals being taller or shorter. This is because height in the human population tends to follow a normal distribution pattern.\n",
    "\n",
    "In a normal distribution of heights, the mean (μ) would represent the average height of the population, and the standard deviation (σ) would indicate the typical range of heights around the mean. The curve would be symmetrical, with equal areas on both sides of the mean.\n",
    "\n",
    "For example, let's say the mean height of a population is 170 cm, and the standard deviation is 5 cm. This would imply that most individuals would have heights close to 170 cm, with fewer people being significantly taller or shorter. The distribution would follow the bell curve pattern, with the highest point of the curve corresponding to the mean height.\n",
    "\n",
    "The normal distribution of heights is often used in various applications, such as designing clothes, determining seat heights in transportation, or studying growth patterns in children. Understanding the normal distribution of heights allows for better prediction and analysis of height-related data in these contexts."
   ]
  },
  {
   "cell_type": "markdown",
   "id": "dac75230",
   "metadata": {},
   "source": [
    "Q5.In the short term, how can you expect a probability distribution to behave? What do you think will\n",
    "happen as the number of trials grows?"
   ]
  },
  {
   "cell_type": "markdown",
   "id": "24d124d4",
   "metadata": {},
   "source": [
    "Answer- In the short term, the behavior of a probability distribution can be somewhat unpredictable due to the inherent randomness involved. However, as the number of trials or observations increases, certain patterns and characteristics of the distribution tend to emerge and become more apparent.\n",
    "\n",
    "In many cases, as the number of trials grows, the probability distribution tends to converge towards its theoretical or expected distribution. This convergence is known as the law of large numbers. Essentially, it states that as more independent and identically distributed trials are conducted, the sample mean (average) approaches the population mean, and the sample distribution becomes increasingly representative of the true underlying distribution."
   ]
  },
  {
   "cell_type": "markdown",
   "id": "d7d9f417",
   "metadata": {},
   "source": [
    "Q6.What kind of object can be shuffled by using random.shuffle?"
   ]
  },
  {
   "cell_type": "markdown",
   "id": "62da96bd",
   "metadata": {},
   "source": [
    "Answer- The random.shuffle function is typically used to shuffle the elements of a sequence or a mutable collection in a random order. It operates in-place, meaning it modifies the original object directly.\n",
    "\n",
    "Example - lists (list), strings (str) and tuples (tuple) objects can be shuffled by using random.shuffle."
   ]
  },
  {
   "cell_type": "markdown",
   "id": "c4760e8e",
   "metadata": {},
   "source": [
    "Q7.Describe the math package&#39;s general categories of functions."
   ]
  },
  {
   "cell_type": "markdown",
   "id": "18433ca1",
   "metadata": {},
   "source": [
    "Answer- The Math package's general categories of functions are:\n",
    "\n",
    "1. Trigonometric functions\n",
    "\n",
    "2. Quadratic functions\n",
    "\n",
    "3. Exponential functions\n",
    "\n",
    "4. Hyperbolic functions\n",
    "\n",
    "5. Periodic functions\n",
    "\n",
    "6. Arithmetic functions\n",
    "\n",
    "7. Logarithimic functions\n",
    "\n",
    "8. Conversions to Integer\n"
   ]
  },
  {
   "cell_type": "markdown",
   "id": "c36ea95f",
   "metadata": {},
   "source": [
    "Q8.What is the relationship between exponentiation and logarithms?"
   ]
  },
  {
   "cell_type": "markdown",
   "id": "d3f1f903",
   "metadata": {},
   "source": [
    "Answer- The relationship between exponentiation and logarithms is based on the inverse nature of these mathematical operations. Exponentiation is the process of raising a base to a power, while logarithms are used to determine the exponent needed to obtain a certain result."
   ]
  },
  {
   "cell_type": "markdown",
   "id": "f59cf8bf",
   "metadata": {},
   "source": [
    "Q9.What are the three logarithmic functions that Python supports?"
   ]
  },
  {
   "cell_type": "markdown",
   "id": "4f6fee1b",
   "metadata": {},
   "source": [
    "Answer- The Three Logarithmic Functions that Python supports are:\n",
    "\n",
    "1. log2(x) - logarithmic value of x to base 2\n",
    "\n",
    "2. log10(x) - logarithmic value of x to base 10\n",
    "\n",
    "3. log1p(a) - This function is used to compute logarithm(1+a).\n"
   ]
  },
  {
   "cell_type": "code",
   "execution_count": null,
   "id": "cbf5507f",
   "metadata": {},
   "outputs": [],
   "source": []
  },
  {
   "cell_type": "code",
   "execution_count": null,
   "id": "efd66f7f",
   "metadata": {},
   "outputs": [],
   "source": []
  },
  {
   "cell_type": "code",
   "execution_count": null,
   "id": "cc5757fa",
   "metadata": {},
   "outputs": [],
   "source": []
  }
 ],
 "metadata": {
  "kernelspec": {
   "display_name": "Python 3 (ipykernel)",
   "language": "python",
   "name": "python3"
  },
  "language_info": {
   "codemirror_mode": {
    "name": "ipython",
    "version": 3
   },
   "file_extension": ".py",
   "mimetype": "text/x-python",
   "name": "python",
   "nbconvert_exporter": "python",
   "pygments_lexer": "ipython3",
   "version": "3.9.12"
  }
 },
 "nbformat": 4,
 "nbformat_minor": 5
}
