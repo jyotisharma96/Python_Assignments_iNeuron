{
 "cells": [
  {
   "cell_type": "markdown",
   "id": "dfbf53b9",
   "metadata": {},
   "source": [
    "Q1.Define the relationship between a class and its instances. Is it a one-to-one or a one-to-many\n",
    "partnership, for example?"
   ]
  },
  {
   "cell_type": "markdown",
   "id": "c5309195",
   "metadata": {},
   "source": [
    "Answer- The relationship between a class and its instances can be described as a one-to-many partnership. A class serves as a blueprint or template that defines the common attributes and behaviors of its instances. It defines the structure and behavior that all instances of the class should have.\n",
    "\n",
    "When an object is created from a class, it becomes an instance of that class. Multiple instances can be created from the same class, and each instance is independent and maintains its own state. This means that the class defines the common characteristics and behavior shared by all instances, while each instance can have its own specific values for instance variables.\n",
    "\n",
    "The relationship between a class and its instances can also be viewed as a hierarchical relationship, where the class is at a higher level of abstraction, and the instances are at a lower level. The class provides the blueprint for creating instances, and each instance is an individual object with its own set of attributes and behaviors."
   ]
  },
  {
   "cell_type": "markdown",
   "id": "ab303a89",
   "metadata": {},
   "source": [
    "Q2.What kind of data is held only in an instance?"
   ]
  },
  {
   "cell_type": "markdown",
   "id": "2ed3cab0",
   "metadata": {},
   "source": [
    "Answer- In object-oriented programming, an instance holds data that is specific to that particular instance. This data is typically referred to as instance data or instance variables. Instance data represents the state of an object and can vary between different instances of the same class.\n",
    "\n",
    "Instance data is separate and unique for each instance, meaning that changes made to instance variables of one instance do not affect the variables of other instances. Each instance can have its own values assigned to instance variables, allowing objects to have different states."
   ]
  },
  {
   "cell_type": "markdown",
   "id": "bbb746ee",
   "metadata": {},
   "source": [
    "Q3.What kind of knowledge is stored in a class?"
   ]
  },
  {
   "cell_type": "markdown",
   "id": "1d72c4d9",
   "metadata": {},
   "source": [
    "Answer- In object-oriented programming, a class stores knowledge about the structure, behavior, and characteristics of objects. It defines the blueprint or template for creating instances (objects) of that class."
   ]
  },
  {
   "cell_type": "markdown",
   "id": "6aff1094",
   "metadata": {},
   "source": [
    "Q4.What exactly is a method, and how is it different from a regular function?"
   ]
  },
  {
   "cell_type": "markdown",
   "id": "4fee9990",
   "metadata": {},
   "source": [
    "Answer- The methods with a class can be used to access the insatnce variables of its instance. So,the object's state can be modified by its method. Function can't access the attributes of an instance of a class or can't modify the state of the object."
   ]
  },
  {
   "cell_type": "markdown",
   "id": "3c412145",
   "metadata": {},
   "source": [
    "Q5.Is inheritance supported in Python, and if so, what is the syntax?"
   ]
  },
  {
   "cell_type": "markdown",
   "id": "39eeba13",
   "metadata": {},
   "source": [
    "Answer- Yes, inheritance is supported in Python. Inheritance allows a class to inherit attributes and methods from another class, called the superclass or base class. The class that inherits from the superclass is called the subclass or derived class."
   ]
  },
  {
   "cell_type": "code",
   "execution_count": 1,
   "id": "b08a7f5d",
   "metadata": {},
   "outputs": [
    {
     "name": "stdout",
     "output_type": "stream",
     "text": [
      "Class of Instance: <class '__main__.B'>\n",
      "Base class: (<class '__main__.A'>,)\n"
     ]
    }
   ],
   "source": [
    "class A:\n",
    "        var=1\n",
    "        def __init__(self):\n",
    "            pass\n",
    "class B(A): # class B is detived from class A\n",
    "    def __init__(self):\n",
    "        super().__init__()\n",
    "c=B()\n",
    "print(\"Class of Instance:\",c.__class__)\n",
    "print(\"Base class:\",c.__class__.__bases__)"
   ]
  },
  {
   "cell_type": "markdown",
   "id": "e59b7bbb",
   "metadata": {},
   "source": [
    "Q6.How much encapsulation (making instance or class variables private) does Python support?"
   ]
  },
  {
   "cell_type": "markdown",
   "id": "d295405b",
   "metadata": {},
   "source": [
    "Answer- In Python, encapsulation is achieved through naming conventions rather than strict access modifiers like in some other programming languages. Python does not have built-in support for private variables or methods in the same way as languages like Java or C++. However, Python provides a convention to indicate that a variable or method should be treated as private.\n",
    "\n",
    "By convention, a variable or method name starting with a single underscore (_) is intended to be private, indicating that it should not be accessed or modified directly from outside the class. However, this is just a convention, and the variable or method can still be accessed and modified from outside the class."
   ]
  },
  {
   "cell_type": "markdown",
   "id": "4d1a4afb",
   "metadata": {},
   "source": [
    "Q7.How do you distinguish between a class variable and an instance variable?"
   ]
  },
  {
   "cell_type": "markdown",
   "id": "624c3eba",
   "metadata": {},
   "source": [
    "Answer- In Python, a class variable is a variable that is shared among all instances of a class, whereas an instance variable is unique to each instance of a class. "
   ]
  },
  {
   "cell_type": "markdown",
   "id": "245a7930",
   "metadata": {},
   "source": [
    "Q8.When, if ever, can self be included in a class&#39;s method definitions?"
   ]
  },
  {
   "cell_type": "markdown",
   "id": "bb51e615",
   "metadata": {},
   "source": [
    "Answer- In Python, the self parameter is typically included as the first parameter in a class's method definitions. It represents the instance of the class on which the method is being called. By convention, self is the preferred name for this parameter, although any valid variable name can be used.\n",
    "\n",
    "Including self in a method definition allows you to access and manipulate the instance variables and other methods of the class within that method. It serves as a reference to the instance itself, allowing you to work with its data and behavior."
   ]
  },
  {
   "cell_type": "code",
   "execution_count": 3,
   "id": "51e11425",
   "metadata": {},
   "outputs": [
    {
     "name": "stdout",
     "output_type": "stream",
     "text": [
      "10\n"
     ]
    }
   ],
   "source": [
    "class MyClass:\n",
    "    def __init__(self, value):\n",
    "        self.value = value\n",
    "\n",
    "    def my_method(self):\n",
    "        print(self.value)\n",
    "\n",
    "# Creating an instance of MyClass\n",
    "obj = MyClass(10)\n",
    "\n",
    "# Calling the method using the instance\n",
    "obj.my_method()  # Output: 10\n"
   ]
  },
  {
   "cell_type": "markdown",
   "id": "57b03275",
   "metadata": {},
   "source": [
    "Q9.What is the difference between the _ _add_ _ and the _ _radd_ _ methods?"
   ]
  },
  {
   "cell_type": "markdown",
   "id": "4b4f04a5",
   "metadata": {},
   "source": [
    "Answer- In Python, the _add_ and _radd_ methods are special methods used for operator overloading. They are used to define the behavior of the addition operator (+) when applied to objects of a custom class.\n",
    "\n",
    "The _add_ method is called when the addition operation is performed with an instance of the class as the left operand. It takes two parameters: self (the instance on the left side of the operator) and other (the value on the right side of the operator). The method should return the result of the addition operation.\n",
    "\n",
    "The _radd_ method, on the other hand, is called when the addition operation is performed with an instance of the class as the right operand. It also takes two parameters: self (the instance on the right side of the operator) and other (the value on the left side of the operator). Similar to _add_, the _radd_ method should return the result of the addition operation.\n",
    "\n",
    "The main difference between _add_ and _radd_ is the order of the operands. _add_ handles the case when the instance is on the left side of the operator, while _radd_ handles the case when the instance is on the right side of the operator. By implementing both methods, you can control the addition operation regardless of the order of the operands."
   ]
  },
  {
   "cell_type": "markdown",
   "id": "838f7dc9",
   "metadata": {},
   "source": [
    "Q10.When is it necessary to use a reflection method? When do you not need it, even though you\n",
    "support the operation in question?"
   ]
  },
  {
   "cell_type": "markdown",
   "id": "ab72275a",
   "metadata": {},
   "source": [
    "Answer- A reflection method, also known as introspection or metaprogramming, allows a program to examine and modify its own structure and behavior at runtime. It is necessary to use reflection methods when you need to dynamically inspect or manipulate the attributes, methods, or structure of objects or classes.\n",
    "\n",
    "Reflection methods are particularly useful in scenarios such as:\n",
    "\n",
    "1. Runtime type checking: You can use reflection to check the type of an object or determine if it implements specific interfaces or inherits from certain classes.\n",
    "\n",
    "\n",
    "2. Dynamic object creation: Reflection allows you to create objects dynamically based on runtime information. This can be helpful in scenarios where you need to instantiate objects based on user input or configuration.\n",
    "\n",
    "\n",
    "3. Frameworks and libraries: Reflection is often used in frameworks and libraries to provide extensibility and customization. Developers can use reflection to discover and interact with classes, methods, and properties provided by the framework.\n",
    "\n",
    "\n",
    "However, not all situations require reflection methods. In many cases, static typing and explicit coding can provide better performance, readability, and maintainability. Reflection introduces additional complexity and can have performance overhead compared to direct method calls or property access. Therefore, if you know the specific structure or behavior of objects or classes in advance and don't need to dynamically inspect or modify them, reflection may not be necessary."
   ]
  },
  {
   "cell_type": "markdown",
   "id": "fa4f77c6",
   "metadata": {},
   "source": [
    "Q11.What is the _ _iadd_ _ method called?"
   ]
  },
  {
   "cell_type": "markdown",
   "id": "bca91735",
   "metadata": {},
   "source": [
    "Answer- The _iadd_ method in Python is called when the += operator is used to perform in-place addition on an object. It is a special method used for in-place addition or augmented assignment with the += operator."
   ]
  },
  {
   "cell_type": "code",
   "execution_count": 5,
   "id": "46e5af45",
   "metadata": {},
   "outputs": [
    {
     "name": "stdout",
     "output_type": "stream",
     "text": [
      "5\n"
     ]
    }
   ],
   "source": [
    "class A:\n",
    "    def __init__(self,x):\n",
    "        self.x=x\n",
    "    def __iadd__(self,other):\n",
    "        self.x += other.x\n",
    "        return self.x\n",
    "obj1=A(2)\n",
    "obj2=A(3)\n",
    "obj1+=obj2\n",
    "print(obj1)\n"
   ]
  },
  {
   "cell_type": "markdown",
   "id": "7d8943bb",
   "metadata": {},
   "source": [
    "Q12.Is the _ _init_ _ method inherited by subclasses? What do you do if you need to customize its\n",
    "behavior within a subclass?"
   ]
  },
  {
   "cell_type": "markdown",
   "id": "e4245779",
   "metadata": {},
   "source": [
    "Answer- Yes, the __init__ method is inherited by subclasses in Python. When a subclass is created, it inherits all the methods, including the __init__ method, from its superclass.\n",
    "\n",
    "If you need to customize the behavior of the __init__ method within a subclass, you can override it by defining a new __init__ method in the subclass. The new __init__ method will replace the one inherited from the superclass.\n",
    "\n",
    "To customize the __init__ method in a subclass, you can follow these steps:\n",
    "\n",
    "1. Define a new __init__ method in the subclass.\n",
    "2. Use the super() function to call the __init__ method of the superclass.\n",
    "3. Add any additional initialization code specific to the subclass."
   ]
  },
  {
   "cell_type": "code",
   "execution_count": 6,
   "id": "68b3685b",
   "metadata": {},
   "outputs": [
    {
     "data": {
      "text/plain": [
       "7"
      ]
     },
     "execution_count": 6,
     "metadata": {},
     "output_type": "execute_result"
    }
   ],
   "source": [
    "class A:\n",
    "    def __init__(self,x):\n",
    "        self.x=x\n",
    "class B(A):\n",
    "    pass\n",
    "obj=B(2)\n",
    "obj.x \n",
    "#        here the value x is accessible to instance of class B which is subclass of class A.This means\n",
    "#        __init__ of class A is inherited in sub class B\n",
    "class C(A):\n",
    "    def __init__(self,x,y): # Here we are overloading the __init__ inherited from class A \n",
    "        self.x=x\n",
    "        self.y=y\n",
    "    def func(self):\n",
    "        return(self.x + self.y)\n",
    "obj1=C(3,4)\n",
    "obj1.func()\n"
   ]
  },
  {
   "cell_type": "code",
   "execution_count": null,
   "id": "56b09d08",
   "metadata": {},
   "outputs": [],
   "source": []
  },
  {
   "cell_type": "code",
   "execution_count": null,
   "id": "51e9c228",
   "metadata": {},
   "outputs": [],
   "source": []
  },
  {
   "cell_type": "code",
   "execution_count": null,
   "id": "26a3408d",
   "metadata": {},
   "outputs": [],
   "source": []
  },
  {
   "cell_type": "code",
   "execution_count": null,
   "id": "59b7da1a",
   "metadata": {},
   "outputs": [],
   "source": []
  }
 ],
 "metadata": {
  "kernelspec": {
   "display_name": "Python 3 (ipykernel)",
   "language": "python",
   "name": "python3"
  },
  "language_info": {
   "codemirror_mode": {
    "name": "ipython",
    "version": 3
   },
   "file_extension": ".py",
   "mimetype": "text/x-python",
   "name": "python",
   "nbconvert_exporter": "python",
   "pygments_lexer": "ipython3",
   "version": "3.9.12"
  }
 },
 "nbformat": 4,
 "nbformat_minor": 5
}
