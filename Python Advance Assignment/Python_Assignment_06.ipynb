{
 "cells": [
  {
   "cell_type": "markdown",
   "id": "3b769021",
   "metadata": {},
   "source": [
    "Q1.Describe three applications for exception processing."
   ]
  },
  {
   "cell_type": "markdown",
   "id": "68d72abf",
   "metadata": {},
   "source": [
    "Answer- Exceptions are raised when the program is syntactically correct, but the code resulted in an error. This error does not stop the execution of the program, however, it changes the normal flow of the program."
   ]
  },
  {
   "cell_type": "code",
   "execution_count": 2,
   "id": "d3c843a4",
   "metadata": {},
   "outputs": [
    {
     "name": "stdout",
     "output_type": "stream",
     "text": [
      "Enter a:55\n",
      "Enter b:0\n",
      "division by zero\n",
      "can't divide by zero\n"
     ]
    }
   ],
   "source": [
    "def div(a,b):   \n",
    "    try: \n",
    "        # code executes here        \n",
    "        c = a/b  \n",
    "        print(\"a/b = \",c)    \n",
    "        # Using exception object with the except statement  \n",
    "    except Exception as e:    \n",
    "        print(e)  \n",
    "        return \"can't divide by zero\"\n",
    "    else:    \n",
    "        return \"This is else block and executed when code in try excetues without any exception\"\n",
    "        \n",
    "a = int(input(\"Enter a:\"))    \n",
    "b = int(input(\"Enter b:\"))           \n",
    "print(div(a,b))\n"
   ]
  },
  {
   "cell_type": "code",
   "execution_count": 3,
   "id": "b9580466",
   "metadata": {},
   "outputs": [
    {
     "name": "stdout",
     "output_type": "stream",
     "text": [
      "[Errno 2] No such file or directory: 'sample.txt'\n",
      "Program is not interrupted\n"
     ]
    }
   ],
   "source": [
    "try:\n",
    "    f = open('sample.txt','r')\n",
    "except Exception as e:\n",
    "    print(e)\n",
    "else:\n",
    "    print(\"File opened successfully\")\n",
    "    f.close()\n",
    "    \n",
    "print('Program is not interrupted')    \n",
    "\n",
    "\n",
    "# If we dont use try except else blocks, normal execution of program will be interrupted.\n",
    "\n",
    "# with try except, exception is caught when file is not found but program continues execution"
   ]
  },
  {
   "cell_type": "code",
   "execution_count": 4,
   "id": "73a695cf",
   "metadata": {},
   "outputs": [
    {
     "name": "stdout",
     "output_type": "stream",
     "text": [
      "Excepton!!\n"
     ]
    }
   ],
   "source": [
    "try:\n",
    "    raise NameError('akash')\n",
    "except NameError as e:\n",
    "    print(\"Excepton!!\")\n"
   ]
  },
  {
   "cell_type": "markdown",
   "id": "4082466f",
   "metadata": {},
   "source": [
    "Q2.What happens if you don&#39;t do something extra to treat an exception?"
   ]
  },
  {
   "cell_type": "markdown",
   "id": "57efa422",
   "metadata": {},
   "source": [
    "Answer- If Exceptions are not handled flow of program will be broken during the run time which might lead to a abnormal termination of the program. Inshort inability of program to handle exceptions will result in crashing of program."
   ]
  },
  {
   "cell_type": "markdown",
   "id": "56fc2dba",
   "metadata": {},
   "source": [
    "Q3.What are your options for recovering from an exception in your script?"
   ]
  },
  {
   "cell_type": "markdown",
   "id": "f3002354",
   "metadata": {},
   "source": [
    "Answer- In except block, we write a code to handle exception and next set of actions."
   ]
  },
  {
   "cell_type": "code",
   "execution_count": 5,
   "id": "65f84c5f",
   "metadata": {},
   "outputs": [
    {
     "name": "stdout",
     "output_type": "stream",
     "text": [
      "Enter an integer value::7\n",
      "Yes you have entered an ineger 7\n",
      "Yayy i always executes!!\n"
     ]
    }
   ],
   "source": [
    "def askint():\n",
    "    while True:\n",
    "        try:\n",
    "            a = int(input('Enter an integer value::'))\n",
    "        except Exception as e:\n",
    "            print(e)\n",
    "            print('Please enter an integer value')\n",
    "            continue\n",
    "        else:\n",
    "            print(f'Yes you have entered an ineger {a}')\n",
    "            break\n",
    "        finally:\n",
    "            print('Yayy i always executes!!')\n",
    "        \n",
    "askint()   "
   ]
  },
  {
   "cell_type": "markdown",
   "id": "9194c8b5",
   "metadata": {},
   "source": [
    "Q4.Describe two methods for triggering exceptions in your script."
   ]
  },
  {
   "cell_type": "markdown",
   "id": "9304d670",
   "metadata": {},
   "source": [
    "Answer- raise and assert are two methods that can be used to trigger manual exceptions in your script.\n",
    "\n",
    "raise method triggers an exception if condition provided to it turns out to be True.\n",
    "assert will let the program to continue execution if condition provided to it turns out to be True else exception will be raised"
   ]
  },
  {
   "cell_type": "code",
   "execution_count": 7,
   "id": "7341b111",
   "metadata": {},
   "outputs": [
    {
     "ename": "Exception",
     "evalue": "X Value Should not exceed 5 The Provided Value of X is 10",
     "output_type": "error",
     "traceback": [
      "\u001b[1;31m---------------------------------------------------------------------------\u001b[0m",
      "\u001b[1;31mException\u001b[0m                                 Traceback (most recent call last)",
      "Cell \u001b[1;32mIn [7], line 4\u001b[0m\n\u001b[0;32m      1\u001b[0m \u001b[38;5;66;03m# Example of raise\u001b[39;00m\n\u001b[0;32m      3\u001b[0m x \u001b[38;5;241m=\u001b[39m \u001b[38;5;241m10\u001b[39m\n\u001b[1;32m----> 4\u001b[0m \u001b[38;5;28;01mraise\u001b[39;00m \u001b[38;5;167;01mException\u001b[39;00m(\u001b[38;5;124mf\u001b[39m\u001b[38;5;124m'\u001b[39m\u001b[38;5;124mX Value Should not exceed 5 The Provided Value of X is \u001b[39m\u001b[38;5;132;01m{\u001b[39;00mx\u001b[38;5;132;01m}\u001b[39;00m\u001b[38;5;124m'\u001b[39m)\n",
      "\u001b[1;31mException\u001b[0m: X Value Should not exceed 5 The Provided Value of X is 10"
     ]
    }
   ],
   "source": [
    "# Example of raise\n",
    "\n",
    "x = 10\n",
    "raise Exception(f'X Value Should not exceed 5 The Provided Value of X is {x}')\n"
   ]
  },
  {
   "cell_type": "code",
   "execution_count": 8,
   "id": "b40a412d",
   "metadata": {},
   "outputs": [
    {
     "ename": "AssertionError",
     "evalue": "2 is not equal to 4",
     "output_type": "error",
     "traceback": [
      "\u001b[1;31m---------------------------------------------------------------------------\u001b[0m",
      "\u001b[1;31mAssertionError\u001b[0m                            Traceback (most recent call last)",
      "Cell \u001b[1;32mIn [8], line 3\u001b[0m\n\u001b[0;32m      1\u001b[0m \u001b[38;5;66;03m# Example of assert\u001b[39;00m\n\u001b[1;32m----> 3\u001b[0m \u001b[38;5;28;01massert\u001b[39;00m(\u001b[38;5;241m2\u001b[39m\u001b[38;5;241m==\u001b[39m\u001b[38;5;241m4\u001b[39m), \u001b[38;5;124m\"\u001b[39m\u001b[38;5;124m2 is not equal to 4\u001b[39m\u001b[38;5;124m\"\u001b[39m\n",
      "\u001b[1;31mAssertionError\u001b[0m: 2 is not equal to 4"
     ]
    }
   ],
   "source": [
    "# Example of assert\n",
    "\n",
    "assert(2==4), \"2 is not equal to 4\"\n"
   ]
  },
  {
   "cell_type": "markdown",
   "id": "d02e86fe",
   "metadata": {},
   "source": [
    "Q5.Identify two methods for specifying actions to be executed at termination time, regardless of\n",
    "whether or not an exception exists."
   ]
  },
  {
   "cell_type": "markdown",
   "id": "124963c7",
   "metadata": {},
   "source": [
    "Answer- Python Provides else and finally blocks for specifying actions to be executed at termination time, regardless of whether an exceptions exists or not.\n",
    "\n",
    "1. In else block, code is written to handle if no exception is raised by code in try block.\n",
    "\n",
    "\n",
    "2. In finally block, code executes regardless of whether or not an exception exists.\n"
   ]
  },
  {
   "cell_type": "code",
   "execution_count": null,
   "id": "f68e3d33",
   "metadata": {},
   "outputs": [],
   "source": []
  },
  {
   "cell_type": "code",
   "execution_count": null,
   "id": "900d01a6",
   "metadata": {},
   "outputs": [],
   "source": []
  },
  {
   "cell_type": "code",
   "execution_count": null,
   "id": "c2955625",
   "metadata": {},
   "outputs": [],
   "source": []
  },
  {
   "cell_type": "code",
   "execution_count": null,
   "id": "4d29d4f9",
   "metadata": {},
   "outputs": [],
   "source": []
  }
 ],
 "metadata": {
  "kernelspec": {
   "display_name": "Python 3 (ipykernel)",
   "language": "python",
   "name": "python3"
  },
  "language_info": {
   "codemirror_mode": {
    "name": "ipython",
    "version": 3
   },
   "file_extension": ".py",
   "mimetype": "text/x-python",
   "name": "python",
   "nbconvert_exporter": "python",
   "pygments_lexer": "ipython3",
   "version": "3.9.12"
  }
 },
 "nbformat": 4,
 "nbformat_minor": 5
}
