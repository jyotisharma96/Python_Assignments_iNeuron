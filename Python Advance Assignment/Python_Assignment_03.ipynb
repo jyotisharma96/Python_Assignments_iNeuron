{
 "cells": [
  {
   "cell_type": "markdown",
   "id": "2b61bc67",
   "metadata": {},
   "source": [
    "1.What is the concept of an abstract superclass?"
   ]
  },
  {
   "cell_type": "markdown",
   "id": "bd6fa44f",
   "metadata": {},
   "source": [
    "Answer- The concept of an abstract superclass, also known as an abstract base class (ABC), is a way to define a common structure or interface for a group of related classes. An abstract superclass cannot be instantiated directly and typically serves as a blueprint or template for its subclasses."
   ]
  },
  {
   "cell_type": "code",
   "execution_count": 1,
   "id": "f6f70ff3",
   "metadata": {},
   "outputs": [
    {
     "name": "stdout",
     "output_type": "stream",
     "text": [
      "area:  200\n"
     ]
    }
   ],
   "source": [
    "import abc\n",
    "\n",
    "class Shape(metaclass=abc.ABCMeta):\n",
    "    @abc.abstractmethod\n",
    "    def area(self):\n",
    "        pass\n",
    "\n",
    "class Rectangle(Shape):\n",
    "    def __init__(self, x,y):\n",
    "        self.l = x\n",
    "        self.b=y\n",
    "    \n",
    "    def area(self):\n",
    "        return self.l*self.b\n",
    "    \n",
    "r = Rectangle(10,20)\n",
    "print ('area: ',r.area())"
   ]
  },
  {
   "cell_type": "markdown",
   "id": "7214fe46",
   "metadata": {},
   "source": [
    "The 'abc' module in Python library provides the infrastructure for defining custom abstract base classes.\n",
    "\n",
    "\n",
    "'abc' works by marking methods of the base class as abstract. This is done by @absttractmethod decorator. A concrete class which is a sub class of such abstract base class then implements the abstract base by overriding its abstract methods.\n",
    "\n",
    "\n",
    "The abc module defines ABCMeta class which is a metaclass for defining abstract base class. Following example defines Shape class as an abstract base class using ABCMeta. The shape class has area() method decorated by abstractmethod.\n",
    "\n",
    "\n",
    "A Rectangle class now uses above Shape class as its parent and implementing the abstract area() method. Since it is a concrete class, it can be instantiated and imlemented area() method can be called."
   ]
  },
  {
   "cell_type": "markdown",
   "id": "e6929daa",
   "metadata": {},
   "source": [
    "2.What happens when a class statement&#39;s top level contains a basic assignment statement?"
   ]
  },
  {
   "cell_type": "markdown",
   "id": "b172f631",
   "metadata": {},
   "source": [
    "Answer- In Python, a class statement's top level is usually used to define class-level variables, methods, and other class-related attributes. When a basic assignment statement is present at the top level of a class, it is used to define a class-level variable."
   ]
  },
  {
   "cell_type": "code",
   "execution_count": 1,
   "id": "702762f9",
   "metadata": {},
   "outputs": [],
   "source": [
    "class MyClass:\n",
    "    x = 10   # Basic assignment statement at the top level\n",
    "\n",
    "    def __init__(self, y):\n",
    "        self.y = y\n",
    "\n",
    "    def print_values(self):\n",
    "        print(f\"x: {self.x}, y: {self.y}\")\n"
   ]
  },
  {
   "cell_type": "code",
   "execution_count": 2,
   "id": "5d2f955f",
   "metadata": {},
   "outputs": [
    {
     "name": "stdout",
     "output_type": "stream",
     "text": [
      "10\n",
      "10\n"
     ]
    }
   ],
   "source": [
    "my_object = MyClass(20)\n",
    "print(my_object.x)\n",
    "\n",
    "print(MyClass.x)  \n"
   ]
  },
  {
   "cell_type": "code",
   "execution_count": 3,
   "id": "5de2b833",
   "metadata": {},
   "outputs": [
    {
     "name": "stdout",
     "output_type": "stream",
     "text": [
      "15\n",
      "10\n"
     ]
    }
   ],
   "source": [
    "my_object.x = 15\n",
    "print(my_object.x) \n",
    "\n",
    "print(MyClass.x)\n"
   ]
  },
  {
   "cell_type": "markdown",
   "id": "4f2efd86",
   "metadata": {},
   "source": [
    "3.Why does a class need to manually call a superclass&#39;s __init__ method?"
   ]
  },
  {
   "cell_type": "markdown",
   "id": "dfab8bd1",
   "metadata": {},
   "source": [
    "Answer-  if a child class has __init__ method, then it will not inherit the __init__ method of the parent class. in other words the __init__ method of the child class overrides the __init__ method of the parent class. so we have to manually call a parent superclass's __init__ using super() method."
   ]
  },
  {
   "cell_type": "code",
   "execution_count": 4,
   "id": "477e403f",
   "metadata": {},
   "outputs": [],
   "source": [
    "class SuperClass:\n",
    "    def __init__(self, param):\n",
    "        # SuperClass initialization code\n",
    "        pass\n",
    "\n",
    "class SubClass(SuperClass):\n",
    "    def __init__(self, param1, param2):\n",
    "        super().__init__(param1)  # Call superclass's init method\n",
    "        # SubClass initialization code\n",
    "        pass\n"
   ]
  },
  {
   "cell_type": "markdown",
   "id": "87dc05c2",
   "metadata": {},
   "source": [
    "By calling super().__init__(param1), you ensure that the superclass's init method is executed before the subclass's init method. This allows the subclass to inherit and utilize any necessary attributes or behavior from the superclass while extending or customizing its own functionality.\n",
    "\n",
    "It's worth noting that not all programming languages handle this in the same way, and some may have different syntax or mechanisms for calling the superclass's init method."
   ]
  },
  {
   "cell_type": "markdown",
   "id": "3c6d879e",
   "metadata": {},
   "source": [
    "4.How can you augment, instead of completely replacing, an inherited method?"
   ]
  },
  {
   "cell_type": "markdown",
   "id": "d23fd6b1",
   "metadata": {},
   "source": [
    "Answer- To augment or extend an inherited method in a subclass without completely replacing it, you can follow these steps:\n",
    "\n",
    "1. Define the subclass and declare the method you want to augment.\n",
    "2. Use the super() function to call the superclass's version of the method.\n",
    "3. Perform any additional actions or modifications specific to the subclass.\n",
    "\n",
    "By using super(), you can invoke the superclass's implementation of the method and then add your own logic before or after that call. This allows you to leverage the existing behavior from the superclass while extending or modifying it in the subclass."
   ]
  },
  {
   "cell_type": "code",
   "execution_count": 5,
   "id": "f7467904",
   "metadata": {},
   "outputs": [
    {
     "name": "stdout",
     "output_type": "stream",
     "text": [
      "SuperClass method\n",
      "SubClass method\n"
     ]
    }
   ],
   "source": [
    "class SuperClass:\n",
    "    def some_method(self):\n",
    "        # SuperClass implementation\n",
    "        print(\"SuperClass method\")\n",
    "\n",
    "class SubClass(SuperClass):\n",
    "    def some_method(self):\n",
    "        super().some_method()  # Call superclass's method\n",
    "        # SubClass augmentation\n",
    "        print(\"SubClass method\")\n",
    "\n",
    "# Create an instance of the subclass\n",
    "obj = SubClass()\n",
    "obj.some_method()\n"
   ]
  },
  {
   "cell_type": "markdown",
   "id": "4217d125",
   "metadata": {},
   "source": [
    "5.How is the local scope of a class different from that of a function?"
   ]
  },
  {
   "cell_type": "markdown",
   "id": "fe74347f",
   "metadata": {},
   "source": [
    "Answer- A Variable which is defined inside a function is local to that function. it is accesible from the point at which it is defined until the end of the function, and exists for as long as the function is existing.\n",
    "\n",
    "Similary a variable inside of a class also has a local variable scope. Variables which are defined in the class body (but outside all methods) are called as class level variables or class attributes. they can be referenced by there bare names within the same scope, but they can also be accessed from outside this scope if we use the attribute access operator (.). on a class or an instance of the class."
   ]
  },
  {
   "cell_type": "code",
   "execution_count": 6,
   "id": "4be75600",
   "metadata": {},
   "outputs": [
    {
     "name": "stdout",
     "output_type": "stream",
     "text": [
      "you're name is Mano Vishnu\n",
      "Name varible is not available outside hello function scope\n",
      "HomeSapines\n",
      "HomeSapines\n"
     ]
    }
   ],
   "source": [
    "def hello(name):\n",
    "    name = name\n",
    "    print(f'you\\'re name is {name}')\n",
    "hello('Mano Vishnu')\n",
    "try:\n",
    "    name\n",
    "except NameError:\n",
    "    print('Name varible is not available outside hello function scope')\n",
    "\n",
    "class Person:\n",
    "    species = \"HomeSapines\"\n",
    "    def __init__(self):\n",
    "        pass\n",
    "print(Person.species) # Accessing species using class name\n",
    "Male = Person()\n",
    "print(Male.species) # Accessing species using instance of class"
   ]
  },
  {
   "cell_type": "code",
   "execution_count": null,
   "id": "122bb11e",
   "metadata": {},
   "outputs": [],
   "source": []
  }
 ],
 "metadata": {
  "kernelspec": {
   "display_name": "Python 3 (ipykernel)",
   "language": "python",
   "name": "python3"
  },
  "language_info": {
   "codemirror_mode": {
    "name": "ipython",
    "version": 3
   },
   "file_extension": ".py",
   "mimetype": "text/x-python",
   "name": "python",
   "nbconvert_exporter": "python",
   "pygments_lexer": "ipython3",
   "version": "3.9.12"
  }
 },
 "nbformat": 4,
 "nbformat_minor": 5
}
