{
 "cells": [
  {
   "cell_type": "markdown",
   "id": "05e1ad3b",
   "metadata": {},
   "source": [
    "Q1.Explain the difference between greedy and non-greedy syntax with visual terms in as few words\n",
    "as possible. What is the bare minimum effort required to transform a greedy pattern into a non-greedy\n",
    "one? What characters or characters can you introduce or change?"
   ]
  },
  {
   "cell_type": "markdown",
   "id": "dce30063",
   "metadata": {},
   "source": [
    "Answer- Greedy and non-greedy syntax in regular expressions are used to control the behavior of matching patterns.\n",
    "\n",
    "1. Greedy syntax: The greedy quantifiers match as much as possible. They try to consume the maximum number of characters that satisfy the pattern.\n",
    "\n",
    "2. Non-greedy syntax: The non-greedy or lazy quantifiers match as little as possible. They try to consume the minimum number of characters that satisfy the pattern.\n",
    "\n",
    "To transform a greedy pattern into a non-greedy one, the minimum effort required is to add a ? character after the quantifier.\n",
    "\n",
    "For example:\n",
    "\n",
    "Greedy pattern: .*\n",
    "Non-greedy pattern: .*?\n",
    "In the above example, .* is a greedy pattern that matches any number of characters. Adding ? after .* changes it into a non-greedy pattern that matches as few characters as possible.\n",
    "\n",
    "Using visual terms, we can think of the greedy syntax as a \"greedy eater\" that tries to consume as much as it can, while the non-greedy syntax is a \"reluctant eater\" that takes only what it needs.\n",
    "\n",
    "By adding the ? character after the quantifier, we modify the behavior of the pattern from greedy to non-greedy, enabling it to match the minimum instead of the maximum.\n",
    "\n",
    "\n",
    "\n",
    "\n"
   ]
  },
  {
   "cell_type": "code",
   "execution_count": 4,
   "id": "4904025c",
   "metadata": {},
   "outputs": [
    {
     "name": "stdout",
     "output_type": "stream",
     "text": [
      "['vvvvvv', '']\n",
      "['', 'v', '', 'v', '', 'v', '', 'v', '', 'v', '', 'v', '']\n"
     ]
    }
   ],
   "source": [
    "import re\n",
    "print(re.findall(\"v*\", \"vvvvvv\")) # Greedy Match Synatx\n",
    "print(re.findall(\"v*?\", \"vvvvvv\")) # Non Greddy Syntax\n"
   ]
  },
  {
   "cell_type": "markdown",
   "id": "2fd65dde",
   "metadata": {},
   "source": [
    "Q2.When exactly does greedy versus non-greedy make a difference?  What if you&#39;re looking for a\n",
    "non-greedy match but the only one available is greedy?"
   ]
  },
  {
   "cell_type": "markdown",
   "id": "4d296864",
   "metadata": {},
   "source": [
    "Answer- The Greedy Match will try to match as many repetitions of the quantified pattern as possible. The Non Greedy Match will try to match as few repetitions of the quantified pattern as possible. If only Non Greedy Match is available, we can use other filtering or pattern matching methods of regex and further identify the required pattern."
   ]
  },
  {
   "cell_type": "markdown",
   "id": "f149901e",
   "metadata": {},
   "source": [
    "Q3.In a simple match of a string, which looks only for one match and does not do any replacement, is\n",
    "the use of a nontagged group likely to make any practical difference?"
   ]
  },
  {
   "cell_type": "markdown",
   "id": "659bb7cf",
   "metadata": {},
   "source": [
    "Answer- In a simple match of a string where you are only looking for one match and not performing any replacements, the use of a non-tagged group will not make any practical difference in terms of the result of the match.\n",
    "\n",
    "Non-tagged groups, also known as non-capturing groups, are used in regular expressions for grouping patterns without capturing the matched substring. They are typically denoted by (?:pattern), where pattern represents the regular expression pattern.\n",
    "\n",
    "Non-tagged groups are useful when you want to group a pattern for purposes such as applying quantifiers or alternations, but you don't need to capture the matched substring as a separate group.\n",
    "\n",
    "However, in a simple match scenario where you are not capturing or referencing the matched substring, using a non-tagged group or omitting the group altogether will have the same outcome. The overall match result will be the same, regardless of whether a non-tagged group is used or not.\n",
    "\n",
    "So, in the context of a simple match without any capturing or referencing needs, the use of a non-tagged group will not have any practical difference."
   ]
  },
  {
   "cell_type": "code",
   "execution_count": 5,
   "id": "f470e6db",
   "metadata": {},
   "outputs": [
    {
     "name": "stdout",
     "output_type": "stream",
     "text": [
      "Phone number found -> 234\n",
      "Phone number found -> 234\n"
     ]
    }
   ],
   "source": [
    "import re\n",
    "phoneNumRegex = re.compile(r'\\d\\d\\d')\n",
    "num = phoneNumRegex.search('My number is 234-567-8901.')\n",
    "print(f'Phone number found -> {num.group()}') # Non Tagged group\n",
    "print(f'Phone number found -> {num.group(0)}') # Tagged Group\n"
   ]
  },
  {
   "cell_type": "markdown",
   "id": "1d3f4738",
   "metadata": {},
   "source": [
    "Q4.Describe a scenario in which using a nontagged category would have a significant impact on the\n",
    "program&#39;s outcomes."
   ]
  },
  {
   "cell_type": "markdown",
   "id": "ca2819ea",
   "metadata": {},
   "source": [
    "One scenario where using a non-tagged category can have a significant impact on the program's outcomes is when you are using a regular expression pattern with multiple capturing groups and you want to extract specific information from the matched string.\n",
    "\n",
    "By default, when you use capturing groups in a regular expression, the matched substrings within those groups are captured and can be accessed or referenced separately. However, in some cases, you may not need to capture all the groups, and capturing unnecessary groups can have performance implications or lead to unnecessary memory usage.\n",
    "\n",
    "In such a scenario, using non-tagged groups can make a difference. By converting certain capturing groups into non-tagged groups, you prevent those groups from capturing and storing the matched substrings. This can lead to improved performance and reduced memory usage, especially when dealing with large inputs or repetitive matching operations."
   ]
  },
  {
   "cell_type": "code",
   "execution_count": 6,
   "id": "f7fe05af",
   "metadata": {},
   "outputs": [
    {
     "data": {
      "text/plain": [
       "('135', '456')"
      ]
     },
     "execution_count": 6,
     "metadata": {},
     "output_type": "execute_result"
    }
   ],
   "source": [
    "import re\n",
    "text='135.456'\n",
    "pattern=r'(\\d+)(?:.)(\\d+)'\n",
    "regobj=re.compile(pattern)\n",
    "matobj=regobj.search(text)\n",
    "matobj.groups()\n"
   ]
  },
  {
   "cell_type": "markdown",
   "id": "c9ac662a",
   "metadata": {},
   "source": [
    "Q5.Unlike a normal regex pattern, a look-ahead condition does not consume the characters it\n",
    "examines. Describe a situation in which this could make a difference in the results of your\n",
    "programme."
   ]
  },
  {
   "cell_type": "markdown",
   "id": "e1d71bb4",
   "metadata": {},
   "source": [
    "Answer- A situation where the non-consuming nature of a look-ahead condition in a regex pattern can make a difference in the results of a program is when you need to match a specific pattern that is followed by another pattern but you don't want to include the second pattern in the overall match.\n",
    "\n",
    "For example, let's say you have a text document containing email addresses, and you want to extract all email addresses that are followed by the word \"example\" but without including \"example\" in the matched result.\n",
    "\n",
    "Using a look-ahead condition in the regex pattern allows you to assert the presence of \"example\" after the email address without actually consuming or including it in the matched result. This can be achieved by using the syntax (?=pattern) for positive look-ahead.\n",
    "\n",
    "Consider the following example regex pattern: (\\w+@\\w+\\.\\w+)(?=\\s+example). In this pattern, we capture the email address using (\\w+@\\w+\\.\\w+) and then use the positive look-ahead (?=\\s+example) to assert that the email address is followed by one or more whitespace characters and the word \"example.\""
   ]
  },
  {
   "cell_type": "markdown",
   "id": "3b2ad3de",
   "metadata": {},
   "source": [
    "Q6.In standard expressions, what is the difference between positive look-ahead and negative look-\n",
    "ahead?"
   ]
  },
  {
   "cell_type": "markdown",
   "id": "e7240995",
   "metadata": {},
   "source": [
    "Answer- Positive look ahead is an assertion continuing the search and extending the string e.g.pattern= r'abc(?=[A-Z])''. Here after 'abc', ? is extending the search and says that in the remaining string, first identify the next character should be capitalized character between A and Z, but doesnt consume it. Example of Positive lookahead :"
   ]
  },
  {
   "cell_type": "code",
   "execution_count": 7,
   "id": "ecf6ec07",
   "metadata": {},
   "outputs": [
    {
     "name": "stdout",
     "output_type": "stream",
     "text": [
      "Positive lookahead: ['abc']\n"
     ]
    }
   ],
   "source": [
    "import re\n",
    "pat=r'abc(?=[A-Z])'\n",
    "text=\"abcABCEF\"\n",
    "regobj=re.compile(pat)\n",
    "matobj=regobj.findall(text)\n",
    "print(\"Positive lookahead:\",matobj)\n"
   ]
  },
  {
   "cell_type": "markdown",
   "id": "b3e3c893",
   "metadata": {},
   "source": [
    "Negative look head is also an assertion to exclude certain patterns e.g. pattern = r'abc(?!abc)', means identify a substring containing 'abc' which is not followed by another 'abc'. Example of Negative lookahead :"
   ]
  },
  {
   "cell_type": "code",
   "execution_count": 8,
   "id": "794170c4",
   "metadata": {},
   "outputs": [
    {
     "name": "stdout",
     "output_type": "stream",
     "text": [
      "Negative look ahead: ['abc']\n"
     ]
    }
   ],
   "source": [
    "import re\n",
    "pat1=r'abc(?!abc)'\n",
    "text1=\"aeiouabcabc\"\n",
    "regobj1=re.compile(pat1)\n",
    "matobj1=regobj1.findall(text)\n",
    "print(\"Negative look ahead:\",matobj1) \n"
   ]
  },
  {
   "cell_type": "markdown",
   "id": "7fac0b54",
   "metadata": {},
   "source": [
    "Q7.What is the benefit of referring to groups by name rather than by number in a standard\n",
    "expression?"
   ]
  },
  {
   "cell_type": "markdown",
   "id": "62b76376",
   "metadata": {},
   "source": [
    "Answer- Referring to groups by name rather than by number in a standard expression helps to keep the code clear and easy to understand."
   ]
  },
  {
   "cell_type": "markdown",
   "id": "3ff15473",
   "metadata": {},
   "source": [
    "Q8.Can you identify repeated items within a target string using named groups, as in &quot;The cow\n",
    "jumped over the moon&quot;?"
   ]
  },
  {
   "cell_type": "markdown",
   "id": "c9c79dd4",
   "metadata": {},
   "source": [
    "Answer- Yes, you can identify repeated items within a target string using named groups in Python's regular expressions. However, it's important to note that named groups alone cannot directly identify repeated items. They are used to capture and refer to specific parts of a pattern.\n",
    "\n",
    "To identify repeated items, you can use backreferences along with named groups. Backreferences allow you to refer back to a previously captured group within the same regular expression pattern. By combining named groups with backreferences, you can identify repeated items in a target string."
   ]
  },
  {
   "cell_type": "code",
   "execution_count": 10,
   "id": "f9a7120d",
   "metadata": {},
   "outputs": [
    {
     "data": {
      "text/plain": [
       "['The', 'the']"
      ]
     },
     "execution_count": 10,
     "metadata": {},
     "output_type": "execute_result"
    }
   ],
   "source": [
    "import re\n",
    "text = \"The cow jumped over the moon\"\n",
    "regobj=re.compile(r'(?P<w1>The)',re.I)\n",
    "\n",
    "regobj.findall(text)\n"
   ]
  },
  {
   "cell_type": "markdown",
   "id": "35986d04",
   "metadata": {},
   "source": [
    "Q9.When parsing a string, what is at least one thing that the Scanner interface does for you that the\n",
    "re.findall feature does not?"
   ]
  },
  {
   "cell_type": "markdown",
   "id": "abef47f5",
   "metadata": {},
   "source": [
    "Answer- re.search() method either returns None (if the pattern doesn’t match), or a re.MatchObject that contains information about the matching part of the string. This method stops after the first match, so this is best suited for testing a regular expression more than extracting data,whereas Return all non-overlapping matches of pattern in string, as a list of strings. The string is scanned left to right, and matches are returned in the order found."
   ]
  },
  {
   "cell_type": "markdown",
   "id": "e58fc7aa",
   "metadata": {},
   "source": [
    "Q10.Does a scanner object have to be named scanner?"
   ]
  },
  {
   "cell_type": "markdown",
   "id": "b1cbaa6a",
   "metadata": {},
   "source": [
    "Answer- No, a Scanner object does not have to be named \"scanner.\" The choice of variable name is completely up to you as the programmer. You can assign any valid variable name to the Scanner object based on your preference and to make it more meaningful in the context of your code."
   ]
  },
  {
   "cell_type": "code",
   "execution_count": 12,
   "id": "3f40f1af",
   "metadata": {},
   "outputs": [
    {
     "name": "stdout",
     "output_type": "stream",
     "text": [
      "[('INTEGER', 123)]\n"
     ]
    }
   ],
   "source": [
    "import re\n",
    "\n",
    "my_scanner = re.Scanner([\n",
    "    (r'\\d+', lambda scanner, token: ('INTEGER', int(token))),\n",
    "    (r'[a-zA-Z]+', lambda scanner, token: ('WORD', token)),\n",
    "])\n",
    "\n",
    "input_string = '123 foo bar 456 baz'\n",
    "tokens, remainder = my_scanner.scan(input_string)\n",
    "\n",
    "print(tokens)\n"
   ]
  },
  {
   "cell_type": "markdown",
   "id": "b86ef2d2",
   "metadata": {},
   "source": [
    "In this example, a Scanner object is created and assigned to the variable my_scanner. The Scanner object is then used to tokenize the input_string based on the defined patterns and actions.\n",
    "\n",
    "You can choose a variable name that best represents the purpose or role of the Scanner object in your code. It's a good practice to use meaningful and descriptive variable names to enhance the readability and maintainability of your code."
   ]
  },
  {
   "cell_type": "code",
   "execution_count": null,
   "id": "e52d5d60",
   "metadata": {},
   "outputs": [],
   "source": []
  },
  {
   "cell_type": "code",
   "execution_count": null,
   "id": "e1ac8e02",
   "metadata": {},
   "outputs": [],
   "source": []
  },
  {
   "cell_type": "code",
   "execution_count": null,
   "id": "e1b27c0e",
   "metadata": {},
   "outputs": [],
   "source": []
  },
  {
   "cell_type": "code",
   "execution_count": null,
   "id": "13148b23",
   "metadata": {},
   "outputs": [],
   "source": []
  }
 ],
 "metadata": {
  "kernelspec": {
   "display_name": "Python 3 (ipykernel)",
   "language": "python",
   "name": "python3"
  },
  "language_info": {
   "codemirror_mode": {
    "name": "ipython",
    "version": 3
   },
   "file_extension": ".py",
   "mimetype": "text/x-python",
   "name": "python",
   "nbconvert_exporter": "python",
   "pygments_lexer": "ipython3",
   "version": "3.9.12"
  }
 },
 "nbformat": 4,
 "nbformat_minor": 5
}
