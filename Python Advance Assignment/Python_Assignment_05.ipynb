{
 "cells": [
  {
   "cell_type": "markdown",
   "id": "8630c8bf",
   "metadata": {},
   "source": [
    "Q1.What is the meaning of multiple inheritance?"
   ]
  },
  {
   "cell_type": "markdown",
   "id": "4585cb82",
   "metadata": {},
   "source": [
    "Answer- Multiple inheritance refers to the ability of a class to inherit attributes and behaviors from more than one parent class. In other words, a class can derive characteristics and features from multiple source classes simultaneously.\n",
    "\n",
    "When a class inherits from multiple parent classes, it combines the properties and methods of all the parent classes into a single derived class. This allows the derived class to exhibit behavior and possess attributes from multiple sources, providing flexibility and code reuse."
   ]
  },
  {
   "cell_type": "code",
   "execution_count": 1,
   "id": "8f8d4154",
   "metadata": {},
   "outputs": [
    {
     "name": "stdout",
     "output_type": "stream",
     "text": [
      "I'm doing inheritance\n",
      "it contains high and low\n",
      "it contains medium\n",
      "it contains high and low\n",
      "23\n"
     ]
    }
   ],
   "source": [
    "class Counter:\n",
    "    def __init__(self):\n",
    "        self.low = 23 \n",
    "        self.high = 100\n",
    "        print(\"it contains high and low\")\n",
    "class Encounter:\n",
    "    def __init__(self):\n",
    "        self.medium=56\n",
    "        print(\"it contains medium\")\n",
    "class EC(Counter,Encounter):\n",
    "    print(\"I'm doing inheritance\")\n",
    "    pass\n",
    "i=Counter()\n",
    "j=Encounter()\n",
    "k=EC()\n",
    "print(k.low)"
   ]
  },
  {
   "cell_type": "markdown",
   "id": "c60da2c2",
   "metadata": {},
   "source": [
    "Q2.What is the concept of delegation?"
   ]
  },
  {
   "cell_type": "markdown",
   "id": "ad490d60",
   "metadata": {},
   "source": [
    "Answer- Delegation is a design pattern and concept in object-oriented programming where an object forwards or delegates responsibility for a particular task or behavior to another object. Instead of implementing the behavior itself, the delegating object relies on another object, known as the delegate, to perform the task on its behalf.\n",
    "\n",
    "In delegation, the delegating object maintains a reference to the delegate object and invokes methods on the delegate to accomplish specific actions or obtain information. The delegate object is responsible for handling the delegated task and providing the necessary implementation.\n",
    "\n",
    "The key idea behind delegation is to separate responsibilities and promote code reuse by allowing objects to collaborate and share functionality without tightly coupling them together. By delegating tasks, an object can focus on its core responsibilities while relying on other specialized objects to handle specific aspects of its functionality."
   ]
  },
  {
   "cell_type": "code",
   "execution_count": 2,
   "id": "f270981a",
   "metadata": {},
   "outputs": [
    {
     "name": "stdout",
     "output_type": "stream",
     "text": [
      "Hey iam back\n",
      "Hey iam back\n",
      "Hey iam back\n",
      "Iam the main class\n"
     ]
    }
   ],
   "source": [
    "class Myclass:\n",
    "    def sayHi(self):\n",
    "        print('Hey iam back')\n",
    "    def whoAmI(self):\n",
    "        print('Iam the main class')\n",
    "class NewClass:\n",
    "    def __init__(self,obj):\n",
    "        self.main = obj\n",
    "    def welcome(self):\n",
    "        self.main.sayHi()\n",
    "\n",
    "m = Myclass()        \n",
    "n = NewClass(m)\n",
    "m.sayHi()\n",
    "n.main.sayHi()\n",
    "n.welcome()\n",
    "n.main.whoAmI()"
   ]
  },
  {
   "cell_type": "markdown",
   "id": "62d2088b",
   "metadata": {},
   "source": [
    "Q3.What is the concept of composition?"
   ]
  },
  {
   "cell_type": "markdown",
   "id": "22ef346d",
   "metadata": {},
   "source": [
    "Answer- Composition is a fundamental concept in object-oriented programming that enables the creation of complex objects by combining or composing simpler objects. It allows objects to be assembled together to form a larger, more complex object, forming a \"has-a\" relationship between the composed objects and the containing object.\n",
    "\n",
    "In composition, an object contains other objects as its instance variables or member objects. The contained objects are typically created and managed by the containing object, and their lifecycles are closely tied to the containing object.\n",
    "\n",
    "The key idea behind composition is that the behavior and functionality of the containing object are built by leveraging the capabilities and functionality provided by the composed objects. The containing object delegates tasks and responsibilities to its composed objects, forming a composition hierarchy."
   ]
  },
  {
   "cell_type": "code",
   "execution_count": 3,
   "id": "9ddfba5e",
   "metadata": {},
   "outputs": [
    {
     "name": "stdout",
     "output_type": "stream",
     "text": [
      "Total Salary : 9600\n"
     ]
    }
   ],
   "source": [
    "class Salary:\n",
    "    def __init__(self,pay):\n",
    "        self.pay = pay\n",
    "    def get_total(self):\n",
    "        return self.pay*12\n",
    "    \n",
    "class Employee:\n",
    "    def __init__(self,pay,bonus):\n",
    "        self.pay = pay\n",
    "        self.bonus = bonus\n",
    "        self.obj_salary = Salary(self.pay)\n",
    "    def annual_salary(self):\n",
    "        return f'Total Salary : {str(self.obj_salary.get_total())}'\n",
    "\n",
    "obj_emp = Employee(800,500)\n",
    "print(obj_emp.annual_salary())"
   ]
  },
  {
   "cell_type": "markdown",
   "id": "5e76c2ea",
   "metadata": {},
   "source": [
    "Q4.What are bound methods and how do we use them?"
   ]
  },
  {
   "cell_type": "markdown",
   "id": "5d8d1087",
   "metadata": {},
   "source": [
    "Answer- A bound method is the one which is dependent on the instance of the class as the first argument. It passes the instance as the first argument which is used to access the variables and functions. All functions in the class are by default bound methods."
   ]
  },
  {
   "cell_type": "code",
   "execution_count": 4,
   "id": "96c5a5cc",
   "metadata": {},
   "outputs": [
    {
     "name": "stdout",
     "output_type": "stream",
     "text": [
      "<bound method Sample.fun of <__main__.Sample object at 0x00000178B62954F0>>\n"
     ]
    }
   ],
   "source": [
    "class Sample:\n",
    "    def fun(self, some_value):\n",
    "        self.some_value = some_value\n",
    "    \n",
    "s = Sample()\n",
    "\n",
    "print(s.fun)"
   ]
  },
  {
   "cell_type": "markdown",
   "id": "cf19efef",
   "metadata": {},
   "source": [
    "Q5.What is the purpose of pseudoprivate attributes?"
   ]
  },
  {
   "cell_type": "markdown",
   "id": "de417e11",
   "metadata": {},
   "source": [
    "Answer- Pseudoprivate attributes are also useful in larger frameworks or tools, both to avoid introducing new method names that might accidentally hide definitions elsewhere in the class tree and to reduce the chance of internal methods being replaced by names defined lower in the tree. If a method is intended for use only within a class that may be mixed into other classes, the double underscore prefix ensures that the method won't interfere with other names in the tree, especially in multiple-inheritance scenarios\n",
    "\n",
    "Pseudoprivate names also prevent subclasses from accidentally redefining the internal method's names,"
   ]
  },
  {
   "cell_type": "code",
   "execution_count": 5,
   "id": "ca0199f4",
   "metadata": {},
   "outputs": [],
   "source": [
    "class Super:\n",
    "    def method(self): # A real application method\n",
    "        pass\n",
    "class Tool:\n",
    "    def _method(self): # becomes _Tool_method\n",
    "        pass\n",
    "    def other(self): # uses internal method\n",
    "        self._method()\n",
    "class Subl(Tool,Super):\n",
    "    def actions(self):\n",
    "        self.method()\n",
    "class Sub2(Tool):\n",
    "    def __init__(self):\n",
    "        self.method = 99"
   ]
  },
  {
   "cell_type": "code",
   "execution_count": null,
   "id": "3cebcadd",
   "metadata": {},
   "outputs": [],
   "source": []
  },
  {
   "cell_type": "code",
   "execution_count": null,
   "id": "a8f6d4eb",
   "metadata": {},
   "outputs": [],
   "source": []
  }
 ],
 "metadata": {
  "kernelspec": {
   "display_name": "Python 3 (ipykernel)",
   "language": "python",
   "name": "python3"
  },
  "language_info": {
   "codemirror_mode": {
    "name": "ipython",
    "version": 3
   },
   "file_extension": ".py",
   "mimetype": "text/x-python",
   "name": "python",
   "nbconvert_exporter": "python",
   "pygments_lexer": "ipython3",
   "version": "3.9.12"
  }
 },
 "nbformat": 4,
 "nbformat_minor": 5
}
